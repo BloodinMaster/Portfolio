{
 "cells": [
  {
   "cell_type": "markdown",
   "metadata": {},
   "source": [
    "## Изучение исходных данных"
   ]
  },
  {
   "cell_type": "code",
   "execution_count": 2,
   "metadata": {},
   "outputs": [],
   "source": [
    "# Импорт библиотек\n",
    "import numpy as np\n",
    "import pandas as pd\n",
    "import optuna\n",
    "import time\n",
    "import matplotlib.pyplot as plt\n",
    "\n",
    "from optuna.integration import OptunaSearchCV\n",
    "\n",
    "from sklearn.preprocessing import OrdinalEncoder\n",
    "from sklearn.model_selection import train_test_split\n",
    "from sklearn.metrics import f1_score, accuracy_score, roc_auc_score, roc_curve\n",
    "\n",
    "from sklearn.linear_model import LogisticRegressionCV\n",
    "from sklearn.tree import DecisionTreeClassifier\n",
    "from sklearn.ensemble import RandomForestClassifier\n",
    "from sklearn.dummy import DummyClassifier\n",
    "\n",
    "from catboost import CatBoostClassifier\n",
    "from lightgbm import LGBMClassifier"
   ]
  },
  {
   "cell_type": "code",
   "execution_count": 3,
   "metadata": {},
   "outputs": [],
   "source": [
    "encoder = OrdinalEncoder()\n",
    "opt_distr_int = optuna.distributions.IntUniformDistribution\n",
    "opt_distr_float = optuna.distributions.UniformDistribution\n",
    "\n",
    "# Настроим параметры\n",
    "pd.set_option('display.max_columns', None)\n",
    "plt.rcParams['figure.figsize'] = [16, 6]\n",
    "plt.rcParams['axes.grid'] = True\n",
    "pd.options.mode.chained_assignment = None\n",
    "pd.set_option('display.max_columns', 0)\n",
    "optuna.logging.set_verbosity(optuna.logging.WARNING)"
   ]
  },
  {
   "cell_type": "code",
   "execution_count": 4,
   "metadata": {},
   "outputs": [],
   "source": [
    "# Загрузим данные\n",
    "contract = pd.read_csv('/datasets/final_provider/contract.csv')\n",
    "personal = pd.read_csv('/datasets/final_provider/personal.csv')\n",
    "internet = pd.read_csv('/datasets/final_provider/internet.csv')\n",
    "phone = pd.read_csv('/datasets/final_provider/phone.csv')\n",
    "\n",
    "data_list = [contract, personal, internet, phone]"
   ]
  },
  {
   "cell_type": "code",
   "execution_count": 5,
   "metadata": {},
   "outputs": [
    {
     "data": {
      "text/html": [
       "<div>\n",
       "<style scoped>\n",
       "    .dataframe tbody tr th:only-of-type {\n",
       "        vertical-align: middle;\n",
       "    }\n",
       "\n",
       "    .dataframe tbody tr th {\n",
       "        vertical-align: top;\n",
       "    }\n",
       "\n",
       "    .dataframe thead th {\n",
       "        text-align: right;\n",
       "    }\n",
       "</style>\n",
       "<table border=\"1\" class=\"dataframe\">\n",
       "  <thead>\n",
       "    <tr style=\"text-align: right;\">\n",
       "      <th></th>\n",
       "      <th>customerID</th>\n",
       "      <th>BeginDate</th>\n",
       "      <th>EndDate</th>\n",
       "      <th>Type</th>\n",
       "      <th>PaperlessBilling</th>\n",
       "      <th>PaymentMethod</th>\n",
       "      <th>MonthlyCharges</th>\n",
       "      <th>TotalCharges</th>\n",
       "    </tr>\n",
       "  </thead>\n",
       "  <tbody>\n",
       "    <tr>\n",
       "      <th>0</th>\n",
       "      <td>7590-VHVEG</td>\n",
       "      <td>2020-01-01</td>\n",
       "      <td>No</td>\n",
       "      <td>Month-to-month</td>\n",
       "      <td>Yes</td>\n",
       "      <td>Electronic check</td>\n",
       "      <td>29.85</td>\n",
       "      <td>29.85</td>\n",
       "    </tr>\n",
       "    <tr>\n",
       "      <th>1</th>\n",
       "      <td>5575-GNVDE</td>\n",
       "      <td>2017-04-01</td>\n",
       "      <td>No</td>\n",
       "      <td>One year</td>\n",
       "      <td>No</td>\n",
       "      <td>Mailed check</td>\n",
       "      <td>56.95</td>\n",
       "      <td>1889.5</td>\n",
       "    </tr>\n",
       "    <tr>\n",
       "      <th>2</th>\n",
       "      <td>3668-QPYBK</td>\n",
       "      <td>2019-10-01</td>\n",
       "      <td>2019-12-01 00:00:00</td>\n",
       "      <td>Month-to-month</td>\n",
       "      <td>Yes</td>\n",
       "      <td>Mailed check</td>\n",
       "      <td>53.85</td>\n",
       "      <td>108.15</td>\n",
       "    </tr>\n",
       "    <tr>\n",
       "      <th>3</th>\n",
       "      <td>7795-CFOCW</td>\n",
       "      <td>2016-05-01</td>\n",
       "      <td>No</td>\n",
       "      <td>One year</td>\n",
       "      <td>No</td>\n",
       "      <td>Bank transfer (automatic)</td>\n",
       "      <td>42.30</td>\n",
       "      <td>1840.75</td>\n",
       "    </tr>\n",
       "    <tr>\n",
       "      <th>4</th>\n",
       "      <td>9237-HQITU</td>\n",
       "      <td>2019-09-01</td>\n",
       "      <td>2019-11-01 00:00:00</td>\n",
       "      <td>Month-to-month</td>\n",
       "      <td>Yes</td>\n",
       "      <td>Electronic check</td>\n",
       "      <td>70.70</td>\n",
       "      <td>151.65</td>\n",
       "    </tr>\n",
       "  </tbody>\n",
       "</table>\n",
       "</div>"
      ],
      "text/plain": [
       "   customerID   BeginDate  ... MonthlyCharges TotalCharges\n",
       "0  7590-VHVEG  2020-01-01  ...          29.85        29.85\n",
       "1  5575-GNVDE  2017-04-01  ...          56.95       1889.5\n",
       "2  3668-QPYBK  2019-10-01  ...          53.85       108.15\n",
       "3  7795-CFOCW  2016-05-01  ...          42.30      1840.75\n",
       "4  9237-HQITU  2019-09-01  ...          70.70       151.65\n",
       "\n",
       "[5 rows x 8 columns]"
      ]
     },
     "metadata": {},
     "output_type": "display_data"
    },
    {
     "name": "stdout",
     "output_type": "stream",
     "text": [
      "<class 'pandas.core.frame.DataFrame'>\n",
      "RangeIndex: 7043 entries, 0 to 7042\n",
      "Data columns (total 8 columns):\n",
      " #   Column            Non-Null Count  Dtype  \n",
      "---  ------            --------------  -----  \n",
      " 0   customerID        7043 non-null   object \n",
      " 1   BeginDate         7043 non-null   object \n",
      " 2   EndDate           7043 non-null   object \n",
      " 3   Type              7043 non-null   object \n",
      " 4   PaperlessBilling  7043 non-null   object \n",
      " 5   PaymentMethod     7043 non-null   object \n",
      " 6   MonthlyCharges    7043 non-null   float64\n",
      " 7   TotalCharges      7043 non-null   object \n",
      "dtypes: float64(1), object(7)\n",
      "memory usage: 440.3+ KB\n"
     ]
    },
    {
     "data": {
      "text/html": [
       "<div>\n",
       "<style scoped>\n",
       "    .dataframe tbody tr th:only-of-type {\n",
       "        vertical-align: middle;\n",
       "    }\n",
       "\n",
       "    .dataframe tbody tr th {\n",
       "        vertical-align: top;\n",
       "    }\n",
       "\n",
       "    .dataframe thead th {\n",
       "        text-align: right;\n",
       "    }\n",
       "</style>\n",
       "<table border=\"1\" class=\"dataframe\">\n",
       "  <thead>\n",
       "    <tr style=\"text-align: right;\">\n",
       "      <th></th>\n",
       "      <th>customerID</th>\n",
       "      <th>gender</th>\n",
       "      <th>SeniorCitizen</th>\n",
       "      <th>Partner</th>\n",
       "      <th>Dependents</th>\n",
       "    </tr>\n",
       "  </thead>\n",
       "  <tbody>\n",
       "    <tr>\n",
       "      <th>0</th>\n",
       "      <td>7590-VHVEG</td>\n",
       "      <td>Female</td>\n",
       "      <td>0</td>\n",
       "      <td>Yes</td>\n",
       "      <td>No</td>\n",
       "    </tr>\n",
       "    <tr>\n",
       "      <th>1</th>\n",
       "      <td>5575-GNVDE</td>\n",
       "      <td>Male</td>\n",
       "      <td>0</td>\n",
       "      <td>No</td>\n",
       "      <td>No</td>\n",
       "    </tr>\n",
       "    <tr>\n",
       "      <th>2</th>\n",
       "      <td>3668-QPYBK</td>\n",
       "      <td>Male</td>\n",
       "      <td>0</td>\n",
       "      <td>No</td>\n",
       "      <td>No</td>\n",
       "    </tr>\n",
       "    <tr>\n",
       "      <th>3</th>\n",
       "      <td>7795-CFOCW</td>\n",
       "      <td>Male</td>\n",
       "      <td>0</td>\n",
       "      <td>No</td>\n",
       "      <td>No</td>\n",
       "    </tr>\n",
       "    <tr>\n",
       "      <th>4</th>\n",
       "      <td>9237-HQITU</td>\n",
       "      <td>Female</td>\n",
       "      <td>0</td>\n",
       "      <td>No</td>\n",
       "      <td>No</td>\n",
       "    </tr>\n",
       "  </tbody>\n",
       "</table>\n",
       "</div>"
      ],
      "text/plain": [
       "   customerID  gender  SeniorCitizen Partner Dependents\n",
       "0  7590-VHVEG  Female              0     Yes         No\n",
       "1  5575-GNVDE    Male              0      No         No\n",
       "2  3668-QPYBK    Male              0      No         No\n",
       "3  7795-CFOCW    Male              0      No         No\n",
       "4  9237-HQITU  Female              0      No         No"
      ]
     },
     "metadata": {},
     "output_type": "display_data"
    },
    {
     "name": "stdout",
     "output_type": "stream",
     "text": [
      "<class 'pandas.core.frame.DataFrame'>\n",
      "RangeIndex: 7043 entries, 0 to 7042\n",
      "Data columns (total 5 columns):\n",
      " #   Column         Non-Null Count  Dtype \n",
      "---  ------         --------------  ----- \n",
      " 0   customerID     7043 non-null   object\n",
      " 1   gender         7043 non-null   object\n",
      " 2   SeniorCitizen  7043 non-null   int64 \n",
      " 3   Partner        7043 non-null   object\n",
      " 4   Dependents     7043 non-null   object\n",
      "dtypes: int64(1), object(4)\n",
      "memory usage: 275.2+ KB\n"
     ]
    },
    {
     "data": {
      "text/html": [
       "<div>\n",
       "<style scoped>\n",
       "    .dataframe tbody tr th:only-of-type {\n",
       "        vertical-align: middle;\n",
       "    }\n",
       "\n",
       "    .dataframe tbody tr th {\n",
       "        vertical-align: top;\n",
       "    }\n",
       "\n",
       "    .dataframe thead th {\n",
       "        text-align: right;\n",
       "    }\n",
       "</style>\n",
       "<table border=\"1\" class=\"dataframe\">\n",
       "  <thead>\n",
       "    <tr style=\"text-align: right;\">\n",
       "      <th></th>\n",
       "      <th>customerID</th>\n",
       "      <th>InternetService</th>\n",
       "      <th>OnlineSecurity</th>\n",
       "      <th>OnlineBackup</th>\n",
       "      <th>DeviceProtection</th>\n",
       "      <th>TechSupport</th>\n",
       "      <th>StreamingTV</th>\n",
       "      <th>StreamingMovies</th>\n",
       "    </tr>\n",
       "  </thead>\n",
       "  <tbody>\n",
       "    <tr>\n",
       "      <th>0</th>\n",
       "      <td>7590-VHVEG</td>\n",
       "      <td>DSL</td>\n",
       "      <td>No</td>\n",
       "      <td>Yes</td>\n",
       "      <td>No</td>\n",
       "      <td>No</td>\n",
       "      <td>No</td>\n",
       "      <td>No</td>\n",
       "    </tr>\n",
       "    <tr>\n",
       "      <th>1</th>\n",
       "      <td>5575-GNVDE</td>\n",
       "      <td>DSL</td>\n",
       "      <td>Yes</td>\n",
       "      <td>No</td>\n",
       "      <td>Yes</td>\n",
       "      <td>No</td>\n",
       "      <td>No</td>\n",
       "      <td>No</td>\n",
       "    </tr>\n",
       "    <tr>\n",
       "      <th>2</th>\n",
       "      <td>3668-QPYBK</td>\n",
       "      <td>DSL</td>\n",
       "      <td>Yes</td>\n",
       "      <td>Yes</td>\n",
       "      <td>No</td>\n",
       "      <td>No</td>\n",
       "      <td>No</td>\n",
       "      <td>No</td>\n",
       "    </tr>\n",
       "    <tr>\n",
       "      <th>3</th>\n",
       "      <td>7795-CFOCW</td>\n",
       "      <td>DSL</td>\n",
       "      <td>Yes</td>\n",
       "      <td>No</td>\n",
       "      <td>Yes</td>\n",
       "      <td>Yes</td>\n",
       "      <td>No</td>\n",
       "      <td>No</td>\n",
       "    </tr>\n",
       "    <tr>\n",
       "      <th>4</th>\n",
       "      <td>9237-HQITU</td>\n",
       "      <td>Fiber optic</td>\n",
       "      <td>No</td>\n",
       "      <td>No</td>\n",
       "      <td>No</td>\n",
       "      <td>No</td>\n",
       "      <td>No</td>\n",
       "      <td>No</td>\n",
       "    </tr>\n",
       "  </tbody>\n",
       "</table>\n",
       "</div>"
      ],
      "text/plain": [
       "   customerID InternetService  ... StreamingTV StreamingMovies\n",
       "0  7590-VHVEG             DSL  ...          No              No\n",
       "1  5575-GNVDE             DSL  ...          No              No\n",
       "2  3668-QPYBK             DSL  ...          No              No\n",
       "3  7795-CFOCW             DSL  ...          No              No\n",
       "4  9237-HQITU     Fiber optic  ...          No              No\n",
       "\n",
       "[5 rows x 8 columns]"
      ]
     },
     "metadata": {},
     "output_type": "display_data"
    },
    {
     "name": "stdout",
     "output_type": "stream",
     "text": [
      "<class 'pandas.core.frame.DataFrame'>\n",
      "RangeIndex: 5517 entries, 0 to 5516\n",
      "Data columns (total 8 columns):\n",
      " #   Column            Non-Null Count  Dtype \n",
      "---  ------            --------------  ----- \n",
      " 0   customerID        5517 non-null   object\n",
      " 1   InternetService   5517 non-null   object\n",
      " 2   OnlineSecurity    5517 non-null   object\n",
      " 3   OnlineBackup      5517 non-null   object\n",
      " 4   DeviceProtection  5517 non-null   object\n",
      " 5   TechSupport       5517 non-null   object\n",
      " 6   StreamingTV       5517 non-null   object\n",
      " 7   StreamingMovies   5517 non-null   object\n",
      "dtypes: object(8)\n",
      "memory usage: 344.9+ KB\n"
     ]
    },
    {
     "data": {
      "text/html": [
       "<div>\n",
       "<style scoped>\n",
       "    .dataframe tbody tr th:only-of-type {\n",
       "        vertical-align: middle;\n",
       "    }\n",
       "\n",
       "    .dataframe tbody tr th {\n",
       "        vertical-align: top;\n",
       "    }\n",
       "\n",
       "    .dataframe thead th {\n",
       "        text-align: right;\n",
       "    }\n",
       "</style>\n",
       "<table border=\"1\" class=\"dataframe\">\n",
       "  <thead>\n",
       "    <tr style=\"text-align: right;\">\n",
       "      <th></th>\n",
       "      <th>customerID</th>\n",
       "      <th>MultipleLines</th>\n",
       "    </tr>\n",
       "  </thead>\n",
       "  <tbody>\n",
       "    <tr>\n",
       "      <th>0</th>\n",
       "      <td>5575-GNVDE</td>\n",
       "      <td>No</td>\n",
       "    </tr>\n",
       "    <tr>\n",
       "      <th>1</th>\n",
       "      <td>3668-QPYBK</td>\n",
       "      <td>No</td>\n",
       "    </tr>\n",
       "    <tr>\n",
       "      <th>2</th>\n",
       "      <td>9237-HQITU</td>\n",
       "      <td>No</td>\n",
       "    </tr>\n",
       "    <tr>\n",
       "      <th>3</th>\n",
       "      <td>9305-CDSKC</td>\n",
       "      <td>Yes</td>\n",
       "    </tr>\n",
       "    <tr>\n",
       "      <th>4</th>\n",
       "      <td>1452-KIOVK</td>\n",
       "      <td>Yes</td>\n",
       "    </tr>\n",
       "  </tbody>\n",
       "</table>\n",
       "</div>"
      ],
      "text/plain": [
       "   customerID MultipleLines\n",
       "0  5575-GNVDE            No\n",
       "1  3668-QPYBK            No\n",
       "2  9237-HQITU            No\n",
       "3  9305-CDSKC           Yes\n",
       "4  1452-KIOVK           Yes"
      ]
     },
     "metadata": {},
     "output_type": "display_data"
    },
    {
     "name": "stdout",
     "output_type": "stream",
     "text": [
      "<class 'pandas.core.frame.DataFrame'>\n",
      "RangeIndex: 6361 entries, 0 to 6360\n",
      "Data columns (total 2 columns):\n",
      " #   Column         Non-Null Count  Dtype \n",
      "---  ------         --------------  ----- \n",
      " 0   customerID     6361 non-null   object\n",
      " 1   MultipleLines  6361 non-null   object\n",
      "dtypes: object(2)\n",
      "memory usage: 99.5+ KB\n"
     ]
    }
   ],
   "source": [
    "for data in data_list:\n",
    "    display(data.head())\n",
    "    data.info()"
   ]
  },
  {
   "cell_type": "markdown",
   "metadata": {},
   "source": [
    "Хорошие новости - явных пропусков в данных нет. Необходимо углубить исследование данных на ошибки/пропуски/дубликаты"
   ]
  },
  {
   "cell_type": "code",
   "execution_count": 6,
   "metadata": {},
   "outputs": [],
   "source": [
    "# Заменим в каждой таблице названия столбцов на snake_case:\n",
    "for data in data_list:\n",
    "    data.columns = data.columns.str.lower()"
   ]
  },
  {
   "cell_type": "markdown",
   "metadata": {},
   "source": [
    "## Предоработка данных"
   ]
  },
  {
   "cell_type": "code",
   "execution_count": 7,
   "metadata": {},
   "outputs": [
    {
     "name": "stdout",
     "output_type": "stream",
     "text": [
      "Количество дубликатов: 0\n",
      "Количество дубликатов: 0\n",
      "Количество дубликатов: 0\n",
      "Количество дубликатов: 0\n"
     ]
    }
   ],
   "source": [
    "# Сверим каждую таблицу на дублирующих пользователей:\n",
    "for data in data_list:\n",
    "    print('Количество дубликатов:',data.customerid.duplicated().sum())"
   ]
  },
  {
   "cell_type": "code",
   "execution_count": 8,
   "metadata": {},
   "outputs": [
    {
     "name": "stdout",
     "output_type": "stream",
     "text": [
      "Уникальные значения колонки type таблицы contract: ['Month-to-month' 'One year' 'Two year'] \n",
      "\n",
      "Уникальные значения колонки paperlessbilling таблицы contract: ['Yes' 'No'] \n",
      "\n",
      "Уникальные значения колонки paymentmethod таблицы contract: ['Electronic check' 'Mailed check' 'Bank transfer (automatic)'\n",
      " 'Credit card (automatic)'] \n",
      "\n"
     ]
    }
   ],
   "source": [
    "# Рассмоттрим таблицы на наличие неявных пропусков/дубликатов:\n",
    "for column in ['type', 'paperlessbilling', 'paymentmethod']:\n",
    "    print(f'Уникальные значения колонки {column} таблицы contract:', contract[column].unique(), '\\n')"
   ]
  },
  {
   "cell_type": "code",
   "execution_count": 9,
   "metadata": {},
   "outputs": [
    {
     "name": "stdout",
     "output_type": "stream",
     "text": [
      "Уникальные значения колонки gender таблицы personal: ['Female' 'Male'] \n",
      "\n",
      "Уникальные значения колонки seniorcitizen таблицы personal: [0 1] \n",
      "\n",
      "Уникальные значения колонки partner таблицы personal: ['Yes' 'No'] \n",
      "\n",
      "Уникальные значения колонки dependents таблицы personal: ['No' 'Yes'] \n",
      "\n"
     ]
    }
   ],
   "source": [
    "for column in personal.columns[1:]:\n",
    "    print(f'Уникальные значения колонки {column} таблицы personal:', personal[column].unique(), '\\n')"
   ]
  },
  {
   "cell_type": "code",
   "execution_count": 10,
   "metadata": {},
   "outputs": [
    {
     "name": "stdout",
     "output_type": "stream",
     "text": [
      "Уникальные значения колонки internetservice таблицы internet: ['DSL' 'Fiber optic'] \n",
      "\n",
      "Уникальные значения колонки onlinesecurity таблицы internet: ['No' 'Yes'] \n",
      "\n",
      "Уникальные значения колонки onlinebackup таблицы internet: ['Yes' 'No'] \n",
      "\n",
      "Уникальные значения колонки deviceprotection таблицы internet: ['No' 'Yes'] \n",
      "\n",
      "Уникальные значения колонки techsupport таблицы internet: ['No' 'Yes'] \n",
      "\n",
      "Уникальные значения колонки streamingtv таблицы internet: ['No' 'Yes'] \n",
      "\n",
      "Уникальные значения колонки streamingmovies таблицы internet: ['No' 'Yes'] \n",
      "\n"
     ]
    }
   ],
   "source": [
    "for column in internet.columns[1:]:\n",
    "    print(f'Уникальные значения колонки {column} таблицы internet:', internet[column].unique(), '\\n')"
   ]
  },
  {
   "cell_type": "code",
   "execution_count": 11,
   "metadata": {},
   "outputs": [
    {
     "name": "stdout",
     "output_type": "stream",
     "text": [
      "Уникальные значения колонки multiplelines таблицы phone: ['No' 'Yes']\n"
     ]
    }
   ],
   "source": [
    "for column in phone.columns[1:]:\n",
    "    print(f'Уникальные значения колонки {column} таблицы phone:', phone[column].unique())"
   ]
  },
  {
   "cell_type": "code",
   "execution_count": 12,
   "metadata": {
    "scrolled": false
   },
   "outputs": [
    {
     "data": {
      "text/plain": [
       "array(['2020-01-01', '2017-04-01', '2019-10-01', '2016-05-01',\n",
       "       '2019-09-01', '2019-03-01', '2018-04-01', '2019-04-01',\n",
       "       '2017-07-01', '2014-12-01', '2019-01-01', '2018-10-01',\n",
       "       '2015-04-01', '2015-09-01', '2018-01-01', '2014-05-01',\n",
       "       '2015-10-01', '2014-03-01', '2018-05-01', '2019-11-01',\n",
       "       '2019-02-01', '2016-01-01', '2017-08-01', '2015-12-01',\n",
       "       '2014-02-01', '2018-06-01', '2019-12-01', '2017-11-01',\n",
       "       '2019-06-01', '2016-04-01', '2017-02-01', '2018-12-01',\n",
       "       '2014-04-01', '2018-09-01', '2014-11-01', '2016-07-01',\n",
       "       '2015-02-01', '2018-07-01', '2014-08-01', '2016-03-01',\n",
       "       '2018-08-01', '2014-10-01', '2015-06-01', '2016-08-01',\n",
       "       '2019-05-01', '2017-03-01', '2016-02-01', '2017-09-01',\n",
       "       '2014-09-01', '2017-12-01', '2016-12-01', '2017-06-01',\n",
       "       '2015-05-01', '2016-10-01', '2016-09-01', '2019-08-01',\n",
       "       '2019-07-01', '2017-05-01', '2017-10-01', '2014-07-01',\n",
       "       '2018-03-01', '2015-01-01', '2018-11-01', '2015-03-01',\n",
       "       '2018-02-01', '2016-06-01', '2015-08-01', '2015-11-01',\n",
       "       '2014-06-01', '2017-01-01', '2015-07-01', '2020-02-01',\n",
       "       '2016-11-01', '2013-11-01', '2014-01-01', '2013-10-01',\n",
       "       '2013-12-01'], dtype=object)"
      ]
     },
     "execution_count": 12,
     "metadata": {},
     "output_type": "execute_result"
    }
   ],
   "source": [
    "contract.begindate.unique()"
   ]
  },
  {
   "cell_type": "code",
   "execution_count": 13,
   "metadata": {},
   "outputs": [],
   "source": [
    "# Приведём столбец к необходимому типу:\n",
    "contract.begindate = pd.to_datetime(contract.begindate, format='%Y-%m-%d')"
   ]
  },
  {
   "cell_type": "code",
   "execution_count": 14,
   "metadata": {},
   "outputs": [
    {
     "data": {
      "text/plain": [
       "array(['No', '2019-12-01 00:00:00', '2019-11-01 00:00:00',\n",
       "       '2019-10-01 00:00:00', '2020-01-01 00:00:00'], dtype=object)"
      ]
     },
     "execution_count": 14,
     "metadata": {},
     "output_type": "execute_result"
    }
   ],
   "source": [
    "contract.enddate.unique()"
   ]
  },
  {
   "cell_type": "markdown",
   "metadata": {},
   "source": [
    "Интересно, пользователи стали уходить только к концу 2019-го года. Возможно это указывает на синтетическую природу данных, но можно и углубить анализ для выяснения причин."
   ]
  },
  {
   "cell_type": "code",
   "execution_count": 15,
   "metadata": {
    "scrolled": true
   },
   "outputs": [
    {
     "data": {
      "text/plain": [
       "[' ',\n",
       " '100.2',\n",
       " '100.25',\n",
       " '100.35',\n",
       " '100.4',\n",
       " '100.8',\n",
       " '100.9',\n",
       " '1001.2',\n",
       " '1001.5',\n",
       " '1003.05',\n",
       " '1004.35',\n",
       " '1004.5',\n",
       " '1004.75',\n",
       " '1005.7',\n",
       " '1006.9',\n",
       " '1007.8',\n",
       " '1007.9',\n",
       " '1008.55',\n",
       " '1008.7',\n",
       " '1009.25',\n",
       " '101.1',\n",
       " '101.45',\n",
       " '101.65',\n",
       " '101.9',\n",
       " '1010',\n",
       " '1011.05',\n",
       " '1011.5',\n",
       " '1011.8',\n",
       " '1012.4',\n",
       " '1013.05',\n",
       " '1013.2',\n",
       " '1013.35',\n",
       " '1013.6',\n",
       " '1014.25',\n",
       " '1016.7',\n",
       " '1017.35',\n",
       " '102.45',\n",
       " '102.5',\n",
       " '102.75',\n",
       " '1020.2',\n",
       " '1020.75',\n",
       " '1021.55',\n",
       " '1021.75',\n",
       " '1021.8',\n",
       " '1022.5',\n",
       " '1022.6',\n",
       " '1022.95',\n",
       " '1023.75',\n",
       " '1023.85',\n",
       " '1023.9',\n",
       " '1023.95',\n",
       " '1024',\n",
       " '1024.65',\n",
       " '1024.7',\n",
       " '1025.05',\n",
       " '1025.15',\n",
       " '1025.95',\n",
       " '1026.35',\n",
       " '1027.25',\n",
       " '1028.75',\n",
       " '1028.9',\n",
       " '1029.35',\n",
       " '1029.75',\n",
       " '1029.8',\n",
       " '103.7',\n",
       " '1031.1',\n",
       " '1031.4',\n",
       " '1031.7',\n",
       " '1032',\n",
       " '1032.05',\n",
       " '1033',\n",
       " '1033.9',\n",
       " '1033.95',\n",
       " '1035.5',\n",
       " '1035.7',\n",
       " '1036',\n",
       " '1036.75',\n",
       " '1037.75',\n",
       " '1039.45',\n",
       " '104.2',\n",
       " '104.3',\n",
       " '1041.8',\n",
       " '1042.65',\n",
       " '1043.3',\n",
       " '1043.35',\n",
       " '1043.4',\n",
       " '1043.8',\n",
       " '1045.25',\n",
       " '1046.1',\n",
       " '1046.2',\n",
       " '1046.5',\n",
       " '1047.7',\n",
       " '1048.45',\n",
       " '1048.85',\n",
       " '1049.05',\n",
       " '1049.6',\n",
       " '105.5',\n",
       " '105.6',\n",
       " '1050.5',\n",
       " '1051.05',\n",
       " '1051.9',\n",
       " '1052.35',\n",
       " '1052.4',\n",
       " '1054.6',\n",
       " '1054.75',\n",
       " '1054.8',\n",
       " '1055.9',\n",
       " '1056.95',\n",
       " '1057',\n",
       " '1057.55',\n",
       " '1057.85',\n",
       " '1058.1',\n",
       " '1058.25',\n",
       " '1058.6',\n",
       " '1059.55',\n",
       " '106.2',\n",
       " '106.55',\n",
       " '106.8',\n",
       " '106.85',\n",
       " '106.9',\n",
       " '1060.2',\n",
       " '1060.6',\n",
       " '1061.6',\n",
       " '1062.1',\n",
       " '1064.65',\n",
       " '1064.95',\n",
       " '1066.15',\n",
       " '1066.9',\n",
       " '1067.05',\n",
       " '1067.15',\n",
       " '1067.65',\n",
       " '1068.15',\n",
       " '1068.85',\n",
       " '107.05',\n",
       " '107.1',\n",
       " '107.25',\n",
       " '107.6',\n",
       " '1070.15',\n",
       " '1070.25',\n",
       " '1070.5',\n",
       " '1070.7',\n",
       " '1071.4',\n",
       " '1071.6',\n",
       " '1072',\n",
       " '1072.6',\n",
       " '1073.3',\n",
       " '1074.3',\n",
       " '1074.65',\n",
       " '1077.05',\n",
       " '1077.5',\n",
       " '1077.95',\n",
       " '1078.75',\n",
       " '1078.9',\n",
       " '1079.05',\n",
       " '1079.45',\n",
       " '1079.65',\n",
       " '108.05',\n",
       " '108.15',\n",
       " '108.65',\n",
       " '108.7',\n",
       " '108.95',\n",
       " '1080.55',\n",
       " '1081.25',\n",
       " '1081.45',\n",
       " '1082.75',\n",
       " '1082.8',\n",
       " '1083',\n",
       " '1083.7',\n",
       " '1086.75',\n",
       " '1087.25',\n",
       " '1087.45',\n",
       " '1087.7',\n",
       " '1088.25',\n",
       " '109.2',\n",
       " '109.25',\n",
       " '109.3',\n",
       " '109.5',\n",
       " '109.6',\n",
       " '109.8',\n",
       " '1090.1',\n",
       " '1090.6',\n",
       " '1090.65',\n",
       " '1092.35',\n",
       " '1093',\n",
       " '1093.1',\n",
       " '1093.2',\n",
       " '1093.4',\n",
       " '1094.35',\n",
       " '1094.5',\n",
       " '1095.3',\n",
       " '1095.65',\n",
       " '1096.25',\n",
       " '1096.6',\n",
       " '1096.65',\n",
       " '1097.15',\n",
       " '1098.85',\n",
       " '1099.6',\n",
       " '110.05',\n",
       " '110.15',\n",
       " '1101.85',\n",
       " '1102.4',\n",
       " '1103.25',\n",
       " '1105.4',\n",
       " '1107.2',\n",
       " '1107.25',\n",
       " '1108',\n",
       " '1108.2',\n",
       " '1108.6',\n",
       " '1108.8',\n",
       " '111.05',\n",
       " '111.4',\n",
       " '111.65',\n",
       " '1110.05',\n",
       " '1110.35',\n",
       " '1110.5',\n",
       " '1111.2',\n",
       " '1111.65',\n",
       " '1111.85',\n",
       " '1112.3',\n",
       " '1113.95',\n",
       " '1114.55',\n",
       " '1114.85',\n",
       " '1115.15',\n",
       " '1115.2',\n",
       " '1115.6',\n",
       " '1117.55',\n",
       " '1118.8',\n",
       " '1119.35',\n",
       " '1119.9',\n",
       " '112.3',\n",
       " '112.75',\n",
       " '1120.3',\n",
       " '1120.95',\n",
       " '1121.05',\n",
       " '1122.4',\n",
       " '1123.15',\n",
       " '1123.65',\n",
       " '1124.2',\n",
       " '1125.2',\n",
       " '1125.6',\n",
       " '1126.35',\n",
       " '1126.75',\n",
       " '1127.2',\n",
       " '1127.35',\n",
       " '1128.1',\n",
       " '1129.1',\n",
       " '1129.35',\n",
       " '1129.75',\n",
       " '113.1',\n",
       " '113.35',\n",
       " '113.5',\n",
       " '113.55',\n",
       " '113.85',\n",
       " '113.95',\n",
       " '1130',\n",
       " '1130.85',\n",
       " '1131.2',\n",
       " '1131.3',\n",
       " '1131.5',\n",
       " '1132.35',\n",
       " '1132.75',\n",
       " '1133.65',\n",
       " '1133.7',\n",
       " '1133.9',\n",
       " '1134.25',\n",
       " '1135.7',\n",
       " '1137.05',\n",
       " '1138.8',\n",
       " '1139.2',\n",
       " '114.1',\n",
       " '114.15',\n",
       " '114.7',\n",
       " '1140.05',\n",
       " '1143.8',\n",
       " '1144.5',\n",
       " '1144.6',\n",
       " '1145.35',\n",
       " '1145.7',\n",
       " '1146.05',\n",
       " '1146.65',\n",
       " '1147',\n",
       " '1147.45',\n",
       " '1147.85',\n",
       " '1148.1',\n",
       " '1149.65',\n",
       " '115.1',\n",
       " '115.95',\n",
       " '1151.05',\n",
       " '1151.55',\n",
       " '1152.7',\n",
       " '1152.8',\n",
       " '1153.25',\n",
       " '1155.6',\n",
       " '1156.1',\n",
       " '1156.35',\n",
       " '1156.55',\n",
       " '1157.05',\n",
       " '1158.85',\n",
       " '116.6',\n",
       " '116.65',\n",
       " '116.85',\n",
       " '116.95',\n",
       " '1160.45',\n",
       " '1160.75',\n",
       " '1161.75',\n",
       " '1162.85',\n",
       " '1164.05',\n",
       " '1164.3',\n",
       " '1165.55',\n",
       " '1165.6',\n",
       " '1165.9',\n",
       " '1166.7',\n",
       " '1167.6',\n",
       " '1167.8',\n",
       " '1169.35',\n",
       " '117.05',\n",
       " '117.8',\n",
       " '117.95',\n",
       " '1170.5',\n",
       " '1170.55',\n",
       " '1171.3',\n",
       " '1171.5',\n",
       " '1172.95',\n",
       " '1173.35',\n",
       " '1173.55',\n",
       " '1174.35',\n",
       " '1174.8',\n",
       " '1175.6',\n",
       " '1175.85',\n",
       " '1177.05',\n",
       " '1177.95',\n",
       " '1178.25',\n",
       " '1178.4',\n",
       " '1178.75',\n",
       " '118.25',\n",
       " '118.3',\n",
       " '118.4',\n",
       " '118.5',\n",
       " '1180.95',\n",
       " '1181.75',\n",
       " '1182.55',\n",
       " '1183.05',\n",
       " '1183.2',\n",
       " '1183.8',\n",
       " '1184',\n",
       " '1185',\n",
       " '1185.95',\n",
       " '1187.05',\n",
       " '1188.2',\n",
       " '1188.25',\n",
       " '1189.4',\n",
       " '1189.9',\n",
       " '119.3',\n",
       " '119.5',\n",
       " '119.75',\n",
       " '1190.5',\n",
       " '1191.2',\n",
       " '1191.4',\n",
       " '1192.3',\n",
       " '1192.7',\n",
       " '1193.05',\n",
       " '1193.55',\n",
       " '1194.3',\n",
       " '1195.25',\n",
       " '1195.75',\n",
       " '1195.95',\n",
       " '1198.05',\n",
       " '1198.8',\n",
       " '1199.4',\n",
       " '120.25',\n",
       " '1200.15',\n",
       " '1201.15',\n",
       " '1201.65',\n",
       " '1203.9',\n",
       " '1203.95',\n",
       " '1205.05',\n",
       " '1205.5',\n",
       " '1206.05',\n",
       " '1207',\n",
       " '1208.15',\n",
       " '1208.35',\n",
       " '1208.6',\n",
       " '1209.25',\n",
       " '121.25',\n",
       " '1210.3',\n",
       " '1210.4',\n",
       " '1211.65',\n",
       " '1212.1',\n",
       " '1212.25',\n",
       " '1212.85',\n",
       " '1214.05',\n",
       " '1215.1',\n",
       " '1215.45',\n",
       " '1215.6',\n",
       " '1215.65',\n",
       " '1215.8',\n",
       " '1216.35',\n",
       " '1216.6',\n",
       " '1217.25',\n",
       " '1218.25',\n",
       " '1218.45',\n",
       " '1218.55',\n",
       " '1218.65',\n",
       " '1219.85',\n",
       " '122',\n",
       " '122.7',\n",
       " '122.9',\n",
       " '1221.55',\n",
       " '1221.65',\n",
       " '1222.05',\n",
       " '1222.25',\n",
       " '1222.65',\n",
       " '1222.8',\n",
       " '1224.05',\n",
       " '1225.65',\n",
       " '1226.45',\n",
       " '1228.65',\n",
       " '1229.1',\n",
       " '123.05',\n",
       " '123.65',\n",
       " '123.8',\n",
       " '1230.25',\n",
       " '1230.9',\n",
       " '1231.85',\n",
       " '1232.9',\n",
       " '1233.15',\n",
       " '1233.25',\n",
       " '1233.4',\n",
       " '1233.65',\n",
       " '1234.6',\n",
       " '1234.8',\n",
       " '1235.55',\n",
       " '1236.15',\n",
       " '1237.3',\n",
       " '1237.65',\n",
       " '1237.85',\n",
       " '1238.45',\n",
       " '1238.65',\n",
       " '124.4',\n",
       " '124.45',\n",
       " '1240.15',\n",
       " '1240.25',\n",
       " '1240.8',\n",
       " '1242.2',\n",
       " '1242.25',\n",
       " '1242.45',\n",
       " '1244.5',\n",
       " '1244.8',\n",
       " '1245.05',\n",
       " '1245.6',\n",
       " '1246.4',\n",
       " '1247.75',\n",
       " '1248.9',\n",
       " '1249.25',\n",
       " '125',\n",
       " '125.5',\n",
       " '125.95',\n",
       " '1250.1',\n",
       " '1250.85',\n",
       " '1252',\n",
       " '1252.85',\n",
       " '1253.15',\n",
       " '1253.5',\n",
       " '1253.65',\n",
       " '1253.8',\n",
       " '1253.9',\n",
       " '1254.7',\n",
       " '1255.1',\n",
       " '1258.15',\n",
       " '1258.3',\n",
       " '1258.35',\n",
       " '1258.6',\n",
       " '1259',\n",
       " '1259.35',\n",
       " '126.05',\n",
       " '1260.7',\n",
       " '1261',\n",
       " '1261.35',\n",
       " '1261.45',\n",
       " '1261.7',\n",
       " '1263.05',\n",
       " '1263.85',\n",
       " '1263.9',\n",
       " '1264.2',\n",
       " '1265.65',\n",
       " '1266.1',\n",
       " '1266.35',\n",
       " '1266.4',\n",
       " '1267',\n",
       " '1267.05',\n",
       " '1267.2',\n",
       " '1267.95',\n",
       " '1268.85',\n",
       " '1269.1',\n",
       " '1269.55',\n",
       " '1269.6',\n",
       " '127.1',\n",
       " '1270.2',\n",
       " '1270.25',\n",
       " '1270.55',\n",
       " '1271.8',\n",
       " '1272.05',\n",
       " '1273.3',\n",
       " '1274.05',\n",
       " '1274.45',\n",
       " '1275.6',\n",
       " '1275.65',\n",
       " '1275.7',\n",
       " '1275.85',\n",
       " '1277.5',\n",
       " '1277.75',\n",
       " '1278.8',\n",
       " '1279',\n",
       " '128.6',\n",
       " '1281',\n",
       " '1281.25',\n",
       " '1282.85',\n",
       " '1284.2',\n",
       " '1285.05',\n",
       " '1285.8',\n",
       " '1286',\n",
       " '1286.05',\n",
       " '1287.85',\n",
       " '1288',\n",
       " '1288.3',\n",
       " '1288.75',\n",
       " '129.15',\n",
       " '129.2',\n",
       " '129.55',\n",
       " '129.6',\n",
       " '1290',\n",
       " '1291.3',\n",
       " '1291.35',\n",
       " '1292.2',\n",
       " '1292.6',\n",
       " '1292.65',\n",
       " '1293.8',\n",
       " '1294.6',\n",
       " '1295.4',\n",
       " '1296.15',\n",
       " '1296.8',\n",
       " '1297.35',\n",
       " '1297.8',\n",
       " '1298.7',\n",
       " '1299.1',\n",
       " '1299.8',\n",
       " '130.1',\n",
       " '130.15',\n",
       " '130.25',\n",
       " '130.5',\n",
       " '130.55',\n",
       " '130.75',\n",
       " '1301',\n",
       " '1301.1',\n",
       " '1301.7',\n",
       " '1301.9',\n",
       " '1302.65',\n",
       " '1303.25',\n",
       " '1303.5',\n",
       " '1304.8',\n",
       " '1304.85',\n",
       " '1305.95',\n",
       " '1306.3',\n",
       " '1307.8',\n",
       " '1308.1',\n",
       " '1308.4',\n",
       " '1309',\n",
       " '1309.15',\n",
       " '131.05',\n",
       " '131.65',\n",
       " '1311.3',\n",
       " '1311.6',\n",
       " '1311.75',\n",
       " '1312.15',\n",
       " '1312.45',\n",
       " '1313.25',\n",
       " '1313.55',\n",
       " '1315',\n",
       " '1315.35',\n",
       " '1316.9',\n",
       " '1317.95',\n",
       " '1319.85',\n",
       " '1319.95',\n",
       " '132.2',\n",
       " '132.25',\n",
       " '132.4',\n",
       " '1321.3',\n",
       " '1322.55',\n",
       " '1322.85',\n",
       " '1323.7',\n",
       " '1325.85',\n",
       " '1326.25',\n",
       " '1326.35',\n",
       " '1327.15',\n",
       " '1327.4',\n",
       " '1327.85',\n",
       " '1328.15',\n",
       " '1328.35',\n",
       " '1329.15',\n",
       " '1329.2',\n",
       " '1331.05',\n",
       " '1332.4',\n",
       " '1334',\n",
       " '1334.45',\n",
       " '1334.5',\n",
       " '1335.2',\n",
       " '1336.1',\n",
       " '1336.15',\n",
       " '1336.35',\n",
       " '1336.65',\n",
       " '1336.8',\n",
       " '1336.9',\n",
       " '1337.45',\n",
       " '1337.5',\n",
       " '1338.15',\n",
       " '1339.8',\n",
       " '134.05',\n",
       " '134.35',\n",
       " '134.5',\n",
       " '134.6',\n",
       " '134.7',\n",
       " '134.75',\n",
       " '1340.1',\n",
       " '1341.5',\n",
       " '1342.15',\n",
       " '1343.4',\n",
       " '1344.5',\n",
       " '1345.55',\n",
       " '1345.65',\n",
       " '1345.75',\n",
       " '1345.85',\n",
       " '1346.2',\n",
       " '1346.3',\n",
       " '1346.9',\n",
       " '1347.15',\n",
       " '1348.5',\n",
       " '1348.9',\n",
       " '1348.95',\n",
       " '135',\n",
       " '135.2',\n",
       " '135.75',\n",
       " '1350.15',\n",
       " '1354.4',\n",
       " '1355.1',\n",
       " '1355.45',\n",
       " '1356.3',\n",
       " '1356.7',\n",
       " '1357.1',\n",
       " '1358.6',\n",
       " '1358.85',\n",
       " '1359',\n",
       " '1359.45',\n",
       " '1359.5',\n",
       " '1359.7',\n",
       " '136.05',\n",
       " '136.75',\n",
       " '1360.25',\n",
       " '1362.85',\n",
       " '1363.25',\n",
       " '1363.45',\n",
       " '1364.3',\n",
       " '1364.75',\n",
       " '1367.75',\n",
       " '1369.8',\n",
       " '137.1',\n",
       " '137.25',\n",
       " '137.6',\n",
       " '137.85',\n",
       " '137.95',\n",
       " '1370.35',\n",
       " '1372.45',\n",
       " '1372.9',\n",
       " '1373',\n",
       " '1373.05',\n",
       " '1374.2',\n",
       " '1374.35',\n",
       " '1374.9',\n",
       " '1375.15',\n",
       " '1375.4',\n",
       " '1375.6',\n",
       " '1376.5',\n",
       " '1377.7',\n",
       " '1378.25',\n",
       " '1378.45',\n",
       " '1378.75',\n",
       " '1379.6',\n",
       " '1379.8',\n",
       " '138.85',\n",
       " '1380.1',\n",
       " '1380.4',\n",
       " '1381.2',\n",
       " '1381.8',\n",
       " '1382.9',\n",
       " '1383.6',\n",
       " '1384.75',\n",
       " '1385.85',\n",
       " '1386.8',\n",
       " '1386.9',\n",
       " '1387',\n",
       " '1387.35',\n",
       " '1387.45',\n",
       " '1388',\n",
       " '1388.45',\n",
       " '1388.75',\n",
       " '1389.2',\n",
       " '1389.35',\n",
       " '1389.6',\n",
       " '1389.85',\n",
       " '139.05',\n",
       " '139.25',\n",
       " '139.35',\n",
       " '139.4',\n",
       " '139.75',\n",
       " '1390.6',\n",
       " '1390.85',\n",
       " '1391.15',\n",
       " '1391.65',\n",
       " '1392.25',\n",
       " '1393.6',\n",
       " '1394.55',\n",
       " '1395.05',\n",
       " '1396',\n",
       " '1396.25',\n",
       " '1396.9',\n",
       " '1397.3',\n",
       " '1397.65',\n",
       " '1398.25',\n",
       " '1398.6',\n",
       " '1399.35',\n",
       " '140.1',\n",
       " '140.4',\n",
       " '140.7',\n",
       " '140.95',\n",
       " '1400.3',\n",
       " '1400.55',\n",
       " '1400.85',\n",
       " '1401.15',\n",
       " '1401.4',\n",
       " '1402.25',\n",
       " '1403.1',\n",
       " '1404.65',\n",
       " '1405.3',\n",
       " '1406',\n",
       " '1406.65',\n",
       " '1406.9',\n",
       " '141.1',\n",
       " '141.45',\n",
       " '141.5',\n",
       " '141.6',\n",
       " '141.65',\n",
       " '141.7',\n",
       " '1410.25',\n",
       " '1411.2',\n",
       " '1411.35',\n",
       " '1411.65',\n",
       " '1411.9',\n",
       " '1412.4',\n",
       " '1412.65',\n",
       " '1413',\n",
       " '1414.2',\n",
       " '1414.45',\n",
       " '1414.65',\n",
       " '1414.8',\n",
       " '1415',\n",
       " '1415.55',\n",
       " '1415.85',\n",
       " '1416.2',\n",
       " '1416.5',\n",
       " '1416.75',\n",
       " '1417.9',\n",
       " '1419.4',\n",
       " '142.35',\n",
       " '1421.75',\n",
       " '1421.9',\n",
       " '1422.05',\n",
       " '1422.1',\n",
       " '1422.65',\n",
       " '1423.05',\n",
       " '1423.15',\n",
       " '1423.35',\n",
       " '1423.65',\n",
       " '1423.85',\n",
       " '1424.2',\n",
       " '1424.4',\n",
       " '1424.5',\n",
       " '1424.6',\n",
       " '1424.9',\n",
       " '1424.95',\n",
       " '1425.45',\n",
       " '1426.4',\n",
       " '1426.45',\n",
       " '1426.75',\n",
       " '1427.55',\n",
       " '1429.65',\n",
       " '143.35',\n",
       " '143.65',\n",
       " '143.9',\n",
       " '1430.05',\n",
       " '1430.25',\n",
       " '1430.95',\n",
       " '1431.65',\n",
       " '1432.55',\n",
       " '1433.8',\n",
       " '1434.1',\n",
       " '1434.6',\n",
       " '1436.95',\n",
       " '1438.05',\n",
       " '1439.35',\n",
       " '144',\n",
       " '144.15',\n",
       " '144.35',\n",
       " '144.55',\n",
       " '144.8',\n",
       " '144.95',\n",
       " '1440.75',\n",
       " '1441.1',\n",
       " '1441.65',\n",
       " '1441.8',\n",
       " '1441.95',\n",
       " '1442',\n",
       " '1442.2',\n",
       " '1442.6',\n",
       " '1442.65',\n",
       " '1443.65',\n",
       " '1444.05',\n",
       " '1444.65',\n",
       " '1445.2',\n",
       " '1445.3',\n",
       " '1445.95',\n",
       " '1446.8',\n",
       " '1447.9',\n",
       " '1448.6',\n",
       " '1448.8',\n",
       " '145',\n",
       " '145.15',\n",
       " '145.4',\n",
       " '1451.1',\n",
       " '1451.6',\n",
       " '1451.9',\n",
       " '1453.1',\n",
       " '1454.15',\n",
       " '1454.25',\n",
       " '1457.25',\n",
       " '1458.1',\n",
       " '1459.35',\n",
       " '146.05',\n",
       " '146.3',\n",
       " '146.4',\n",
       " '146.6',\n",
       " '146.65',\n",
       " '146.9',\n",
       " '1460.65',\n",
       " '1460.85',\n",
       " '1461.15',\n",
       " '1461.45',\n",
       " '1462.05',\n",
       " '1462.6',\n",
       " '1463.45',\n",
       " '1463.5',\n",
       " '1463.7',\n",
       " '1465.75',\n",
       " '1466.1',\n",
       " '1468.75',\n",
       " '1468.9',\n",
       " '147.15',\n",
       " '147.5',\n",
       " '147.55',\n",
       " '147.75',\n",
       " '147.8',\n",
       " '1470.05',\n",
       " '1470.95',\n",
       " '1471.75',\n",
       " '1474.35',\n",
       " '1474.75',\n",
       " '1474.9',\n",
       " '1476.25',\n",
       " '1477.65',\n",
       " '1478.85',\n",
       " '148.05',\n",
       " '1482.3',\n",
       " '1483.25',\n",
       " '1489.3',\n",
       " '149.05',\n",
       " '149.55',\n",
       " '1490.4',\n",
       " '1490.95',\n",
       " '1492.1',\n",
       " '1493.1',\n",
       " '1493.2',\n",
       " '1493.55',\n",
       " '1493.75',\n",
       " '1494.5',\n",
       " '1495.1',\n",
       " '1496.45',\n",
       " '1496.9',\n",
       " '1497.05',\n",
       " '1497.9',\n",
       " '1498.2',\n",
       " '1498.35',\n",
       " '1498.55',\n",
       " '1498.65',\n",
       " '1498.85',\n",
       " '150',\n",
       " '150.35',\n",
       " '150.6',\n",
       " '150.75',\n",
       " '150.85',\n",
       " '1500.25',\n",
       " '1500.5',\n",
       " '1500.95',\n",
       " '1501.75',\n",
       " '1502.25',\n",
       " '1502.65',\n",
       " '1504.05',\n",
       " '1505.05',\n",
       " '1505.15',\n",
       " '1505.35',\n",
       " '1505.45',\n",
       " '1505.85',\n",
       " '1505.9',\n",
       " '1506.4',\n",
       " '1507',\n",
       " '1509.8',\n",
       " '1509.9',\n",
       " '151.3',\n",
       " '151.65',\n",
       " '151.75',\n",
       " '151.8',\n",
       " '1510.3',\n",
       " '1510.5',\n",
       " '1511.2',\n",
       " '1513.6',\n",
       " '1514.85',\n",
       " '1515.1',\n",
       " '1516.6',\n",
       " '1517.5',\n",
       " '1519',\n",
       " '152.3',\n",
       " '152.45',\n",
       " '152.6',\n",
       " '152.7',\n",
       " '152.95',\n",
       " '1520.1',\n",
       " '1520.9',\n",
       " '1521.2',\n",
       " '1522.65',\n",
       " '1522.7',\n",
       " '1523.4',\n",
       " '1524.85',\n",
       " '1525.35',\n",
       " '1527.35',\n",
       " '1527.5',\n",
       " '1529.2',\n",
       " '1529.45',\n",
       " '1529.65',\n",
       " '153.05',\n",
       " '153.3',\n",
       " '153.8',\n",
       " '153.95',\n",
       " '1530.6',\n",
       " '1531.4',\n",
       " '1532.45',\n",
       " '1533.8',\n",
       " '1534.05',\n",
       " '1534.75',\n",
       " '1536.75',\n",
       " '1537.85',\n",
       " '1537.9',\n",
       " '1538.6',\n",
       " '1539.45',\n",
       " '1539.75',\n",
       " '1539.8',\n",
       " '154.3',\n",
       " '154.55',\n",
       " '154.65',\n",
       " '154.8',\n",
       " '154.85',\n",
       " '1540.05',\n",
       " '1540.2',\n",
       " '1540.35',\n",
       " '1544.05',\n",
       " '1545.4',\n",
       " '1546.3',\n",
       " '1547.35',\n",
       " '1548.65',\n",
       " '1549.75',\n",
       " '155.35',\n",
       " '155.65',\n",
       " '155.8',\n",
       " '155.9',\n",
       " '1551.6',\n",
       " '1553.2',\n",
       " '1553.9',\n",
       " '1553.95',\n",
       " '1554',\n",
       " '1554.9',\n",
       " '1555.65',\n",
       " '1556.85',\n",
       " '1558.65',\n",
       " '1558.7',\n",
       " ...]"
      ]
     },
     "execution_count": 15,
     "metadata": {},
     "output_type": "execute_result"
    }
   ],
   "source": [
    "# Рассмотрим сумму тотальных платежей на определение ошибок:\n",
    "sorted(contract.totalcharges.unique())"
   ]
  },
  {
   "cell_type": "code",
   "execution_count": 16,
   "metadata": {},
   "outputs": [
    {
     "data": {
      "text/html": [
       "<div>\n",
       "<style scoped>\n",
       "    .dataframe tbody tr th:only-of-type {\n",
       "        vertical-align: middle;\n",
       "    }\n",
       "\n",
       "    .dataframe tbody tr th {\n",
       "        vertical-align: top;\n",
       "    }\n",
       "\n",
       "    .dataframe thead th {\n",
       "        text-align: right;\n",
       "    }\n",
       "</style>\n",
       "<table border=\"1\" class=\"dataframe\">\n",
       "  <thead>\n",
       "    <tr style=\"text-align: right;\">\n",
       "      <th></th>\n",
       "      <th>customerid</th>\n",
       "      <th>begindate</th>\n",
       "      <th>enddate</th>\n",
       "      <th>type</th>\n",
       "      <th>paperlessbilling</th>\n",
       "      <th>paymentmethod</th>\n",
       "      <th>monthlycharges</th>\n",
       "      <th>totalcharges</th>\n",
       "    </tr>\n",
       "  </thead>\n",
       "  <tbody>\n",
       "    <tr>\n",
       "      <th>488</th>\n",
       "      <td>4472-LVYGI</td>\n",
       "      <td>2020-02-01</td>\n",
       "      <td>No</td>\n",
       "      <td>Two year</td>\n",
       "      <td>Yes</td>\n",
       "      <td>Bank transfer (automatic)</td>\n",
       "      <td>52.55</td>\n",
       "      <td></td>\n",
       "    </tr>\n",
       "    <tr>\n",
       "      <th>753</th>\n",
       "      <td>3115-CZMZD</td>\n",
       "      <td>2020-02-01</td>\n",
       "      <td>No</td>\n",
       "      <td>Two year</td>\n",
       "      <td>No</td>\n",
       "      <td>Mailed check</td>\n",
       "      <td>20.25</td>\n",
       "      <td></td>\n",
       "    </tr>\n",
       "    <tr>\n",
       "      <th>936</th>\n",
       "      <td>5709-LVOEQ</td>\n",
       "      <td>2020-02-01</td>\n",
       "      <td>No</td>\n",
       "      <td>Two year</td>\n",
       "      <td>No</td>\n",
       "      <td>Mailed check</td>\n",
       "      <td>80.85</td>\n",
       "      <td></td>\n",
       "    </tr>\n",
       "    <tr>\n",
       "      <th>1082</th>\n",
       "      <td>4367-NUYAO</td>\n",
       "      <td>2020-02-01</td>\n",
       "      <td>No</td>\n",
       "      <td>Two year</td>\n",
       "      <td>No</td>\n",
       "      <td>Mailed check</td>\n",
       "      <td>25.75</td>\n",
       "      <td></td>\n",
       "    </tr>\n",
       "    <tr>\n",
       "      <th>1340</th>\n",
       "      <td>1371-DWPAZ</td>\n",
       "      <td>2020-02-01</td>\n",
       "      <td>No</td>\n",
       "      <td>Two year</td>\n",
       "      <td>No</td>\n",
       "      <td>Credit card (automatic)</td>\n",
       "      <td>56.05</td>\n",
       "      <td></td>\n",
       "    </tr>\n",
       "    <tr>\n",
       "      <th>3331</th>\n",
       "      <td>7644-OMVMY</td>\n",
       "      <td>2020-02-01</td>\n",
       "      <td>No</td>\n",
       "      <td>Two year</td>\n",
       "      <td>No</td>\n",
       "      <td>Mailed check</td>\n",
       "      <td>19.85</td>\n",
       "      <td></td>\n",
       "    </tr>\n",
       "    <tr>\n",
       "      <th>3826</th>\n",
       "      <td>3213-VVOLG</td>\n",
       "      <td>2020-02-01</td>\n",
       "      <td>No</td>\n",
       "      <td>Two year</td>\n",
       "      <td>No</td>\n",
       "      <td>Mailed check</td>\n",
       "      <td>25.35</td>\n",
       "      <td></td>\n",
       "    </tr>\n",
       "    <tr>\n",
       "      <th>4380</th>\n",
       "      <td>2520-SGTTA</td>\n",
       "      <td>2020-02-01</td>\n",
       "      <td>No</td>\n",
       "      <td>Two year</td>\n",
       "      <td>No</td>\n",
       "      <td>Mailed check</td>\n",
       "      <td>20.00</td>\n",
       "      <td></td>\n",
       "    </tr>\n",
       "    <tr>\n",
       "      <th>5218</th>\n",
       "      <td>2923-ARZLG</td>\n",
       "      <td>2020-02-01</td>\n",
       "      <td>No</td>\n",
       "      <td>One year</td>\n",
       "      <td>Yes</td>\n",
       "      <td>Mailed check</td>\n",
       "      <td>19.70</td>\n",
       "      <td></td>\n",
       "    </tr>\n",
       "    <tr>\n",
       "      <th>6670</th>\n",
       "      <td>4075-WKNIU</td>\n",
       "      <td>2020-02-01</td>\n",
       "      <td>No</td>\n",
       "      <td>Two year</td>\n",
       "      <td>No</td>\n",
       "      <td>Mailed check</td>\n",
       "      <td>73.35</td>\n",
       "      <td></td>\n",
       "    </tr>\n",
       "    <tr>\n",
       "      <th>6754</th>\n",
       "      <td>2775-SEFEE</td>\n",
       "      <td>2020-02-01</td>\n",
       "      <td>No</td>\n",
       "      <td>Two year</td>\n",
       "      <td>Yes</td>\n",
       "      <td>Bank transfer (automatic)</td>\n",
       "      <td>61.90</td>\n",
       "      <td></td>\n",
       "    </tr>\n",
       "  </tbody>\n",
       "</table>\n",
       "</div>"
      ],
      "text/plain": [
       "      customerid  begindate  ... monthlycharges totalcharges\n",
       "488   4472-LVYGI 2020-02-01  ...          52.55             \n",
       "753   3115-CZMZD 2020-02-01  ...          20.25             \n",
       "936   5709-LVOEQ 2020-02-01  ...          80.85             \n",
       "1082  4367-NUYAO 2020-02-01  ...          25.75             \n",
       "1340  1371-DWPAZ 2020-02-01  ...          56.05             \n",
       "3331  7644-OMVMY 2020-02-01  ...          19.85             \n",
       "3826  3213-VVOLG 2020-02-01  ...          25.35             \n",
       "4380  2520-SGTTA 2020-02-01  ...          20.00             \n",
       "5218  2923-ARZLG 2020-02-01  ...          19.70             \n",
       "6670  4075-WKNIU 2020-02-01  ...          73.35             \n",
       "6754  2775-SEFEE 2020-02-01  ...          61.90             \n",
       "\n",
       "[11 rows x 8 columns]"
      ]
     },
     "execution_count": 16,
     "metadata": {},
     "output_type": "execute_result"
    }
   ],
   "source": [
    "contract.query('totalcharges==\" \"')"
   ]
  },
  {
   "cell_type": "markdown",
   "metadata": {},
   "source": [
    "Как видно, данных о тотальных платежах нет о новых пользователей, присоединившихся в феврале. Видится безопасным присвоить им соответствующий ежемесячный платёж в столбце TotalCharges."
   ]
  },
  {
   "cell_type": "code",
   "execution_count": 17,
   "metadata": {},
   "outputs": [],
   "source": [
    "contract.loc[contract['totalcharges']==\" \",'totalcharges'] = contract.loc[contract['totalcharges']==\" \",'monthlycharges']\n",
    "contract.totalcharges = contract.totalcharges.astype('float64')"
   ]
  },
  {
   "cell_type": "code",
   "execution_count": 18,
   "metadata": {},
   "outputs": [
    {
     "data": {
      "text/html": [
       "<div>\n",
       "<style scoped>\n",
       "    .dataframe tbody tr th:only-of-type {\n",
       "        vertical-align: middle;\n",
       "    }\n",
       "\n",
       "    .dataframe tbody tr th {\n",
       "        vertical-align: top;\n",
       "    }\n",
       "\n",
       "    .dataframe thead th {\n",
       "        text-align: right;\n",
       "    }\n",
       "</style>\n",
       "<table border=\"1\" class=\"dataframe\">\n",
       "  <thead>\n",
       "    <tr style=\"text-align: right;\">\n",
       "      <th></th>\n",
       "      <th>customerid</th>\n",
       "      <th>begindate</th>\n",
       "      <th>enddate</th>\n",
       "      <th>type</th>\n",
       "      <th>paperlessbilling</th>\n",
       "      <th>paymentmethod</th>\n",
       "      <th>monthlycharges</th>\n",
       "      <th>totalcharges</th>\n",
       "    </tr>\n",
       "  </thead>\n",
       "  <tbody>\n",
       "  </tbody>\n",
       "</table>\n",
       "</div>"
      ],
      "text/plain": [
       "Empty DataFrame\n",
       "Columns: [customerid, begindate, enddate, type, paperlessbilling, paymentmethod, monthlycharges, totalcharges]\n",
       "Index: []"
      ]
     },
     "execution_count": 18,
     "metadata": {},
     "output_type": "execute_result"
    }
   ],
   "source": [
    "# Проверим, нет ли ошибок в соотношении тотальных и ежемесячных платежей:\n",
    "contract.query('totalcharges < monthlycharges')"
   ]
  },
  {
   "cell_type": "markdown",
   "metadata": {},
   "source": [
    "Данные прошли предобработку, можно приступать к анализу "
   ]
  },
  {
   "cell_type": "markdown",
   "metadata": {},
   "source": [
    "## Исследовательский анализ"
   ]
  },
  {
   "cell_type": "markdown",
   "metadata": {},
   "source": [
    "Наша целевая переменная - покинул ли компанию пользователь или нет. Введём эту переменную в исследуемые данные"
   ]
  },
  {
   "cell_type": "code",
   "execution_count": 19,
   "metadata": {},
   "outputs": [],
   "source": [
    "contract['churn'] = np.where(contract['enddate']!='No',1,0)\n",
    "\n",
    "personal = personal.merge(contract.loc[:,['customerid', 'churn']], how='inner', on='customerid')\n",
    "\n",
    "internet = internet.merge(contract.loc[:,['customerid', 'churn']], how='inner', on='customerid')\n",
    "\n",
    "phone = phone.merge(contract.loc[:,['customerid', 'churn']], how='inner', on='customerid')"
   ]
  },
  {
   "cell_type": "code",
   "execution_count": 20,
   "metadata": {},
   "outputs": [
    {
     "data": {
      "text/plain": [
       "churn\n",
       "0    73.46%\n",
       "1    26.54%\n",
       "Name: customerid, dtype: object"
      ]
     },
     "execution_count": 20,
     "metadata": {},
     "output_type": "execute_result"
    }
   ],
   "source": [
    "# Рассмотрим соотношение классов в целевой переменной:\n",
    "(contract.groupby('churn')['customerid'].count()/len(contract)).map('{:.2%}'.format)"
   ]
  },
  {
   "cell_type": "markdown",
   "metadata": {},
   "source": [
    "Имеется дисбаланс, необходима стратификация при отборе на трейн/тест выборки, предпочтение при построении моделей следует отдать деревянным типам."
   ]
  },
  {
   "cell_type": "markdown",
   "metadata": {},
   "source": [
    "### Анализ количественных данных"
   ]
  },
  {
   "cell_type": "markdown",
   "metadata": {},
   "source": [
    "Проверим количественные данные на аномалии/выбросы:"
   ]
  },
  {
   "cell_type": "code",
   "execution_count": 21,
   "metadata": {},
   "outputs": [
    {
     "data": {
      "text/html": [
       "<div>\n",
       "<style scoped>\n",
       "    .dataframe tbody tr th:only-of-type {\n",
       "        vertical-align: middle;\n",
       "    }\n",
       "\n",
       "    .dataframe tbody tr th {\n",
       "        vertical-align: top;\n",
       "    }\n",
       "\n",
       "    .dataframe thead th {\n",
       "        text-align: right;\n",
       "    }\n",
       "</style>\n",
       "<table border=\"1\" class=\"dataframe\">\n",
       "  <thead>\n",
       "    <tr style=\"text-align: right;\">\n",
       "      <th></th>\n",
       "      <th>monthlycharges</th>\n",
       "      <th>totalcharges</th>\n",
       "    </tr>\n",
       "  </thead>\n",
       "  <tbody>\n",
       "    <tr>\n",
       "      <th>count</th>\n",
       "      <td>7043.000000</td>\n",
       "      <td>7043.000000</td>\n",
       "    </tr>\n",
       "    <tr>\n",
       "      <th>mean</th>\n",
       "      <td>64.761692</td>\n",
       "      <td>2279.798992</td>\n",
       "    </tr>\n",
       "    <tr>\n",
       "      <th>std</th>\n",
       "      <td>30.090047</td>\n",
       "      <td>2266.730170</td>\n",
       "    </tr>\n",
       "    <tr>\n",
       "      <th>min</th>\n",
       "      <td>18.250000</td>\n",
       "      <td>18.800000</td>\n",
       "    </tr>\n",
       "    <tr>\n",
       "      <th>25%</th>\n",
       "      <td>35.500000</td>\n",
       "      <td>398.550000</td>\n",
       "    </tr>\n",
       "    <tr>\n",
       "      <th>50%</th>\n",
       "      <td>70.350000</td>\n",
       "      <td>1394.550000</td>\n",
       "    </tr>\n",
       "    <tr>\n",
       "      <th>75%</th>\n",
       "      <td>89.850000</td>\n",
       "      <td>3786.600000</td>\n",
       "    </tr>\n",
       "    <tr>\n",
       "      <th>max</th>\n",
       "      <td>118.750000</td>\n",
       "      <td>8684.800000</td>\n",
       "    </tr>\n",
       "  </tbody>\n",
       "</table>\n",
       "</div>"
      ],
      "text/plain": [
       "       monthlycharges  totalcharges\n",
       "count     7043.000000   7043.000000\n",
       "mean        64.761692   2279.798992\n",
       "std         30.090047   2266.730170\n",
       "min         18.250000     18.800000\n",
       "25%         35.500000    398.550000\n",
       "50%         70.350000   1394.550000\n",
       "75%         89.850000   3786.600000\n",
       "max        118.750000   8684.800000"
      ]
     },
     "execution_count": 21,
     "metadata": {},
     "output_type": "execute_result"
    }
   ],
   "source": [
    "contract[['monthlycharges','totalcharges']].describe()"
   ]
  },
  {
   "cell_type": "markdown",
   "metadata": {},
   "source": [
    "С первого взгляда аномалий/выбросов в данных не видно. Удостоверимся в этом построением диаграммы размаха"
   ]
  },
  {
   "cell_type": "code",
   "execution_count": 22,
   "metadata": {
    "scrolled": false
   },
   "outputs": [
    {
     "data": {
      "image/png": "[encoded data removed]",
      "text/plain": [
       "<Figure size 1152x432 with 2 Axes>"
      ]
     },
     "metadata": {
      "needs_background": "light"
     },
     "output_type": "display_data"
    }
   ],
   "source": [
    "plt.subplot(2,1,1)\n",
    "plt.title('Ежемесячные платежи')\n",
    "plt.boxplot(contract.monthlycharges, vert=False)\n",
    "plt.xlabel('сумма платежа')\n",
    "plt.xticks(range(0,125,5))\n",
    "plt.subplot(2,1,2)\n",
    "plt.title('Суммарные платежи')\n",
    "plt.boxplot(contract.totalcharges, vert=False)\n",
    "plt.xlabel('сумма платежа')\n",
    "plt.xticks(range(0,10000,500))\n",
    "plt.tight_layout()\n",
    "plt.show()"
   ]
  },
  {
   "cell_type": "markdown",
   "metadata": {},
   "source": [
    "Все значения количественных данных находятся в пределах нормальных значений"
   ]
  },
  {
   "cell_type": "code",
   "execution_count": 23,
   "metadata": {},
   "outputs": [
    {
     "data": {
      "image/png": "[encoded data removed]",
      "text/plain": [
       "<Figure size 1152x432 with 1 Axes>"
      ]
     },
     "metadata": {
      "needs_background": "light"
     },
     "output_type": "display_data"
    },
    {
     "data": {
      "image/png": "[encoded data removed]",
      "text/plain": [
       "<Figure size 1152x432 with 1 Axes>"
      ]
     },
     "metadata": {
      "needs_background": "light"
     },
     "output_type": "display_data"
    }
   ],
   "source": [
    "plt.hist(contract.monthlycharges, bins='auto')\n",
    "plt.title('Гистограмма распределения ежемесячных платежей всех пользователей')\n",
    "plt.xlabel('Сумма ежемесячного платежа')\n",
    "plt.ylabel('Количество пользователей')\n",
    "plt.xticks(range(10,120,5))\n",
    "plt.show()\n",
    "contract.monthlycharges.plot(kind='kde')\n",
    "plt.title('Гистограмма плотности распределения ежемесячных платежей всех пользователей')\n",
    "plt.xlabel('Сумма ежемесячного платежа')\n",
    "plt.xticks(range(-25,175,10))\n",
    "plt.show()"
   ]
  },
  {
   "cell_type": "markdown",
   "metadata": {},
   "source": [
    "При рассмотрении гистограмм представляется возможным выделить три подгруппы по сумме ежемесячного платежа, видимо концетрирующиеся около предложенных тарифов (с отклонениями в виде дополнительных услуг) - это подгруппы вокруг (20-30), (50-60) и (75-90)."
   ]
  },
  {
   "cell_type": "code",
   "execution_count": 24,
   "metadata": {},
   "outputs": [
    {
     "data": {
      "image/png": "[encoded data removed]",
      "text/plain": [
       "<Figure size 1152x432 with 1 Axes>"
      ]
     },
     "metadata": {
      "needs_background": "light"
     },
     "output_type": "display_data"
    },
    {
     "data": {
      "image/png": "[encoded data removed]",
      "text/plain": [
       "<Figure size 1152x432 with 1 Axes>"
      ]
     },
     "metadata": {
      "needs_background": "light"
     },
     "output_type": "display_data"
    }
   ],
   "source": [
    "plt.hist(contract.totalcharges, bins='auto')\n",
    "plt.title('Гистограмма распределения суммарных платежей всех пользователей')\n",
    "plt.xlabel('Суммарные платежи')\n",
    "plt.ylabel('Количество пользователей')\n",
    "plt.show()\n",
    "contract.totalcharges.plot(kind='kde')\n",
    "plt.title('Гистограмма плотности распределения суммарных платежей всех пользователей')\n",
    "plt.xlabel('Суммарные платежи')\n",
    "plt.show()"
   ]
  },
  {
   "cell_type": "markdown",
   "metadata": {},
   "source": [
    "Данные гистограммы очевидным образом свидетельствуют о линейной зависимости количества пользователей и объёму суммарных платежей."
   ]
  },
  {
   "cell_type": "markdown",
   "metadata": {},
   "source": [
    "### Оценка влияния признаков на целевую переменную"
   ]
  },
  {
   "cell_type": "code",
   "execution_count": 25,
   "metadata": {},
   "outputs": [
    {
     "data": {
      "image/png": "[encoded data removed]",
      "text/plain": [
       "<Figure size 1152x648 with 6 Axes>"
      ]
     },
     "metadata": {},
     "output_type": "display_data"
    }
   ],
   "source": [
    "i = 0\n",
    "plt.figure(figsize=(16,9))\n",
    "for column in contract.columns[3:6]:\n",
    "    plt.subplot(321 + i)\n",
    "    plt.pie(\n",
    "        x=contract[column].value_counts(normalize=True),\n",
    "        labels=contract[column].unique(),\n",
    "        autopct=\"%1.1f%%\")\n",
    "    plt.title(f'Доля признака {column} среди всех пользователей')\n",
    "    i += 1\n",
    "    plt.subplot(321 + i)\n",
    "    plt.pie(\n",
    "        x=contract.query('churn==1')[column].value_counts(normalize=True),\n",
    "        labels=contract[column].unique(),\n",
    "        autopct=\"%1.1f%%\")\n",
    "    plt.title(f'Доля признака {column} среди ушедших пользователей')\n",
    "    i += 1\n",
    "plt.suptitle('Распределение признаков в таблице contract', fontsize=16, fontweight='bold')\n",
    "plt.tight_layout()\n",
    "plt.show()"
   ]
  },
  {
   "cell_type": "markdown",
   "metadata": {},
   "source": [
    "Судя по графикам, все признаки оказывают то или иное влияние на целевую переменную"
   ]
  },
  {
   "cell_type": "code",
   "execution_count": 26,
   "metadata": {},
   "outputs": [
    {
     "data": {
      "image/png": "[encoded data removed]",
      "text/plain": [
       "<Figure size 1152x864 with 8 Axes>"
      ]
     },
     "metadata": {},
     "output_type": "display_data"
    }
   ],
   "source": [
    "i = 0\n",
    "plt.figure(figsize=(16,12))\n",
    "for column in personal.columns[1:-1]:\n",
    "    plt.subplot(421 + i)\n",
    "    plt.pie(\n",
    "        x=personal[column].value_counts(normalize=True),\n",
    "        labels=personal[column].unique(),\n",
    "        autopct=\"%1.1f%%\")\n",
    "    plt.title(f'Доля признака {column} среди всех пользователей')\n",
    "    i += 1\n",
    "    plt.subplot(421 + i)\n",
    "    plt.pie(\n",
    "        x=personal.query('churn==1')[column].value_counts(normalize=True),\n",
    "        labels=personal[column].unique(),\n",
    "        autopct=\"%1.1f%%\")\n",
    "    plt.title(f'Доля признака {column} среди ушедших пользователей')\n",
    "    i += 1\n",
    "plt.suptitle('Распределение признаков в таблице personal', fontsize=16, fontweight='bold')\n",
    "plt.tight_layout()\n",
    "plt.show()"
   ]
  },
  {
   "cell_type": "markdown",
   "metadata": {},
   "source": [
    "Как можно видеть, среди рассмотренных признаков, только признак пола практически не влияет на отток клиентов"
   ]
  },
  {
   "cell_type": "code",
   "execution_count": 27,
   "metadata": {},
   "outputs": [
    {
     "data": {
      "image/png": "[encoded data removed]",
      "text/plain": [
       "<Figure size 1152x648 with 6 Axes>"
      ]
     },
     "metadata": {},
     "output_type": "display_data"
    }
   ],
   "source": [
    "i = 0\n",
    "plt.figure(figsize=(16,9))\n",
    "for column in internet.columns[1:4]:\n",
    "    plt.subplot(321 + i)\n",
    "    plt.pie(\n",
    "        x=internet[column].value_counts(normalize=True),\n",
    "        labels=internet[column].unique(),\n",
    "        autopct=\"%1.1f%%\")\n",
    "    plt.title(f'Доля признака {column} среди всех пользователей')\n",
    "    i += 1\n",
    "    plt.subplot(321 + i)\n",
    "    plt.pie(\n",
    "        x=internet.query('churn==1')[column].value_counts(normalize=True),\n",
    "        labels=internet[column].unique(),\n",
    "        autopct=\"%1.1f%%\")\n",
    "    plt.title(f'Доля признака {column} среди ушедших пользователей')\n",
    "    i += 1\n",
    "plt.suptitle('Распределение признаков в таблице internet', fontsize=16, fontweight='bold')\n",
    "plt.tight_layout()\n",
    "plt.show()"
   ]
  },
  {
   "cell_type": "code",
   "execution_count": 28,
   "metadata": {},
   "outputs": [
    {
     "data": {
      "image/png": "[encoded data removed]",
      "text/plain": [
       "<Figure size 1152x864 with 8 Axes>"
      ]
     },
     "metadata": {},
     "output_type": "display_data"
    }
   ],
   "source": [
    "i = 0\n",
    "plt.figure(figsize=(16,12))\n",
    "for column in internet.columns[4:-1]:\n",
    "    plt.subplot(421 + i)\n",
    "    plt.pie(\n",
    "        x=internet[column].value_counts(normalize=True),\n",
    "        labels=internet[column].unique(),\n",
    "        autopct=\"%1.1f%%\")\n",
    "    plt.title(f'Доля признака {column} среди всех пользователей')\n",
    "    i += 1\n",
    "    plt.subplot(421 + i)\n",
    "    plt.pie(\n",
    "        x=internet.query('churn==1')[column].value_counts(normalize=True),\n",
    "        labels=internet[column].unique(),\n",
    "        autopct=\"%1.1f%%\")\n",
    "    plt.title(f'Доля признака {column} среди ушедших пользователей')\n",
    "    i += 1\n",
    "plt.suptitle('Распределение признаков в таблице internet', fontsize=16, fontweight='bold')\n",
    "plt.tight_layout()\n",
    "plt.show()"
   ]
  },
  {
   "cell_type": "markdown",
   "metadata": {},
   "source": [
    "Из рассмотренных признаков пользование стриминговыми сервисами слабее всего связано с целевым признаком"
   ]
  },
  {
   "cell_type": "code",
   "execution_count": 29,
   "metadata": {},
   "outputs": [
    {
     "data": {
      "image/png": "[encoded data removed]",
      "text/plain": [
       "<Figure size 1152x288 with 2 Axes>"
      ]
     },
     "metadata": {},
     "output_type": "display_data"
    }
   ],
   "source": [
    "plt.figure(figsize=(16,4))\n",
    "plt.subplot(121)\n",
    "plt.pie(\n",
    "    x=phone['multiplelines'].value_counts(normalize=True),\n",
    "    labels=phone['multiplelines'].unique(),\n",
    "    autopct=\"%1.1f%%\")\n",
    "plt.title(f'Доля признака multiplelines среди всех пользователей')\n",
    "plt.subplot(122)\n",
    "plt.pie(\n",
    "    x=phone.query('churn==1')['multiplelines'].value_counts(normalize=True),\n",
    "    labels=phone['multiplelines'].unique(),\n",
    "    autopct=\"%1.1f%%\")\n",
    "plt.title(f'Доля признака multiplelines среди ушедших пользователей')\n",
    "plt.suptitle('Распределение признака в таблице phone', fontsize=16, fontweight='bold')\n",
    "plt.tight_layout()\n",
    "plt.show()"
   ]
  },
  {
   "cell_type": "markdown",
   "metadata": {},
   "source": [
    "Наличие множественных линей среди пользователей, пользующихся телефоном, слабо связано с оттоком клиентов."
   ]
  },
  {
   "cell_type": "markdown",
   "metadata": {},
   "source": [
    "## Подготовка данных"
   ]
  },
  {
   "cell_type": "code",
   "execution_count": 30,
   "metadata": {},
   "outputs": [],
   "source": [
    "# Составим полную таблицу\n",
    "full_data = contract.copy()\n",
    "for data in data_list[1:]:\n",
    "    full_data = full_data.merge(data, on='customerid', how='left')"
   ]
  },
  {
   "cell_type": "markdown",
   "metadata": {},
   "source": [
    "В связи с тем, что не все клиенты пользуются телефонной связью/интернетом, у нас образовались пропуски в соответствующих столбцах при сращивании таблиц phone и internet. Заполним их дополнительным значением 'Not Used'"
   ]
  },
  {
   "cell_type": "code",
   "execution_count": 31,
   "metadata": {},
   "outputs": [],
   "source": [
    "full_data = full_data.fillna('Not Used')"
   ]
  },
  {
   "cell_type": "markdown",
   "metadata": {},
   "source": [
    "### Feature engineering"
   ]
  },
  {
   "cell_type": "markdown",
   "metadata": {},
   "source": [
    "Определим время обслуживания клиента"
   ]
  },
  {
   "cell_type": "code",
   "execution_count": 32,
   "metadata": {},
   "outputs": [],
   "source": [
    "full_data.enddate = full_data.enddate.replace('No', '2020-02-01')\n",
    "full_data.enddate = pd.to_datetime(full_data.enddate, format='%Y-%m-%d')"
   ]
  },
  {
   "cell_type": "code",
   "execution_count": 33,
   "metadata": {},
   "outputs": [],
   "source": [
    "full_data['servicedays'] = (full_data['enddate']-full_data['begindate']).astype('timedelta64[D]').astype('int')\n",
    "\n",
    "full_data['servicemonths'] = (full_data['enddate']-full_data['begindate']).astype('timedelta64[M]').astype('int')\n",
    "\n",
    "full_data['serviceyears'] = (full_data['enddate']-full_data['begindate']).astype('timedelta64[Y]').astype('int')"
   ]
  },
  {
   "cell_type": "markdown",
   "metadata": {},
   "source": [
    "Избавимся от следующих признаков:\n",
    "\n",
    "- Неинформативные: customerid, gender\n",
    "- Ненужные: begindate, enddate\n",
    "- Взаимосвязанные: Из totalcharges и monthlycharges удалим второй"
   ]
  },
  {
   "cell_type": "code",
   "execution_count": 34,
   "metadata": {},
   "outputs": [],
   "source": [
    "full_data = full_data.drop(['customerid', 'begindate', 'enddate', 'monthlycharges', 'gender'], axis=1)"
   ]
  },
  {
   "cell_type": "markdown",
   "metadata": {},
   "source": [
    "### Кодировка признаков"
   ]
  },
  {
   "cell_type": "code",
   "execution_count": 35,
   "metadata": {},
   "outputs": [],
   "source": [
    "num_features = ['totalcharges', 'servicedays', 'servicemonths', 'serviceyears']\n",
    "encoded_data = encoder.fit_transform(\n",
    "    full_data.drop(num_features, axis=1)\n",
    "    )\n",
    "\n",
    "encoded_data = (pd.DataFrame(\n",
    "    encoded_data,\n",
    "    columns=full_data.drop(num_features,axis=1).columns)\n",
    "                .join(full_data[num_features]))"
   ]
  },
  {
   "cell_type": "markdown",
   "metadata": {},
   "source": [
    "### Составление выборок"
   ]
  },
  {
   "cell_type": "code",
   "execution_count": 36,
   "metadata": {},
   "outputs": [],
   "source": [
    "features = encoded_data.drop(['churn'], axis=1)\n",
    "target = encoded_data['churn']"
   ]
  },
  {
   "cell_type": "code",
   "execution_count": 37,
   "metadata": {},
   "outputs": [],
   "source": [
    "X_train, X_test, y_train, y_test = train_test_split(features, target, test_size=0.2, stratify=target, random_state=777)"
   ]
  },
  {
   "cell_type": "markdown",
   "metadata": {},
   "source": [
    "## Построение моделей"
   ]
  },
  {
   "cell_type": "code",
   "execution_count": 38,
   "metadata": {},
   "outputs": [],
   "source": [
    "# Определим функцию для визуализации roc_auc:\n",
    "def roc_auc_plot(model, size=(8,8)):\n",
    "    probabilities = model.predict_proba(X_test)[:, 1]\n",
    "    fpr, tpr, thresholds = roc_curve(y_test, probabilities)\n",
    "    plt.figure(figsize=size)\n",
    "    plt.plot([0, 1], [0, 1], linestyle='--', label='Случайная модель')\n",
    "    plt.plot(fpr, tpr, label=type(model).__name__ )\n",
    "    plt.xlim([0, 1])\n",
    "    plt.xticks(np.arange(0,1.1,0.1))\n",
    "    plt.ylim([0, 1])\n",
    "    plt.yticks(np.arange(0,1.1,0.1))\n",
    "    plt.xlabel('False Positive Rate')\n",
    "    plt.ylabel('True Positive Rate')\n",
    "    plt.title('ROC-кривая')\n",
    "    plt.legend()\n",
    "    plt.show()"
   ]
  },
  {
   "cell_type": "code",
   "execution_count": 39,
   "metadata": {},
   "outputs": [],
   "source": [
    "# Определим функцию для визуализации важности фичей:\n",
    "def feat_importance_plot(model, feature_names=None):\n",
    "    feature_importances = pd.Series(model.feature_importances_, index=feature_names).sort_values()\n",
    "    feature_importances.plot(kind='bar')\n",
    "    plt.title(f'Важность признаков на модели {type(model).__name__}')\n",
    "    plt.ylabel('Importance')\n",
    "    plt.show()"
   ]
  },
  {
   "cell_type": "markdown",
   "metadata": {},
   "source": [
    "### Логистическая регрессия"
   ]
  },
  {
   "cell_type": "code",
   "execution_count": 40,
   "metadata": {},
   "outputs": [
    {
     "name": "stdout",
     "output_type": "stream",
     "text": [
      "Время обучения модели: 18.9207s\n",
      "Время предсказания модели: 0.0950s \n",
      "\n"
     ]
    }
   ],
   "source": [
    "logreg_model = LogisticRegressionCV(scoring='roc_auc', class_weight='balanced', max_iter=500, random_state=777)\n",
    "time_tuning_logreg = None\n",
    "\n",
    "start_time = time.time()\n",
    "\n",
    "logreg_model.fit(X_train, y_train)\n",
    "\n",
    "time_learn_logreg = time.time() - start_time\n",
    "\n",
    "print(f'Время обучения модели: {time_learn_logreg:.4f}s')\n",
    "\n",
    "start_time = time.time()\n",
    "\n",
    "predictions_logreg = logreg_model.predict(X_test)\n",
    "predictions_proba_logreg = logreg_model.predict_proba(X_test)[:,1]\n",
    "\n",
    "time_predict_logreg = time.time() - start_time\n",
    "\n",
    "print(f'Время предсказания модели: {time_predict_logreg:.4f}s \\n')"
   ]
  },
  {
   "cell_type": "code",
   "execution_count": 41,
   "metadata": {},
   "outputs": [
    {
     "name": "stdout",
     "output_type": "stream",
     "text": [
      "Accuracy модели Логистической регрессии: 0.774\n",
      "ROC-AUC модели Логистической регрессии: 0.885\n"
     ]
    }
   ],
   "source": [
    "accuracy_logreg = accuracy_score(y_test, predictions_logreg)\n",
    "roc_auc_logreg = roc_auc_score(y_test, predictions_proba_logreg)\n",
    "print(f'Accuracy модели Логистической регрессии: {accuracy_logreg:.3f}')\n",
    "print(f'ROC-AUC модели Логистической регрессии: {roc_auc_logreg:.3f}')"
   ]
  },
  {
   "cell_type": "code",
   "execution_count": 42,
   "metadata": {},
   "outputs": [
    {
     "data": {
      "image/png": "[encoded data removed]",
      "text/plain": [
       "<Figure size 576x576 with 1 Axes>"
      ]
     },
     "metadata": {
      "needs_background": "light"
     },
     "output_type": "display_data"
    }
   ],
   "source": [
    "roc_auc_plot(logreg_model)"
   ]
  },
  {
   "cell_type": "markdown",
   "metadata": {},
   "source": [
    "__Прогоним каждую последующую модель через optuna для выявления наилучших гиперпараметров через кросс-валидацию__"
   ]
  },
  {
   "cell_type": "markdown",
   "metadata": {},
   "source": [
    "### Дерево решений"
   ]
  },
  {
   "cell_type": "code",
   "execution_count": 43,
   "metadata": {},
   "outputs": [
    {
     "name": "stderr",
     "output_type": "stream",
     "text": [
      "/tmp/ipykernel_219/1638766123.py:13: ExperimentalWarning: OptunaSearchCV is experimental (supported from v0.17.0). The interface can change in the future.\n",
      "  optuna_tree = OptunaSearchCV(\n"
     ]
    },
    {
     "name": "stdout",
     "output_type": "stream",
     "text": [
      "Время тюнинга модели: 0.04 мин \n",
      "\n",
      "Лучшие параметры Дерева решений: {'min_samples_leaf': 80, 'min_samples_split': 64, 'max_depth': 8}\n"
     ]
    }
   ],
   "source": [
    "# Найдём лучшие гиперпараметры через кросс-валидацию optuna\n",
    "\n",
    "tree_model = DecisionTreeClassifier(random_state=777, class_weight='balanced', criterion='entropy')\n",
    "\n",
    "params_tree = {\n",
    "    'min_samples_leaf':opt_distr_int(2,100),\n",
    "    'min_samples_split':opt_distr_int(2,100),\n",
    "    'max_depth':opt_distr_int(2,25)\n",
    "    }\n",
    "\n",
    "start_time = time.time()\n",
    "\n",
    "optuna_tree = OptunaSearchCV(\n",
    "    tree_model, params_tree, n_trials=25,\n",
    "    random_state=777, scoring='roc_auc')\n",
    "\n",
    "optuna_tree.fit(X_train, y_train)\n",
    "\n",
    "time_tuning_tree = round((time.time() - start_time)/60,2)\n",
    "print(f'Время тюнинга модели: {time_tuning_tree} мин \\n')\n",
    "\n",
    "tree_model = optuna_tree.best_estimator_\n",
    "\n",
    "print(f'Лучшие параметры Дерева решений: {optuna_tree.best_params_}')"
   ]
  },
  {
   "cell_type": "code",
   "execution_count": 44,
   "metadata": {},
   "outputs": [
    {
     "name": "stdout",
     "output_type": "stream",
     "text": [
      "Время обучения модели: 0.0170s\n"
     ]
    }
   ],
   "source": [
    "start_time = time.time()\n",
    "\n",
    "tree_model.fit(X_train, y_train)\n",
    "\n",
    "time_learn_tree = time.time() - start_time\n",
    "\n",
    "print(f'Время обучения модели: {time_learn_tree:.4f}s')"
   ]
  },
  {
   "cell_type": "code",
   "execution_count": 45,
   "metadata": {},
   "outputs": [
    {
     "name": "stdout",
     "output_type": "stream",
     "text": [
      "Время предсказания модели: 0.0216s \n",
      "\n",
      "Accuracy модели дерева решений: 0.775\n",
      "ROC-AUC модели дерева решений: 0.851\n"
     ]
    }
   ],
   "source": [
    "start_time = time.time()\n",
    "\n",
    "predictions_tree = tree_model.predict(X_test)\n",
    "predictions_proba_tree = tree_model.predict_proba(X_test)[:,1]\n",
    "\n",
    "time_predict_tree = time.time() - start_time\n",
    "\n",
    "print(f'Время предсказания модели: {time_predict_tree:.4f}s \\n')\n",
    "\n",
    "accuracy_tree = accuracy_score(y_test, predictions_tree)\n",
    "roc_auc_tree = roc_auc_score(y_test, predictions_proba_tree)\n",
    "print(f'Accuracy модели дерева решений: {accuracy_tree:.3f}')\n",
    "print(f'ROC-AUC модели дерева решений: {roc_auc_tree:.3f}')"
   ]
  },
  {
   "cell_type": "code",
   "execution_count": 46,
   "metadata": {},
   "outputs": [
    {
     "data": {
      "image/png": "[encoded data removed]",
      "text/plain": [
       "<Figure size 576x576 with 1 Axes>"
      ]
     },
     "metadata": {
      "needs_background": "light"
     },
     "output_type": "display_data"
    }
   ],
   "source": [
    "roc_auc_plot(tree_model)"
   ]
  },
  {
   "cell_type": "code",
   "execution_count": 47,
   "metadata": {},
   "outputs": [
    {
     "data": {
      "image/png": "[encoded data removed]",
      "text/plain": [
       "<Figure size 1152x432 with 1 Axes>"
      ]
     },
     "metadata": {
      "needs_background": "light"
     },
     "output_type": "display_data"
    }
   ],
   "source": [
    "feat_importance_plot(tree_model, feature_names=features.columns)"
   ]
  },
  {
   "cell_type": "markdown",
   "metadata": {},
   "source": [
    "### Случайный лес"
   ]
  },
  {
   "cell_type": "code",
   "execution_count": 48,
   "metadata": {},
   "outputs": [
    {
     "name": "stderr",
     "output_type": "stream",
     "text": [
      "/tmp/ipykernel_219/3738678801.py:14: ExperimentalWarning: OptunaSearchCV is experimental (supported from v0.17.0). The interface can change in the future.\n",
      "  optuna_forest = OptunaSearchCV(\n"
     ]
    },
    {
     "name": "stdout",
     "output_type": "stream",
     "text": [
      "Время тюнинга модели: 1.86 мин \n",
      "\n",
      "Лучшие параметры Дерева Регрессии: {'min_samples_leaf': 4, 'min_samples_split': 10, 'max_depth': 10, 'n_estimators': 227}\n"
     ]
    }
   ],
   "source": [
    "# Найдём лучшие гиперпараметры через кросс-валидацию optuna\n",
    "\n",
    "forest_model = RandomForestClassifier(random_state=777, class_weight='balanced', criterion='entropy')\n",
    "\n",
    "params_forest = {\n",
    "    'min_samples_leaf':opt_distr_int(2,15),\n",
    "    'min_samples_split':opt_distr_int(2,15),\n",
    "    'max_depth':opt_distr_int(2,25),\n",
    "    'n_estimators':opt_distr_int(100,300)\n",
    "    }\n",
    "\n",
    "start_time = time.time()\n",
    "\n",
    "optuna_forest = OptunaSearchCV(\n",
    "    forest_model, params_forest, n_trials=25,\n",
    "    random_state=777, scoring='roc_auc')\n",
    "\n",
    "optuna_forest.fit(X_train, y_train)\n",
    "\n",
    "time_tuning_forest = round((time.time() - start_time)/60,2)\n",
    "print(f'Время тюнинга модели: {time_tuning_forest} мин \\n')\n",
    "\n",
    "forest_model = optuna_forest.best_estimator_\n",
    "\n",
    "print(f'Лучшие параметры Дерева Регрессии: {optuna_forest.best_params_}')"
   ]
  },
  {
   "cell_type": "code",
   "execution_count": 49,
   "metadata": {},
   "outputs": [
    {
     "name": "stdout",
     "output_type": "stream",
     "text": [
      "Время обучения модели: 1.0151s\n"
     ]
    }
   ],
   "source": [
    "start_time = time.time()\n",
    "\n",
    "forest_model.fit(X_train, y_train)\n",
    "\n",
    "time_learn_forest = time.time() - start_time\n",
    "\n",
    "print(f'Время обучения модели: {time_learn_forest:.4f}s')"
   ]
  },
  {
   "cell_type": "code",
   "execution_count": 50,
   "metadata": {},
   "outputs": [
    {
     "name": "stdout",
     "output_type": "stream",
     "text": [
      "Время предсказания модели: 0.1655s \n",
      "\n",
      "Accuracy модели Случайного леса: 0.788\n",
      "ROC-AUC модели Случайного леса: 0.870\n"
     ]
    }
   ],
   "source": [
    "start_time = time.time()\n",
    "\n",
    "predictions_forest = forest_model.predict(X_test)\n",
    "predictions_proba_forest = forest_model.predict_proba(X_test)[:,1]\n",
    "\n",
    "time_predict_forest = time.time() - start_time\n",
    "\n",
    "print(f'Время предсказания модели: {time_predict_forest:.4f}s \\n')\n",
    "\n",
    "accuracy_forest = accuracy_score(y_test, predictions_forest)\n",
    "roc_auc_forest = roc_auc_score(y_test, predictions_proba_forest)\n",
    "print(f'Accuracy модели Случайного леса: {accuracy_forest:.3f}')\n",
    "print(f'ROC-AUC модели Случайного леса: {roc_auc_forest:.3f}')"
   ]
  },
  {
   "cell_type": "code",
   "execution_count": 51,
   "metadata": {},
   "outputs": [
    {
     "data": {
      "image/png": "[encoded data removed]",
      "text/plain": [
       "<Figure size 1152x432 with 1 Axes>"
      ]
     },
     "metadata": {
      "needs_background": "light"
     },
     "output_type": "display_data"
    }
   ],
   "source": [
    "feat_importance_plot(forest_model, feature_names=features.columns)"
   ]
  },
  {
   "cell_type": "markdown",
   "metadata": {},
   "source": [
    "### Catboost"
   ]
  },
  {
   "cell_type": "code",
   "execution_count": 52,
   "metadata": {},
   "outputs": [
    {
     "name": "stderr",
     "output_type": "stream",
     "text": [
      "/tmp/ipykernel_219/405763122.py:15: ExperimentalWarning: OptunaSearchCV is experimental (supported from v0.17.0). The interface can change in the future.\n",
      "  optuna_cat = OptunaSearchCV(\n"
     ]
    },
    {
     "name": "stdout",
     "output_type": "stream",
     "text": [
      "Время тюнинга модели: 2.3 мин \n",
      "\n",
      "Лучшие параметры CatBoostClassifier: {'iterations': 267, 'learning_rate': 0.6044669120650963, 'depth': 2, 'min_data_in_leaf': 5, 'leaf_estimation_iterations': 9}\n"
     ]
    }
   ],
   "source": [
    "# Найдём лучшие гиперпараметры через кросс-валидацию optuna\n",
    "\n",
    "cat_model = CatBoostClassifier(random_state=777, verbose=0, auto_class_weights='Balanced')\n",
    "\n",
    "params_cat = {\n",
    "    'iterations':opt_distr_int(100,300),\n",
    "    'learning_rate':opt_distr_float(0.01,1.0),\n",
    "    'depth':opt_distr_int(1,10),\n",
    "    'min_data_in_leaf':opt_distr_int(1,10),\n",
    "    'leaf_estimation_iterations':opt_distr_int(1,10)\n",
    "    }\n",
    "\n",
    "start_time = time.time()\n",
    "\n",
    "optuna_cat = OptunaSearchCV(\n",
    "    cat_model, params_cat, n_trials=25,\n",
    "    random_state=777, scoring='roc_auc')\n",
    "\n",
    "optuna_cat.fit(X_train, y_train)\n",
    "\n",
    "time_tuning_cat = round((time.time() - start_time)/60, 2)\n",
    "print(f'Время тюнинга модели: {time_tuning_cat} мин \\n')\n",
    "\n",
    "cat_model = optuna_cat.best_estimator_\n",
    "\n",
    "print(f'Лучшие параметры CatBoostClassifier: {optuna_cat.best_params_}')"
   ]
  },
  {
   "cell_type": "code",
   "execution_count": 53,
   "metadata": {},
   "outputs": [
    {
     "name": "stdout",
     "output_type": "stream",
     "text": [
      "Время обучения модели: 1.1403s\n"
     ]
    }
   ],
   "source": [
    "start_time = time.time()\n",
    "\n",
    "cat_model.fit(X_train, y_train)\n",
    "\n",
    "time_learn_cat = time.time() - start_time\n",
    "\n",
    "print(f'Время обучения модели: {time_learn_cat:.4f}s')"
   ]
  },
  {
   "cell_type": "code",
   "execution_count": 54,
   "metadata": {},
   "outputs": [
    {
     "name": "stdout",
     "output_type": "stream",
     "text": [
      "Время предсказания модели: 0.0037s \n",
      "\n",
      "Accuracy модели CatBoostClassifier: 0.879\n",
      "ROC-AUC модели CatBoostClassifier: 0.947\n"
     ]
    }
   ],
   "source": [
    "start_time = time.time()\n",
    "\n",
    "predictions_cat = cat_model.predict(X_test)\n",
    "predictions_proba_cat = cat_model.predict_proba(X_test)[:,1]\n",
    "\n",
    "time_predict_cat = time.time() - start_time\n",
    "\n",
    "print(f'Время предсказания модели: {time_predict_cat:.4f}s \\n')\n",
    "\n",
    "accuracy_cat = accuracy_score(y_test, predictions_cat)\n",
    "roc_auc_cat = roc_auc_score(y_test, predictions_proba_cat)\n",
    "print(f'Accuracy модели CatBoostClassifier: {accuracy_cat:.3f}')\n",
    "print(f'ROC-AUC модели CatBoostClassifier: {roc_auc_cat:.3f}')"
   ]
  },
  {
   "cell_type": "code",
   "execution_count": 55,
   "metadata": {},
   "outputs": [
    {
     "data": {
      "image/png": "[encoded data removed]",
      "text/plain": [
       "<Figure size 576x576 with 1 Axes>"
      ]
     },
     "metadata": {
      "needs_background": "light"
     },
     "output_type": "display_data"
    }
   ],
   "source": [
    "roc_auc_plot(cat_model)"
   ]
  },
  {
   "cell_type": "code",
   "execution_count": 56,
   "metadata": {},
   "outputs": [
    {
     "data": {
      "image/png": "[encoded data removed]",
      "text/plain": [
       "<Figure size 1152x432 with 1 Axes>"
      ]
     },
     "metadata": {
      "needs_background": "light"
     },
     "output_type": "display_data"
    }
   ],
   "source": [
    "feat_importance_plot(cat_model, feature_names=features.columns)"
   ]
  },
  {
   "cell_type": "markdown",
   "metadata": {},
   "source": [
    "### LightGBM"
   ]
  },
  {
   "cell_type": "code",
   "execution_count": 57,
   "metadata": {},
   "outputs": [
    {
     "name": "stderr",
     "output_type": "stream",
     "text": [
      "/tmp/ipykernel_219/3127287127.py:13: ExperimentalWarning: OptunaSearchCV is experimental (supported from v0.17.0). The interface can change in the future.\n",
      "  optuna_lgb = OptunaSearchCV(\n"
     ]
    },
    {
     "name": "stdout",
     "output_type": "stream",
     "text": [
      "Время тюнинга модели: 2.27 мин \n",
      "\n",
      "Лучшие параметры LGBMClassifier: {'n_estimators': 216, 'learning_rate': 0.8232343677600295, 'max_depth': 2}\n"
     ]
    }
   ],
   "source": [
    "# Найдём лучшие гиперпараметры через кросс-валидацию optuna\n",
    "\n",
    "lgb_model = LGBMClassifier(random_state=777, class_weight='balanced')\n",
    "\n",
    "params_lgb = {\n",
    "    'n_estimators':opt_distr_int(100,300),\n",
    "    'learning_rate':opt_distr_float(0.01,1.0),\n",
    "    'max_depth':opt_distr_int(1,10)\n",
    "    }\n",
    "\n",
    "start_time = time.time()\n",
    "\n",
    "optuna_lgb = OptunaSearchCV(\n",
    "    lgb_model, params_lgb, n_trials=25,\n",
    "    random_state=777, scoring='roc_auc')\n",
    "\n",
    "optuna_lgb.fit(X_train, y_train)\n",
    "\n",
    "time_tuning_lgb = round((time.time() - start_time)/60, 2)\n",
    "print(f'Время тюнинга модели: {time_tuning_lgb} мин \\n')\n",
    "\n",
    "lgb_model = optuna_lgb.best_estimator_\n",
    "\n",
    "print(f'Лучшие параметры LGBMClassifier: {optuna_lgb.best_params_}')"
   ]
  },
  {
   "cell_type": "code",
   "execution_count": 58,
   "metadata": {},
   "outputs": [
    {
     "name": "stdout",
     "output_type": "stream",
     "text": [
      "Время обучения модели: 0.5914s\n"
     ]
    }
   ],
   "source": [
    "start_time = time.time()\n",
    "\n",
    "lgb_model.fit(X_train, y_train)\n",
    "\n",
    "time_learn_lgb = time.time() - start_time\n",
    "\n",
    "print(f'Время обучения модели: {time_learn_lgb:.4f}s')"
   ]
  },
  {
   "cell_type": "code",
   "execution_count": 59,
   "metadata": {},
   "outputs": [
    {
     "name": "stdout",
     "output_type": "stream",
     "text": [
      "Время предсказания модели: 0.0934s \n",
      "\n",
      "Accuracy модели LGBMClassifier: 0.864\n",
      "ROC-AUC модели LGBMClassifier: 0.936\n"
     ]
    }
   ],
   "source": [
    "start_time = time.time()\n",
    "\n",
    "predictions_lgb = lgb_model.predict(X_test)\n",
    "predictions_proba_lgb = lgb_model.predict_proba(X_test)[:,1]\n",
    "\n",
    "time_predict_lgb = time.time() - start_time\n",
    "\n",
    "print(f'Время предсказания модели: {time_predict_lgb:.4f}s \\n')\n",
    "\n",
    "accuracy_lgb = accuracy_score(y_test, predictions_lgb)\n",
    "roc_auc_lgb = roc_auc_score(y_test, predictions_proba_lgb)\n",
    "print(f'Accuracy модели LGBMClassifier: {accuracy_lgb:.3f}')\n",
    "print(f'ROC-AUC модели LGBMClassifier: {roc_auc_lgb:.3f}')"
   ]
  },
  {
   "cell_type": "code",
   "execution_count": 60,
   "metadata": {},
   "outputs": [
    {
     "data": {
      "image/png": "[encoded data removed]",
      "text/plain": [
       "<Figure size 576x576 with 1 Axes>"
      ]
     },
     "metadata": {
      "needs_background": "light"
     },
     "output_type": "display_data"
    }
   ],
   "source": [
    "roc_auc_plot(lgb_model)"
   ]
  },
  {
   "cell_type": "code",
   "execution_count": 61,
   "metadata": {},
   "outputs": [
    {
     "data": {
      "image/png": "[encoded data removed]",
      "text/plain": [
       "<Figure size 1152x432 with 1 Axes>"
      ]
     },
     "metadata": {
      "needs_background": "light"
     },
     "output_type": "display_data"
    }
   ],
   "source": [
    "feat_importance_plot(lgb_model, feature_names=features.columns)"
   ]
  },
  {
   "cell_type": "markdown",
   "metadata": {},
   "source": [
    "### Проверка на адекватность"
   ]
  },
  {
   "cell_type": "code",
   "execution_count": 62,
   "metadata": {},
   "outputs": [
    {
     "name": "stdout",
     "output_type": "stream",
     "text": [
      "Accuracy модели пустышки при использовании стратегии most_frequent: 0.735\n",
      "ROC-AUC модели пустышки при использовании стратегии most_frequent: 0.500\n",
      "\n",
      "Accuracy модели пустышки при использовании стратегии prior: 0.735\n",
      "ROC-AUC модели пустышки при использовании стратегии prior: 0.500\n",
      "\n",
      "Accuracy модели пустышки при использовании стратегии stratified: 0.610\n",
      "ROC-AUC модели пустышки при использовании стратегии stratified: 0.487\n",
      "\n",
      "Accuracy модели пустышки при использовании стратегии uniform: 0.508\n",
      "ROC-AUC модели пустышки при использовании стратегии uniform: 0.500\n",
      "\n"
     ]
    }
   ],
   "source": [
    "for strat in ['most_frequent', 'prior', 'stratified', 'uniform']:\n",
    "    model = DummyClassifier(strategy=strat, random_state=777)\n",
    "    model.fit(X_train, y_train)\n",
    "    predictions = model.predict(X_test)\n",
    "    predictions_proba = model.predict_proba(X_test)[:,1]\n",
    "    accuracy_dummy = accuracy_score(y_test, predictions)\n",
    "    roc_auc_dummy = roc_auc_score(y_test, predictions_proba)\n",
    "    print(f'Accuracy модели пустышки при использовании стратегии {strat}: {accuracy_dummy:.3f}')\n",
    "    print(f'ROC-AUC модели пустышки при использовании стратегии {strat}: {roc_auc_dummy:.3f}\\n')"
   ]
  },
  {
   "cell_type": "markdown",
   "metadata": {},
   "source": [
    "## Заключение"
   ]
  },
  {
   "cell_type": "code",
   "execution_count": 63,
   "metadata": {},
   "outputs": [
    {
     "data": {
      "text/html": [
       "<div>\n",
       "<style scoped>\n",
       "    .dataframe tbody tr th:only-of-type {\n",
       "        vertical-align: middle;\n",
       "    }\n",
       "\n",
       "    .dataframe tbody tr th {\n",
       "        vertical-align: top;\n",
       "    }\n",
       "\n",
       "    .dataframe thead th {\n",
       "        text-align: right;\n",
       "    }\n",
       "</style>\n",
       "<table border=\"1\" class=\"dataframe\">\n",
       "  <thead>\n",
       "    <tr style=\"text-align: right;\">\n",
       "      <th></th>\n",
       "      <th>Время обучения, c</th>\n",
       "      <th>Время предсказания, с</th>\n",
       "      <th>Время тюнинга, мин</th>\n",
       "      <th>Accuracy</th>\n",
       "      <th>ROC_AUC</th>\n",
       "    </tr>\n",
       "  </thead>\n",
       "  <tbody>\n",
       "    <tr>\n",
       "      <th>Логистическая регрессия</th>\n",
       "      <td>18.920675</td>\n",
       "      <td>0.094987</td>\n",
       "      <td>NaN</td>\n",
       "      <td>0.773598</td>\n",
       "      <td>0.885129</td>\n",
       "    </tr>\n",
       "    <tr>\n",
       "      <th>Дерево решений</th>\n",
       "      <td>0.016990</td>\n",
       "      <td>0.021586</td>\n",
       "      <td>0.04</td>\n",
       "      <td>0.775018</td>\n",
       "      <td>0.850633</td>\n",
       "    </tr>\n",
       "    <tr>\n",
       "      <th>Случайный лес</th>\n",
       "      <td>1.015051</td>\n",
       "      <td>0.165467</td>\n",
       "      <td>1.86</td>\n",
       "      <td>0.787793</td>\n",
       "      <td>0.869738</td>\n",
       "    </tr>\n",
       "    <tr>\n",
       "      <th>CatBoostClassifier</th>\n",
       "      <td>1.140349</td>\n",
       "      <td>0.003693</td>\n",
       "      <td>2.30</td>\n",
       "      <td>0.879347</td>\n",
       "      <td>0.946993</td>\n",
       "    </tr>\n",
       "    <tr>\n",
       "      <th>LightGBMClassifier</th>\n",
       "      <td>0.591424</td>\n",
       "      <td>0.093381</td>\n",
       "      <td>2.27</td>\n",
       "      <td>0.863733</td>\n",
       "      <td>0.935835</td>\n",
       "    </tr>\n",
       "  </tbody>\n",
       "</table>\n",
       "</div>"
      ],
      "text/plain": [
       "                         Время обучения, c  ...   ROC_AUC\n",
       "Логистическая регрессия          18.920675  ...  0.885129\n",
       "Дерево решений                    0.016990  ...  0.850633\n",
       "Случайный лес                     1.015051  ...  0.869738\n",
       "CatBoostClassifier                1.140349  ...  0.946993\n",
       "LightGBMClassifier                0.591424  ...  0.935835\n",
       "\n",
       "[5 rows x 5 columns]"
      ]
     },
     "execution_count": 63,
     "metadata": {},
     "output_type": "execute_result"
    }
   ],
   "source": [
    "# Составим таблицу полученных показателей моделей\n",
    "\n",
    "chars_logreg = [time_learn_logreg, time_predict_logreg, time_tuning_logreg, accuracy_logreg, roc_auc_logreg]\n",
    "chars_tree = [time_learn_tree, time_predict_tree, time_tuning_tree, accuracy_tree, roc_auc_tree]\n",
    "chars_forest = [time_learn_forest, time_predict_forest, time_tuning_forest, accuracy_forest, roc_auc_forest]\n",
    "chars_catb = [time_learn_cat, time_predict_cat, time_tuning_cat, accuracy_cat, roc_auc_cat]\n",
    "chars_lgb = [time_learn_lgb, time_predict_lgb, time_tuning_lgb, accuracy_lgb, roc_auc_lgb]\n",
    "\n",
    "pd.DataFrame(\n",
    "    data=[chars_logreg, chars_tree, chars_forest, chars_catb, chars_lgb],\n",
    "    columns=['Время обучения, c','Время предсказания, с', 'Время тюнинга, мин', 'Accuracy', 'ROC_AUC'],\n",
    "    index=['Логистическая регрессия', 'Дерево решений', 'Случайный лес','CatBoostClassifier', 'LightGBMClassifier']\n",
    ")"
   ]
  },
  {
   "cell_type": "markdown",
   "metadata": {},
   "source": [
    "Лучше всего показали себя модели градиентного бустинга Catboost и LightGBM. Несмотря на то, что LightGBMCLassifier обучается быстрее, чем CatBoostClassifier, предсказывает эта модель медленнее и ниже качеством.\n",
    "\n",
    "В рамках решения задачи построения прототипа ML-модели, предсказывающей отток клиентов я бы рекомендовал к использованию модель CatBoostClassifier, которая даёт наилучшие по времени и качеству предсказания при оптимальном времени настройки гиперпараметров."
   ]
  },
  {
   "cell_type": "code",
   "execution_count": null,
   "metadata": {},
   "outputs": [],
   "source": []
  }
 ],
 "metadata": {
  "ExecuteTimeLog": [
   {
    "duration": 10499,
    "start_time": "2022-07-18T11:12:41.773Z"
   },
   {
    "duration": 1931,
    "start_time": "2022-07-18T11:12:52.274Z"
   },
   {
    "duration": 4,
    "start_time": "2022-07-18T11:12:54.207Z"
   },
   {
    "duration": 323,
    "start_time": "2022-07-18T11:12:54.212Z"
   },
   {
    "duration": 87,
    "start_time": "2022-07-18T11:12:54.536Z"
   },
   {
    "duration": 16,
    "start_time": "2022-07-18T11:12:54.625Z"
   },
   {
    "duration": 12,
    "start_time": "2022-07-18T11:12:54.642Z"
   },
   {
    "duration": 11,
    "start_time": "2022-07-18T11:12:54.655Z"
   },
   {
    "duration": 7,
    "start_time": "2022-07-18T11:12:54.667Z"
   },
   {
    "duration": 8,
    "start_time": "2022-07-18T11:12:54.677Z"
   },
   {
    "duration": 5,
    "start_time": "2022-07-18T11:12:54.686Z"
   },
   {
    "duration": 9,
    "start_time": "2022-07-18T11:12:54.692Z"
   },
   {
    "duration": 7,
    "start_time": "2022-07-18T11:12:54.741Z"
   },
   {
    "duration": 8,
    "start_time": "2022-07-18T11:12:54.750Z"
   },
   {
    "duration": 17,
    "start_time": "2022-07-18T11:12:54.760Z"
   },
   {
    "duration": 25,
    "start_time": "2022-07-18T11:12:54.779Z"
   },
   {
    "duration": 35,
    "start_time": "2022-07-18T11:12:54.806Z"
   },
   {
    "duration": 14,
    "start_time": "2022-07-18T11:12:54.844Z"
   },
   {
    "duration": 25,
    "start_time": "2022-07-18T11:12:54.860Z"
   },
   {
    "duration": 7,
    "start_time": "2022-07-18T11:12:54.887Z"
   },
   {
    "duration": 48,
    "start_time": "2022-07-18T11:12:54.896Z"
   },
   {
    "duration": 562,
    "start_time": "2022-07-18T11:12:54.946Z"
   },
   {
    "duration": 588,
    "start_time": "2022-07-18T11:12:55.510Z"
   },
   {
    "duration": 484,
    "start_time": "2022-07-18T11:12:56.100Z"
   },
   {
    "duration": 838,
    "start_time": "2022-07-18T11:12:56.585Z"
   },
   {
    "duration": 835,
    "start_time": "2022-07-18T11:12:57.424Z"
   },
   {
    "duration": 608,
    "start_time": "2022-07-18T11:12:58.260Z"
   },
   {
    "duration": 796,
    "start_time": "2022-07-18T11:12:58.871Z"
   },
   {
    "duration": 290,
    "start_time": "2022-07-18T11:12:59.668Z"
   },
   {
    "duration": 24,
    "start_time": "2022-07-18T11:12:59.959Z"
   },
   {
    "duration": 11,
    "start_time": "2022-07-18T11:12:59.985Z"
   },
   {
    "duration": 6,
    "start_time": "2022-07-18T11:12:59.998Z"
   },
   {
    "duration": 34,
    "start_time": "2022-07-18T11:13:00.006Z"
   },
   {
    "duration": 7,
    "start_time": "2022-07-18T11:13:00.042Z"
   },
   {
    "duration": 39,
    "start_time": "2022-07-18T11:13:00.051Z"
   },
   {
    "duration": 4,
    "start_time": "2022-07-18T11:13:00.092Z"
   },
   {
    "duration": 30,
    "start_time": "2022-07-18T11:13:00.098Z"
   },
   {
    "duration": 147,
    "start_time": "2022-07-18T11:13:00.130Z"
   },
   {
    "duration": 18,
    "start_time": "2022-07-18T11:13:00.279Z"
   },
   {
    "duration": 18046,
    "start_time": "2022-07-18T11:13:00.299Z"
   },
   {
    "duration": 97,
    "start_time": "2022-07-18T11:13:18.346Z"
   },
   {
    "duration": 490,
    "start_time": "2022-07-18T11:13:18.445Z"
   },
   {
    "duration": 2514,
    "start_time": "2022-07-18T11:13:18.937Z"
   },
   {
    "duration": 20,
    "start_time": "2022-07-18T11:13:21.453Z"
   },
   {
    "duration": 11,
    "start_time": "2022-07-18T11:13:21.475Z"
   },
   {
    "duration": 229,
    "start_time": "2022-07-18T11:13:21.487Z"
   },
   {
    "duration": 274,
    "start_time": "2022-07-18T11:13:21.717Z"
   },
   {
    "duration": 112907,
    "start_time": "2022-07-18T11:13:21.993Z"
   },
   {
    "duration": 1145,
    "start_time": "2022-07-18T11:15:14.902Z"
   },
   {
    "duration": 176,
    "start_time": "2022-07-18T11:15:16.049Z"
   },
   {
    "duration": 309,
    "start_time": "2022-07-18T11:15:16.227Z"
   },
   {
    "duration": 141909,
    "start_time": "2022-07-18T11:15:16.538Z"
   },
   {
    "duration": 1068,
    "start_time": "2022-07-18T11:17:38.449Z"
   },
   {
    "duration": 12,
    "start_time": "2022-07-18T11:17:39.519Z"
   },
   {
    "duration": 208,
    "start_time": "2022-07-18T11:17:39.532Z"
   },
   {
    "duration": 265,
    "start_time": "2022-07-18T11:17:39.741Z"
   },
   {
    "duration": 148241,
    "start_time": "2022-07-18T11:17:40.008Z"
   },
   {
    "duration": 401,
    "start_time": "2022-07-18T11:20:08.250Z"
   },
   {
    "duration": 203,
    "start_time": "2022-07-18T11:20:08.652Z"
   },
   {
    "duration": 321,
    "start_time": "2022-07-18T11:20:08.857Z"
   },
   {
    "duration": 373,
    "start_time": "2022-07-18T11:20:09.179Z"
   },
   {
    "duration": 19,
    "start_time": "2022-07-18T11:20:09.554Z"
   },
   {
    "duration": 19,
    "start_time": "2022-07-18T11:20:09.575Z"
   },
   {
    "duration": 3157,
    "start_time": "2022-07-18T11:25:17.679Z"
   },
   {
    "duration": 2997,
    "start_time": "2022-07-18T11:25:32.415Z"
   },
   {
    "duration": 11,
    "start_time": "2022-07-18T11:25:52.848Z"
   },
   {
    "duration": 610,
    "start_time": "2022-07-18T11:25:55.264Z"
   },
   {
    "duration": 3083,
    "start_time": "2022-07-18T11:26:08.724Z"
   },
   {
    "duration": 142632,
    "start_time": "2022-07-18T11:26:31.425Z"
   },
   {
    "duration": 828,
    "start_time": "2022-07-18T11:28:54.059Z"
   },
   {
    "duration": 9,
    "start_time": "2022-07-18T11:28:54.889Z"
   },
   {
    "duration": 4707,
    "start_time": "2022-07-18T11:29:09.268Z"
   },
   {
    "duration": 1802,
    "start_time": "2022-07-18T11:29:13.978Z"
   },
   {
    "duration": 4,
    "start_time": "2022-07-18T11:29:15.782Z"
   },
   {
    "duration": 107,
    "start_time": "2022-07-18T11:29:15.788Z"
   },
   {
    "duration": 95,
    "start_time": "2022-07-18T11:29:15.897Z"
   },
   {
    "duration": 4,
    "start_time": "2022-07-18T11:29:15.995Z"
   },
   {
    "duration": 17,
    "start_time": "2022-07-18T11:29:16.001Z"
   },
   {
    "duration": 7,
    "start_time": "2022-07-18T11:29:16.039Z"
   },
   {
    "duration": 7,
    "start_time": "2022-07-18T11:29:16.048Z"
   },
   {
    "duration": 10,
    "start_time": "2022-07-18T11:29:16.058Z"
   },
   {
    "duration": 4,
    "start_time": "2022-07-18T11:29:16.070Z"
   },
   {
    "duration": 10,
    "start_time": "2022-07-18T11:29:16.076Z"
   },
   {
    "duration": 8,
    "start_time": "2022-07-18T11:29:16.088Z"
   },
   {
    "duration": 43,
    "start_time": "2022-07-18T11:29:16.098Z"
   },
   {
    "duration": 17,
    "start_time": "2022-07-18T11:29:16.143Z"
   },
   {
    "duration": 26,
    "start_time": "2022-07-18T11:29:16.162Z"
   },
   {
    "duration": 7,
    "start_time": "2022-07-18T11:29:16.190Z"
   },
   {
    "duration": 18,
    "start_time": "2022-07-18T11:29:16.198Z"
   },
   {
    "duration": 26,
    "start_time": "2022-07-18T11:29:16.241Z"
   },
   {
    "duration": 8,
    "start_time": "2022-07-18T11:29:16.269Z"
   },
   {
    "duration": 26,
    "start_time": "2022-07-18T11:29:16.278Z"
   },
   {
    "duration": 560,
    "start_time": "2022-07-18T11:29:16.306Z"
   },
   {
    "duration": 607,
    "start_time": "2022-07-18T11:29:16.867Z"
   },
   {
    "duration": 542,
    "start_time": "2022-07-18T11:29:17.476Z"
   },
   {
    "duration": 799,
    "start_time": "2022-07-18T11:29:18.020Z"
   },
   {
    "duration": 758,
    "start_time": "2022-07-18T11:29:18.821Z"
   },
   {
    "duration": 624,
    "start_time": "2022-07-18T11:29:19.581Z"
   },
   {
    "duration": 768,
    "start_time": "2022-07-18T11:29:20.209Z"
   },
   {
    "duration": 320,
    "start_time": "2022-07-18T11:29:20.979Z"
   },
   {
    "duration": 45,
    "start_time": "2022-07-18T11:29:21.301Z"
   },
   {
    "duration": 10,
    "start_time": "2022-07-18T11:29:21.348Z"
   },
   {
    "duration": 6,
    "start_time": "2022-07-18T11:29:21.359Z"
   },
   {
    "duration": 9,
    "start_time": "2022-07-18T11:29:21.367Z"
   },
   {
    "duration": 6,
    "start_time": "2022-07-18T11:29:21.378Z"
   },
   {
    "duration": 31,
    "start_time": "2022-07-18T11:29:21.386Z"
   },
   {
    "duration": 24,
    "start_time": "2022-07-18T11:29:21.418Z"
   },
   {
    "duration": 12,
    "start_time": "2022-07-18T11:29:21.444Z"
   },
   {
    "duration": 6,
    "start_time": "2022-07-18T11:29:21.457Z"
   },
   {
    "duration": 12,
    "start_time": "2022-07-18T11:29:21.464Z"
   },
   {
    "duration": 19769,
    "start_time": "2022-07-18T11:29:21.478Z"
   },
   {
    "duration": 105,
    "start_time": "2022-07-18T11:29:41.248Z"
   },
   {
    "duration": 393,
    "start_time": "2022-07-18T11:29:41.441Z"
   },
   {
    "duration": 2566,
    "start_time": "2022-07-18T11:29:41.836Z"
   },
   {
    "duration": 36,
    "start_time": "2022-07-18T11:29:44.404Z"
   },
   {
    "duration": 18,
    "start_time": "2022-07-18T11:29:44.443Z"
   },
   {
    "duration": 243,
    "start_time": "2022-07-18T11:29:44.462Z"
   },
   {
    "duration": 259,
    "start_time": "2022-07-18T11:29:44.706Z"
   },
   {
    "duration": 115128,
    "start_time": "2022-07-18T11:29:44.967Z"
   },
   {
    "duration": 1095,
    "start_time": "2022-07-18T11:31:40.097Z"
   },
   {
    "duration": 182,
    "start_time": "2022-07-18T11:31:41.194Z"
   },
   {
    "duration": 321,
    "start_time": "2022-07-18T11:31:41.378Z"
   },
   {
    "duration": 139528,
    "start_time": "2022-07-18T11:31:41.702Z"
   },
   {
    "duration": 1050,
    "start_time": "2022-07-18T11:34:01.232Z"
   },
   {
    "duration": 11,
    "start_time": "2022-07-18T11:34:02.283Z"
   },
   {
    "duration": 239,
    "start_time": "2022-07-18T11:34:02.295Z"
   },
   {
    "duration": 276,
    "start_time": "2022-07-18T11:34:02.539Z"
   },
   {
    "duration": 134941,
    "start_time": "2022-07-18T11:34:02.817Z"
   },
   {
    "duration": 591,
    "start_time": "2022-07-18T11:36:17.760Z"
   },
   {
    "duration": 98,
    "start_time": "2022-07-18T11:36:18.353Z"
   },
   {
    "duration": 323,
    "start_time": "2022-07-18T11:36:18.453Z"
   },
   {
    "duration": 292,
    "start_time": "2022-07-18T11:36:18.779Z"
   },
   {
    "duration": 19,
    "start_time": "2022-07-18T11:36:19.073Z"
   },
   {
    "duration": 18,
    "start_time": "2022-07-18T11:36:19.094Z"
   },
   {
    "duration": 27,
    "start_time": "2022-07-18T12:42:52.281Z"
   },
   {
    "duration": 12,
    "start_time": "2022-07-18T12:42:52.855Z"
   },
   {
    "duration": 7,
    "start_time": "2022-07-18T12:42:54.764Z"
   },
   {
    "duration": 6,
    "start_time": "2022-07-18T12:42:54.986Z"
   },
   {
    "duration": 7,
    "start_time": "2022-07-18T12:43:07.468Z"
   },
   {
    "duration": 33,
    "start_time": "2022-07-18T12:43:09.034Z"
   },
   {
    "duration": 5,
    "start_time": "2022-07-18T12:43:09.687Z"
   },
   {
    "duration": 8,
    "start_time": "2022-07-18T12:43:09.891Z"
   },
   {
    "duration": 12982,
    "start_time": "2022-07-18T12:43:14.863Z"
   },
   {
    "duration": 94,
    "start_time": "2022-07-18T12:43:27.847Z"
   },
   {
    "duration": 2440,
    "start_time": "2022-07-18T12:43:27.947Z"
   },
   {
    "duration": 20,
    "start_time": "2022-07-18T12:43:30.390Z"
   },
   {
    "duration": 12,
    "start_time": "2022-07-18T12:43:35.803Z"
   },
   {
    "duration": 118942,
    "start_time": "2022-07-18T12:43:40.705Z"
   },
   {
    "duration": 1080,
    "start_time": "2022-07-18T12:45:39.648Z"
   },
   {
    "duration": 196,
    "start_time": "2022-07-18T12:45:40.730Z"
   },
   {
    "duration": 137344,
    "start_time": "2022-07-18T12:45:40.928Z"
   },
   {
    "duration": 885,
    "start_time": "2022-07-18T12:47:58.274Z"
   },
   {
    "duration": 10,
    "start_time": "2022-07-18T12:47:59.160Z"
   },
   {
    "duration": 19,
    "start_time": "2022-07-18T12:48:48.768Z"
   },
   {
    "duration": 4776,
    "start_time": "2022-07-18T12:49:21.255Z"
   },
   {
    "duration": 1841,
    "start_time": "2022-07-18T12:49:26.033Z"
   },
   {
    "duration": 4,
    "start_time": "2022-07-18T12:49:27.877Z"
   },
   {
    "duration": 122,
    "start_time": "2022-07-18T12:49:27.884Z"
   },
   {
    "duration": 85,
    "start_time": "2022-07-18T12:49:28.008Z"
   },
   {
    "duration": 4,
    "start_time": "2022-07-18T12:49:28.094Z"
   },
   {
    "duration": 15,
    "start_time": "2022-07-18T12:49:28.100Z"
   },
   {
    "duration": 24,
    "start_time": "2022-07-18T12:49:28.117Z"
   },
   {
    "duration": 7,
    "start_time": "2022-07-18T12:49:28.143Z"
   },
   {
    "duration": 14,
    "start_time": "2022-07-18T12:49:28.152Z"
   },
   {
    "duration": 5,
    "start_time": "2022-07-18T12:49:28.168Z"
   },
   {
    "duration": 24,
    "start_time": "2022-07-18T12:49:28.174Z"
   },
   {
    "duration": 9,
    "start_time": "2022-07-18T12:49:28.199Z"
   },
   {
    "duration": 26,
    "start_time": "2022-07-18T12:49:28.210Z"
   },
   {
    "duration": 19,
    "start_time": "2022-07-18T12:49:28.239Z"
   },
   {
    "duration": 28,
    "start_time": "2022-07-18T12:49:28.260Z"
   },
   {
    "duration": 9,
    "start_time": "2022-07-18T12:49:28.289Z"
   },
   {
    "duration": 16,
    "start_time": "2022-07-18T12:49:28.299Z"
   },
   {
    "duration": 24,
    "start_time": "2022-07-18T12:49:28.340Z"
   },
   {
    "duration": 8,
    "start_time": "2022-07-18T12:49:28.366Z"
   },
   {
    "duration": 25,
    "start_time": "2022-07-18T12:49:28.375Z"
   },
   {
    "duration": 557,
    "start_time": "2022-07-18T12:49:28.402Z"
   },
   {
    "duration": 580,
    "start_time": "2022-07-18T12:49:28.960Z"
   },
   {
    "duration": 482,
    "start_time": "2022-07-18T12:49:29.542Z"
   },
   {
    "duration": 821,
    "start_time": "2022-07-18T12:49:30.026Z"
   },
   {
    "duration": 799,
    "start_time": "2022-07-18T12:49:30.849Z"
   },
   {
    "duration": 605,
    "start_time": "2022-07-18T12:49:31.650Z"
   },
   {
    "duration": 795,
    "start_time": "2022-07-18T12:49:32.259Z"
   },
   {
    "duration": 259,
    "start_time": "2022-07-18T12:49:33.056Z"
   },
   {
    "duration": 42,
    "start_time": "2022-07-18T12:49:33.317Z"
   },
   {
    "duration": 12,
    "start_time": "2022-07-18T12:49:33.361Z"
   },
   {
    "duration": 13,
    "start_time": "2022-07-18T12:49:33.375Z"
   },
   {
    "duration": 19,
    "start_time": "2022-07-18T12:49:33.390Z"
   },
   {
    "duration": 9,
    "start_time": "2022-07-18T12:49:33.411Z"
   },
   {
    "duration": 42,
    "start_time": "2022-07-18T12:49:33.422Z"
   },
   {
    "duration": 5,
    "start_time": "2022-07-18T12:49:33.465Z"
   },
   {
    "duration": 11,
    "start_time": "2022-07-18T12:49:33.471Z"
   },
   {
    "duration": 5,
    "start_time": "2022-07-18T12:49:33.484Z"
   },
   {
    "duration": 6,
    "start_time": "2022-07-18T12:49:33.490Z"
   },
   {
    "duration": 20047,
    "start_time": "2022-07-18T12:49:33.498Z"
   },
   {
    "duration": 96,
    "start_time": "2022-07-18T12:49:53.547Z"
   },
   {
    "duration": 490,
    "start_time": "2022-07-18T12:49:53.645Z"
   },
   {
    "duration": 2612,
    "start_time": "2022-07-18T12:49:54.140Z"
   },
   {
    "duration": 21,
    "start_time": "2022-07-18T12:49:56.754Z"
   },
   {
    "duration": 14,
    "start_time": "2022-07-18T12:49:56.776Z"
   },
   {
    "duration": 266,
    "start_time": "2022-07-18T12:49:56.792Z"
   },
   {
    "duration": 272,
    "start_time": "2022-07-18T12:49:57.060Z"
   },
   {
    "duration": 110955,
    "start_time": "2022-07-18T12:49:57.333Z"
   },
   {
    "duration": 1016,
    "start_time": "2022-07-18T12:51:48.290Z"
   },
   {
    "duration": 175,
    "start_time": "2022-07-18T12:51:49.307Z"
   },
   {
    "duration": 291,
    "start_time": "2022-07-18T12:51:49.484Z"
   },
   {
    "duration": 80056,
    "start_time": "2022-07-18T12:51:49.777Z"
   },
   {
    "duration": 0,
    "start_time": "2022-07-18T12:53:09.835Z"
   },
   {
    "duration": 0,
    "start_time": "2022-07-18T12:53:09.836Z"
   },
   {
    "duration": 0,
    "start_time": "2022-07-18T12:53:09.837Z"
   },
   {
    "duration": 0,
    "start_time": "2022-07-18T12:53:09.838Z"
   },
   {
    "duration": 0,
    "start_time": "2022-07-18T12:53:09.839Z"
   },
   {
    "duration": 0,
    "start_time": "2022-07-18T12:53:09.841Z"
   },
   {
    "duration": 0,
    "start_time": "2022-07-18T12:53:09.841Z"
   },
   {
    "duration": 0,
    "start_time": "2022-07-18T12:53:09.843Z"
   },
   {
    "duration": 1,
    "start_time": "2022-07-18T12:53:09.843Z"
   },
   {
    "duration": 0,
    "start_time": "2022-07-18T12:53:09.845Z"
   },
   {
    "duration": 0,
    "start_time": "2022-07-18T12:53:09.846Z"
   },
   {
    "duration": 4714,
    "start_time": "2022-07-18T12:53:13.149Z"
   },
   {
    "duration": 1767,
    "start_time": "2022-07-18T12:53:17.866Z"
   },
   {
    "duration": 6,
    "start_time": "2022-07-18T12:53:19.634Z"
   },
   {
    "duration": 112,
    "start_time": "2022-07-18T12:53:19.642Z"
   },
   {
    "duration": 101,
    "start_time": "2022-07-18T12:53:19.756Z"
   },
   {
    "duration": 4,
    "start_time": "2022-07-18T12:53:19.858Z"
   },
   {
    "duration": 12,
    "start_time": "2022-07-18T12:53:19.863Z"
   },
   {
    "duration": 8,
    "start_time": "2022-07-18T12:53:19.877Z"
   },
   {
    "duration": 11,
    "start_time": "2022-07-18T12:53:19.887Z"
   },
   {
    "duration": 16,
    "start_time": "2022-07-18T12:53:19.899Z"
   },
   {
    "duration": 8,
    "start_time": "2022-07-18T12:53:19.939Z"
   },
   {
    "duration": 10,
    "start_time": "2022-07-18T12:53:19.949Z"
   },
   {
    "duration": 17,
    "start_time": "2022-07-18T12:53:19.961Z"
   },
   {
    "duration": 6,
    "start_time": "2022-07-18T12:53:19.981Z"
   },
   {
    "duration": 20,
    "start_time": "2022-07-18T12:53:19.989Z"
   },
   {
    "duration": 36,
    "start_time": "2022-07-18T12:53:20.011Z"
   },
   {
    "duration": 7,
    "start_time": "2022-07-18T12:53:20.049Z"
   },
   {
    "duration": 14,
    "start_time": "2022-07-18T12:53:20.058Z"
   },
   {
    "duration": 23,
    "start_time": "2022-07-18T12:53:20.074Z"
   },
   {
    "duration": 8,
    "start_time": "2022-07-18T12:53:20.099Z"
   },
   {
    "duration": 52,
    "start_time": "2022-07-18T12:53:20.108Z"
   },
   {
    "duration": 511,
    "start_time": "2022-07-18T12:53:20.161Z"
   },
   {
    "duration": 592,
    "start_time": "2022-07-18T12:53:20.673Z"
   },
   {
    "duration": 501,
    "start_time": "2022-07-18T12:53:21.267Z"
   },
   {
    "duration": 821,
    "start_time": "2022-07-18T12:53:21.770Z"
   },
   {
    "duration": 814,
    "start_time": "2022-07-18T12:53:22.592Z"
   },
   {
    "duration": 674,
    "start_time": "2022-07-18T12:53:23.408Z"
   },
   {
    "duration": 782,
    "start_time": "2022-07-18T12:53:24.084Z"
   },
   {
    "duration": 350,
    "start_time": "2022-07-18T12:53:24.868Z"
   },
   {
    "duration": 38,
    "start_time": "2022-07-18T12:53:25.220Z"
   },
   {
    "duration": 11,
    "start_time": "2022-07-18T12:53:25.260Z"
   },
   {
    "duration": 25,
    "start_time": "2022-07-18T12:53:25.273Z"
   },
   {
    "duration": 11,
    "start_time": "2022-07-18T12:53:25.300Z"
   },
   {
    "duration": 9,
    "start_time": "2022-07-18T12:53:25.314Z"
   },
   {
    "duration": 45,
    "start_time": "2022-07-18T12:53:25.325Z"
   },
   {
    "duration": 4,
    "start_time": "2022-07-18T12:53:25.372Z"
   },
   {
    "duration": 16,
    "start_time": "2022-07-18T12:53:25.378Z"
   },
   {
    "duration": 8,
    "start_time": "2022-07-18T12:53:25.396Z"
   },
   {
    "duration": 5,
    "start_time": "2022-07-18T12:53:25.406Z"
   },
   {
    "duration": 19031,
    "start_time": "2022-07-18T12:53:25.413Z"
   },
   {
    "duration": 190,
    "start_time": "2022-07-18T12:53:44.451Z"
   },
   {
    "duration": 408,
    "start_time": "2022-07-18T12:53:44.643Z"
   },
   {
    "duration": 2640,
    "start_time": "2022-07-18T12:53:45.053Z"
   },
   {
    "duration": 20,
    "start_time": "2022-07-18T12:53:47.695Z"
   },
   {
    "duration": 31,
    "start_time": "2022-07-18T12:53:47.716Z"
   },
   {
    "duration": 265,
    "start_time": "2022-07-18T12:53:47.749Z"
   },
   {
    "duration": 263,
    "start_time": "2022-07-18T12:53:48.016Z"
   },
   {
    "duration": 111898,
    "start_time": "2022-07-18T12:53:48.281Z"
   },
   {
    "duration": 1018,
    "start_time": "2022-07-18T12:55:40.181Z"
   },
   {
    "duration": 173,
    "start_time": "2022-07-18T12:55:41.201Z"
   },
   {
    "duration": 298,
    "start_time": "2022-07-18T12:55:41.375Z"
   },
   {
    "duration": 137711,
    "start_time": "2022-07-18T12:55:41.675Z"
   },
   {
    "duration": 1144,
    "start_time": "2022-07-18T12:57:59.387Z"
   },
   {
    "duration": 11,
    "start_time": "2022-07-18T12:58:00.532Z"
   },
   {
    "duration": 207,
    "start_time": "2022-07-18T12:58:00.545Z"
   },
   {
    "duration": 275,
    "start_time": "2022-07-18T12:58:00.754Z"
   },
   {
    "duration": 136217,
    "start_time": "2022-07-18T12:58:01.031Z"
   },
   {
    "duration": 596,
    "start_time": "2022-07-18T13:00:17.250Z"
   },
   {
    "duration": 103,
    "start_time": "2022-07-18T13:00:17.847Z"
   },
   {
    "duration": 378,
    "start_time": "2022-07-18T13:00:17.954Z"
   },
   {
    "duration": 268,
    "start_time": "2022-07-18T13:00:18.340Z"
   },
   {
    "duration": 30,
    "start_time": "2022-07-18T13:00:18.610Z"
   },
   {
    "duration": 21,
    "start_time": "2022-07-18T13:00:18.642Z"
   }
  ],
  "kernelspec": {
   "display_name": "Python 3 (ipykernel)",
   "language": "python",
   "name": "python3"
  },
  "language_info": {
   "codemirror_mode": {
    "name": "ipython",
    "version": 3
   },
   "file_extension": ".py",
   "mimetype": "text/x-python",
   "name": "python",
   "nbconvert_exporter": "python",
   "pygments_lexer": "ipython3",
   "version": "3.9.12"
  },
  "toc": {
   "base_numbering": 1,
   "nav_menu": {},
   "number_sections": true,
   "sideBar": true,
   "skip_h1_title": true,
   "title_cell": "Table of Contents",
   "title_sidebar": "Contents",
   "toc_cell": false,
   "toc_position": {},
   "toc_section_display": true,
   "toc_window_display": false
  }
 },
 "nbformat": 4,
 "nbformat_minor": 2
}
