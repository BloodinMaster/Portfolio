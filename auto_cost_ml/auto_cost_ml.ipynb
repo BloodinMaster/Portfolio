{
  "cells": [
    {
      "cell_type": "markdown",
      "metadata": {
        "id": "glN6NmituS30"
      },
      "source": [
        "# Определение стоимости автомобилей"
      ]
    },
    {
      "cell_type": "markdown",
      "metadata": {
        "id": "1PkJCyc5uS38"
      },
      "source": [
        "## Описание проекта\n",
        "\n",
        "Сервис по продаже автомобилей с пробегом разрабатывает приложение для привлечения новых клиентов. В нём можно быстро узнать рыночную стоимость своего автомобиля. Доступны синтетические исторические данные: технические характеристики, комплектации и цены автомобилей. Необходимо построить модель для определения стоимости. \n",
        "\n",
        "Заказчику важны:\n",
        "\n",
        "- качество предсказания\n",
        "- скорость предсказания\n",
        "- время обучения\n",
        "\n",
        "### Цель проекта\n",
        "\n",
        "Построение модели машинного обучения для определения стоимости автомобиля\n",
        "\n"
      ]
    },
    {
      "cell_type": "markdown",
      "metadata": {
        "id": "bjqlBP1guS39"
      },
      "source": [
        "### Подготовка и изучение исходных данных"
      ]
    },
    {
      "cell_type": "code",
      "source": [
        "!pip install optuna --quiet\n",
        "!pip install catboost --quiet\n",
        "!pip install lightgbm --quiet"
      ],
      "metadata": {
        "id": "I4KrQnHhuZm9"
      },
      "execution_count": 1,
      "outputs": []
    },
    {
      "cell_type": "code",
      "execution_count": 2,
      "metadata": {
        "id": "4xYsJIR3uS3-"
      },
      "outputs": [],
      "source": [
        "# Импорт библиотек\n",
        "import numpy as np\n",
        "import pandas as pd\n",
        "import optuna\n",
        "import time\n",
        "import matplotlib.pyplot as plt\n",
        "\n",
        "from catboost import CatBoostRegressor\n",
        "from lightgbm import LGBMRegressor\n",
        "\n",
        "from optuna.integration import OptunaSearchCV\n",
        "\n",
        "from sklearn.metrics import mean_squared_error\n",
        "from sklearn.preprocessing import OrdinalEncoder\n",
        "from sklearn.model_selection import train_test_split\n",
        "\n",
        "from sklearn.linear_model import LinearRegression\n",
        "from sklearn.tree import DecisionTreeRegressor\n",
        "from sklearn.dummy import DummyRegressor\n",
        "\n",
        "from google.colab import drive"
      ]
    },
    {
      "cell_type": "code",
      "execution_count": 3,
      "metadata": {
        "id": "WyS5RF2cuS4B",
        "colab": {
          "base_uri": "https://localhost:8080/"
        },
        "outputId": "5706db7c-f3f6-4da1-a478-fa8359f2d97a"
      },
      "outputs": [
        {
          "output_type": "stream",
          "name": "stdout",
          "text": [
            "Drive already mounted at /content/drive; to attempt to forcibly remount, call drive.mount(\"/content/drive\", force_remount=True).\n"
          ]
        }
      ],
      "source": [
        "encoder = OrdinalEncoder()\n",
        "opt_distr_int = optuna.distributions.IntUniformDistribution\n",
        "opt_distr_float = optuna.distributions.UniformDistribution\n",
        "\n",
        "# Установим необходимые параметры\n",
        "pd.options.mode.chained_assignment = None\n",
        "pd.set_option('display.max_columns', 0)\n",
        "optuna.logging.set_verbosity(optuna.logging.WARNING)\n",
        "plt.rcParams['figure.figsize'] = [16, 7]\n",
        "plt.rcParams['axes.grid'] = True\n",
        "\n",
        "drive.mount('/content/drive')"
      ]
    },
    {
      "cell_type": "code",
      "execution_count": 4,
      "metadata": {
        "colab": {
          "base_uri": "https://localhost:8080/",
          "height": 835
        },
        "id": "Hg-JUrSWuS4C",
        "outputId": "2c6e7c17-cea9-480c-e6db-ff7c95191c54"
      },
      "outputs": [
        {
          "output_type": "execute_result",
          "data": {
            "text/plain": [
              "                DateCrawled  Price  ... PostalCode             LastSeen\n",
              "0       2016-03-24 11:52:17    480  ...      70435  2016-04-07 03:16:57\n",
              "1       2016-03-24 10:58:45  18300  ...      66954  2016-04-07 01:46:50\n",
              "2       2016-03-14 12:52:21   9800  ...      90480  2016-04-05 12:47:46\n",
              "3       2016-03-17 16:54:04   1500  ...      91074  2016-03-17 17:40:17\n",
              "4       2016-03-31 17:25:20   3600  ...      60437  2016-04-06 10:17:21\n",
              "...                     ...    ...  ...        ...                  ...\n",
              "354364  2016-03-21 09:50:58      0  ...       2694  2016-03-21 10:42:49\n",
              "354365  2016-03-14 17:48:27   2200  ...      39576  2016-04-06 00:46:52\n",
              "354366  2016-03-05 19:56:21   1199  ...      26135  2016-03-11 18:17:12\n",
              "354367  2016-03-19 18:57:12   9200  ...      87439  2016-04-07 07:15:26\n",
              "354368  2016-03-20 19:41:08   3400  ...      40764  2016-03-24 12:45:21\n",
              "\n",
              "[354369 rows x 16 columns]"
            ],
            "text/html": [
              "\n",
              "  <div id=\"df-214a7050-3fcf-47ef-8339-9d3cacd235dd\">\n",
              "    <div class=\"colab-df-container\">\n",
              "      <div>\n",
              "<style scoped>\n",
              "    .dataframe tbody tr th:only-of-type {\n",
              "        vertical-align: middle;\n",
              "    }\n",
              "\n",
              "    .dataframe tbody tr th {\n",
              "        vertical-align: top;\n",
              "    }\n",
              "\n",
              "    .dataframe thead th {\n",
              "        text-align: right;\n",
              "    }\n",
              "</style>\n",
              "<table border=\"1\" class=\"dataframe\">\n",
              "  <thead>\n",
              "    <tr style=\"text-align: right;\">\n",
              "      <th></th>\n",
              "      <th>DateCrawled</th>\n",
              "      <th>Price</th>\n",
              "      <th>VehicleType</th>\n",
              "      <th>RegistrationYear</th>\n",
              "      <th>Gearbox</th>\n",
              "      <th>Power</th>\n",
              "      <th>Model</th>\n",
              "      <th>Kilometer</th>\n",
              "      <th>RegistrationMonth</th>\n",
              "      <th>FuelType</th>\n",
              "      <th>Brand</th>\n",
              "      <th>NotRepaired</th>\n",
              "      <th>DateCreated</th>\n",
              "      <th>NumberOfPictures</th>\n",
              "      <th>PostalCode</th>\n",
              "      <th>LastSeen</th>\n",
              "    </tr>\n",
              "  </thead>\n",
              "  <tbody>\n",
              "    <tr>\n",
              "      <th>0</th>\n",
              "      <td>2016-03-24 11:52:17</td>\n",
              "      <td>480</td>\n",
              "      <td>NaN</td>\n",
              "      <td>1993</td>\n",
              "      <td>manual</td>\n",
              "      <td>0</td>\n",
              "      <td>golf</td>\n",
              "      <td>150000</td>\n",
              "      <td>0</td>\n",
              "      <td>petrol</td>\n",
              "      <td>volkswagen</td>\n",
              "      <td>NaN</td>\n",
              "      <td>2016-03-24 00:00:00</td>\n",
              "      <td>0</td>\n",
              "      <td>70435</td>\n",
              "      <td>2016-04-07 03:16:57</td>\n",
              "    </tr>\n",
              "    <tr>\n",
              "      <th>1</th>\n",
              "      <td>2016-03-24 10:58:45</td>\n",
              "      <td>18300</td>\n",
              "      <td>coupe</td>\n",
              "      <td>2011</td>\n",
              "      <td>manual</td>\n",
              "      <td>190</td>\n",
              "      <td>NaN</td>\n",
              "      <td>125000</td>\n",
              "      <td>5</td>\n",
              "      <td>gasoline</td>\n",
              "      <td>audi</td>\n",
              "      <td>yes</td>\n",
              "      <td>2016-03-24 00:00:00</td>\n",
              "      <td>0</td>\n",
              "      <td>66954</td>\n",
              "      <td>2016-04-07 01:46:50</td>\n",
              "    </tr>\n",
              "    <tr>\n",
              "      <th>2</th>\n",
              "      <td>2016-03-14 12:52:21</td>\n",
              "      <td>9800</td>\n",
              "      <td>suv</td>\n",
              "      <td>2004</td>\n",
              "      <td>auto</td>\n",
              "      <td>163</td>\n",
              "      <td>grand</td>\n",
              "      <td>125000</td>\n",
              "      <td>8</td>\n",
              "      <td>gasoline</td>\n",
              "      <td>jeep</td>\n",
              "      <td>NaN</td>\n",
              "      <td>2016-03-14 00:00:00</td>\n",
              "      <td>0</td>\n",
              "      <td>90480</td>\n",
              "      <td>2016-04-05 12:47:46</td>\n",
              "    </tr>\n",
              "    <tr>\n",
              "      <th>3</th>\n",
              "      <td>2016-03-17 16:54:04</td>\n",
              "      <td>1500</td>\n",
              "      <td>small</td>\n",
              "      <td>2001</td>\n",
              "      <td>manual</td>\n",
              "      <td>75</td>\n",
              "      <td>golf</td>\n",
              "      <td>150000</td>\n",
              "      <td>6</td>\n",
              "      <td>petrol</td>\n",
              "      <td>volkswagen</td>\n",
              "      <td>no</td>\n",
              "      <td>2016-03-17 00:00:00</td>\n",
              "      <td>0</td>\n",
              "      <td>91074</td>\n",
              "      <td>2016-03-17 17:40:17</td>\n",
              "    </tr>\n",
              "    <tr>\n",
              "      <th>4</th>\n",
              "      <td>2016-03-31 17:25:20</td>\n",
              "      <td>3600</td>\n",
              "      <td>small</td>\n",
              "      <td>2008</td>\n",
              "      <td>manual</td>\n",
              "      <td>69</td>\n",
              "      <td>fabia</td>\n",
              "      <td>90000</td>\n",
              "      <td>7</td>\n",
              "      <td>gasoline</td>\n",
              "      <td>skoda</td>\n",
              "      <td>no</td>\n",
              "      <td>2016-03-31 00:00:00</td>\n",
              "      <td>0</td>\n",
              "      <td>60437</td>\n",
              "      <td>2016-04-06 10:17:21</td>\n",
              "    </tr>\n",
              "    <tr>\n",
              "      <th>...</th>\n",
              "      <td>...</td>\n",
              "      <td>...</td>\n",
              "      <td>...</td>\n",
              "      <td>...</td>\n",
              "      <td>...</td>\n",
              "      <td>...</td>\n",
              "      <td>...</td>\n",
              "      <td>...</td>\n",
              "      <td>...</td>\n",
              "      <td>...</td>\n",
              "      <td>...</td>\n",
              "      <td>...</td>\n",
              "      <td>...</td>\n",
              "      <td>...</td>\n",
              "      <td>...</td>\n",
              "      <td>...</td>\n",
              "    </tr>\n",
              "    <tr>\n",
              "      <th>354364</th>\n",
              "      <td>2016-03-21 09:50:58</td>\n",
              "      <td>0</td>\n",
              "      <td>NaN</td>\n",
              "      <td>2005</td>\n",
              "      <td>manual</td>\n",
              "      <td>0</td>\n",
              "      <td>colt</td>\n",
              "      <td>150000</td>\n",
              "      <td>7</td>\n",
              "      <td>petrol</td>\n",
              "      <td>mitsubishi</td>\n",
              "      <td>yes</td>\n",
              "      <td>2016-03-21 00:00:00</td>\n",
              "      <td>0</td>\n",
              "      <td>2694</td>\n",
              "      <td>2016-03-21 10:42:49</td>\n",
              "    </tr>\n",
              "    <tr>\n",
              "      <th>354365</th>\n",
              "      <td>2016-03-14 17:48:27</td>\n",
              "      <td>2200</td>\n",
              "      <td>NaN</td>\n",
              "      <td>2005</td>\n",
              "      <td>NaN</td>\n",
              "      <td>0</td>\n",
              "      <td>NaN</td>\n",
              "      <td>20000</td>\n",
              "      <td>1</td>\n",
              "      <td>NaN</td>\n",
              "      <td>sonstige_autos</td>\n",
              "      <td>NaN</td>\n",
              "      <td>2016-03-14 00:00:00</td>\n",
              "      <td>0</td>\n",
              "      <td>39576</td>\n",
              "      <td>2016-04-06 00:46:52</td>\n",
              "    </tr>\n",
              "    <tr>\n",
              "      <th>354366</th>\n",
              "      <td>2016-03-05 19:56:21</td>\n",
              "      <td>1199</td>\n",
              "      <td>convertible</td>\n",
              "      <td>2000</td>\n",
              "      <td>auto</td>\n",
              "      <td>101</td>\n",
              "      <td>fortwo</td>\n",
              "      <td>125000</td>\n",
              "      <td>3</td>\n",
              "      <td>petrol</td>\n",
              "      <td>smart</td>\n",
              "      <td>no</td>\n",
              "      <td>2016-03-05 00:00:00</td>\n",
              "      <td>0</td>\n",
              "      <td>26135</td>\n",
              "      <td>2016-03-11 18:17:12</td>\n",
              "    </tr>\n",
              "    <tr>\n",
              "      <th>354367</th>\n",
              "      <td>2016-03-19 18:57:12</td>\n",
              "      <td>9200</td>\n",
              "      <td>bus</td>\n",
              "      <td>1996</td>\n",
              "      <td>manual</td>\n",
              "      <td>102</td>\n",
              "      <td>transporter</td>\n",
              "      <td>150000</td>\n",
              "      <td>3</td>\n",
              "      <td>gasoline</td>\n",
              "      <td>volkswagen</td>\n",
              "      <td>no</td>\n",
              "      <td>2016-03-19 00:00:00</td>\n",
              "      <td>0</td>\n",
              "      <td>87439</td>\n",
              "      <td>2016-04-07 07:15:26</td>\n",
              "    </tr>\n",
              "    <tr>\n",
              "      <th>354368</th>\n",
              "      <td>2016-03-20 19:41:08</td>\n",
              "      <td>3400</td>\n",
              "      <td>wagon</td>\n",
              "      <td>2002</td>\n",
              "      <td>manual</td>\n",
              "      <td>100</td>\n",
              "      <td>golf</td>\n",
              "      <td>150000</td>\n",
              "      <td>6</td>\n",
              "      <td>gasoline</td>\n",
              "      <td>volkswagen</td>\n",
              "      <td>NaN</td>\n",
              "      <td>2016-03-20 00:00:00</td>\n",
              "      <td>0</td>\n",
              "      <td>40764</td>\n",
              "      <td>2016-03-24 12:45:21</td>\n",
              "    </tr>\n",
              "  </tbody>\n",
              "</table>\n",
              "<p>354369 rows × 16 columns</p>\n",
              "</div>\n",
              "      <button class=\"colab-df-convert\" onclick=\"convertToInteractive('df-214a7050-3fcf-47ef-8339-9d3cacd235dd')\"\n",
              "              title=\"Convert this dataframe to an interactive table.\"\n",
              "              style=\"display:none;\">\n",
              "        \n",
              "  <svg xmlns=\"http://www.w3.org/2000/svg\" height=\"24px\"viewBox=\"0 0 24 24\"\n",
              "       width=\"24px\">\n",
              "    <path d=\"M0 0h24v24H0V0z\" fill=\"none\"/>\n",
              "    <path d=\"M18.56 5.44l.94 2.06.94-2.06 2.06-.94-2.06-.94-.94-2.06-.94 2.06-2.06.94zm-11 1L8.5 8.5l.94-2.06 2.06-.94-2.06-.94L8.5 2.5l-.94 2.06-2.06.94zm10 10l.94 2.06.94-2.06 2.06-.94-2.06-.94-.94-2.06-.94 2.06-2.06.94z\"/><path d=\"M17.41 7.96l-1.37-1.37c-.4-.4-.92-.59-1.43-.59-.52 0-1.04.2-1.43.59L10.3 9.45l-7.72 7.72c-.78.78-.78 2.05 0 2.83L4 21.41c.39.39.9.59 1.41.59.51 0 1.02-.2 1.41-.59l7.78-7.78 2.81-2.81c.8-.78.8-2.07 0-2.86zM5.41 20L4 18.59l7.72-7.72 1.47 1.35L5.41 20z\"/>\n",
              "  </svg>\n",
              "      </button>\n",
              "      \n",
              "  <style>\n",
              "    .colab-df-container {\n",
              "      display:flex;\n",
              "      flex-wrap:wrap;\n",
              "      gap: 12px;\n",
              "    }\n",
              "\n",
              "    .colab-df-convert {\n",
              "      background-color: #E8F0FE;\n",
              "      border: none;\n",
              "      border-radius: 50%;\n",
              "      cursor: pointer;\n",
              "      display: none;\n",
              "      fill: #1967D2;\n",
              "      height: 32px;\n",
              "      padding: 0 0 0 0;\n",
              "      width: 32px;\n",
              "    }\n",
              "\n",
              "    .colab-df-convert:hover {\n",
              "      background-color: #E2EBFA;\n",
              "      box-shadow: 0px 1px 2px rgba(60, 64, 67, 0.3), 0px 1px 3px 1px rgba(60, 64, 67, 0.15);\n",
              "      fill: #174EA6;\n",
              "    }\n",
              "\n",
              "    [theme=dark] .colab-df-convert {\n",
              "      background-color: #3B4455;\n",
              "      fill: #D2E3FC;\n",
              "    }\n",
              "\n",
              "    [theme=dark] .colab-df-convert:hover {\n",
              "      background-color: #434B5C;\n",
              "      box-shadow: 0px 1px 3px 1px rgba(0, 0, 0, 0.15);\n",
              "      filter: drop-shadow(0px 1px 2px rgba(0, 0, 0, 0.3));\n",
              "      fill: #FFFFFF;\n",
              "    }\n",
              "  </style>\n",
              "\n",
              "      <script>\n",
              "        const buttonEl =\n",
              "          document.querySelector('#df-214a7050-3fcf-47ef-8339-9d3cacd235dd button.colab-df-convert');\n",
              "        buttonEl.style.display =\n",
              "          google.colab.kernel.accessAllowed ? 'block' : 'none';\n",
              "\n",
              "        async function convertToInteractive(key) {\n",
              "          const element = document.querySelector('#df-214a7050-3fcf-47ef-8339-9d3cacd235dd');\n",
              "          const dataTable =\n",
              "            await google.colab.kernel.invokeFunction('convertToInteractive',\n",
              "                                                     [key], {});\n",
              "          if (!dataTable) return;\n",
              "\n",
              "          const docLinkHtml = 'Like what you see? Visit the ' +\n",
              "            '<a target=\"_blank\" href=https://colab.research.google.com/notebooks/data_table.ipynb>data table notebook</a>'\n",
              "            + ' to learn more about interactive tables.';\n",
              "          element.innerHTML = '';\n",
              "          dataTable['output_type'] = 'display_data';\n",
              "          await google.colab.output.renderOutput(dataTable, element);\n",
              "          const docLink = document.createElement('div');\n",
              "          docLink.innerHTML = docLinkHtml;\n",
              "          element.appendChild(docLink);\n",
              "        }\n",
              "      </script>\n",
              "    </div>\n",
              "  </div>\n",
              "  "
            ]
          },
          "metadata": {},
          "execution_count": 4
        }
      ],
      "source": [
        "data = pd.read_csv('/content/drive/MyDrive/datasets/autos.csv')\n",
        "data"
      ]
    },
    {
      "cell_type": "code",
      "execution_count": 5,
      "metadata": {
        "scrolled": false,
        "id": "xruIAQtAuS4E",
        "outputId": "f9f2422f-eddf-416d-c33e-1bf11f1f59ec",
        "colab": {
          "base_uri": "https://localhost:8080/"
        }
      },
      "outputs": [
        {
          "output_type": "stream",
          "name": "stdout",
          "text": [
            "<class 'pandas.core.frame.DataFrame'>\n",
            "RangeIndex: 354369 entries, 0 to 354368\n",
            "Data columns (total 16 columns):\n",
            " #   Column             Non-Null Count   Dtype \n",
            "---  ------             --------------   ----- \n",
            " 0   DateCrawled        354369 non-null  object\n",
            " 1   Price              354369 non-null  int64 \n",
            " 2   VehicleType        316879 non-null  object\n",
            " 3   RegistrationYear   354369 non-null  int64 \n",
            " 4   Gearbox            334536 non-null  object\n",
            " 5   Power              354369 non-null  int64 \n",
            " 6   Model              334664 non-null  object\n",
            " 7   Kilometer          354369 non-null  int64 \n",
            " 8   RegistrationMonth  354369 non-null  int64 \n",
            " 9   FuelType           321474 non-null  object\n",
            " 10  Brand              354369 non-null  object\n",
            " 11  NotRepaired        283215 non-null  object\n",
            " 12  DateCreated        354369 non-null  object\n",
            " 13  NumberOfPictures   354369 non-null  int64 \n",
            " 14  PostalCode         354369 non-null  int64 \n",
            " 15  LastSeen           354369 non-null  object\n",
            "dtypes: int64(7), object(9)\n",
            "memory usage: 43.3+ MB\n"
          ]
        }
      ],
      "source": [
        "data.info()"
      ]
    },
    {
      "cell_type": "markdown",
      "metadata": {
        "id": "_HMH866ouS4F"
      },
      "source": [
        "Согласно документации:\n",
        "- DateCrawled — дата скачивания анкеты из базы\n",
        "- VehicleType — тип автомобильного кузова\n",
        "- RegistrationYear — год регистрации автомобиля\n",
        "- Gearbox — тип коробки передач\n",
        "- Power — мощность (л. с.)\n",
        "- Model — модель автомобиля\n",
        "- Kilometer — пробег (км)\n",
        "- RegistrationMonth — месяц регистрации автомобиля\n",
        "- FuelType — тип топлива\n",
        "- Brand — марка автомобиля\n",
        "- NotRepaired — была машина в ремонте или нет\n",
        "- DateCreated — дата создания анкеты\n",
        "- NumberOfPictures — количество фотографий автомобиля\n",
        "- PostalCode — почтовый индекс владельца анкеты (пользователя)\n",
        "- LastSeen — дата последней активности пользователя\n",
        "\n",
        "\n",
        "- Price — цена (целевой признак)"
      ]
    },
    {
      "cell_type": "code",
      "execution_count": 6,
      "metadata": {
        "id": "-yzlbHF8uS4G",
        "outputId": "664bb83f-e682-45c8-e5a4-4250e87399ea",
        "colab": {
          "base_uri": "https://localhost:8080/"
        }
      },
      "outputs": [
        {
          "output_type": "execute_result",
          "data": {
            "text/plain": [
              "Index(['datecrawled', 'price', 'vehicletype', 'registrationyear', 'gearbox',\n",
              "       'power', 'model', 'kilometer', 'registrationmonth', 'fueltype', 'brand',\n",
              "       'notrepaired', 'datecreated', 'numberofpictures', 'postalcode',\n",
              "       'lastseen'],\n",
              "      dtype='object')"
            ]
          },
          "metadata": {},
          "execution_count": 6
        }
      ],
      "source": [
        "# Приведём названия столбцов к snake_case\n",
        "data.columns = data.columns.str.lower()\n",
        "data.columns"
      ]
    },
    {
      "cell_type": "markdown",
      "source": [
        "## Предобработка данных"
      ],
      "metadata": {
        "id": "4_kIudo-gnh7"
      }
    },
    {
      "cell_type": "markdown",
      "metadata": {
        "id": "1r-F7U61uS4H"
      },
      "source": [
        "### Обработка пропусков и дубликатов"
      ]
    },
    {
      "cell_type": "code",
      "execution_count": 7,
      "metadata": {
        "id": "x_i_lasDuS4H",
        "outputId": "7810e085-3c65-4849-f10d-f4506c6e7620",
        "colab": {
          "base_uri": "https://localhost:8080/"
        }
      },
      "outputs": [
        {
          "output_type": "execute_result",
          "data": {
            "text/plain": [
              "datecrawled              0\n",
              "price                    0\n",
              "vehicletype          37490\n",
              "registrationyear         0\n",
              "gearbox              19833\n",
              "power                    0\n",
              "model                19705\n",
              "kilometer                0\n",
              "registrationmonth        0\n",
              "fueltype             32895\n",
              "brand                    0\n",
              "notrepaired          71154\n",
              "datecreated              0\n",
              "numberofpictures         0\n",
              "postalcode               0\n",
              "lastseen                 0\n",
              "dtype: int64"
            ]
          },
          "metadata": {},
          "execution_count": 7
        }
      ],
      "source": [
        "data.isna().sum()"
      ]
    },
    {
      "cell_type": "markdown",
      "metadata": {
        "id": "8PjcwkCluS4I"
      },
      "source": [
        "Пропуски наличествуют только в категориальных признаках - рассмотрим их поближе"
      ]
    },
    {
      "cell_type": "code",
      "execution_count": 8,
      "metadata": {
        "id": "JP31JohYuS4I",
        "outputId": "81de8198-164d-4383-b545-e584e6aed4d7",
        "colab": {
          "base_uri": "https://localhost:8080/"
        }
      },
      "outputs": [
        {
          "output_type": "execute_result",
          "data": {
            "text/plain": [
              "array(['golf', nan, 'grand', 'fabia', '3er', '2_reihe', 'other', 'c_max',\n",
              "       '3_reihe', 'passat', 'navara', 'ka', 'polo', 'twingo', 'a_klasse',\n",
              "       'scirocco', '5er', 'meriva', 'arosa', 'c4', 'civic', 'transporter',\n",
              "       'punto', 'e_klasse', 'clio', 'kadett', 'kangoo', 'corsa', 'one',\n",
              "       'fortwo', '1er', 'b_klasse', 'signum', 'astra', 'a8', 'jetta',\n",
              "       'fiesta', 'c_klasse', 'micra', 'vito', 'sprinter', '156', 'escort',\n",
              "       'forester', 'xc_reihe', 'scenic', 'a4', 'a1', 'insignia', 'combo',\n",
              "       'focus', 'tt', 'a6', 'jazz', 'omega', 'slk', '7er', '80', '147',\n",
              "       '100', 'z_reihe', 'sportage', 'sorento', 'v40', 'ibiza', 'mustang',\n",
              "       'eos', 'touran', 'getz', 'a3', 'almera', 'megane', 'lupo', 'r19',\n",
              "       'zafira', 'caddy', 'mondeo', 'cordoba', 'colt', 'impreza',\n",
              "       'vectra', 'berlingo', 'tiguan', 'i_reihe', 'espace', 'sharan',\n",
              "       '6_reihe', 'panda', 'up', 'seicento', 'ceed', '5_reihe', 'yeti',\n",
              "       'octavia', 'mii', 'rx_reihe', '6er', 'modus', 'fox', 'matiz',\n",
              "       'beetle', 'c1', 'rio', 'touareg', 'logan', 'spider', 'cuore',\n",
              "       's_max', 'a2', 'galaxy', 'c3', 'viano', 's_klasse', '1_reihe',\n",
              "       'avensis', 'roomster', 'sl', 'kaefer', 'santa', 'cooper', 'leon',\n",
              "       '4_reihe', 'a5', '500', 'laguna', 'ptcruiser', 'clk', 'primera',\n",
              "       'x_reihe', 'exeo', '159', 'transit', 'juke', 'qashqai', 'carisma',\n",
              "       'accord', 'corolla', 'lanos', 'phaeton', 'verso', 'swift', 'rav',\n",
              "       'picanto', 'boxster', 'kalos', 'superb', 'stilo', 'alhambra',\n",
              "       'mx_reihe', 'roadster', 'ypsilon', 'cayenne', 'galant', 'justy',\n",
              "       '90', 'sirion', 'crossfire', 'agila', 'duster', 'cr_reihe', 'v50',\n",
              "       'c_reihe', 'v_klasse', 'm_klasse', 'yaris', 'c5', 'aygo', 'cc',\n",
              "       'carnival', 'fusion', '911', 'bora', 'forfour', 'm_reihe', 'cl',\n",
              "       'tigra', '300c', 'spark', 'v70', 'kuga', 'x_type', 'ducato',\n",
              "       's_type', 'x_trail', 'toledo', 'altea', 'voyager', 'calibra',\n",
              "       'bravo', 'antara', 'tucson', 'citigo', 'jimny', 'wrangler',\n",
              "       'lybra', 'q7', 'lancer', 'captiva', 'c2', 'discovery',\n",
              "       'freelander', 'sandero', 'note', '900', 'cherokee', 'clubman',\n",
              "       'samara', 'defender', '601', 'cx_reihe', 'legacy', 'pajero',\n",
              "       'auris', 'niva', 's60', 'nubira', 'vivaro', 'g_klasse', 'lodgy',\n",
              "       '850', 'range_rover', 'q3', 'serie_2', 'glk', 'charade', 'croma',\n",
              "       'outlander', 'doblo', 'musa', 'move', '9000', 'v60', '145', 'aveo',\n",
              "       '200', 'b_max', 'range_rover_sport', 'terios', 'rangerover', 'q5',\n",
              "       'range_rover_evoque', 'materia', 'delta', 'gl', 'kalina', 'amarok',\n",
              "       'elefantino', 'i3', 'kappa', 'serie_3', 'serie_1'], dtype=object)"
            ]
          },
          "metadata": {},
          "execution_count": 8
        }
      ],
      "source": [
        "data.model.unique()"
      ]
    },
    {
      "cell_type": "markdown",
      "metadata": {
        "id": "us4ehWZkuS4J"
      },
      "source": [
        "Пропуски в данном признаке не представляется возможным заполнить каким-либо надёжным способом, а потому видится доступным их просто удалить"
      ]
    },
    {
      "cell_type": "code",
      "execution_count": 9,
      "metadata": {
        "id": "5gzjnaEWuS4J",
        "outputId": "ce29d73d-34c0-4f18-c814-89aef9739a38",
        "colab": {
          "base_uri": "https://localhost:8080/"
        }
      },
      "outputs": [
        {
          "output_type": "stream",
          "name": "stdout",
          "text": [
            "Доля удалённых пропусков по признаку model от всего объёма данных: 5.56%\n"
          ]
        }
      ],
      "source": [
        "print(f'Доля удалённых пропусков по признаку model от всего объёма данных: {data.model.isna().sum()/len(data):.2%}')\n",
        "data = data.dropna(subset=['model']).reset_index(drop=True)"
      ]
    },
    {
      "cell_type": "code",
      "execution_count": 10,
      "metadata": {
        "id": "Efif3vrkuS4K",
        "outputId": "9a0e60aa-dafa-4df2-c5e4-2cd434343edd",
        "colab": {
          "base_uri": "https://localhost:8080/"
        }
      },
      "outputs": [
        {
          "output_type": "execute_result",
          "data": {
            "text/plain": [
              "array([nan, 'suv', 'small', 'sedan', 'convertible', 'bus', 'wagon',\n",
              "       'coupe', 'other'], dtype=object)"
            ]
          },
          "metadata": {},
          "execution_count": 10
        }
      ],
      "source": [
        "data.vehicletype.unique()"
      ]
    },
    {
      "cell_type": "code",
      "execution_count": 11,
      "metadata": {
        "id": "G2ptzVYsuS4L",
        "outputId": "438e4349-a716-4f2f-eace-9c57095f5245",
        "colab": {
          "base_uri": "https://localhost:8080/"
        }
      },
      "outputs": [
        {
          "output_type": "execute_result",
          "data": {
            "text/plain": [
              "array(['manual', 'auto', nan], dtype=object)"
            ]
          },
          "metadata": {},
          "execution_count": 11
        }
      ],
      "source": [
        "data.gearbox.unique()"
      ]
    },
    {
      "cell_type": "code",
      "execution_count": 12,
      "metadata": {
        "id": "9o4Z6LtMuS4L",
        "outputId": "66efeff4-39e8-4adc-fff8-f9656ad036c1",
        "colab": {
          "base_uri": "https://localhost:8080/"
        }
      },
      "outputs": [
        {
          "output_type": "execute_result",
          "data": {
            "text/plain": [
              "array(['petrol', 'gasoline', nan, 'lpg', 'other', 'hybrid', 'cng',\n",
              "       'electric'], dtype=object)"
            ]
          },
          "metadata": {},
          "execution_count": 12
        }
      ],
      "source": [
        "data.fueltype.unique()"
      ]
    },
    {
      "cell_type": "code",
      "execution_count": 13,
      "metadata": {
        "id": "wrP0IJUUuS4M"
      },
      "outputs": [],
      "source": [
        "# Заполним пропуски в данном столбце по аналогичной модели брэнда:\n",
        "data.vehicletype = data.vehicletype.fillna(data.groupby(['brand','model'])['vehicletype'].transform('first'))\n",
        "data.fueltype = data.fueltype.fillna(data.groupby(['brand','model'])['fueltype'].transform('first'))\n",
        "data.gearbox = data.gearbox.fillna(data.groupby(['brand','model'])['gearbox'].transform('first'))"
      ]
    },
    {
      "cell_type": "code",
      "execution_count": 14,
      "metadata": {
        "id": "ZmOyXAW6uS4M",
        "outputId": "e4d78357-3e71-47b7-a2f8-1c73d34351b3",
        "colab": {
          "base_uri": "https://localhost:8080/"
        }
      },
      "outputs": [
        {
          "output_type": "execute_result",
          "data": {
            "text/plain": [
              "array([nan, 'no', 'yes'], dtype=object)"
            ]
          },
          "metadata": {},
          "execution_count": 14
        }
      ],
      "source": [
        "data.notrepaired.unique()"
      ]
    },
    {
      "cell_type": "code",
      "execution_count": 15,
      "metadata": {
        "id": "RyHVdUyfuS4N"
      },
      "outputs": [],
      "source": [
        "# Видится безопасным предположить, что отсутствующие данные о починке машины свидетельствуют о том, что в ремонте она не находилась\n",
        "data.notrepaired = data.notrepaired.fillna('no')"
      ]
    },
    {
      "cell_type": "code",
      "execution_count": 16,
      "metadata": {
        "id": "kJ89cPLjuS4N",
        "outputId": "afdd40c6-dcaf-4a87-caff-946d80932a94",
        "colab": {
          "base_uri": "https://localhost:8080/"
        }
      },
      "outputs": [
        {
          "output_type": "execute_result",
          "data": {
            "text/plain": [
              "5"
            ]
          },
          "metadata": {},
          "execution_count": 16
        }
      ],
      "source": [
        "# Рассмотрим наличие явных дубликатов в данных\n",
        "data.duplicated().sum()"
      ]
    },
    {
      "cell_type": "code",
      "execution_count": 17,
      "metadata": {
        "id": "gRpxhkeduS4O"
      },
      "outputs": [],
      "source": [
        "data = data.drop_duplicates().reset_index(drop=True)"
      ]
    },
    {
      "cell_type": "markdown",
      "metadata": {
        "id": "nI1GKzBNuS4O"
      },
      "source": [
        "### Обработка аномалий"
      ]
    },
    {
      "cell_type": "code",
      "execution_count": 18,
      "metadata": {
        "id": "JZ4Q1LvvuS4O",
        "outputId": "eb863cff-8a5b-4ad9-8879-60c84ff7e78a",
        "colab": {
          "base_uri": "https://localhost:8080/",
          "height": 300
        }
      },
      "outputs": [
        {
          "output_type": "execute_result",
          "data": {
            "text/plain": [
              "               price  registrationyear  ...  numberofpictures     postalcode\n",
              "count  334659.000000     334659.000000  ...          334659.0  334659.000000\n",
              "mean     4504.346864       2003.924012  ...               0.0   50671.283270\n",
              "std      4531.440082         69.377736  ...               0.0   25754.553187\n",
              "min         0.000000       1000.000000  ...               0.0    1067.000000\n",
              "25%      1150.000000       1999.000000  ...               0.0   30419.000000\n",
              "50%      2800.000000       2003.000000  ...               0.0   49525.000000\n",
              "75%      6500.000000       2008.000000  ...               0.0   71229.000000\n",
              "max     20000.000000       9999.000000  ...               0.0   99998.000000\n",
              "\n",
              "[8 rows x 7 columns]"
            ],
            "text/html": [
              "\n",
              "  <div id=\"df-7a3c9614-c3f0-4a8f-8543-aba523916f2a\">\n",
              "    <div class=\"colab-df-container\">\n",
              "      <div>\n",
              "<style scoped>\n",
              "    .dataframe tbody tr th:only-of-type {\n",
              "        vertical-align: middle;\n",
              "    }\n",
              "\n",
              "    .dataframe tbody tr th {\n",
              "        vertical-align: top;\n",
              "    }\n",
              "\n",
              "    .dataframe thead th {\n",
              "        text-align: right;\n",
              "    }\n",
              "</style>\n",
              "<table border=\"1\" class=\"dataframe\">\n",
              "  <thead>\n",
              "    <tr style=\"text-align: right;\">\n",
              "      <th></th>\n",
              "      <th>price</th>\n",
              "      <th>registrationyear</th>\n",
              "      <th>power</th>\n",
              "      <th>kilometer</th>\n",
              "      <th>registrationmonth</th>\n",
              "      <th>numberofpictures</th>\n",
              "      <th>postalcode</th>\n",
              "    </tr>\n",
              "  </thead>\n",
              "  <tbody>\n",
              "    <tr>\n",
              "      <th>count</th>\n",
              "      <td>334659.000000</td>\n",
              "      <td>334659.000000</td>\n",
              "      <td>334659.000000</td>\n",
              "      <td>334659.000000</td>\n",
              "      <td>334659.000000</td>\n",
              "      <td>334659.0</td>\n",
              "      <td>334659.000000</td>\n",
              "    </tr>\n",
              "    <tr>\n",
              "      <th>mean</th>\n",
              "      <td>4504.346864</td>\n",
              "      <td>2003.924012</td>\n",
              "      <td>111.372564</td>\n",
              "      <td>128562.805722</td>\n",
              "      <td>5.806065</td>\n",
              "      <td>0.0</td>\n",
              "      <td>50671.283270</td>\n",
              "    </tr>\n",
              "    <tr>\n",
              "      <th>std</th>\n",
              "      <td>4531.440082</td>\n",
              "      <td>69.377736</td>\n",
              "      <td>185.157659</td>\n",
              "      <td>37205.693708</td>\n",
              "      <td>3.689158</td>\n",
              "      <td>0.0</td>\n",
              "      <td>25754.553187</td>\n",
              "    </tr>\n",
              "    <tr>\n",
              "      <th>min</th>\n",
              "      <td>0.000000</td>\n",
              "      <td>1000.000000</td>\n",
              "      <td>0.000000</td>\n",
              "      <td>5000.000000</td>\n",
              "      <td>0.000000</td>\n",
              "      <td>0.0</td>\n",
              "      <td>1067.000000</td>\n",
              "    </tr>\n",
              "    <tr>\n",
              "      <th>25%</th>\n",
              "      <td>1150.000000</td>\n",
              "      <td>1999.000000</td>\n",
              "      <td>70.000000</td>\n",
              "      <td>125000.000000</td>\n",
              "      <td>3.000000</td>\n",
              "      <td>0.0</td>\n",
              "      <td>30419.000000</td>\n",
              "    </tr>\n",
              "    <tr>\n",
              "      <th>50%</th>\n",
              "      <td>2800.000000</td>\n",
              "      <td>2003.000000</td>\n",
              "      <td>105.000000</td>\n",
              "      <td>150000.000000</td>\n",
              "      <td>6.000000</td>\n",
              "      <td>0.0</td>\n",
              "      <td>49525.000000</td>\n",
              "    </tr>\n",
              "    <tr>\n",
              "      <th>75%</th>\n",
              "      <td>6500.000000</td>\n",
              "      <td>2008.000000</td>\n",
              "      <td>143.000000</td>\n",
              "      <td>150000.000000</td>\n",
              "      <td>9.000000</td>\n",
              "      <td>0.0</td>\n",
              "      <td>71229.000000</td>\n",
              "    </tr>\n",
              "    <tr>\n",
              "      <th>max</th>\n",
              "      <td>20000.000000</td>\n",
              "      <td>9999.000000</td>\n",
              "      <td>20000.000000</td>\n",
              "      <td>150000.000000</td>\n",
              "      <td>12.000000</td>\n",
              "      <td>0.0</td>\n",
              "      <td>99998.000000</td>\n",
              "    </tr>\n",
              "  </tbody>\n",
              "</table>\n",
              "</div>\n",
              "      <button class=\"colab-df-convert\" onclick=\"convertToInteractive('df-7a3c9614-c3f0-4a8f-8543-aba523916f2a')\"\n",
              "              title=\"Convert this dataframe to an interactive table.\"\n",
              "              style=\"display:none;\">\n",
              "        \n",
              "  <svg xmlns=\"http://www.w3.org/2000/svg\" height=\"24px\"viewBox=\"0 0 24 24\"\n",
              "       width=\"24px\">\n",
              "    <path d=\"M0 0h24v24H0V0z\" fill=\"none\"/>\n",
              "    <path d=\"M18.56 5.44l.94 2.06.94-2.06 2.06-.94-2.06-.94-.94-2.06-.94 2.06-2.06.94zm-11 1L8.5 8.5l.94-2.06 2.06-.94-2.06-.94L8.5 2.5l-.94 2.06-2.06.94zm10 10l.94 2.06.94-2.06 2.06-.94-2.06-.94-.94-2.06-.94 2.06-2.06.94z\"/><path d=\"M17.41 7.96l-1.37-1.37c-.4-.4-.92-.59-1.43-.59-.52 0-1.04.2-1.43.59L10.3 9.45l-7.72 7.72c-.78.78-.78 2.05 0 2.83L4 21.41c.39.39.9.59 1.41.59.51 0 1.02-.2 1.41-.59l7.78-7.78 2.81-2.81c.8-.78.8-2.07 0-2.86zM5.41 20L4 18.59l7.72-7.72 1.47 1.35L5.41 20z\"/>\n",
              "  </svg>\n",
              "      </button>\n",
              "      \n",
              "  <style>\n",
              "    .colab-df-container {\n",
              "      display:flex;\n",
              "      flex-wrap:wrap;\n",
              "      gap: 12px;\n",
              "    }\n",
              "\n",
              "    .colab-df-convert {\n",
              "      background-color: #E8F0FE;\n",
              "      border: none;\n",
              "      border-radius: 50%;\n",
              "      cursor: pointer;\n",
              "      display: none;\n",
              "      fill: #1967D2;\n",
              "      height: 32px;\n",
              "      padding: 0 0 0 0;\n",
              "      width: 32px;\n",
              "    }\n",
              "\n",
              "    .colab-df-convert:hover {\n",
              "      background-color: #E2EBFA;\n",
              "      box-shadow: 0px 1px 2px rgba(60, 64, 67, 0.3), 0px 1px 3px 1px rgba(60, 64, 67, 0.15);\n",
              "      fill: #174EA6;\n",
              "    }\n",
              "\n",
              "    [theme=dark] .colab-df-convert {\n",
              "      background-color: #3B4455;\n",
              "      fill: #D2E3FC;\n",
              "    }\n",
              "\n",
              "    [theme=dark] .colab-df-convert:hover {\n",
              "      background-color: #434B5C;\n",
              "      box-shadow: 0px 1px 3px 1px rgba(0, 0, 0, 0.15);\n",
              "      filter: drop-shadow(0px 1px 2px rgba(0, 0, 0, 0.3));\n",
              "      fill: #FFFFFF;\n",
              "    }\n",
              "  </style>\n",
              "\n",
              "      <script>\n",
              "        const buttonEl =\n",
              "          document.querySelector('#df-7a3c9614-c3f0-4a8f-8543-aba523916f2a button.colab-df-convert');\n",
              "        buttonEl.style.display =\n",
              "          google.colab.kernel.accessAllowed ? 'block' : 'none';\n",
              "\n",
              "        async function convertToInteractive(key) {\n",
              "          const element = document.querySelector('#df-7a3c9614-c3f0-4a8f-8543-aba523916f2a');\n",
              "          const dataTable =\n",
              "            await google.colab.kernel.invokeFunction('convertToInteractive',\n",
              "                                                     [key], {});\n",
              "          if (!dataTable) return;\n",
              "\n",
              "          const docLinkHtml = 'Like what you see? Visit the ' +\n",
              "            '<a target=\"_blank\" href=https://colab.research.google.com/notebooks/data_table.ipynb>data table notebook</a>'\n",
              "            + ' to learn more about interactive tables.';\n",
              "          element.innerHTML = '';\n",
              "          dataTable['output_type'] = 'display_data';\n",
              "          await google.colab.output.renderOutput(dataTable, element);\n",
              "          const docLink = document.createElement('div');\n",
              "          docLink.innerHTML = docLinkHtml;\n",
              "          element.appendChild(docLink);\n",
              "        }\n",
              "      </script>\n",
              "    </div>\n",
              "  </div>\n",
              "  "
            ]
          },
          "metadata": {},
          "execution_count": 18
        }
      ],
      "source": [
        "data.describe()"
      ]
    },
    {
      "cell_type": "markdown",
      "metadata": {
        "id": "WHgHH-01uS4P"
      },
      "source": [
        "Рассмотрим столбцы _price, power и registrationyear_ - в них наличествуют явные аномалии и это признаки, которые будут использоваться при машинном обучении"
      ]
    },
    {
      "cell_type": "markdown",
      "metadata": {
        "id": "BE52pVj9uS4P"
      },
      "source": [
        "Нам неизвестно, в чём измеряется цена (валюта, порядок), но можно точно сказать, что наврядли кто-то отдаёт машину бесплатно. Это целевой признак и мы не можем до построения машинных моделей как-то заполнить нулевые значения в столбце price - избавимся от них."
      ]
    },
    {
      "cell_type": "code",
      "execution_count": 19,
      "metadata": {
        "id": "dOV4KMv-uS4P",
        "outputId": "b8efb60b-60da-4a06-9a09-abf7b4d014f6",
        "colab": {
          "base_uri": "https://localhost:8080/"
        }
      },
      "outputs": [
        {
          "output_type": "stream",
          "name": "stdout",
          "text": [
            "Доля удалённых аномальных значений: 2.57%\n"
          ]
        }
      ],
      "source": [
        "print(f'Доля удалённых аномальных значений: {len(data[data[\"price\"]==0])/len(data):.2%}')\n",
        "data = data[data['price'] != 0]"
      ]
    },
    {
      "cell_type": "markdown",
      "metadata": {
        "id": "1wn85DjjuS4Q"
      },
      "source": [
        "В столбце registrationmonth значения ранжируются с 0 до 12 - скорее всего это ошибка, где под нулевыми значениями подразумевается январь. Присвоим нулевым значениям единицу"
      ]
    },
    {
      "cell_type": "code",
      "execution_count": 20,
      "metadata": {
        "id": "-t-_ooI5uS4Q"
      },
      "outputs": [],
      "source": [
        "data.registrationmonth = data.registrationmonth.replace(0, 1)"
      ]
    },
    {
      "cell_type": "code",
      "execution_count": 21,
      "metadata": {
        "id": "7YSM-LskuS4Q",
        "outputId": "a98c0b0d-9f1e-49b9-c4c4-10e9982b1dd7",
        "colab": {
          "base_uri": "https://localhost:8080/"
        }
      },
      "outputs": [
        {
          "output_type": "execute_result",
          "data": {
            "text/plain": [
              "array([1000, 1001, 1234, 1300, 1400, 1500, 1600, 1602, 1800, 1910, 1923,\n",
              "       1927, 1928, 1929, 1930, 1931, 1932, 1933, 1934, 1935, 1936, 1937,\n",
              "       1938, 1941, 1942, 1943, 1945, 1947, 1949, 1950, 1951, 1952, 1953,\n",
              "       1954, 1955, 1956, 1957, 1958, 1959, 1960, 1961, 1962, 1963, 1964,\n",
              "       1965, 1966, 1967, 1968, 1969, 1970, 1971, 1972, 1973, 1974, 1975,\n",
              "       1976, 1977, 1978, 1979, 1980, 1981, 1982, 1983, 1984, 1985, 1986,\n",
              "       1987, 1988, 1989, 1990, 1991, 1992, 1993, 1994, 1995, 1996, 1997,\n",
              "       1998, 1999, 2000, 2001, 2002, 2003, 2004, 2005, 2006, 2007, 2008,\n",
              "       2009, 2010, 2011, 2012, 2013, 2014, 2015, 2016, 2017, 2018, 2019,\n",
              "       2066, 2200, 2290, 2500, 2900, 3000, 3700, 4000, 4500, 5000, 5555,\n",
              "       5900, 5911, 6000, 6500, 7000, 7100, 7800, 8000, 8200, 8500, 9000,\n",
              "       9999])"
            ]
          },
          "metadata": {},
          "execution_count": 21
        }
      ],
      "source": [
        "# Рассмотрим значения столбца registrationyear\n",
        "np.sort(data.registrationyear.unique())"
      ]
    },
    {
      "cell_type": "markdown",
      "metadata": {
        "id": "qU1eDwxWuS4R"
      },
      "source": [
        "Видим множество аномальных значений - видится невероятным регистрация автомобился раньше 1910 или позже 2019 года."
      ]
    },
    {
      "cell_type": "code",
      "execution_count": 22,
      "metadata": {
        "id": "DgN5wTMmuS4R",
        "outputId": "5c8d2a7e-785a-4362-c972-89571c03b9ea",
        "colab": {
          "base_uri": "https://localhost:8080/",
          "height": 1000
        }
      },
      "outputs": [
        {
          "output_type": "execute_result",
          "data": {
            "text/plain": [
              "                datecrawled  price  ... postalcode             lastseen\n",
              "14      2016-03-11 21:39:15    450  ...      24148  2016-03-19 08:46:47\n",
              "9644    2016-03-27 13:59:08   1250  ...      18445  2016-04-07 10:45:31\n",
              "15215   2016-03-29 23:42:16    190  ...      47166  2016-04-06 10:44:58\n",
              "17261   2016-03-09 17:49:44   7999  ...      53577  2016-03-15 05:15:17\n",
              "22468   2016-03-16 19:58:34   3900  ...      88662  2016-04-07 05:45:53\n",
              "27876   2016-03-22 08:53:29     80  ...      92637  2016-03-27 22:15:24\n",
              "33926   2016-03-19 10:57:31    200  ...      35096  2016-03-20 18:10:33\n",
              "46230   2016-03-09 07:36:58    600  ...      61279  2016-04-06 05:46:18\n",
              "50596   2016-03-20 11:44:28    330  ...      45259  2016-04-04 08:17:15\n",
              "53090   2016-03-30 18:54:27    950  ...      50389  2016-04-03 09:45:19\n",
              "55583   2016-03-15 21:57:27      1  ...      74074  2016-04-07 07:17:28\n",
              "59296   2016-03-07 22:58:46   3400  ...      34308  2016-03-12 08:16:51\n",
              "67461   2016-03-27 23:46:28    500  ...      91628  2016-03-29 13:46:49\n",
              "70624   2016-03-21 12:52:05    400  ...      29462  2016-03-25 09:17:54\n",
              "74681   2016-03-15 18:47:30   4750  ...      66706  2016-04-06 20:19:21\n",
              "78197   2016-03-14 08:51:18    500  ...      52393  2016-04-03 07:53:55\n",
              "92323   2016-03-14 11:37:04    140  ...      88630  2016-03-17 22:16:17\n",
              "92628   2016-04-01 12:46:44      1  ...      70173  2016-04-01 12:46:44\n",
              "98891   2016-03-27 13:52:26    100  ...      21680  2016-04-07 09:46:20\n",
              "112796  2016-03-18 10:37:00      1  ...      94086  2016-04-05 22:16:13\n",
              "114451  2016-03-06 23:48:12    100  ...      10115  2016-04-04 05:15:40\n",
              "118598  2016-03-15 18:38:53   7750  ...      66706  2016-04-06 18:47:20\n",
              "120320  2016-03-07 11:53:10     99  ...      91301  2016-04-05 13:46:12\n",
              "122573  2016-03-05 17:55:26    275  ...      12627  2016-03-05 17:55:26\n",
              "135062  2016-03-25 13:47:46     30  ...      47638  2016-03-26 23:46:29\n",
              "135647  2016-03-17 23:40:11    550  ...      91732  2016-03-26 05:18:19\n",
              "136367  2016-03-09 20:52:32     50  ...      50374  2016-04-05 18:46:40\n",
              "142869  2016-04-05 00:39:36    300  ...      89269  2016-04-05 05:42:22\n",
              "179083  2016-03-29 16:56:41   1500  ...      48324  2016-03-31 10:15:28\n",
              "181904  2016-03-31 15:47:24     20  ...      31224  2016-04-06 08:46:00\n",
              "184211  2016-03-25 17:50:45     25  ...      57072  2016-04-06 23:16:28\n",
              "184889  2016-03-28 23:40:10      1  ...      50171  2016-04-05 03:44:47\n",
              "191846  2016-04-01 15:37:14    400  ...      66333  2016-04-03 11:48:08\n",
              "192364  2016-03-10 15:36:35    180  ...      32832  2016-04-05 11:49:05\n",
              "192564  2016-03-07 14:53:52    222  ...      26802  2016-03-12 04:15:30\n",
              "201551  2016-03-08 12:06:22    380  ...      35102  2016-04-06 00:16:56\n",
              "204637  2016-04-02 14:39:35     60  ...      41844  2016-04-02 14:39:35\n",
              "206027  2016-03-16 12:46:55   7999  ...      15827  2016-03-29 20:47:40\n",
              "206058  2016-03-23 00:49:23      1  ...      47169  2016-04-05 01:44:25\n",
              "211389  2016-03-20 07:37:16   1500  ...      24873  2016-04-06 04:45:40\n",
              "238260  2016-03-27 16:39:58    149  ...      33605  2016-04-05 11:47:37\n",
              "242143  2016-03-05 17:44:47  12500  ...      75378  2016-04-07 12:17:06\n",
              "247284  2016-03-18 14:38:01    189  ...      22926  2016-03-18 14:38:01\n",
              "260052  2016-04-05 11:39:14    530  ...      52152  2016-04-05 11:39:14\n",
              "260853  2016-03-31 14:58:25    300  ...      53902  2016-04-06 08:16:52\n",
              "270908  2016-03-18 16:51:44      1  ...      97616  2016-04-05 22:44:31\n",
              "271265  2016-03-09 15:54:00    500  ...      30900  2016-03-10 12:17:35\n",
              "287262  2016-03-26 19:55:31    150  ...      49419  2016-04-06 10:45:22\n",
              "300348  2016-03-25 13:42:37      1  ...      54295  2016-04-06 15:44:48\n",
              "301590  2016-03-25 18:58:52    480  ...      96160  2016-04-07 01:44:51\n",
              "304047  2016-03-10 15:58:12    180  ...      32832  2016-04-05 13:19:00\n",
              "321792  2016-04-04 23:55:47    700  ...      86343  2016-04-05 06:44:07\n",
              "332100  2016-03-12 00:57:39  11500  ...      16515  2016-04-05 19:47:27\n",
              "\n",
              "[53 rows x 16 columns]"
            ],
            "text/html": [
              "\n",
              "  <div id=\"df-fe095280-ce3b-4f06-8b32-070c18ae7ceb\">\n",
              "    <div class=\"colab-df-container\">\n",
              "      <div>\n",
              "<style scoped>\n",
              "    .dataframe tbody tr th:only-of-type {\n",
              "        vertical-align: middle;\n",
              "    }\n",
              "\n",
              "    .dataframe tbody tr th {\n",
              "        vertical-align: top;\n",
              "    }\n",
              "\n",
              "    .dataframe thead th {\n",
              "        text-align: right;\n",
              "    }\n",
              "</style>\n",
              "<table border=\"1\" class=\"dataframe\">\n",
              "  <thead>\n",
              "    <tr style=\"text-align: right;\">\n",
              "      <th></th>\n",
              "      <th>datecrawled</th>\n",
              "      <th>price</th>\n",
              "      <th>vehicletype</th>\n",
              "      <th>registrationyear</th>\n",
              "      <th>gearbox</th>\n",
              "      <th>power</th>\n",
              "      <th>model</th>\n",
              "      <th>kilometer</th>\n",
              "      <th>registrationmonth</th>\n",
              "      <th>fueltype</th>\n",
              "      <th>brand</th>\n",
              "      <th>notrepaired</th>\n",
              "      <th>datecreated</th>\n",
              "      <th>numberofpictures</th>\n",
              "      <th>postalcode</th>\n",
              "      <th>lastseen</th>\n",
              "    </tr>\n",
              "  </thead>\n",
              "  <tbody>\n",
              "    <tr>\n",
              "      <th>14</th>\n",
              "      <td>2016-03-11 21:39:15</td>\n",
              "      <td>450</td>\n",
              "      <td>small</td>\n",
              "      <td>1910</td>\n",
              "      <td>manual</td>\n",
              "      <td>0</td>\n",
              "      <td>ka</td>\n",
              "      <td>5000</td>\n",
              "      <td>1</td>\n",
              "      <td>petrol</td>\n",
              "      <td>ford</td>\n",
              "      <td>no</td>\n",
              "      <td>2016-03-11 00:00:00</td>\n",
              "      <td>0</td>\n",
              "      <td>24148</td>\n",
              "      <td>2016-03-19 08:46:47</td>\n",
              "    </tr>\n",
              "    <tr>\n",
              "      <th>9644</th>\n",
              "      <td>2016-03-27 13:59:08</td>\n",
              "      <td>1250</td>\n",
              "      <td>wagon</td>\n",
              "      <td>1910</td>\n",
              "      <td>manual</td>\n",
              "      <td>0</td>\n",
              "      <td>other</td>\n",
              "      <td>5000</td>\n",
              "      <td>1</td>\n",
              "      <td>petrol</td>\n",
              "      <td>audi</td>\n",
              "      <td>no</td>\n",
              "      <td>2016-03-27 00:00:00</td>\n",
              "      <td>0</td>\n",
              "      <td>18445</td>\n",
              "      <td>2016-04-07 10:45:31</td>\n",
              "    </tr>\n",
              "    <tr>\n",
              "      <th>15215</th>\n",
              "      <td>2016-03-29 23:42:16</td>\n",
              "      <td>190</td>\n",
              "      <td>wagon</td>\n",
              "      <td>1000</td>\n",
              "      <td>manual</td>\n",
              "      <td>0</td>\n",
              "      <td>mondeo</td>\n",
              "      <td>5000</td>\n",
              "      <td>1</td>\n",
              "      <td>gasoline</td>\n",
              "      <td>ford</td>\n",
              "      <td>no</td>\n",
              "      <td>2016-03-29 00:00:00</td>\n",
              "      <td>0</td>\n",
              "      <td>47166</td>\n",
              "      <td>2016-04-06 10:44:58</td>\n",
              "    </tr>\n",
              "    <tr>\n",
              "      <th>17261</th>\n",
              "      <td>2016-03-09 17:49:44</td>\n",
              "      <td>7999</td>\n",
              "      <td>sedan</td>\n",
              "      <td>1500</td>\n",
              "      <td>manual</td>\n",
              "      <td>224</td>\n",
              "      <td>impreza</td>\n",
              "      <td>5000</td>\n",
              "      <td>3</td>\n",
              "      <td>petrol</td>\n",
              "      <td>subaru</td>\n",
              "      <td>no</td>\n",
              "      <td>2016-03-09 00:00:00</td>\n",
              "      <td>0</td>\n",
              "      <td>53577</td>\n",
              "      <td>2016-03-15 05:15:17</td>\n",
              "    </tr>\n",
              "    <tr>\n",
              "      <th>22468</th>\n",
              "      <td>2016-03-16 19:58:34</td>\n",
              "      <td>3900</td>\n",
              "      <td>wagon</td>\n",
              "      <td>1910</td>\n",
              "      <td>manual</td>\n",
              "      <td>90</td>\n",
              "      <td>passat</td>\n",
              "      <td>150000</td>\n",
              "      <td>1</td>\n",
              "      <td>petrol</td>\n",
              "      <td>volkswagen</td>\n",
              "      <td>no</td>\n",
              "      <td>2016-03-16 00:00:00</td>\n",
              "      <td>0</td>\n",
              "      <td>88662</td>\n",
              "      <td>2016-04-07 05:45:53</td>\n",
              "    </tr>\n",
              "    <tr>\n",
              "      <th>27876</th>\n",
              "      <td>2016-03-22 08:53:29</td>\n",
              "      <td>80</td>\n",
              "      <td>small</td>\n",
              "      <td>1910</td>\n",
              "      <td>manual</td>\n",
              "      <td>0</td>\n",
              "      <td>punto</td>\n",
              "      <td>150000</td>\n",
              "      <td>1</td>\n",
              "      <td>petrol</td>\n",
              "      <td>fiat</td>\n",
              "      <td>no</td>\n",
              "      <td>2016-03-22 00:00:00</td>\n",
              "      <td>0</td>\n",
              "      <td>92637</td>\n",
              "      <td>2016-03-27 22:15:24</td>\n",
              "    </tr>\n",
              "    <tr>\n",
              "      <th>33926</th>\n",
              "      <td>2016-03-19 10:57:31</td>\n",
              "      <td>200</td>\n",
              "      <td>other</td>\n",
              "      <td>1910</td>\n",
              "      <td>manual</td>\n",
              "      <td>0</td>\n",
              "      <td>caddy</td>\n",
              "      <td>150000</td>\n",
              "      <td>1</td>\n",
              "      <td>gasoline</td>\n",
              "      <td>volkswagen</td>\n",
              "      <td>no</td>\n",
              "      <td>2016-03-19 00:00:00</td>\n",
              "      <td>0</td>\n",
              "      <td>35096</td>\n",
              "      <td>2016-03-20 18:10:33</td>\n",
              "    </tr>\n",
              "    <tr>\n",
              "      <th>46230</th>\n",
              "      <td>2016-03-09 07:36:58</td>\n",
              "      <td>600</td>\n",
              "      <td>small</td>\n",
              "      <td>1910</td>\n",
              "      <td>manual</td>\n",
              "      <td>0</td>\n",
              "      <td>agila</td>\n",
              "      <td>5000</td>\n",
              "      <td>1</td>\n",
              "      <td>petrol</td>\n",
              "      <td>opel</td>\n",
              "      <td>yes</td>\n",
              "      <td>2016-03-09 00:00:00</td>\n",
              "      <td>0</td>\n",
              "      <td>61279</td>\n",
              "      <td>2016-04-06 05:46:18</td>\n",
              "    </tr>\n",
              "    <tr>\n",
              "      <th>50596</th>\n",
              "      <td>2016-03-20 11:44:28</td>\n",
              "      <td>330</td>\n",
              "      <td>small</td>\n",
              "      <td>1000</td>\n",
              "      <td>manual</td>\n",
              "      <td>0</td>\n",
              "      <td>polo</td>\n",
              "      <td>5000</td>\n",
              "      <td>1</td>\n",
              "      <td>petrol</td>\n",
              "      <td>volkswagen</td>\n",
              "      <td>no</td>\n",
              "      <td>2016-03-20 00:00:00</td>\n",
              "      <td>0</td>\n",
              "      <td>45259</td>\n",
              "      <td>2016-04-04 08:17:15</td>\n",
              "    </tr>\n",
              "    <tr>\n",
              "      <th>53090</th>\n",
              "      <td>2016-03-30 18:54:27</td>\n",
              "      <td>950</td>\n",
              "      <td>small</td>\n",
              "      <td>1400</td>\n",
              "      <td>manual</td>\n",
              "      <td>1400</td>\n",
              "      <td>golf</td>\n",
              "      <td>125000</td>\n",
              "      <td>4</td>\n",
              "      <td>petrol</td>\n",
              "      <td>volkswagen</td>\n",
              "      <td>no</td>\n",
              "      <td>2016-03-30 00:00:00</td>\n",
              "      <td>0</td>\n",
              "      <td>50389</td>\n",
              "      <td>2016-04-03 09:45:19</td>\n",
              "    </tr>\n",
              "    <tr>\n",
              "      <th>55583</th>\n",
              "      <td>2016-03-15 21:57:27</td>\n",
              "      <td>1</td>\n",
              "      <td>sedan</td>\n",
              "      <td>1910</td>\n",
              "      <td>manual</td>\n",
              "      <td>0</td>\n",
              "      <td>3er</td>\n",
              "      <td>150000</td>\n",
              "      <td>1</td>\n",
              "      <td>petrol</td>\n",
              "      <td>bmw</td>\n",
              "      <td>no</td>\n",
              "      <td>2016-03-15 00:00:00</td>\n",
              "      <td>0</td>\n",
              "      <td>74074</td>\n",
              "      <td>2016-04-07 07:17:28</td>\n",
              "    </tr>\n",
              "    <tr>\n",
              "      <th>59296</th>\n",
              "      <td>2016-03-07 22:58:46</td>\n",
              "      <td>3400</td>\n",
              "      <td>small</td>\n",
              "      <td>1910</td>\n",
              "      <td>manual</td>\n",
              "      <td>90</td>\n",
              "      <td>beetle</td>\n",
              "      <td>90000</td>\n",
              "      <td>4</td>\n",
              "      <td>petrol</td>\n",
              "      <td>volkswagen</td>\n",
              "      <td>no</td>\n",
              "      <td>2016-03-07 00:00:00</td>\n",
              "      <td>0</td>\n",
              "      <td>34308</td>\n",
              "      <td>2016-03-12 08:16:51</td>\n",
              "    </tr>\n",
              "    <tr>\n",
              "      <th>67461</th>\n",
              "      <td>2016-03-27 23:46:28</td>\n",
              "      <td>500</td>\n",
              "      <td>small</td>\n",
              "      <td>1000</td>\n",
              "      <td>manual</td>\n",
              "      <td>0</td>\n",
              "      <td>golf</td>\n",
              "      <td>5000</td>\n",
              "      <td>1</td>\n",
              "      <td>petrol</td>\n",
              "      <td>volkswagen</td>\n",
              "      <td>no</td>\n",
              "      <td>2016-03-27 00:00:00</td>\n",
              "      <td>0</td>\n",
              "      <td>91628</td>\n",
              "      <td>2016-03-29 13:46:49</td>\n",
              "    </tr>\n",
              "    <tr>\n",
              "      <th>70624</th>\n",
              "      <td>2016-03-21 12:52:05</td>\n",
              "      <td>400</td>\n",
              "      <td>small</td>\n",
              "      <td>1910</td>\n",
              "      <td>manual</td>\n",
              "      <td>60</td>\n",
              "      <td>golf</td>\n",
              "      <td>150000</td>\n",
              "      <td>1</td>\n",
              "      <td>petrol</td>\n",
              "      <td>volkswagen</td>\n",
              "      <td>no</td>\n",
              "      <td>2016-03-21 00:00:00</td>\n",
              "      <td>0</td>\n",
              "      <td>29462</td>\n",
              "      <td>2016-03-25 09:17:54</td>\n",
              "    </tr>\n",
              "    <tr>\n",
              "      <th>74681</th>\n",
              "      <td>2016-03-15 18:47:30</td>\n",
              "      <td>4750</td>\n",
              "      <td>bus</td>\n",
              "      <td>1000</td>\n",
              "      <td>manual</td>\n",
              "      <td>0</td>\n",
              "      <td>other</td>\n",
              "      <td>5000</td>\n",
              "      <td>1</td>\n",
              "      <td>gasoline</td>\n",
              "      <td>renault</td>\n",
              "      <td>no</td>\n",
              "      <td>2016-03-15 00:00:00</td>\n",
              "      <td>0</td>\n",
              "      <td>66706</td>\n",
              "      <td>2016-04-06 20:19:21</td>\n",
              "    </tr>\n",
              "    <tr>\n",
              "      <th>78197</th>\n",
              "      <td>2016-03-14 08:51:18</td>\n",
              "      <td>500</td>\n",
              "      <td>small</td>\n",
              "      <td>1910</td>\n",
              "      <td>manual</td>\n",
              "      <td>0</td>\n",
              "      <td>corsa</td>\n",
              "      <td>150000</td>\n",
              "      <td>1</td>\n",
              "      <td>petrol</td>\n",
              "      <td>opel</td>\n",
              "      <td>no</td>\n",
              "      <td>2016-03-14 00:00:00</td>\n",
              "      <td>0</td>\n",
              "      <td>52393</td>\n",
              "      <td>2016-04-03 07:53:55</td>\n",
              "    </tr>\n",
              "    <tr>\n",
              "      <th>92323</th>\n",
              "      <td>2016-03-14 11:37:04</td>\n",
              "      <td>140</td>\n",
              "      <td>coupe</td>\n",
              "      <td>1000</td>\n",
              "      <td>auto</td>\n",
              "      <td>0</td>\n",
              "      <td>911</td>\n",
              "      <td>5000</td>\n",
              "      <td>1</td>\n",
              "      <td>petrol</td>\n",
              "      <td>porsche</td>\n",
              "      <td>no</td>\n",
              "      <td>2016-03-14 00:00:00</td>\n",
              "      <td>0</td>\n",
              "      <td>88630</td>\n",
              "      <td>2016-03-17 22:16:17</td>\n",
              "    </tr>\n",
              "    <tr>\n",
              "      <th>92628</th>\n",
              "      <td>2016-04-01 12:46:44</td>\n",
              "      <td>1</td>\n",
              "      <td>sedan</td>\n",
              "      <td>1910</td>\n",
              "      <td>manual</td>\n",
              "      <td>10</td>\n",
              "      <td>other</td>\n",
              "      <td>5000</td>\n",
              "      <td>2</td>\n",
              "      <td>gasoline</td>\n",
              "      <td>mercedes_benz</td>\n",
              "      <td>no</td>\n",
              "      <td>2016-04-01 00:00:00</td>\n",
              "      <td>0</td>\n",
              "      <td>70173</td>\n",
              "      <td>2016-04-01 12:46:44</td>\n",
              "    </tr>\n",
              "    <tr>\n",
              "      <th>98891</th>\n",
              "      <td>2016-03-27 13:52:26</td>\n",
              "      <td>100</td>\n",
              "      <td>wagon</td>\n",
              "      <td>1234</td>\n",
              "      <td>manual</td>\n",
              "      <td>0</td>\n",
              "      <td>156</td>\n",
              "      <td>5000</td>\n",
              "      <td>1</td>\n",
              "      <td>petrol</td>\n",
              "      <td>alfa_romeo</td>\n",
              "      <td>no</td>\n",
              "      <td>2016-03-27 00:00:00</td>\n",
              "      <td>0</td>\n",
              "      <td>21680</td>\n",
              "      <td>2016-04-07 09:46:20</td>\n",
              "    </tr>\n",
              "    <tr>\n",
              "      <th>112796</th>\n",
              "      <td>2016-03-18 10:37:00</td>\n",
              "      <td>1</td>\n",
              "      <td>sedan</td>\n",
              "      <td>1000</td>\n",
              "      <td>manual</td>\n",
              "      <td>1000</td>\n",
              "      <td>3er</td>\n",
              "      <td>5000</td>\n",
              "      <td>1</td>\n",
              "      <td>petrol</td>\n",
              "      <td>bmw</td>\n",
              "      <td>no</td>\n",
              "      <td>2016-03-18 00:00:00</td>\n",
              "      <td>0</td>\n",
              "      <td>94086</td>\n",
              "      <td>2016-04-05 22:16:13</td>\n",
              "    </tr>\n",
              "    <tr>\n",
              "      <th>114451</th>\n",
              "      <td>2016-03-06 23:48:12</td>\n",
              "      <td>100</td>\n",
              "      <td>suv</td>\n",
              "      <td>1500</td>\n",
              "      <td>auto</td>\n",
              "      <td>0</td>\n",
              "      <td>g_klasse</td>\n",
              "      <td>5000</td>\n",
              "      <td>1</td>\n",
              "      <td>gasoline</td>\n",
              "      <td>mercedes_benz</td>\n",
              "      <td>no</td>\n",
              "      <td>2016-03-06 00:00:00</td>\n",
              "      <td>0</td>\n",
              "      <td>10115</td>\n",
              "      <td>2016-04-04 05:15:40</td>\n",
              "    </tr>\n",
              "    <tr>\n",
              "      <th>118598</th>\n",
              "      <td>2016-03-15 18:38:53</td>\n",
              "      <td>7750</td>\n",
              "      <td>other</td>\n",
              "      <td>1001</td>\n",
              "      <td>manual</td>\n",
              "      <td>0</td>\n",
              "      <td>other</td>\n",
              "      <td>5000</td>\n",
              "      <td>1</td>\n",
              "      <td>gasoline</td>\n",
              "      <td>citroen</td>\n",
              "      <td>no</td>\n",
              "      <td>2016-03-15 00:00:00</td>\n",
              "      <td>0</td>\n",
              "      <td>66706</td>\n",
              "      <td>2016-04-06 18:47:20</td>\n",
              "    </tr>\n",
              "    <tr>\n",
              "      <th>120320</th>\n",
              "      <td>2016-03-07 11:53:10</td>\n",
              "      <td>99</td>\n",
              "      <td>small</td>\n",
              "      <td>1910</td>\n",
              "      <td>manual</td>\n",
              "      <td>0</td>\n",
              "      <td>a2</td>\n",
              "      <td>5000</td>\n",
              "      <td>1</td>\n",
              "      <td>petrol</td>\n",
              "      <td>audi</td>\n",
              "      <td>no</td>\n",
              "      <td>2016-03-07 00:00:00</td>\n",
              "      <td>0</td>\n",
              "      <td>91301</td>\n",
              "      <td>2016-04-05 13:46:12</td>\n",
              "    </tr>\n",
              "    <tr>\n",
              "      <th>122573</th>\n",
              "      <td>2016-03-05 17:55:26</td>\n",
              "      <td>275</td>\n",
              "      <td>sedan</td>\n",
              "      <td>1234</td>\n",
              "      <td>auto</td>\n",
              "      <td>0</td>\n",
              "      <td>e_klasse</td>\n",
              "      <td>5000</td>\n",
              "      <td>1</td>\n",
              "      <td>gasoline</td>\n",
              "      <td>mercedes_benz</td>\n",
              "      <td>no</td>\n",
              "      <td>2016-03-05 00:00:00</td>\n",
              "      <td>0</td>\n",
              "      <td>12627</td>\n",
              "      <td>2016-03-05 17:55:26</td>\n",
              "    </tr>\n",
              "    <tr>\n",
              "      <th>135062</th>\n",
              "      <td>2016-03-25 13:47:46</td>\n",
              "      <td>30</td>\n",
              "      <td>coupe</td>\n",
              "      <td>1910</td>\n",
              "      <td>manual</td>\n",
              "      <td>0</td>\n",
              "      <td>calibra</td>\n",
              "      <td>100000</td>\n",
              "      <td>1</td>\n",
              "      <td>petrol</td>\n",
              "      <td>opel</td>\n",
              "      <td>no</td>\n",
              "      <td>2016-03-25 00:00:00</td>\n",
              "      <td>0</td>\n",
              "      <td>47638</td>\n",
              "      <td>2016-03-26 23:46:29</td>\n",
              "    </tr>\n",
              "    <tr>\n",
              "      <th>135647</th>\n",
              "      <td>2016-03-17 23:40:11</td>\n",
              "      <td>550</td>\n",
              "      <td>small</td>\n",
              "      <td>1000</td>\n",
              "      <td>manual</td>\n",
              "      <td>1000</td>\n",
              "      <td>golf</td>\n",
              "      <td>5000</td>\n",
              "      <td>6</td>\n",
              "      <td>petrol</td>\n",
              "      <td>volkswagen</td>\n",
              "      <td>no</td>\n",
              "      <td>2016-03-17 00:00:00</td>\n",
              "      <td>0</td>\n",
              "      <td>91732</td>\n",
              "      <td>2016-03-26 05:18:19</td>\n",
              "    </tr>\n",
              "    <tr>\n",
              "      <th>136367</th>\n",
              "      <td>2016-03-09 20:52:32</td>\n",
              "      <td>50</td>\n",
              "      <td>convertible</td>\n",
              "      <td>1910</td>\n",
              "      <td>manual</td>\n",
              "      <td>0</td>\n",
              "      <td>kaefer</td>\n",
              "      <td>5000</td>\n",
              "      <td>1</td>\n",
              "      <td>petrol</td>\n",
              "      <td>volkswagen</td>\n",
              "      <td>no</td>\n",
              "      <td>2016-03-09 00:00:00</td>\n",
              "      <td>0</td>\n",
              "      <td>50374</td>\n",
              "      <td>2016-04-05 18:46:40</td>\n",
              "    </tr>\n",
              "    <tr>\n",
              "      <th>142869</th>\n",
              "      <td>2016-04-05 00:39:36</td>\n",
              "      <td>300</td>\n",
              "      <td>small</td>\n",
              "      <td>1910</td>\n",
              "      <td>manual</td>\n",
              "      <td>0</td>\n",
              "      <td>golf</td>\n",
              "      <td>150000</td>\n",
              "      <td>1</td>\n",
              "      <td>petrol</td>\n",
              "      <td>volkswagen</td>\n",
              "      <td>no</td>\n",
              "      <td>2016-04-04 00:00:00</td>\n",
              "      <td>0</td>\n",
              "      <td>89269</td>\n",
              "      <td>2016-04-05 05:42:22</td>\n",
              "    </tr>\n",
              "    <tr>\n",
              "      <th>179083</th>\n",
              "      <td>2016-03-29 16:56:41</td>\n",
              "      <td>1500</td>\n",
              "      <td>convertible</td>\n",
              "      <td>1000</td>\n",
              "      <td>manual</td>\n",
              "      <td>0</td>\n",
              "      <td>kaefer</td>\n",
              "      <td>5000</td>\n",
              "      <td>1</td>\n",
              "      <td>petrol</td>\n",
              "      <td>volkswagen</td>\n",
              "      <td>no</td>\n",
              "      <td>2016-03-29 00:00:00</td>\n",
              "      <td>0</td>\n",
              "      <td>48324</td>\n",
              "      <td>2016-03-31 10:15:28</td>\n",
              "    </tr>\n",
              "    <tr>\n",
              "      <th>181904</th>\n",
              "      <td>2016-03-31 15:47:24</td>\n",
              "      <td>20</td>\n",
              "      <td>wagon</td>\n",
              "      <td>1000</td>\n",
              "      <td>manual</td>\n",
              "      <td>0</td>\n",
              "      <td>156</td>\n",
              "      <td>5000</td>\n",
              "      <td>1</td>\n",
              "      <td>petrol</td>\n",
              "      <td>alfa_romeo</td>\n",
              "      <td>no</td>\n",
              "      <td>2016-03-31 00:00:00</td>\n",
              "      <td>0</td>\n",
              "      <td>31224</td>\n",
              "      <td>2016-04-06 08:46:00</td>\n",
              "    </tr>\n",
              "    <tr>\n",
              "      <th>184211</th>\n",
              "      <td>2016-03-25 17:50:45</td>\n",
              "      <td>25</td>\n",
              "      <td>suv</td>\n",
              "      <td>1000</td>\n",
              "      <td>manual</td>\n",
              "      <td>0</td>\n",
              "      <td>defender</td>\n",
              "      <td>5000</td>\n",
              "      <td>1</td>\n",
              "      <td>gasoline</td>\n",
              "      <td>land_rover</td>\n",
              "      <td>no</td>\n",
              "      <td>2016-03-25 00:00:00</td>\n",
              "      <td>0</td>\n",
              "      <td>57072</td>\n",
              "      <td>2016-04-06 23:16:28</td>\n",
              "    </tr>\n",
              "    <tr>\n",
              "      <th>184889</th>\n",
              "      <td>2016-03-28 23:40:10</td>\n",
              "      <td>1</td>\n",
              "      <td>bus</td>\n",
              "      <td>1800</td>\n",
              "      <td>manual</td>\n",
              "      <td>0</td>\n",
              "      <td>zafira</td>\n",
              "      <td>5000</td>\n",
              "      <td>1</td>\n",
              "      <td>gasoline</td>\n",
              "      <td>opel</td>\n",
              "      <td>no</td>\n",
              "      <td>2016-03-28 00:00:00</td>\n",
              "      <td>0</td>\n",
              "      <td>50171</td>\n",
              "      <td>2016-04-05 03:44:47</td>\n",
              "    </tr>\n",
              "    <tr>\n",
              "      <th>191846</th>\n",
              "      <td>2016-04-01 15:37:14</td>\n",
              "      <td>400</td>\n",
              "      <td>sedan</td>\n",
              "      <td>1910</td>\n",
              "      <td>manual</td>\n",
              "      <td>170</td>\n",
              "      <td>3er</td>\n",
              "      <td>5000</td>\n",
              "      <td>1</td>\n",
              "      <td>petrol</td>\n",
              "      <td>bmw</td>\n",
              "      <td>no</td>\n",
              "      <td>2016-04-01 00:00:00</td>\n",
              "      <td>0</td>\n",
              "      <td>66333</td>\n",
              "      <td>2016-04-03 11:48:08</td>\n",
              "    </tr>\n",
              "    <tr>\n",
              "      <th>192364</th>\n",
              "      <td>2016-03-10 15:36:35</td>\n",
              "      <td>180</td>\n",
              "      <td>wagon</td>\n",
              "      <td>1910</td>\n",
              "      <td>manual</td>\n",
              "      <td>0</td>\n",
              "      <td>mondeo</td>\n",
              "      <td>150000</td>\n",
              "      <td>2</td>\n",
              "      <td>petrol</td>\n",
              "      <td>ford</td>\n",
              "      <td>yes</td>\n",
              "      <td>2016-03-10 00:00:00</td>\n",
              "      <td>0</td>\n",
              "      <td>32832</td>\n",
              "      <td>2016-04-05 11:49:05</td>\n",
              "    </tr>\n",
              "    <tr>\n",
              "      <th>192564</th>\n",
              "      <td>2016-03-07 14:53:52</td>\n",
              "      <td>222</td>\n",
              "      <td>small</td>\n",
              "      <td>1910</td>\n",
              "      <td>manual</td>\n",
              "      <td>0</td>\n",
              "      <td>golf</td>\n",
              "      <td>5000</td>\n",
              "      <td>1</td>\n",
              "      <td>petrol</td>\n",
              "      <td>volkswagen</td>\n",
              "      <td>no</td>\n",
              "      <td>2016-03-07 00:00:00</td>\n",
              "      <td>0</td>\n",
              "      <td>26802</td>\n",
              "      <td>2016-03-12 04:15:30</td>\n",
              "    </tr>\n",
              "    <tr>\n",
              "      <th>201551</th>\n",
              "      <td>2016-03-08 12:06:22</td>\n",
              "      <td>380</td>\n",
              "      <td>coupe</td>\n",
              "      <td>1000</td>\n",
              "      <td>manual</td>\n",
              "      <td>0</td>\n",
              "      <td>6er</td>\n",
              "      <td>5000</td>\n",
              "      <td>1</td>\n",
              "      <td>petrol</td>\n",
              "      <td>bmw</td>\n",
              "      <td>no</td>\n",
              "      <td>2016-03-08 00:00:00</td>\n",
              "      <td>0</td>\n",
              "      <td>35102</td>\n",
              "      <td>2016-04-06 00:16:56</td>\n",
              "    </tr>\n",
              "    <tr>\n",
              "      <th>204637</th>\n",
              "      <td>2016-04-02 14:39:35</td>\n",
              "      <td>60</td>\n",
              "      <td>small</td>\n",
              "      <td>1000</td>\n",
              "      <td>manual</td>\n",
              "      <td>0</td>\n",
              "      <td>corsa</td>\n",
              "      <td>5000</td>\n",
              "      <td>1</td>\n",
              "      <td>petrol</td>\n",
              "      <td>opel</td>\n",
              "      <td>no</td>\n",
              "      <td>2016-04-02 00:00:00</td>\n",
              "      <td>0</td>\n",
              "      <td>41844</td>\n",
              "      <td>2016-04-02 14:39:35</td>\n",
              "    </tr>\n",
              "    <tr>\n",
              "      <th>206027</th>\n",
              "      <td>2016-03-16 12:46:55</td>\n",
              "      <td>7999</td>\n",
              "      <td>small</td>\n",
              "      <td>1800</td>\n",
              "      <td>manual</td>\n",
              "      <td>290</td>\n",
              "      <td>golf</td>\n",
              "      <td>5000</td>\n",
              "      <td>6</td>\n",
              "      <td>petrol</td>\n",
              "      <td>volkswagen</td>\n",
              "      <td>no</td>\n",
              "      <td>2016-03-16 00:00:00</td>\n",
              "      <td>0</td>\n",
              "      <td>15827</td>\n",
              "      <td>2016-03-29 20:47:40</td>\n",
              "    </tr>\n",
              "    <tr>\n",
              "      <th>206058</th>\n",
              "      <td>2016-03-23 00:49:23</td>\n",
              "      <td>1</td>\n",
              "      <td>convertible</td>\n",
              "      <td>1910</td>\n",
              "      <td>manual</td>\n",
              "      <td>0</td>\n",
              "      <td>other</td>\n",
              "      <td>5000</td>\n",
              "      <td>1</td>\n",
              "      <td>petrol</td>\n",
              "      <td>fiat</td>\n",
              "      <td>no</td>\n",
              "      <td>2016-03-22 00:00:00</td>\n",
              "      <td>0</td>\n",
              "      <td>47169</td>\n",
              "      <td>2016-04-05 01:44:25</td>\n",
              "    </tr>\n",
              "    <tr>\n",
              "      <th>211389</th>\n",
              "      <td>2016-03-20 07:37:16</td>\n",
              "      <td>1500</td>\n",
              "      <td>bus</td>\n",
              "      <td>1910</td>\n",
              "      <td>manual</td>\n",
              "      <td>999</td>\n",
              "      <td>espace</td>\n",
              "      <td>150000</td>\n",
              "      <td>1</td>\n",
              "      <td>petrol</td>\n",
              "      <td>renault</td>\n",
              "      <td>no</td>\n",
              "      <td>2016-03-20 00:00:00</td>\n",
              "      <td>0</td>\n",
              "      <td>24873</td>\n",
              "      <td>2016-04-06 04:45:40</td>\n",
              "    </tr>\n",
              "    <tr>\n",
              "      <th>238260</th>\n",
              "      <td>2016-03-27 16:39:58</td>\n",
              "      <td>149</td>\n",
              "      <td>small</td>\n",
              "      <td>1300</td>\n",
              "      <td>manual</td>\n",
              "      <td>0</td>\n",
              "      <td>1_reihe</td>\n",
              "      <td>5000</td>\n",
              "      <td>1</td>\n",
              "      <td>petrol</td>\n",
              "      <td>peugeot</td>\n",
              "      <td>no</td>\n",
              "      <td>2016-03-27 00:00:00</td>\n",
              "      <td>0</td>\n",
              "      <td>33605</td>\n",
              "      <td>2016-04-05 11:47:37</td>\n",
              "    </tr>\n",
              "    <tr>\n",
              "      <th>242143</th>\n",
              "      <td>2016-03-05 17:44:47</td>\n",
              "      <td>12500</td>\n",
              "      <td>small</td>\n",
              "      <td>1000</td>\n",
              "      <td>manual</td>\n",
              "      <td>200</td>\n",
              "      <td>golf</td>\n",
              "      <td>5000</td>\n",
              "      <td>1</td>\n",
              "      <td>petrol</td>\n",
              "      <td>volkswagen</td>\n",
              "      <td>no</td>\n",
              "      <td>2016-02-28 00:00:00</td>\n",
              "      <td>0</td>\n",
              "      <td>75378</td>\n",
              "      <td>2016-04-07 12:17:06</td>\n",
              "    </tr>\n",
              "    <tr>\n",
              "      <th>247284</th>\n",
              "      <td>2016-03-18 14:38:01</td>\n",
              "      <td>189</td>\n",
              "      <td>sedan</td>\n",
              "      <td>1910</td>\n",
              "      <td>manual</td>\n",
              "      <td>0</td>\n",
              "      <td>escort</td>\n",
              "      <td>150000</td>\n",
              "      <td>1</td>\n",
              "      <td>petrol</td>\n",
              "      <td>ford</td>\n",
              "      <td>no</td>\n",
              "      <td>2016-03-18 00:00:00</td>\n",
              "      <td>0</td>\n",
              "      <td>22926</td>\n",
              "      <td>2016-03-18 14:38:01</td>\n",
              "    </tr>\n",
              "    <tr>\n",
              "      <th>260052</th>\n",
              "      <td>2016-04-05 11:39:14</td>\n",
              "      <td>530</td>\n",
              "      <td>sedan</td>\n",
              "      <td>1000</td>\n",
              "      <td>auto</td>\n",
              "      <td>0</td>\n",
              "      <td>300c</td>\n",
              "      <td>5000</td>\n",
              "      <td>1</td>\n",
              "      <td>gasoline</td>\n",
              "      <td>chrysler</td>\n",
              "      <td>no</td>\n",
              "      <td>2016-04-05 00:00:00</td>\n",
              "      <td>0</td>\n",
              "      <td>52152</td>\n",
              "      <td>2016-04-05 11:39:14</td>\n",
              "    </tr>\n",
              "    <tr>\n",
              "      <th>260853</th>\n",
              "      <td>2016-03-31 14:58:25</td>\n",
              "      <td>300</td>\n",
              "      <td>small</td>\n",
              "      <td>1910</td>\n",
              "      <td>manual</td>\n",
              "      <td>0</td>\n",
              "      <td>polo</td>\n",
              "      <td>5000</td>\n",
              "      <td>1</td>\n",
              "      <td>petrol</td>\n",
              "      <td>volkswagen</td>\n",
              "      <td>no</td>\n",
              "      <td>2016-03-31 00:00:00</td>\n",
              "      <td>0</td>\n",
              "      <td>53902</td>\n",
              "      <td>2016-04-06 08:16:52</td>\n",
              "    </tr>\n",
              "    <tr>\n",
              "      <th>270908</th>\n",
              "      <td>2016-03-18 16:51:44</td>\n",
              "      <td>1</td>\n",
              "      <td>suv</td>\n",
              "      <td>1000</td>\n",
              "      <td>auto</td>\n",
              "      <td>174</td>\n",
              "      <td>touareg</td>\n",
              "      <td>5000</td>\n",
              "      <td>3</td>\n",
              "      <td>gasoline</td>\n",
              "      <td>volkswagen</td>\n",
              "      <td>no</td>\n",
              "      <td>2016-03-18 00:00:00</td>\n",
              "      <td>0</td>\n",
              "      <td>97616</td>\n",
              "      <td>2016-04-05 22:44:31</td>\n",
              "    </tr>\n",
              "    <tr>\n",
              "      <th>271265</th>\n",
              "      <td>2016-03-09 15:54:00</td>\n",
              "      <td>500</td>\n",
              "      <td>convertible</td>\n",
              "      <td>1602</td>\n",
              "      <td>manual</td>\n",
              "      <td>0</td>\n",
              "      <td>other</td>\n",
              "      <td>5000</td>\n",
              "      <td>1</td>\n",
              "      <td>petrol</td>\n",
              "      <td>bmw</td>\n",
              "      <td>yes</td>\n",
              "      <td>2016-03-09 00:00:00</td>\n",
              "      <td>0</td>\n",
              "      <td>30900</td>\n",
              "      <td>2016-03-10 12:17:35</td>\n",
              "    </tr>\n",
              "    <tr>\n",
              "      <th>287262</th>\n",
              "      <td>2016-03-26 19:55:31</td>\n",
              "      <td>150</td>\n",
              "      <td>small</td>\n",
              "      <td>1910</td>\n",
              "      <td>manual</td>\n",
              "      <td>0</td>\n",
              "      <td>ka</td>\n",
              "      <td>5000</td>\n",
              "      <td>1</td>\n",
              "      <td>petrol</td>\n",
              "      <td>ford</td>\n",
              "      <td>yes</td>\n",
              "      <td>2016-03-26 00:00:00</td>\n",
              "      <td>0</td>\n",
              "      <td>49419</td>\n",
              "      <td>2016-04-06 10:45:22</td>\n",
              "    </tr>\n",
              "    <tr>\n",
              "      <th>300348</th>\n",
              "      <td>2016-03-25 13:42:37</td>\n",
              "      <td>1</td>\n",
              "      <td>small</td>\n",
              "      <td>1910</td>\n",
              "      <td>manual</td>\n",
              "      <td>0</td>\n",
              "      <td>golf</td>\n",
              "      <td>125000</td>\n",
              "      <td>1</td>\n",
              "      <td>petrol</td>\n",
              "      <td>volkswagen</td>\n",
              "      <td>no</td>\n",
              "      <td>2016-03-25 00:00:00</td>\n",
              "      <td>0</td>\n",
              "      <td>54295</td>\n",
              "      <td>2016-04-06 15:44:48</td>\n",
              "    </tr>\n",
              "    <tr>\n",
              "      <th>301590</th>\n",
              "      <td>2016-03-25 18:58:52</td>\n",
              "      <td>480</td>\n",
              "      <td>wagon</td>\n",
              "      <td>1300</td>\n",
              "      <td>manual</td>\n",
              "      <td>0</td>\n",
              "      <td>astra</td>\n",
              "      <td>5000</td>\n",
              "      <td>1</td>\n",
              "      <td>gasoline</td>\n",
              "      <td>opel</td>\n",
              "      <td>no</td>\n",
              "      <td>2016-03-25 00:00:00</td>\n",
              "      <td>0</td>\n",
              "      <td>96160</td>\n",
              "      <td>2016-04-07 01:44:51</td>\n",
              "    </tr>\n",
              "    <tr>\n",
              "      <th>304047</th>\n",
              "      <td>2016-03-10 15:58:12</td>\n",
              "      <td>180</td>\n",
              "      <td>wagon</td>\n",
              "      <td>1910</td>\n",
              "      <td>manual</td>\n",
              "      <td>0</td>\n",
              "      <td>mondeo</td>\n",
              "      <td>150000</td>\n",
              "      <td>2</td>\n",
              "      <td>petrol</td>\n",
              "      <td>ford</td>\n",
              "      <td>yes</td>\n",
              "      <td>2016-03-10 00:00:00</td>\n",
              "      <td>0</td>\n",
              "      <td>32832</td>\n",
              "      <td>2016-04-05 13:19:00</td>\n",
              "    </tr>\n",
              "    <tr>\n",
              "      <th>321792</th>\n",
              "      <td>2016-04-04 23:55:47</td>\n",
              "      <td>700</td>\n",
              "      <td>wagon</td>\n",
              "      <td>1600</td>\n",
              "      <td>manual</td>\n",
              "      <td>1600</td>\n",
              "      <td>a3</td>\n",
              "      <td>150000</td>\n",
              "      <td>4</td>\n",
              "      <td>petrol</td>\n",
              "      <td>audi</td>\n",
              "      <td>no</td>\n",
              "      <td>2016-04-04 00:00:00</td>\n",
              "      <td>0</td>\n",
              "      <td>86343</td>\n",
              "      <td>2016-04-05 06:44:07</td>\n",
              "    </tr>\n",
              "    <tr>\n",
              "      <th>332100</th>\n",
              "      <td>2016-03-12 00:57:39</td>\n",
              "      <td>11500</td>\n",
              "      <td>wagon</td>\n",
              "      <td>1800</td>\n",
              "      <td>manual</td>\n",
              "      <td>16</td>\n",
              "      <td>other</td>\n",
              "      <td>5000</td>\n",
              "      <td>6</td>\n",
              "      <td>petrol</td>\n",
              "      <td>fiat</td>\n",
              "      <td>no</td>\n",
              "      <td>2016-03-11 00:00:00</td>\n",
              "      <td>0</td>\n",
              "      <td>16515</td>\n",
              "      <td>2016-04-05 19:47:27</td>\n",
              "    </tr>\n",
              "  </tbody>\n",
              "</table>\n",
              "</div>\n",
              "      <button class=\"colab-df-convert\" onclick=\"convertToInteractive('df-fe095280-ce3b-4f06-8b32-070c18ae7ceb')\"\n",
              "              title=\"Convert this dataframe to an interactive table.\"\n",
              "              style=\"display:none;\">\n",
              "        \n",
              "  <svg xmlns=\"http://www.w3.org/2000/svg\" height=\"24px\"viewBox=\"0 0 24 24\"\n",
              "       width=\"24px\">\n",
              "    <path d=\"M0 0h24v24H0V0z\" fill=\"none\"/>\n",
              "    <path d=\"M18.56 5.44l.94 2.06.94-2.06 2.06-.94-2.06-.94-.94-2.06-.94 2.06-2.06.94zm-11 1L8.5 8.5l.94-2.06 2.06-.94-2.06-.94L8.5 2.5l-.94 2.06-2.06.94zm10 10l.94 2.06.94-2.06 2.06-.94-2.06-.94-.94-2.06-.94 2.06-2.06.94z\"/><path d=\"M17.41 7.96l-1.37-1.37c-.4-.4-.92-.59-1.43-.59-.52 0-1.04.2-1.43.59L10.3 9.45l-7.72 7.72c-.78.78-.78 2.05 0 2.83L4 21.41c.39.39.9.59 1.41.59.51 0 1.02-.2 1.41-.59l7.78-7.78 2.81-2.81c.8-.78.8-2.07 0-2.86zM5.41 20L4 18.59l7.72-7.72 1.47 1.35L5.41 20z\"/>\n",
              "  </svg>\n",
              "      </button>\n",
              "      \n",
              "  <style>\n",
              "    .colab-df-container {\n",
              "      display:flex;\n",
              "      flex-wrap:wrap;\n",
              "      gap: 12px;\n",
              "    }\n",
              "\n",
              "    .colab-df-convert {\n",
              "      background-color: #E8F0FE;\n",
              "      border: none;\n",
              "      border-radius: 50%;\n",
              "      cursor: pointer;\n",
              "      display: none;\n",
              "      fill: #1967D2;\n",
              "      height: 32px;\n",
              "      padding: 0 0 0 0;\n",
              "      width: 32px;\n",
              "    }\n",
              "\n",
              "    .colab-df-convert:hover {\n",
              "      background-color: #E2EBFA;\n",
              "      box-shadow: 0px 1px 2px rgba(60, 64, 67, 0.3), 0px 1px 3px 1px rgba(60, 64, 67, 0.15);\n",
              "      fill: #174EA6;\n",
              "    }\n",
              "\n",
              "    [theme=dark] .colab-df-convert {\n",
              "      background-color: #3B4455;\n",
              "      fill: #D2E3FC;\n",
              "    }\n",
              "\n",
              "    [theme=dark] .colab-df-convert:hover {\n",
              "      background-color: #434B5C;\n",
              "      box-shadow: 0px 1px 3px 1px rgba(0, 0, 0, 0.15);\n",
              "      filter: drop-shadow(0px 1px 2px rgba(0, 0, 0, 0.3));\n",
              "      fill: #FFFFFF;\n",
              "    }\n",
              "  </style>\n",
              "\n",
              "      <script>\n",
              "        const buttonEl =\n",
              "          document.querySelector('#df-fe095280-ce3b-4f06-8b32-070c18ae7ceb button.colab-df-convert');\n",
              "        buttonEl.style.display =\n",
              "          google.colab.kernel.accessAllowed ? 'block' : 'none';\n",
              "\n",
              "        async function convertToInteractive(key) {\n",
              "          const element = document.querySelector('#df-fe095280-ce3b-4f06-8b32-070c18ae7ceb');\n",
              "          const dataTable =\n",
              "            await google.colab.kernel.invokeFunction('convertToInteractive',\n",
              "                                                     [key], {});\n",
              "          if (!dataTable) return;\n",
              "\n",
              "          const docLinkHtml = 'Like what you see? Visit the ' +\n",
              "            '<a target=\"_blank\" href=https://colab.research.google.com/notebooks/data_table.ipynb>data table notebook</a>'\n",
              "            + ' to learn more about interactive tables.';\n",
              "          element.innerHTML = '';\n",
              "          dataTable['output_type'] = 'display_data';\n",
              "          await google.colab.output.renderOutput(dataTable, element);\n",
              "          const docLink = document.createElement('div');\n",
              "          docLink.innerHTML = docLinkHtml;\n",
              "          element.appendChild(docLink);\n",
              "        }\n",
              "      </script>\n",
              "    </div>\n",
              "  </div>\n",
              "  "
            ]
          },
          "metadata": {},
          "execution_count": 22
        }
      ],
      "source": [
        "# Рассмотрим аномальные года поближе\n",
        "data.query('registrationyear <= 1910')"
      ]
    },
    {
      "cell_type": "markdown",
      "metadata": {
        "id": "Mifonqw6uS4R"
      },
      "source": [
        "Аномальные значения невозможно объяснить - к примеру год регистрации автомобиля - 1910, а бренд - Volkswagen. Это невозможно, ведь бренд был только основан в 1937 году (https://en.wikipedia.org/wiki/Volkswagen). Подобный пробел скорее всего указывает на синтетическую природу данных.\n",
        "\n",
        "Не представляется возможным преобразовать данные так, чтобы этот признак соответствовал реальности - видится безопасным преобразовать аномальные данные медианными по модели и брэнду."
      ]
    },
    {
      "cell_type": "code",
      "execution_count": 23,
      "metadata": {
        "id": "ctt3iS72uS4S"
      },
      "outputs": [],
      "source": [
        "data.loc[data.loc[:,'registrationyear'] < 1910, 'registrationyear'] = np.nan\n",
        "data.loc[data.loc[:,'registrationyear'] > 2019, 'registrationyear'] = np.nan\n",
        "data.registrationyear = data.registrationyear.fillna(data.groupby(['brand', 'model'])['registrationyear'].transform('median'))\n",
        "data.registrationyear = data.registrationyear.astype(int)"
      ]
    },
    {
      "cell_type": "markdown",
      "metadata": {
        "id": "o4Jty7NzuS4S"
      },
      "source": [
        "Известно, что самая мощная машина на 2022 год имеет мощность в 2012 л.с. (https://rating-avto.ru/cars/reyting-samyih-moschnyih-v-mire-avtomobiley.html). Удалим все аномальные значения свыше"
      ]
    },
    {
      "cell_type": "code",
      "execution_count": 24,
      "metadata": {
        "scrolled": true,
        "id": "SFZLZdTCuS4S",
        "outputId": "43908cbc-459a-484b-d669-d908098366e7",
        "colab": {
          "base_uri": "https://localhost:8080/"
        }
      },
      "outputs": [
        {
          "output_type": "stream",
          "name": "stdout",
          "text": [
            "Доля удалённых аномальных значений: 0.03%\n"
          ]
        }
      ],
      "source": [
        "print(f'Доля удалённых аномальных значений: {len(data.query(\"power > 2012\"))/len(data):.2%}')\n",
        "data = data[data['power'] <= 2012].reset_index(drop=True)"
      ]
    },
    {
      "cell_type": "markdown",
      "metadata": {
        "id": "NgJXQhLSuS4S"
      },
      "source": [
        "### Кодировка признаков и формирование выборок"
      ]
    },
    {
      "cell_type": "code",
      "execution_count": 25,
      "metadata": {
        "id": "bO_hPWyKuS4T"
      },
      "outputs": [],
      "source": [
        "# Избавимся от признаков, которые не видится целесообразным использовать при машинном обучении\n",
        "data = data.drop(['datecrawled', 'datecreated', 'numberofpictures', 'postalcode', 'lastseen'], axis=1)"
      ]
    },
    {
      "cell_type": "code",
      "execution_count": 26,
      "metadata": {
        "id": "jPsp-auyuS4T"
      },
      "outputs": [],
      "source": [
        "# Выделим категориальные признаки\n",
        "categorical_features = ['vehicletype', 'model', 'brand', 'fueltype',\n",
        "                        'notrepaired', 'gearbox', 'registrationmonth', 'registrationyear']\n",
        "\n",
        "# Преобразуем категориальные данные\n",
        "data_ordinal = encoder.fit_transform(data.loc[:, categorical_features])\n",
        "data_ordinal = pd.DataFrame(data_ordinal, columns=categorical_features)"
      ]
    },
    {
      "cell_type": "code",
      "execution_count": 27,
      "metadata": {
        "id": "fcC70GdkuS4T"
      },
      "outputs": [],
      "source": [
        "# Соберём закодированные категориальные данные и численные воедино\n",
        "data_new = data_ordinal.join(data.drop(categorical_features, axis=1))\n",
        "data_new[categorical_features] = data_new[categorical_features].astype(int)"
      ]
    },
    {
      "cell_type": "code",
      "execution_count": 28,
      "metadata": {
        "id": "4UmDryV_uS4U",
        "outputId": "5a69ccba-e657-40a8-d115-b5bedb245fbf",
        "colab": {
          "base_uri": "https://localhost:8080/"
        }
      },
      "outputs": [
        {
          "output_type": "stream",
          "name": "stdout",
          "text": [
            "Размеры выборок: \n",
            "features_train: (244480, 10) features_valid: (81494, 10) \n",
            "target_train: (244480,) target_valid: (81494,)\n"
          ]
        }
      ],
      "source": [
        "# Сформируем трейн/тест выборки\n",
        "X = data_new.drop('price', axis=1)\n",
        "y = data_new['price']\n",
        "\n",
        "X_train, X_test, y_train, y_test = train_test_split(X, y, test_size=0.25, random_state=777)\n",
        "\n",
        "print('Размеры выборок:',\n",
        "      '\\nfeatures_train:', X_train.shape,\n",
        "      'features_valid:', X_test.shape,\n",
        "     '\\ntarget_train:', y_train.shape,\n",
        "      'target_valid:', y_test.shape)"
      ]
    },
    {
      "cell_type": "markdown",
      "metadata": {
        "id": "OiPBxENzuS4U"
      },
      "source": [
        "Данные предобработаны и подготовлены, можно приступать к обучению моделей"
      ]
    },
    {
      "cell_type": "markdown",
      "metadata": {
        "id": "zZYdPTtiuS4U"
      },
      "source": [
        "## Обучение моделей"
      ]
    },
    {
      "cell_type": "markdown",
      "metadata": {
        "id": "sK-d6uR7uS4V"
      },
      "source": [
        "### Линейная регрессия"
      ]
    },
    {
      "cell_type": "code",
      "execution_count": 29,
      "metadata": {
        "scrolled": true,
        "id": "pVFrW0FSuS4V",
        "outputId": "22f0a0f6-8815-4a9c-d712-bfb4fb14a023",
        "colab": {
          "base_uri": "https://localhost:8080/"
        }
      },
      "outputs": [
        {
          "output_type": "stream",
          "name": "stdout",
          "text": [
            "Ошибка модели линейной регрессии: 3200.587\n",
            "\n"
          ]
        }
      ],
      "source": [
        "model_regression = LinearRegression()\n",
        "model_regression.fit(X_train, y_train)\n",
        "predictions_regression = model_regression.predict(X_test)\n",
        "rmse_regression = mean_squared_error(y_test, predictions_regression, squared=False)\n",
        "print(f'Ошибка модели линейной регрессии: {rmse_regression:.3f}\\n')"
      ]
    },
    {
      "cell_type": "markdown",
      "metadata": {
        "id": "lDKNA0qBuS4V"
      },
      "source": [
        "### Дерево регрессии"
      ]
    },
    {
      "cell_type": "code",
      "execution_count": 30,
      "metadata": {
        "id": "gzfnFWeWuS4V",
        "outputId": "dc3c5692-3d6c-4ab9-fe3a-ccebdb1e4699",
        "colab": {
          "base_uri": "https://localhost:8080/"
        }
      },
      "outputs": [
        {
          "output_type": "stream",
          "name": "stderr",
          "text": [
            "/usr/local/lib/python3.7/dist-packages/ipykernel_launcher.py:15: ExperimentalWarning: OptunaSearchCV is experimental (supported from v0.17.0). The interface can change in the future.\n",
            "  from ipykernel import kernelapp as app\n"
          ]
        },
        {
          "output_type": "stream",
          "name": "stdout",
          "text": [
            "Время тюнинга модели: 2.19 мин \n",
            "\n",
            "Лучшие параметры Дерева Регрессии: {'min_samples_leaf': 11, 'min_samples_split': 15, 'max_depth': 22}\n"
          ]
        }
      ],
      "source": [
        "# Найдём лучшие гиперпараметры через кросс-валидацию optuna\n",
        "\n",
        "tree_model = DecisionTreeRegressor(random_state=777)\n",
        "\n",
        "params_tree = {\n",
        "    'min_samples_leaf':opt_distr_int(2,15),\n",
        "    'min_samples_split':opt_distr_int(2,15),\n",
        "    'max_depth':opt_distr_int(2,25)\n",
        "    }\n",
        "\n",
        "start_time = time.time()\n",
        "\n",
        "optuna_tree = OptunaSearchCV(\n",
        "    tree_model, params_tree, n_trials=30,\n",
        "    random_state=777, scoring='neg_root_mean_squared_error')\n",
        "\n",
        "optuna_tree.fit(X_train, y_train)\n",
        "\n",
        "time_tuning_tree = round((time.time() - start_time)/60,2)\n",
        "print(f'Время тюнинга модели: {time_tuning_tree} мин \\n')\n",
        "\n",
        "tree_model = optuna_tree.best_estimator_\n",
        "\n",
        "print(f'Лучшие параметры Дерева Регрессии: {optuna_tree.best_params_}')"
      ]
    },
    {
      "cell_type": "code",
      "execution_count": 31,
      "metadata": {
        "id": "uw5ioGYFuS4W",
        "outputId": "851df8e7-3813-422a-8fa7-afc24643cc72",
        "colab": {
          "base_uri": "https://localhost:8080/"
        }
      },
      "outputs": [
        {
          "output_type": "stream",
          "name": "stdout",
          "text": [
            "Время обучения модели: 1.1275s\n"
          ]
        }
      ],
      "source": [
        "start_time = time.time()\n",
        "\n",
        "tree_model.fit(X_train, y_train)\n",
        "\n",
        "time_learn_tree = time.time() - start_time\n",
        "\n",
        "print(f'Время обучения модели: {time_learn_tree:.4f}s')"
      ]
    },
    {
      "cell_type": "code",
      "source": [
        "start_time = time.time()\n",
        "\n",
        "predictions_tree = tree_model.predict(X_test)\n",
        "\n",
        "time_predict_tree = time.time() - start_time\n",
        "\n",
        "print(f'Время предсказания модели: {time_predict_tree:.4f}s \\n')\n",
        "\n",
        "rmse_tree = mean_squared_error(y_test, predictions_tree, squared=False)\n",
        "print(f'RMSE модели дерева регрессии: {rmse_tree:.3f}')"
      ],
      "metadata": {
        "colab": {
          "base_uri": "https://localhost:8080/"
        },
        "id": "lvzdgOEJZXGu",
        "outputId": "284f3c5b-3f35-4d55-f998-685a7aaf14ef"
      },
      "execution_count": 32,
      "outputs": [
        {
          "output_type": "stream",
          "name": "stdout",
          "text": [
            "Время предсказания модели: 0.0345s \n",
            "\n",
            "RMSE модели дерева регрессии: 1811.031\n"
          ]
        }
      ]
    },
    {
      "cell_type": "code",
      "execution_count": 33,
      "metadata": {
        "id": "Z977lrD4uS4W",
        "outputId": "758ae5a2-7789-40d4-c130-449a84b3f88e",
        "colab": {
          "base_uri": "https://localhost:8080/",
          "height": 524
        }
      },
      "outputs": [
        {
          "output_type": "display_data",
          "data": {
            "text/plain": [
              "<Figure size 1152x504 with 1 Axes>"
            ],
            "image/png": "[encoded data removed]"
          },
          "metadata": {
            "needs_background": "light"
          }
        }
      ],
      "source": [
        "feature_importances_tree = pd.Series(tree_model.feature_importances_, index=X.columns).sort_values()\n",
        "feature_importances_tree.plot(kind='bar')\n",
        "plt.title(\"Важность признаков на дереве регрессии\")\n",
        "plt.ylabel('Важность')\n",
        "plt.show()"
      ]
    },
    {
      "cell_type": "markdown",
      "metadata": {
        "id": "J7VLOuw-uS4W"
      },
      "source": [
        "### Catboost"
      ]
    },
    {
      "cell_type": "code",
      "execution_count": 34,
      "metadata": {
        "id": "GpjJf8JxuS4X",
        "outputId": "039e3ddd-b769-4c1a-9270-b2aec0b38ebd",
        "colab": {
          "base_uri": "https://localhost:8080/"
        }
      },
      "outputs": [
        {
          "output_type": "stream",
          "name": "stderr",
          "text": [
            "/usr/local/lib/python3.7/dist-packages/ipykernel_launcher.py:15: ExperimentalWarning: OptunaSearchCV is experimental (supported from v0.17.0). The interface can change in the future.\n",
            "  from ipykernel import kernelapp as app\n"
          ]
        },
        {
          "output_type": "stream",
          "name": "stdout",
          "text": [
            "Время тюнинга модели: 4.91 мин \n",
            "\n",
            "Лучшие параметры CatBoostRegressor: {'iterations': 231, 'learning_rate': 0.49306656486620165, 'depth': 10}\n"
          ]
        }
      ],
      "source": [
        "# Найдём лучшие гиперпараметры через кросс-валидацию optuna\n",
        "\n",
        "cat_model = CatBoostRegressor(random_state=777, verbose=0)\n",
        "\n",
        "params_cat = {\n",
        "    'iterations':opt_distr_int(10,300),\n",
        "    'learning_rate':opt_distr_float(0.01,1.0),\n",
        "    'depth':opt_distr_int(1,10)\n",
        "    }\n",
        "\n",
        "start_time = time.time()\n",
        "\n",
        "optuna_cat = OptunaSearchCV(\n",
        "    cat_model, params_cat, n_trials=10,\n",
        "    random_state=777, scoring='neg_root_mean_squared_error')\n",
        "\n",
        "optuna_cat.fit(X_train, y_train)\n",
        "\n",
        "time_tuning_cat = round((time.time() - start_time)/60, 2)\n",
        "print(f'Время тюнинга модели: {time_tuning_cat} мин \\n')\n",
        "\n",
        "cat_model = optuna_cat.best_estimator_\n",
        "\n",
        "print(f'Лучшие параметры CatBoostRegressor: {optuna_cat.best_params_}')"
      ]
    },
    {
      "cell_type": "code",
      "execution_count": 35,
      "metadata": {
        "id": "83NiNuk8uS4X",
        "outputId": "4b3691cc-ba58-4735-a558-bc4f28582f7d",
        "colab": {
          "base_uri": "https://localhost:8080/"
        }
      },
      "outputs": [
        {
          "output_type": "stream",
          "name": "stdout",
          "text": [
            "Время обучения модели: 16.9886s\n"
          ]
        }
      ],
      "source": [
        "start_time = time.time()\n",
        "\n",
        "cat_model.fit(X_train, y_train)\n",
        "\n",
        "time_learn_cat = time.time() - start_time\n",
        "\n",
        "print(f'Время обучения модели: {time_learn_cat:.4f}s')"
      ]
    },
    {
      "cell_type": "code",
      "source": [
        "start_time = time.time()\n",
        "\n",
        "predictions_cat = cat_model.predict(X_test)\n",
        "\n",
        "time_predict_cat = time.time() - start_time\n",
        "\n",
        "print(f'Время предсказания модели: {time_predict_cat:.4f}s \\n')\n",
        "\n",
        "rmse_cat = mean_squared_error(y_test, predictions_cat, squared=False)\n",
        "print(f'RMSE модели CatBoostRegressor: {rmse_cat:.3f}')"
      ],
      "metadata": {
        "colab": {
          "base_uri": "https://localhost:8080/"
        },
        "id": "q23ZJk2TZl4D",
        "outputId": "dab833e3-7118-4cfb-8919-30dc401eaa54"
      },
      "execution_count": 36,
      "outputs": [
        {
          "output_type": "stream",
          "name": "stdout",
          "text": [
            "Время предсказания модели: 0.0926s \n",
            "\n",
            "RMSE модели CatBoostRegressor: 1612.718\n"
          ]
        }
      ]
    },
    {
      "cell_type": "code",
      "execution_count": 37,
      "metadata": {
        "id": "0cr26futuS4X",
        "outputId": "a1dd774c-7c85-463f-fc4a-d5217f087529",
        "colab": {
          "base_uri": "https://localhost:8080/",
          "height": 524
        }
      },
      "outputs": [
        {
          "output_type": "display_data",
          "data": {
            "text/plain": [
              "<Figure size 1152x504 with 1 Axes>"
            ],
            "image/png": "[encoded data removed]"
          },
          "metadata": {
            "needs_background": "light"
          }
        }
      ],
      "source": [
        "feature_importances_cat = pd.Series(cat_model.feature_importances_, index=X.columns).sort_values()\n",
        "feature_importances_cat.plot(kind='bar')\n",
        "plt.title(\"Важность признаков на модели Catboost\")\n",
        "plt.ylabel('Важность')\n",
        "plt.show()"
      ]
    },
    {
      "cell_type": "markdown",
      "metadata": {
        "id": "xkEWornTuS4Y"
      },
      "source": [
        "### LightGBM"
      ]
    },
    {
      "cell_type": "code",
      "execution_count": 38,
      "metadata": {
        "scrolled": true,
        "id": "exiu7pJOuS4Y",
        "outputId": "448fb74c-19c0-42ef-b3d4-2b94a9656e35",
        "colab": {
          "base_uri": "https://localhost:8080/"
        }
      },
      "outputs": [
        {
          "output_type": "stream",
          "name": "stderr",
          "text": [
            "/usr/local/lib/python3.7/dist-packages/ipykernel_launcher.py:15: ExperimentalWarning: OptunaSearchCV is experimental (supported from v0.17.0). The interface can change in the future.\n",
            "  from ipykernel import kernelapp as app\n"
          ]
        },
        {
          "output_type": "stream",
          "name": "stdout",
          "text": [
            "Время тюнинга модели: 1.75 мин \n",
            "\n",
            "Лучшие параметры LGBMRegressor: {'n_estimators': 231, 'learning_rate': 0.49306656486620165, 'max_depth': 10}\n"
          ]
        }
      ],
      "source": [
        "# Найдём лучшие гиперпараметры через кросс-валидацию optuna\n",
        "\n",
        "lgb_model = LGBMRegressor(random_state=777)\n",
        "\n",
        "params_lgb = {\n",
        "    'n_estimators':opt_distr_int(10,300),\n",
        "    'learning_rate':opt_distr_float(0.01,1.0),\n",
        "    'max_depth':opt_distr_int(1,10)\n",
        "    }\n",
        "\n",
        "start_time = time.time()\n",
        "\n",
        "optuna_lgb = OptunaSearchCV(\n",
        "    lgb_model, params_lgb, n_trials=10,\n",
        "    random_state=777, scoring='neg_root_mean_squared_error')\n",
        "\n",
        "optuna_lgb.fit(X_train, y_train)\n",
        "\n",
        "time_tuning_lgb = round((time.time() - start_time)/60, 2)\n",
        "print(f'Время тюнинга модели: {time_tuning_lgb} мин \\n')\n",
        "\n",
        "lgb_model = optuna_lgb.best_estimator_\n",
        "\n",
        "print(f'Лучшие параметры LGBMRegressor: {optuna_lgb.best_params_}')"
      ]
    },
    {
      "cell_type": "code",
      "execution_count": 39,
      "metadata": {
        "scrolled": false,
        "id": "_gse96HJuS4Z",
        "outputId": "7d311af2-9971-4d3f-b53b-e76c14ba1e82",
        "colab": {
          "base_uri": "https://localhost:8080/"
        }
      },
      "outputs": [
        {
          "output_type": "stream",
          "name": "stdout",
          "text": [
            "Время обучения модели: 2.7719s\n"
          ]
        }
      ],
      "source": [
        "start_time = time.time()\n",
        "\n",
        "lgb_model.fit(X_train, y_train)\n",
        "\n",
        "time_learn_lgb = time.time() - start_time\n",
        "\n",
        "print(f'Время обучения модели: {time_learn_lgb:.4f}s')"
      ]
    },
    {
      "cell_type": "code",
      "source": [
        "start_time = time.time()\n",
        "\n",
        "predictions_lgb = lgb_model.predict(X_test)\n",
        "\n",
        "time_predict_lgb = time.time() - start_time\n",
        "\n",
        "print(f'Время предсказания модели: {time_predict_lgb:.4f}s \\n')\n",
        "\n",
        "rmse_lgb = mean_squared_error(y_test, predictions_lgb, squared=False)\n",
        "print(f'RMSE модели LightGBMRegressor: {rmse_lgb:.3f}')"
      ],
      "metadata": {
        "colab": {
          "base_uri": "https://localhost:8080/"
        },
        "id": "DnbIreW9aBb5",
        "outputId": "fb52374a-47b7-4c40-fc6c-feae4717eaa4"
      },
      "execution_count": 40,
      "outputs": [
        {
          "output_type": "stream",
          "name": "stdout",
          "text": [
            "Время предсказания модели: 0.5429s \n",
            "\n",
            "RMSE модели LightGBMRegressor: 1620.588\n"
          ]
        }
      ]
    },
    {
      "cell_type": "code",
      "execution_count": 41,
      "metadata": {
        "id": "uO71ah-huS4Z",
        "outputId": "18726f9b-4652-4b53-f674-adeee28163fe",
        "colab": {
          "base_uri": "https://localhost:8080/",
          "height": 524
        }
      },
      "outputs": [
        {
          "output_type": "display_data",
          "data": {
            "text/plain": [
              "<Figure size 1152x504 with 1 Axes>"
            ],
            "image/png": "[encoded data removed]"
          },
          "metadata": {
            "needs_background": "light"
          }
        }
      ],
      "source": [
        "feature_importances_lgb = pd.Series(lgb_model.feature_importances_, index=X.columns).sort_values()\n",
        "feature_importances_lgb.plot(kind='bar')\n",
        "plt.title(\"Важность признаков на модели LightGBM\")\n",
        "plt.ylabel('Важность')\n",
        "plt.show()"
      ]
    },
    {
      "cell_type": "markdown",
      "metadata": {
        "id": "tBTzbcVEuS4a"
      },
      "source": [
        "### Проверка на адекватность"
      ]
    },
    {
      "cell_type": "code",
      "execution_count": 42,
      "metadata": {
        "id": "od2Oznk0uS4a",
        "outputId": "0fb04703-5199-43ef-be30-85863559de94",
        "colab": {
          "base_uri": "https://localhost:8080/"
        }
      },
      "outputs": [
        {
          "output_type": "stream",
          "name": "stdout",
          "text": [
            "RMSE модели пустышки при использовании стратегии mean: 4539.88\n",
            "RMSE модели пустышки при использовании стратегии median: 4839.62\n",
            "RMSE модели пустышки при использовании стратегии mode: 6135.17\n"
          ]
        }
      ],
      "source": [
        "for strat in ['mean', 'median', 'constant']:\n",
        "    if strat == 'constant':\n",
        "        # Используем моду при стратегии constant\n",
        "        model = DummyRegressor(strategy=strat, constant=np.argmax(np.bincount(y_test)))\n",
        "        strat = 'mode'\n",
        "    else:\n",
        "        model = DummyRegressor(strategy=strat)\n",
        "    model.fit(X_train, y_train)\n",
        "    predictions = model.predict(X_test)\n",
        "    rmse_dummy= mean_squared_error(y_test, predictions, squared=False)\n",
        "    print(f'RMSE модели пустышки при использовании стратегии {strat}: {rmse_dummy:.2f}')"
      ]
    },
    {
      "cell_type": "markdown",
      "source": [
        "Модели машинного обучения проходят проверку на адекватность - константные модели показывают намного худшие результаты"
      ],
      "metadata": {
        "id": "L14XSghvYcc_"
      }
    },
    {
      "cell_type": "markdown",
      "metadata": {
        "id": "hm_iFtz5uS4g"
      },
      "source": [
        "## Заключение"
      ]
    },
    {
      "cell_type": "code",
      "execution_count": 43,
      "metadata": {
        "id": "95o3KIC3uS4g",
        "outputId": "88e8105e-e646-4ab5-9c20-715077f23b0d",
        "colab": {
          "base_uri": "https://localhost:8080/",
          "height": 143
        }
      },
      "outputs": [
        {
          "output_type": "execute_result",
          "data": {
            "text/plain": [
              "                   Время обучения, c  ...  RMSE модели\n",
              "Дерево регрессии            1.127459  ...  1811.030856\n",
              "CatBoostRegressor          16.988576  ...  1612.717792\n",
              "LightGBMRegressor           2.771905  ...  1620.587917\n",
              "\n",
              "[3 rows x 4 columns]"
            ],
            "text/html": [
              "\n",
              "  <div id=\"df-9f358441-b479-46f6-8d8c-b4eec98424b7\">\n",
              "    <div class=\"colab-df-container\">\n",
              "      <div>\n",
              "<style scoped>\n",
              "    .dataframe tbody tr th:only-of-type {\n",
              "        vertical-align: middle;\n",
              "    }\n",
              "\n",
              "    .dataframe tbody tr th {\n",
              "        vertical-align: top;\n",
              "    }\n",
              "\n",
              "    .dataframe thead th {\n",
              "        text-align: right;\n",
              "    }\n",
              "</style>\n",
              "<table border=\"1\" class=\"dataframe\">\n",
              "  <thead>\n",
              "    <tr style=\"text-align: right;\">\n",
              "      <th></th>\n",
              "      <th>Время обучения, c</th>\n",
              "      <th>Время предсказания, с</th>\n",
              "      <th>Время тюнинга, мин</th>\n",
              "      <th>RMSE модели</th>\n",
              "    </tr>\n",
              "  </thead>\n",
              "  <tbody>\n",
              "    <tr>\n",
              "      <th>Дерево регрессии</th>\n",
              "      <td>1.127459</td>\n",
              "      <td>0.034466</td>\n",
              "      <td>2.19</td>\n",
              "      <td>1811.030856</td>\n",
              "    </tr>\n",
              "    <tr>\n",
              "      <th>CatBoostRegressor</th>\n",
              "      <td>16.988576</td>\n",
              "      <td>0.092638</td>\n",
              "      <td>4.91</td>\n",
              "      <td>1612.717792</td>\n",
              "    </tr>\n",
              "    <tr>\n",
              "      <th>LightGBMRegressor</th>\n",
              "      <td>2.771905</td>\n",
              "      <td>0.542894</td>\n",
              "      <td>1.75</td>\n",
              "      <td>1620.587917</td>\n",
              "    </tr>\n",
              "  </tbody>\n",
              "</table>\n",
              "</div>\n",
              "      <button class=\"colab-df-convert\" onclick=\"convertToInteractive('df-9f358441-b479-46f6-8d8c-b4eec98424b7')\"\n",
              "              title=\"Convert this dataframe to an interactive table.\"\n",
              "              style=\"display:none;\">\n",
              "        \n",
              "  <svg xmlns=\"http://www.w3.org/2000/svg\" height=\"24px\"viewBox=\"0 0 24 24\"\n",
              "       width=\"24px\">\n",
              "    <path d=\"M0 0h24v24H0V0z\" fill=\"none\"/>\n",
              "    <path d=\"M18.56 5.44l.94 2.06.94-2.06 2.06-.94-2.06-.94-.94-2.06-.94 2.06-2.06.94zm-11 1L8.5 8.5l.94-2.06 2.06-.94-2.06-.94L8.5 2.5l-.94 2.06-2.06.94zm10 10l.94 2.06.94-2.06 2.06-.94-2.06-.94-.94-2.06-.94 2.06-2.06.94z\"/><path d=\"M17.41 7.96l-1.37-1.37c-.4-.4-.92-.59-1.43-.59-.52 0-1.04.2-1.43.59L10.3 9.45l-7.72 7.72c-.78.78-.78 2.05 0 2.83L4 21.41c.39.39.9.59 1.41.59.51 0 1.02-.2 1.41-.59l7.78-7.78 2.81-2.81c.8-.78.8-2.07 0-2.86zM5.41 20L4 18.59l7.72-7.72 1.47 1.35L5.41 20z\"/>\n",
              "  </svg>\n",
              "      </button>\n",
              "      \n",
              "  <style>\n",
              "    .colab-df-container {\n",
              "      display:flex;\n",
              "      flex-wrap:wrap;\n",
              "      gap: 12px;\n",
              "    }\n",
              "\n",
              "    .colab-df-convert {\n",
              "      background-color: #E8F0FE;\n",
              "      border: none;\n",
              "      border-radius: 50%;\n",
              "      cursor: pointer;\n",
              "      display: none;\n",
              "      fill: #1967D2;\n",
              "      height: 32px;\n",
              "      padding: 0 0 0 0;\n",
              "      width: 32px;\n",
              "    }\n",
              "\n",
              "    .colab-df-convert:hover {\n",
              "      background-color: #E2EBFA;\n",
              "      box-shadow: 0px 1px 2px rgba(60, 64, 67, 0.3), 0px 1px 3px 1px rgba(60, 64, 67, 0.15);\n",
              "      fill: #174EA6;\n",
              "    }\n",
              "\n",
              "    [theme=dark] .colab-df-convert {\n",
              "      background-color: #3B4455;\n",
              "      fill: #D2E3FC;\n",
              "    }\n",
              "\n",
              "    [theme=dark] .colab-df-convert:hover {\n",
              "      background-color: #434B5C;\n",
              "      box-shadow: 0px 1px 3px 1px rgba(0, 0, 0, 0.15);\n",
              "      filter: drop-shadow(0px 1px 2px rgba(0, 0, 0, 0.3));\n",
              "      fill: #FFFFFF;\n",
              "    }\n",
              "  </style>\n",
              "\n",
              "      <script>\n",
              "        const buttonEl =\n",
              "          document.querySelector('#df-9f358441-b479-46f6-8d8c-b4eec98424b7 button.colab-df-convert');\n",
              "        buttonEl.style.display =\n",
              "          google.colab.kernel.accessAllowed ? 'block' : 'none';\n",
              "\n",
              "        async function convertToInteractive(key) {\n",
              "          const element = document.querySelector('#df-9f358441-b479-46f6-8d8c-b4eec98424b7');\n",
              "          const dataTable =\n",
              "            await google.colab.kernel.invokeFunction('convertToInteractive',\n",
              "                                                     [key], {});\n",
              "          if (!dataTable) return;\n",
              "\n",
              "          const docLinkHtml = 'Like what you see? Visit the ' +\n",
              "            '<a target=\"_blank\" href=https://colab.research.google.com/notebooks/data_table.ipynb>data table notebook</a>'\n",
              "            + ' to learn more about interactive tables.';\n",
              "          element.innerHTML = '';\n",
              "          dataTable['output_type'] = 'display_data';\n",
              "          await google.colab.output.renderOutput(dataTable, element);\n",
              "          const docLink = document.createElement('div');\n",
              "          docLink.innerHTML = docLinkHtml;\n",
              "          element.appendChild(docLink);\n",
              "        }\n",
              "      </script>\n",
              "    </div>\n",
              "  </div>\n",
              "  "
            ]
          },
          "metadata": {},
          "execution_count": 43
        }
      ],
      "source": [
        "# Составим таблицу полученных показателей моделей\n",
        "chars_tree = [time_learn_tree, time_predict_tree, time_tuning_tree, rmse_tree]\n",
        "chars_catb = [time_learn_cat, time_predict_cat, time_tuning_cat, rmse_cat]\n",
        "chars_lgb = [time_learn_lgb, time_predict_lgb, time_tuning_lgb, rmse_lgb]\n",
        "pd.DataFrame(\n",
        "    data=[chars_tree, chars_catb, chars_lgb],\n",
        "    columns=['Время обучения, c','Время предсказания, с', 'Время тюнинга, мин', 'RMSE модели'],\n",
        "    index=['Дерево регрессии', 'CatBoostRegressor', 'LightGBMRegressor']\n",
        ")"
      ]
    },
    {
      "cell_type": "markdown",
      "metadata": {
        "id": "EsvE2EVJuS4h"
      },
      "source": [
        "Лучше всего показали себя модели градиентного бустинга Catboost и LightGBM, их ошибки отличаются весьма незначительно в пользу Catboost, но на имеющемся датасете LightGBM обучается, предсказывает и тюнингуется быстрее в несколько раз\n",
        "\n",
        "В рамках решения задачи определения стоимости автомобилей я бы рекомендовал к использованию модель LightGBMRegressor, которая даёт быстрые и качественные предсказания при оптимальном времени настройки гиперпараметров."
      ]
    }
  ],
  "metadata": {
    "ExecuteTimeLog": [
      {
        "duration": 1402,
        "start_time": "2022-04-21T12:12:45.430Z"
      },
      {
        "duration": 3,
        "start_time": "2022-04-21T12:12:49.500Z"
      },
      {
        "duration": 146,
        "start_time": "2022-04-21T12:14:38.768Z"
      },
      {
        "duration": 13,
        "start_time": "2022-04-21T12:19:23.837Z"
      },
      {
        "duration": 82,
        "start_time": "2022-04-21T12:19:56.713Z"
      },
      {
        "duration": 1008,
        "start_time": "2022-04-21T12:21:13.115Z"
      },
      {
        "duration": 97,
        "start_time": "2022-04-21T12:21:27.287Z"
      },
      {
        "duration": 257,
        "start_time": "2022-04-21T12:21:33.412Z"
      },
      {
        "duration": 39,
        "start_time": "2022-04-21T12:22:37.402Z"
      },
      {
        "duration": 18,
        "start_time": "2022-04-21T12:23:09.894Z"
      },
      {
        "duration": 2700,
        "start_time": "2022-04-25T10:48:30.254Z"
      },
      {
        "duration": 103,
        "start_time": "2022-04-25T10:52:09.070Z"
      },
      {
        "duration": 3340,
        "start_time": "2022-04-25T10:52:14.540Z"
      },
      {
        "duration": 268,
        "start_time": "2022-04-25T10:52:17.882Z"
      },
      {
        "duration": 1159,
        "start_time": "2022-04-25T10:52:21.787Z"
      },
      {
        "duration": 3,
        "start_time": "2022-04-25T10:58:13.906Z"
      },
      {
        "duration": 5,
        "start_time": "2022-04-25T10:58:19.774Z"
      },
      {
        "duration": 82,
        "start_time": "2022-04-25T11:09:19.726Z"
      },
      {
        "duration": 5,
        "start_time": "2022-04-25T11:11:03.816Z"
      },
      {
        "duration": 42,
        "start_time": "2022-04-25T11:11:57.099Z"
      },
      {
        "duration": 25,
        "start_time": "2022-04-25T11:12:15.509Z"
      },
      {
        "duration": 5,
        "start_time": "2022-04-25T11:12:20.985Z"
      },
      {
        "duration": 91,
        "start_time": "2022-04-25T11:14:06.023Z"
      },
      {
        "duration": 197,
        "start_time": "2022-04-25T11:28:12.797Z"
      },
      {
        "duration": 191,
        "start_time": "2022-04-25T11:28:24.048Z"
      },
      {
        "duration": 1468,
        "start_time": "2022-04-25T11:28:48.006Z"
      },
      {
        "duration": 912,
        "start_time": "2022-04-25T11:28:49.477Z"
      },
      {
        "duration": 146,
        "start_time": "2022-04-25T11:28:50.391Z"
      },
      {
        "duration": 5,
        "start_time": "2022-04-25T11:28:51.361Z"
      },
      {
        "duration": 474,
        "start_time": "2022-04-25T11:28:53.079Z"
      },
      {
        "duration": 128,
        "start_time": "2022-04-25T11:31:25.950Z"
      },
      {
        "duration": 21,
        "start_time": "2022-04-25T11:33:58.814Z"
      },
      {
        "duration": 21,
        "start_time": "2022-04-25T11:37:34.231Z"
      },
      {
        "duration": 24,
        "start_time": "2022-04-25T11:37:57.993Z"
      },
      {
        "duration": 132,
        "start_time": "2022-04-25T11:39:55.910Z"
      },
      {
        "duration": 9,
        "start_time": "2022-04-25T11:40:11.172Z"
      },
      {
        "duration": 29,
        "start_time": "2022-04-25T11:40:14.844Z"
      },
      {
        "duration": 25,
        "start_time": "2022-04-25T11:40:25.087Z"
      },
      {
        "duration": 21,
        "start_time": "2022-04-25T11:40:56.920Z"
      },
      {
        "duration": 36,
        "start_time": "2022-04-25T11:43:00.132Z"
      },
      {
        "duration": 37,
        "start_time": "2022-04-25T11:43:05.263Z"
      },
      {
        "duration": 22,
        "start_time": "2022-04-25T11:44:37.730Z"
      },
      {
        "duration": 22,
        "start_time": "2022-04-25T11:44:48.793Z"
      },
      {
        "duration": 20,
        "start_time": "2022-04-25T11:44:51.281Z"
      },
      {
        "duration": 23,
        "start_time": "2022-04-25T11:45:16.804Z"
      },
      {
        "duration": 22,
        "start_time": "2022-04-25T11:46:24.433Z"
      },
      {
        "duration": 24,
        "start_time": "2022-04-25T11:47:50.711Z"
      },
      {
        "duration": 26,
        "start_time": "2022-04-25T11:50:03.863Z"
      },
      {
        "duration": 4,
        "start_time": "2022-04-25T12:02:10.648Z"
      },
      {
        "duration": 10,
        "start_time": "2022-04-25T12:03:33.683Z"
      },
      {
        "duration": 4,
        "start_time": "2022-04-25T12:03:36.554Z"
      },
      {
        "duration": 2,
        "start_time": "2022-04-25T12:03:36.764Z"
      },
      {
        "duration": 109,
        "start_time": "2022-04-25T12:14:28.665Z"
      },
      {
        "duration": 142,
        "start_time": "2022-04-25T12:15:17.647Z"
      },
      {
        "duration": 65,
        "start_time": "2022-04-25T12:19:09.812Z"
      },
      {
        "duration": 67,
        "start_time": "2022-04-25T12:19:16.309Z"
      },
      {
        "duration": 1574,
        "start_time": "2022-04-25T12:27:12.594Z"
      },
      {
        "duration": 2,
        "start_time": "2022-04-25T12:27:14.170Z"
      },
      {
        "duration": 975,
        "start_time": "2022-04-25T12:27:14.174Z"
      },
      {
        "duration": 158,
        "start_time": "2022-04-25T12:27:15.152Z"
      },
      {
        "duration": 5,
        "start_time": "2022-04-25T12:27:15.312Z"
      },
      {
        "duration": 164,
        "start_time": "2022-04-25T12:27:15.320Z"
      },
      {
        "duration": 144,
        "start_time": "2022-04-25T12:32:57.662Z"
      },
      {
        "duration": 26,
        "start_time": "2022-04-25T12:33:01.460Z"
      },
      {
        "duration": 68,
        "start_time": "2022-04-25T12:33:06.247Z"
      },
      {
        "duration": 124,
        "start_time": "2022-04-25T12:34:58.481Z"
      },
      {
        "duration": 91,
        "start_time": "2022-04-25T12:35:05.789Z"
      },
      {
        "duration": 136,
        "start_time": "2022-04-25T12:35:09.782Z"
      },
      {
        "duration": 71,
        "start_time": "2022-04-25T12:35:23.330Z"
      },
      {
        "duration": 147,
        "start_time": "2022-04-25T12:35:26.101Z"
      },
      {
        "duration": 2597,
        "start_time": "2022-04-25T12:35:42.137Z"
      },
      {
        "duration": 2,
        "start_time": "2022-04-25T12:35:44.736Z"
      },
      {
        "duration": 1017,
        "start_time": "2022-04-25T12:35:44.740Z"
      },
      {
        "duration": 179,
        "start_time": "2022-04-25T12:35:45.759Z"
      },
      {
        "duration": 8,
        "start_time": "2022-04-25T12:35:45.941Z"
      },
      {
        "duration": 148,
        "start_time": "2022-04-25T12:35:47.272Z"
      },
      {
        "duration": 24,
        "start_time": "2022-04-25T12:35:52.506Z"
      },
      {
        "duration": 77,
        "start_time": "2022-04-25T12:35:58.776Z"
      },
      {
        "duration": 159,
        "start_time": "2022-04-25T12:36:01.707Z"
      },
      {
        "duration": 4,
        "start_time": "2022-04-25T12:36:09.118Z"
      },
      {
        "duration": 8,
        "start_time": "2022-04-25T12:36:09.124Z"
      },
      {
        "duration": 932,
        "start_time": "2022-04-25T12:36:09.139Z"
      },
      {
        "duration": 142,
        "start_time": "2022-04-25T12:36:10.073Z"
      },
      {
        "duration": 5,
        "start_time": "2022-04-25T12:36:10.217Z"
      },
      {
        "duration": 146,
        "start_time": "2022-04-25T12:36:10.239Z"
      },
      {
        "duration": 1616,
        "start_time": "2022-04-25T12:36:14.152Z"
      },
      {
        "duration": 3,
        "start_time": "2022-04-25T12:36:15.769Z"
      },
      {
        "duration": 998,
        "start_time": "2022-04-25T12:36:15.774Z"
      },
      {
        "duration": 155,
        "start_time": "2022-04-25T12:36:16.774Z"
      },
      {
        "duration": 8,
        "start_time": "2022-04-25T12:36:16.930Z"
      },
      {
        "duration": 146,
        "start_time": "2022-04-25T12:36:18.644Z"
      },
      {
        "duration": 150,
        "start_time": "2022-04-25T12:37:26.900Z"
      },
      {
        "duration": 154,
        "start_time": "2022-04-25T12:37:40.275Z"
      },
      {
        "duration": 133,
        "start_time": "2022-04-25T12:37:43.548Z"
      },
      {
        "duration": 22,
        "start_time": "2022-04-25T12:37:49.467Z"
      },
      {
        "duration": 68,
        "start_time": "2022-04-25T12:37:51.644Z"
      },
      {
        "duration": 70,
        "start_time": "2022-04-25T12:38:08.820Z"
      },
      {
        "duration": 130,
        "start_time": "2022-04-25T12:38:14.689Z"
      },
      {
        "duration": 22,
        "start_time": "2022-04-25T12:39:54.662Z"
      },
      {
        "duration": 9,
        "start_time": "2022-04-25T12:44:36.282Z"
      },
      {
        "duration": 12,
        "start_time": "2022-04-25T12:44:42.196Z"
      },
      {
        "duration": 11,
        "start_time": "2022-04-25T12:44:45.455Z"
      },
      {
        "duration": 487,
        "start_time": "2022-04-25T12:44:53.409Z"
      },
      {
        "duration": 585,
        "start_time": "2022-04-25T12:45:22.786Z"
      },
      {
        "duration": 110,
        "start_time": "2022-04-25T12:45:26.946Z"
      },
      {
        "duration": 40,
        "start_time": "2022-04-25T12:47:58.107Z"
      },
      {
        "duration": 128,
        "start_time": "2022-04-25T12:48:27.389Z"
      },
      {
        "duration": 183,
        "start_time": "2022-04-25T12:48:37.447Z"
      },
      {
        "duration": 135,
        "start_time": "2022-04-25T12:48:39.805Z"
      },
      {
        "duration": 31,
        "start_time": "2022-04-25T12:48:51.201Z"
      },
      {
        "duration": 50,
        "start_time": "2022-04-25T12:55:45.878Z"
      },
      {
        "duration": 104,
        "start_time": "2022-04-25T12:55:49.444Z"
      },
      {
        "duration": 486,
        "start_time": "2022-04-25T12:56:53.747Z"
      },
      {
        "duration": 4,
        "start_time": "2022-04-25T12:57:44.430Z"
      },
      {
        "duration": 3,
        "start_time": "2022-04-25T12:57:58.481Z"
      },
      {
        "duration": 196,
        "start_time": "2022-04-25T12:58:21.756Z"
      },
      {
        "duration": 459,
        "start_time": "2022-04-25T12:58:31.325Z"
      },
      {
        "duration": 21,
        "start_time": "2022-04-25T12:58:41.273Z"
      },
      {
        "duration": 2926,
        "start_time": "2022-04-25T12:58:54.969Z"
      },
      {
        "duration": 179,
        "start_time": "2022-04-25T12:59:00.757Z"
      },
      {
        "duration": 174,
        "start_time": "2022-04-25T12:59:25.795Z"
      },
      {
        "duration": 160,
        "start_time": "2022-04-25T12:59:46.788Z"
      },
      {
        "duration": 165,
        "start_time": "2022-04-25T12:59:54.193Z"
      },
      {
        "duration": 157,
        "start_time": "2022-04-25T13:00:00.085Z"
      },
      {
        "duration": 168,
        "start_time": "2022-04-25T13:00:07.688Z"
      },
      {
        "duration": 166,
        "start_time": "2022-04-25T13:00:30.307Z"
      },
      {
        "duration": 243,
        "start_time": "2022-04-25T13:01:11.597Z"
      },
      {
        "duration": 1638,
        "start_time": "2022-04-25T13:03:20.208Z"
      },
      {
        "duration": 4,
        "start_time": "2022-04-25T13:03:21.848Z"
      },
      {
        "duration": 921,
        "start_time": "2022-04-25T13:03:21.853Z"
      },
      {
        "duration": 157,
        "start_time": "2022-04-25T13:03:22.776Z"
      },
      {
        "duration": 6,
        "start_time": "2022-04-25T13:03:22.935Z"
      },
      {
        "duration": 149,
        "start_time": "2022-04-25T13:03:22.942Z"
      },
      {
        "duration": 25,
        "start_time": "2022-04-25T13:03:23.093Z"
      },
      {
        "duration": 168,
        "start_time": "2022-04-25T13:03:23.119Z"
      },
      {
        "duration": 21,
        "start_time": "2022-04-25T13:03:23.289Z"
      },
      {
        "duration": 40,
        "start_time": "2022-04-25T13:03:23.313Z"
      },
      {
        "duration": 31,
        "start_time": "2022-04-25T13:03:23.354Z"
      },
      {
        "duration": 192,
        "start_time": "2022-04-25T13:03:23.386Z"
      },
      {
        "duration": 21,
        "start_time": "2022-04-25T13:03:23.580Z"
      },
      {
        "duration": 30,
        "start_time": "2022-04-25T13:03:23.603Z"
      },
      {
        "duration": 445,
        "start_time": "2022-04-25T13:03:23.635Z"
      },
      {
        "duration": 536,
        "start_time": "2022-04-25T13:03:24.082Z"
      },
      {
        "duration": 114,
        "start_time": "2022-04-25T13:03:24.620Z"
      },
      {
        "duration": 206,
        "start_time": "2022-04-25T13:03:24.735Z"
      },
      {
        "duration": 0,
        "start_time": "2022-04-25T13:03:24.942Z"
      },
      {
        "duration": 166,
        "start_time": "2022-04-25T13:03:34.154Z"
      },
      {
        "duration": 53,
        "start_time": "2022-04-25T13:03:49.513Z"
      },
      {
        "duration": 45,
        "start_time": "2022-04-25T13:03:56.073Z"
      },
      {
        "duration": 47,
        "start_time": "2022-04-25T13:04:00.348Z"
      },
      {
        "duration": 1563,
        "start_time": "2022-04-25T13:04:10.860Z"
      },
      {
        "duration": 3,
        "start_time": "2022-04-25T13:04:12.425Z"
      },
      {
        "duration": 909,
        "start_time": "2022-04-25T13:04:12.430Z"
      },
      {
        "duration": 136,
        "start_time": "2022-04-25T13:04:13.341Z"
      },
      {
        "duration": 5,
        "start_time": "2022-04-25T13:04:13.479Z"
      },
      {
        "duration": 148,
        "start_time": "2022-04-25T13:04:13.486Z"
      },
      {
        "duration": 24,
        "start_time": "2022-04-25T13:04:13.636Z"
      },
      {
        "duration": 152,
        "start_time": "2022-04-25T13:04:13.662Z"
      },
      {
        "duration": 26,
        "start_time": "2022-04-25T13:04:13.816Z"
      },
      {
        "duration": 46,
        "start_time": "2022-04-25T13:04:13.843Z"
      },
      {
        "duration": 35,
        "start_time": "2022-04-25T13:04:13.891Z"
      },
      {
        "duration": 186,
        "start_time": "2022-04-25T13:04:13.927Z"
      },
      {
        "duration": 21,
        "start_time": "2022-04-25T13:04:14.115Z"
      },
      {
        "duration": 25,
        "start_time": "2022-04-25T13:04:14.139Z"
      },
      {
        "duration": 439,
        "start_time": "2022-04-25T13:04:14.165Z"
      },
      {
        "duration": 562,
        "start_time": "2022-04-25T13:04:14.605Z"
      },
      {
        "duration": 101,
        "start_time": "2022-04-25T13:04:15.169Z"
      },
      {
        "duration": 61,
        "start_time": "2022-04-25T13:04:15.272Z"
      },
      {
        "duration": 3,
        "start_time": "2022-04-25T13:04:15.335Z"
      },
      {
        "duration": 8,
        "start_time": "2022-04-25T13:04:55.350Z"
      },
      {
        "duration": 5,
        "start_time": "2022-04-25T13:05:01.154Z"
      },
      {
        "duration": 122,
        "start_time": "2022-04-25T13:05:07.755Z"
      },
      {
        "duration": 4,
        "start_time": "2022-04-25T13:05:11.065Z"
      },
      {
        "duration": 5,
        "start_time": "2022-04-25T13:05:17.146Z"
      },
      {
        "duration": 6,
        "start_time": "2022-04-25T13:05:22.634Z"
      },
      {
        "duration": 7,
        "start_time": "2022-04-25T13:05:30.163Z"
      },
      {
        "duration": 10,
        "start_time": "2022-04-25T13:06:29.754Z"
      },
      {
        "duration": 11,
        "start_time": "2022-04-25T13:06:41.007Z"
      },
      {
        "duration": 6,
        "start_time": "2022-04-25T13:06:43.482Z"
      },
      {
        "duration": 7,
        "start_time": "2022-04-25T13:06:46.363Z"
      },
      {
        "duration": 4,
        "start_time": "2022-04-25T13:08:13.756Z"
      },
      {
        "duration": 11,
        "start_time": "2022-04-25T13:08:16.425Z"
      },
      {
        "duration": 11,
        "start_time": "2022-04-25T13:08:20.459Z"
      },
      {
        "duration": 6,
        "start_time": "2022-04-25T13:08:41.965Z"
      },
      {
        "duration": 158,
        "start_time": "2022-04-25T13:12:52.803Z"
      },
      {
        "duration": 9,
        "start_time": "2022-04-25T13:13:12.276Z"
      },
      {
        "duration": 16,
        "start_time": "2022-04-25T13:13:31.341Z"
      },
      {
        "duration": 11,
        "start_time": "2022-04-25T13:15:19.899Z"
      },
      {
        "duration": 6,
        "start_time": "2022-04-25T13:20:08.329Z"
      },
      {
        "duration": 8,
        "start_time": "2022-04-25T13:20:14.866Z"
      },
      {
        "duration": 8,
        "start_time": "2022-04-25T13:20:49.737Z"
      },
      {
        "duration": 7,
        "start_time": "2022-04-25T13:20:52.160Z"
      },
      {
        "duration": 9,
        "start_time": "2022-04-25T13:24:48.881Z"
      },
      {
        "duration": 7,
        "start_time": "2022-04-25T13:24:53.392Z"
      },
      {
        "duration": 9,
        "start_time": "2022-04-25T13:24:57.834Z"
      },
      {
        "duration": 7,
        "start_time": "2022-04-25T13:24:59.625Z"
      },
      {
        "duration": 6,
        "start_time": "2022-04-25T13:25:12.202Z"
      },
      {
        "duration": 1666,
        "start_time": "2022-04-25T13:26:08.000Z"
      },
      {
        "duration": 3,
        "start_time": "2022-04-25T13:26:09.669Z"
      },
      {
        "duration": 893,
        "start_time": "2022-04-25T13:26:09.673Z"
      },
      {
        "duration": 133,
        "start_time": "2022-04-25T13:26:10.568Z"
      },
      {
        "duration": 6,
        "start_time": "2022-04-25T13:26:10.703Z"
      },
      {
        "duration": 139,
        "start_time": "2022-04-25T13:26:10.710Z"
      },
      {
        "duration": 23,
        "start_time": "2022-04-25T13:26:10.851Z"
      },
      {
        "duration": 160,
        "start_time": "2022-04-25T13:26:10.876Z"
      },
      {
        "duration": 21,
        "start_time": "2022-04-25T13:26:11.038Z"
      },
      {
        "duration": 40,
        "start_time": "2022-04-25T13:26:11.061Z"
      },
      {
        "duration": 31,
        "start_time": "2022-04-25T13:26:11.103Z"
      },
      {
        "duration": 194,
        "start_time": "2022-04-25T13:26:11.136Z"
      },
      {
        "duration": 21,
        "start_time": "2022-04-25T13:26:11.332Z"
      },
      {
        "duration": 32,
        "start_time": "2022-04-25T13:26:11.356Z"
      },
      {
        "duration": 438,
        "start_time": "2022-04-25T13:26:11.390Z"
      },
      {
        "duration": 537,
        "start_time": "2022-04-25T13:26:11.830Z"
      },
      {
        "duration": 103,
        "start_time": "2022-04-25T13:26:12.369Z"
      },
      {
        "duration": 60,
        "start_time": "2022-04-25T13:26:12.474Z"
      },
      {
        "duration": 6,
        "start_time": "2022-04-25T13:26:12.536Z"
      },
      {
        "duration": 5,
        "start_time": "2022-04-25T13:27:07.423Z"
      },
      {
        "duration": 6,
        "start_time": "2022-04-25T13:28:07.805Z"
      },
      {
        "duration": 6,
        "start_time": "2022-04-25T13:28:10.503Z"
      },
      {
        "duration": 6,
        "start_time": "2022-04-25T13:28:16.877Z"
      },
      {
        "duration": 6,
        "start_time": "2022-04-25T13:28:25.048Z"
      },
      {
        "duration": 6,
        "start_time": "2022-04-25T13:28:27.473Z"
      },
      {
        "duration": 7,
        "start_time": "2022-04-25T13:29:17.791Z"
      },
      {
        "duration": 179,
        "start_time": "2022-04-25T13:29:23.511Z"
      },
      {
        "duration": 7,
        "start_time": "2022-04-25T13:29:26.711Z"
      },
      {
        "duration": 6,
        "start_time": "2022-04-25T13:29:48.481Z"
      },
      {
        "duration": 229,
        "start_time": "2022-04-25T13:30:03.711Z"
      },
      {
        "duration": 7,
        "start_time": "2022-04-25T13:30:26.042Z"
      },
      {
        "duration": 6,
        "start_time": "2022-04-25T13:30:28.844Z"
      },
      {
        "duration": 6,
        "start_time": "2022-04-25T13:30:47.552Z"
      },
      {
        "duration": 6,
        "start_time": "2022-04-25T13:30:49.151Z"
      },
      {
        "duration": 6,
        "start_time": "2022-04-25T13:30:50.383Z"
      },
      {
        "duration": 2213,
        "start_time": "2022-04-25T16:29:26.334Z"
      },
      {
        "duration": 3,
        "start_time": "2022-04-25T16:29:28.550Z"
      },
      {
        "duration": 1095,
        "start_time": "2022-04-25T16:29:28.555Z"
      },
      {
        "duration": 148,
        "start_time": "2022-04-25T16:29:29.652Z"
      },
      {
        "duration": 6,
        "start_time": "2022-04-25T16:29:29.802Z"
      },
      {
        "duration": 170,
        "start_time": "2022-04-25T16:29:29.810Z"
      },
      {
        "duration": 24,
        "start_time": "2022-04-25T16:29:29.981Z"
      },
      {
        "duration": 155,
        "start_time": "2022-04-25T16:29:30.007Z"
      },
      {
        "duration": 19,
        "start_time": "2022-04-25T16:29:30.163Z"
      },
      {
        "duration": 38,
        "start_time": "2022-04-25T16:29:30.185Z"
      },
      {
        "duration": 25,
        "start_time": "2022-04-25T16:29:30.225Z"
      },
      {
        "duration": 179,
        "start_time": "2022-04-25T16:29:30.251Z"
      },
      {
        "duration": 18,
        "start_time": "2022-04-25T16:29:30.432Z"
      },
      {
        "duration": 28,
        "start_time": "2022-04-25T16:29:30.452Z"
      },
      {
        "duration": 389,
        "start_time": "2022-04-25T16:29:30.481Z"
      },
      {
        "duration": 469,
        "start_time": "2022-04-25T16:29:30.871Z"
      },
      {
        "duration": 89,
        "start_time": "2022-04-25T16:29:31.341Z"
      },
      {
        "duration": 42,
        "start_time": "2022-04-25T16:29:31.432Z"
      },
      {
        "duration": 6,
        "start_time": "2022-04-25T16:29:31.476Z"
      },
      {
        "duration": 5,
        "start_time": "2022-04-25T16:29:33.685Z"
      },
      {
        "duration": 117,
        "start_time": "2022-04-25T16:30:39.004Z"
      },
      {
        "duration": 9,
        "start_time": "2022-04-25T16:31:29.637Z"
      },
      {
        "duration": 7,
        "start_time": "2022-04-25T16:31:32.560Z"
      },
      {
        "duration": 207,
        "start_time": "2022-04-25T16:32:17.445Z"
      },
      {
        "duration": 191,
        "start_time": "2022-04-25T16:32:23.296Z"
      },
      {
        "duration": 5,
        "start_time": "2022-04-25T16:34:10.572Z"
      },
      {
        "duration": 5,
        "start_time": "2022-04-25T16:34:12.586Z"
      },
      {
        "duration": 6,
        "start_time": "2022-04-25T16:34:17.480Z"
      },
      {
        "duration": 5,
        "start_time": "2022-04-25T16:34:19.688Z"
      },
      {
        "duration": 25,
        "start_time": "2022-04-25T16:34:28.128Z"
      },
      {
        "duration": 7,
        "start_time": "2022-04-25T16:34:30.492Z"
      },
      {
        "duration": 15,
        "start_time": "2022-04-25T16:34:47.247Z"
      },
      {
        "duration": 15,
        "start_time": "2022-04-25T16:35:11.075Z"
      },
      {
        "duration": 15,
        "start_time": "2022-04-25T16:35:12.276Z"
      },
      {
        "duration": 6,
        "start_time": "2022-04-25T16:35:13.681Z"
      },
      {
        "duration": 15,
        "start_time": "2022-04-25T16:35:39.886Z"
      },
      {
        "duration": 1868,
        "start_time": "2022-04-25T16:36:03.396Z"
      },
      {
        "duration": 3,
        "start_time": "2022-04-25T16:36:05.266Z"
      },
      {
        "duration": 774,
        "start_time": "2022-04-25T16:36:05.271Z"
      },
      {
        "duration": 133,
        "start_time": "2022-04-25T16:36:06.046Z"
      },
      {
        "duration": 4,
        "start_time": "2022-04-25T16:36:06.181Z"
      },
      {
        "duration": 150,
        "start_time": "2022-04-25T16:36:06.187Z"
      },
      {
        "duration": 26,
        "start_time": "2022-04-25T16:36:06.340Z"
      },
      {
        "duration": 148,
        "start_time": "2022-04-25T16:36:06.368Z"
      },
      {
        "duration": 19,
        "start_time": "2022-04-25T16:36:06.518Z"
      },
      {
        "duration": 21,
        "start_time": "2022-04-25T16:36:06.540Z"
      },
      {
        "duration": 42,
        "start_time": "2022-04-25T16:36:06.562Z"
      },
      {
        "duration": 194,
        "start_time": "2022-04-25T16:36:06.606Z"
      },
      {
        "duration": 30,
        "start_time": "2022-04-25T16:36:06.805Z"
      },
      {
        "duration": 19,
        "start_time": "2022-04-25T16:36:06.837Z"
      },
      {
        "duration": 397,
        "start_time": "2022-04-25T16:36:06.857Z"
      },
      {
        "duration": 475,
        "start_time": "2022-04-25T16:36:07.255Z"
      },
      {
        "duration": 91,
        "start_time": "2022-04-25T16:36:07.732Z"
      },
      {
        "duration": 44,
        "start_time": "2022-04-25T16:36:07.825Z"
      },
      {
        "duration": 7,
        "start_time": "2022-04-25T16:36:07.870Z"
      },
      {
        "duration": 25,
        "start_time": "2022-04-25T16:36:07.878Z"
      },
      {
        "duration": 143,
        "start_time": "2022-04-25T16:36:10.580Z"
      },
      {
        "duration": 12,
        "start_time": "2022-04-25T16:36:48.163Z"
      },
      {
        "duration": 5,
        "start_time": "2022-04-25T16:36:52.825Z"
      },
      {
        "duration": 11,
        "start_time": "2022-04-25T16:36:54.368Z"
      },
      {
        "duration": 12,
        "start_time": "2022-04-25T16:37:00.290Z"
      },
      {
        "duration": 11,
        "start_time": "2022-04-25T16:37:25.652Z"
      },
      {
        "duration": 13,
        "start_time": "2022-04-25T16:37:31.214Z"
      },
      {
        "duration": 216,
        "start_time": "2022-04-25T16:40:46.052Z"
      },
      {
        "duration": 13,
        "start_time": "2022-04-25T16:40:55.162Z"
      },
      {
        "duration": 248,
        "start_time": "2022-04-25T16:40:58.301Z"
      },
      {
        "duration": 15,
        "start_time": "2022-04-25T16:41:01.413Z"
      },
      {
        "duration": 6,
        "start_time": "2022-04-25T16:41:09.890Z"
      },
      {
        "duration": 8,
        "start_time": "2022-04-25T16:41:11.936Z"
      },
      {
        "duration": 12,
        "start_time": "2022-04-25T16:41:33.775Z"
      },
      {
        "duration": 5,
        "start_time": "2022-04-25T16:41:35.616Z"
      },
      {
        "duration": 6,
        "start_time": "2022-04-25T16:41:39.930Z"
      },
      {
        "duration": 6,
        "start_time": "2022-04-25T16:41:42.295Z"
      },
      {
        "duration": 1515,
        "start_time": "2022-04-25T16:42:07.330Z"
      },
      {
        "duration": 3,
        "start_time": "2022-04-25T16:42:08.848Z"
      },
      {
        "duration": 795,
        "start_time": "2022-04-25T16:42:08.853Z"
      },
      {
        "duration": 129,
        "start_time": "2022-04-25T16:42:09.650Z"
      },
      {
        "duration": 4,
        "start_time": "2022-04-25T16:42:09.781Z"
      },
      {
        "duration": 147,
        "start_time": "2022-04-25T16:42:09.787Z"
      },
      {
        "duration": 21,
        "start_time": "2022-04-25T16:42:09.936Z"
      },
      {
        "duration": 134,
        "start_time": "2022-04-25T16:42:09.958Z"
      },
      {
        "duration": 28,
        "start_time": "2022-04-25T16:42:10.094Z"
      },
      {
        "duration": 19,
        "start_time": "2022-04-25T16:42:10.124Z"
      },
      {
        "duration": 21,
        "start_time": "2022-04-25T16:42:10.145Z"
      },
      {
        "duration": 211,
        "start_time": "2022-04-25T16:42:10.168Z"
      },
      {
        "duration": 22,
        "start_time": "2022-04-25T16:42:10.380Z"
      },
      {
        "duration": 38,
        "start_time": "2022-04-25T16:42:10.403Z"
      },
      {
        "duration": 375,
        "start_time": "2022-04-25T16:42:10.443Z"
      },
      {
        "duration": 465,
        "start_time": "2022-04-25T16:42:10.820Z"
      },
      {
        "duration": 83,
        "start_time": "2022-04-25T16:42:11.286Z"
      },
      {
        "duration": 55,
        "start_time": "2022-04-25T16:42:11.370Z"
      },
      {
        "duration": 5,
        "start_time": "2022-04-25T16:42:11.427Z"
      },
      {
        "duration": 5,
        "start_time": "2022-04-25T16:42:11.433Z"
      },
      {
        "duration": 13,
        "start_time": "2022-04-25T16:42:11.440Z"
      },
      {
        "duration": 2,
        "start_time": "2022-04-25T16:42:11.455Z"
      },
      {
        "duration": 6,
        "start_time": "2022-04-25T16:42:16.279Z"
      },
      {
        "duration": 6,
        "start_time": "2022-04-25T16:42:19.859Z"
      },
      {
        "duration": 3230,
        "start_time": "2022-04-25T16:42:33.949Z"
      },
      {
        "duration": 3,
        "start_time": "2022-04-25T16:42:37.181Z"
      },
      {
        "duration": 776,
        "start_time": "2022-04-25T16:42:37.185Z"
      },
      {
        "duration": 139,
        "start_time": "2022-04-25T16:42:37.963Z"
      },
      {
        "duration": 7,
        "start_time": "2022-04-25T16:42:38.106Z"
      },
      {
        "duration": 125,
        "start_time": "2022-04-25T16:42:38.115Z"
      },
      {
        "duration": 20,
        "start_time": "2022-04-25T16:42:38.241Z"
      },
      {
        "duration": 131,
        "start_time": "2022-04-25T16:42:38.262Z"
      },
      {
        "duration": 25,
        "start_time": "2022-04-25T16:42:38.395Z"
      },
      {
        "duration": 17,
        "start_time": "2022-04-25T16:42:38.423Z"
      },
      {
        "duration": 22,
        "start_time": "2022-04-25T16:42:38.441Z"
      },
      {
        "duration": 194,
        "start_time": "2022-04-25T16:42:38.465Z"
      },
      {
        "duration": 20,
        "start_time": "2022-04-25T16:42:38.661Z"
      },
      {
        "duration": 34,
        "start_time": "2022-04-25T16:42:38.683Z"
      },
      {
        "duration": 384,
        "start_time": "2022-04-25T16:42:38.719Z"
      },
      {
        "duration": 494,
        "start_time": "2022-04-25T16:42:39.104Z"
      },
      {
        "duration": 81,
        "start_time": "2022-04-25T16:42:39.600Z"
      },
      {
        "duration": 57,
        "start_time": "2022-04-25T16:42:39.682Z"
      },
      {
        "duration": 5,
        "start_time": "2022-04-25T16:42:39.741Z"
      },
      {
        "duration": 5,
        "start_time": "2022-04-25T16:42:44.454Z"
      },
      {
        "duration": 47,
        "start_time": "2022-04-25T16:44:45.867Z"
      },
      {
        "duration": 10,
        "start_time": "2022-04-25T16:44:50.387Z"
      },
      {
        "duration": 7,
        "start_time": "2022-04-25T16:44:56.417Z"
      },
      {
        "duration": 43,
        "start_time": "2022-04-25T16:45:58.627Z"
      },
      {
        "duration": 5,
        "start_time": "2022-04-25T16:46:01.412Z"
      },
      {
        "duration": 6,
        "start_time": "2022-04-25T16:46:04.229Z"
      },
      {
        "duration": 4,
        "start_time": "2022-04-25T16:48:03.511Z"
      },
      {
        "duration": 9,
        "start_time": "2022-04-25T16:48:20.889Z"
      },
      {
        "duration": 4,
        "start_time": "2022-04-25T16:48:37.634Z"
      },
      {
        "duration": 181,
        "start_time": "2022-04-25T16:48:46.305Z"
      },
      {
        "duration": 7,
        "start_time": "2022-04-25T16:52:12.413Z"
      },
      {
        "duration": 5,
        "start_time": "2022-04-26T09:49:40.512Z"
      },
      {
        "duration": 7,
        "start_time": "2022-04-26T09:49:40.518Z"
      },
      {
        "duration": 816,
        "start_time": "2022-04-26T09:49:40.526Z"
      },
      {
        "duration": 137,
        "start_time": "2022-04-26T09:49:41.344Z"
      },
      {
        "duration": 10,
        "start_time": "2022-04-26T09:49:41.483Z"
      },
      {
        "duration": 123,
        "start_time": "2022-04-26T09:49:41.497Z"
      },
      {
        "duration": 22,
        "start_time": "2022-04-26T09:49:41.621Z"
      },
      {
        "duration": 109,
        "start_time": "2022-04-26T09:49:41.644Z"
      },
      {
        "duration": 21,
        "start_time": "2022-04-26T09:49:41.755Z"
      },
      {
        "duration": 29,
        "start_time": "2022-04-26T09:49:41.778Z"
      },
      {
        "duration": 23,
        "start_time": "2022-04-26T09:49:41.808Z"
      },
      {
        "duration": 215,
        "start_time": "2022-04-26T09:49:41.833Z"
      },
      {
        "duration": 19,
        "start_time": "2022-04-26T09:49:42.050Z"
      },
      {
        "duration": 22,
        "start_time": "2022-04-26T09:49:42.071Z"
      },
      {
        "duration": 388,
        "start_time": "2022-04-26T09:49:42.095Z"
      },
      {
        "duration": 542,
        "start_time": "2022-04-26T09:49:42.484Z"
      },
      {
        "duration": 86,
        "start_time": "2022-04-26T09:49:43.028Z"
      },
      {
        "duration": 49,
        "start_time": "2022-04-26T09:49:43.116Z"
      },
      {
        "duration": 8,
        "start_time": "2022-04-26T09:49:43.167Z"
      },
      {
        "duration": 75,
        "start_time": "2022-04-26T09:49:43.177Z"
      },
      {
        "duration": 8,
        "start_time": "2022-04-26T09:49:43.254Z"
      },
      {
        "duration": 3,
        "start_time": "2022-04-26T09:49:43.263Z"
      },
      {
        "duration": 45,
        "start_time": "2022-04-26T09:51:01.306Z"
      },
      {
        "duration": 34,
        "start_time": "2022-04-26T09:53:30.805Z"
      },
      {
        "duration": 131,
        "start_time": "2022-04-26T10:01:11.547Z"
      },
      {
        "duration": 261,
        "start_time": "2022-04-26T10:01:25.683Z"
      },
      {
        "duration": 112,
        "start_time": "2022-04-26T10:03:08.033Z"
      },
      {
        "duration": 25,
        "start_time": "2022-04-26T10:03:14.610Z"
      },
      {
        "duration": 2372,
        "start_time": "2022-04-26T10:05:25.457Z"
      },
      {
        "duration": 21,
        "start_time": "2022-04-26T10:05:49.401Z"
      },
      {
        "duration": 9,
        "start_time": "2022-04-26T10:05:54.528Z"
      },
      {
        "duration": 726,
        "start_time": "2022-04-26T10:06:19.506Z"
      },
      {
        "duration": 27,
        "start_time": "2022-04-26T10:07:10.874Z"
      },
      {
        "duration": 9,
        "start_time": "2022-04-26T10:07:11.891Z"
      },
      {
        "duration": 2384,
        "start_time": "2022-04-26T10:07:23.288Z"
      },
      {
        "duration": 27,
        "start_time": "2022-04-26T10:08:24.486Z"
      },
      {
        "duration": 85,
        "start_time": "2022-04-26T10:08:54.567Z"
      },
      {
        "duration": 1738,
        "start_time": "2022-04-26T10:09:18.087Z"
      },
      {
        "duration": 4,
        "start_time": "2022-04-26T10:09:19.827Z"
      },
      {
        "duration": 790,
        "start_time": "2022-04-26T10:09:19.833Z"
      },
      {
        "duration": 128,
        "start_time": "2022-04-26T10:09:20.626Z"
      },
      {
        "duration": 5,
        "start_time": "2022-04-26T10:09:20.756Z"
      },
      {
        "duration": 134,
        "start_time": "2022-04-26T10:09:20.762Z"
      },
      {
        "duration": 23,
        "start_time": "2022-04-26T10:09:20.897Z"
      },
      {
        "duration": 138,
        "start_time": "2022-04-26T10:09:20.921Z"
      },
      {
        "duration": 20,
        "start_time": "2022-04-26T10:09:21.060Z"
      },
      {
        "duration": 26,
        "start_time": "2022-04-26T10:09:21.083Z"
      },
      {
        "duration": 31,
        "start_time": "2022-04-26T10:09:21.110Z"
      },
      {
        "duration": 172,
        "start_time": "2022-04-26T10:09:21.143Z"
      },
      {
        "duration": 18,
        "start_time": "2022-04-26T10:09:21.317Z"
      },
      {
        "duration": 52,
        "start_time": "2022-04-26T10:09:21.337Z"
      },
      {
        "duration": 368,
        "start_time": "2022-04-26T10:09:21.391Z"
      },
      {
        "duration": 640,
        "start_time": "2022-04-26T10:09:21.761Z"
      },
      {
        "duration": 126,
        "start_time": "2022-04-26T10:09:22.403Z"
      },
      {
        "duration": 63,
        "start_time": "2022-04-26T10:09:22.531Z"
      },
      {
        "duration": 9,
        "start_time": "2022-04-26T10:09:22.596Z"
      },
      {
        "duration": 105,
        "start_time": "2022-04-26T10:09:22.606Z"
      },
      {
        "duration": 322,
        "start_time": "2022-04-26T10:09:22.713Z"
      },
      {
        "duration": 125,
        "start_time": "2022-04-26T10:09:23.037Z"
      },
      {
        "duration": 122,
        "start_time": "2022-04-26T10:09:23.164Z"
      },
      {
        "duration": 132,
        "start_time": "2022-04-26T10:09:23.288Z"
      },
      {
        "duration": 0,
        "start_time": "2022-04-26T10:09:23.422Z"
      },
      {
        "duration": 0,
        "start_time": "2022-04-26T10:09:23.423Z"
      },
      {
        "duration": 1590,
        "start_time": "2022-04-26T10:09:44.638Z"
      },
      {
        "duration": 4,
        "start_time": "2022-04-26T10:09:46.230Z"
      },
      {
        "duration": 1037,
        "start_time": "2022-04-26T10:09:46.236Z"
      },
      {
        "duration": 208,
        "start_time": "2022-04-26T10:09:47.275Z"
      },
      {
        "duration": 7,
        "start_time": "2022-04-26T10:09:47.494Z"
      },
      {
        "duration": 142,
        "start_time": "2022-04-26T10:09:47.503Z"
      },
      {
        "duration": 23,
        "start_time": "2022-04-26T10:09:47.648Z"
      },
      {
        "duration": 152,
        "start_time": "2022-04-26T10:09:47.673Z"
      },
      {
        "duration": 20,
        "start_time": "2022-04-26T10:09:47.826Z"
      },
      {
        "duration": 19,
        "start_time": "2022-04-26T10:09:47.848Z"
      },
      {
        "duration": 50,
        "start_time": "2022-04-26T10:09:47.869Z"
      },
      {
        "duration": 289,
        "start_time": "2022-04-26T10:09:47.922Z"
      },
      {
        "duration": 20,
        "start_time": "2022-04-26T10:09:48.214Z"
      },
      {
        "duration": 31,
        "start_time": "2022-04-26T10:09:48.235Z"
      },
      {
        "duration": 421,
        "start_time": "2022-04-26T10:09:48.268Z"
      },
      {
        "duration": 525,
        "start_time": "2022-04-26T10:09:48.690Z"
      },
      {
        "duration": 100,
        "start_time": "2022-04-26T10:09:49.217Z"
      },
      {
        "duration": 44,
        "start_time": "2022-04-26T10:09:49.319Z"
      },
      {
        "duration": 6,
        "start_time": "2022-04-26T10:09:49.365Z"
      },
      {
        "duration": 84,
        "start_time": "2022-04-26T10:09:49.373Z"
      },
      {
        "duration": 119,
        "start_time": "2022-04-26T10:09:51.917Z"
      },
      {
        "duration": 300,
        "start_time": "2022-04-26T10:11:00.029Z"
      },
      {
        "duration": 236,
        "start_time": "2022-04-26T10:11:03.471Z"
      },
      {
        "duration": 1612,
        "start_time": "2022-04-26T10:11:23.639Z"
      },
      {
        "duration": 4,
        "start_time": "2022-04-26T10:11:25.253Z"
      },
      {
        "duration": 789,
        "start_time": "2022-04-26T10:11:25.258Z"
      },
      {
        "duration": 142,
        "start_time": "2022-04-26T10:11:26.050Z"
      },
      {
        "duration": 5,
        "start_time": "2022-04-26T10:11:26.194Z"
      },
      {
        "duration": 132,
        "start_time": "2022-04-26T10:11:26.200Z"
      },
      {
        "duration": 24,
        "start_time": "2022-04-26T10:11:26.334Z"
      },
      {
        "duration": 190,
        "start_time": "2022-04-26T10:11:26.361Z"
      },
      {
        "duration": 25,
        "start_time": "2022-04-26T10:11:26.553Z"
      },
      {
        "duration": 19,
        "start_time": "2022-04-26T10:11:26.592Z"
      },
      {
        "duration": 25,
        "start_time": "2022-04-26T10:11:26.612Z"
      },
      {
        "duration": 183,
        "start_time": "2022-04-26T10:11:26.639Z"
      },
      {
        "duration": 22,
        "start_time": "2022-04-26T10:11:26.823Z"
      },
      {
        "duration": 22,
        "start_time": "2022-04-26T10:11:26.847Z"
      },
      {
        "duration": 402,
        "start_time": "2022-04-26T10:11:26.871Z"
      },
      {
        "duration": 480,
        "start_time": "2022-04-26T10:11:27.275Z"
      },
      {
        "duration": 91,
        "start_time": "2022-04-26T10:11:27.757Z"
      },
      {
        "duration": 54,
        "start_time": "2022-04-26T10:11:27.850Z"
      },
      {
        "duration": 7,
        "start_time": "2022-04-26T10:11:27.906Z"
      },
      {
        "duration": 83,
        "start_time": "2022-04-26T10:11:27.915Z"
      },
      {
        "duration": 103,
        "start_time": "2022-04-26T10:11:28.000Z"
      },
      {
        "duration": 113,
        "start_time": "2022-04-26T10:11:28.105Z"
      },
      {
        "duration": 24,
        "start_time": "2022-04-26T10:11:28.219Z"
      },
      {
        "duration": 615,
        "start_time": "2022-04-26T10:11:28.244Z"
      },
      {
        "duration": 21,
        "start_time": "2022-04-26T10:11:28.861Z"
      },
      {
        "duration": 11,
        "start_time": "2022-04-26T10:11:28.893Z"
      },
      {
        "duration": 5,
        "start_time": "2022-04-26T10:12:15.711Z"
      },
      {
        "duration": 1078,
        "start_time": "2022-04-26T10:12:34.137Z"
      },
      {
        "duration": 29,
        "start_time": "2022-04-26T10:12:36.119Z"
      },
      {
        "duration": 3,
        "start_time": "2022-04-26T10:15:12.892Z"
      },
      {
        "duration": 210,
        "start_time": "2022-04-26T10:17:38.714Z"
      },
      {
        "duration": 715,
        "start_time": "2022-04-26T10:17:56.864Z"
      },
      {
        "duration": 428,
        "start_time": "2022-04-26T10:18:04.280Z"
      },
      {
        "duration": 394,
        "start_time": "2022-04-26T10:18:16.692Z"
      },
      {
        "duration": 428,
        "start_time": "2022-04-26T10:18:46.753Z"
      },
      {
        "duration": 499,
        "start_time": "2022-04-26T10:19:16.960Z"
      },
      {
        "duration": 76,
        "start_time": "2022-04-26T10:19:34.391Z"
      },
      {
        "duration": 406,
        "start_time": "2022-04-26T10:19:57.891Z"
      },
      {
        "duration": 396,
        "start_time": "2022-04-26T10:20:12.747Z"
      },
      {
        "duration": 30,
        "start_time": "2022-04-26T10:20:15.751Z"
      },
      {
        "duration": 16,
        "start_time": "2022-04-26T10:23:18.488Z"
      },
      {
        "duration": 25,
        "start_time": "2022-04-26T10:23:23.209Z"
      },
      {
        "duration": 23,
        "start_time": "2022-04-26T10:26:00.713Z"
      },
      {
        "duration": 25,
        "start_time": "2022-04-26T10:26:05.438Z"
      },
      {
        "duration": 24,
        "start_time": "2022-04-26T10:26:22.131Z"
      },
      {
        "duration": 5,
        "start_time": "2022-04-26T10:26:26.609Z"
      },
      {
        "duration": 23,
        "start_time": "2022-04-26T10:26:31.570Z"
      },
      {
        "duration": 24,
        "start_time": "2022-04-26T10:26:45.322Z"
      },
      {
        "duration": 382,
        "start_time": "2022-04-26T10:26:50.992Z"
      },
      {
        "duration": 31,
        "start_time": "2022-04-26T10:26:54.343Z"
      },
      {
        "duration": 32,
        "start_time": "2022-04-26T10:26:55.371Z"
      },
      {
        "duration": 148,
        "start_time": "2022-04-26T10:27:43.585Z"
      },
      {
        "duration": 855,
        "start_time": "2022-04-26T10:27:48.920Z"
      },
      {
        "duration": 24,
        "start_time": "2022-04-26T10:27:51.611Z"
      },
      {
        "duration": 33,
        "start_time": "2022-04-26T10:27:52.392Z"
      },
      {
        "duration": 20,
        "start_time": "2022-04-26T10:28:06.213Z"
      },
      {
        "duration": 53,
        "start_time": "2022-04-26T10:28:23.008Z"
      },
      {
        "duration": 5,
        "start_time": "2022-04-26T10:30:35.810Z"
      },
      {
        "duration": 334,
        "start_time": "2022-04-26T10:31:54.917Z"
      },
      {
        "duration": 37,
        "start_time": "2022-04-26T10:32:02.231Z"
      },
      {
        "duration": 5,
        "start_time": "2022-04-26T10:32:23.117Z"
      },
      {
        "duration": 21,
        "start_time": "2022-04-26T10:32:34.132Z"
      },
      {
        "duration": 66,
        "start_time": "2022-04-26T10:32:46.791Z"
      },
      {
        "duration": 5,
        "start_time": "2022-04-26T10:32:52.607Z"
      },
      {
        "duration": 24,
        "start_time": "2022-04-26T10:33:04.761Z"
      },
      {
        "duration": 3504,
        "start_time": "2022-04-26T10:33:20.927Z"
      },
      {
        "duration": 3,
        "start_time": "2022-04-26T10:33:24.433Z"
      },
      {
        "duration": 1241,
        "start_time": "2022-04-26T10:33:24.438Z"
      },
      {
        "duration": 128,
        "start_time": "2022-04-26T10:33:25.682Z"
      },
      {
        "duration": 5,
        "start_time": "2022-04-26T10:33:25.811Z"
      },
      {
        "duration": 135,
        "start_time": "2022-04-26T10:33:25.817Z"
      },
      {
        "duration": 21,
        "start_time": "2022-04-26T10:33:25.954Z"
      },
      {
        "duration": 141,
        "start_time": "2022-04-26T10:33:25.993Z"
      },
      {
        "duration": 20,
        "start_time": "2022-04-26T10:33:26.136Z"
      },
      {
        "duration": 19,
        "start_time": "2022-04-26T10:33:26.158Z"
      },
      {
        "duration": 33,
        "start_time": "2022-04-26T10:33:26.179Z"
      },
      {
        "duration": 182,
        "start_time": "2022-04-26T10:33:26.214Z"
      },
      {
        "duration": 20,
        "start_time": "2022-04-26T10:33:26.397Z"
      },
      {
        "duration": 21,
        "start_time": "2022-04-26T10:33:26.419Z"
      },
      {
        "duration": 427,
        "start_time": "2022-04-26T10:33:26.442Z"
      },
      {
        "duration": 502,
        "start_time": "2022-04-26T10:33:26.871Z"
      },
      {
        "duration": 92,
        "start_time": "2022-04-26T10:33:27.375Z"
      },
      {
        "duration": 66,
        "start_time": "2022-04-26T10:33:27.469Z"
      },
      {
        "duration": 6,
        "start_time": "2022-04-26T10:33:27.537Z"
      },
      {
        "duration": 77,
        "start_time": "2022-04-26T10:33:27.544Z"
      },
      {
        "duration": 116,
        "start_time": "2022-04-26T10:33:27.623Z"
      },
      {
        "duration": 32,
        "start_time": "2022-04-26T10:33:27.741Z"
      },
      {
        "duration": 484,
        "start_time": "2022-04-26T10:33:27.775Z"
      },
      {
        "duration": 17,
        "start_time": "2022-04-26T10:33:28.260Z"
      },
      {
        "duration": 58,
        "start_time": "2022-04-26T10:33:28.292Z"
      },
      {
        "duration": 4,
        "start_time": "2022-04-26T10:33:28.352Z"
      },
      {
        "duration": 364,
        "start_time": "2022-04-26T10:33:28.357Z"
      },
      {
        "duration": 216,
        "start_time": "2022-04-26T10:36:57.923Z"
      },
      {
        "duration": 54,
        "start_time": "2022-04-26T10:37:07.243Z"
      },
      {
        "duration": 1560,
        "start_time": "2022-04-26T10:37:27.286Z"
      },
      {
        "duration": 3,
        "start_time": "2022-04-26T10:37:28.848Z"
      },
      {
        "duration": 862,
        "start_time": "2022-04-26T10:37:28.853Z"
      },
      {
        "duration": 131,
        "start_time": "2022-04-26T10:37:29.717Z"
      },
      {
        "duration": 4,
        "start_time": "2022-04-26T10:37:29.850Z"
      },
      {
        "duration": 151,
        "start_time": "2022-04-26T10:37:29.856Z"
      },
      {
        "duration": 24,
        "start_time": "2022-04-26T10:37:30.009Z"
      },
      {
        "duration": 157,
        "start_time": "2022-04-26T10:37:30.034Z"
      },
      {
        "duration": 26,
        "start_time": "2022-04-26T10:37:30.198Z"
      },
      {
        "duration": 29,
        "start_time": "2022-04-26T10:37:30.227Z"
      },
      {
        "duration": 30,
        "start_time": "2022-04-26T10:37:30.258Z"
      },
      {
        "duration": 180,
        "start_time": "2022-04-26T10:37:30.290Z"
      },
      {
        "duration": 26,
        "start_time": "2022-04-26T10:37:30.471Z"
      },
      {
        "duration": 34,
        "start_time": "2022-04-26T10:37:30.500Z"
      },
      {
        "duration": 440,
        "start_time": "2022-04-26T10:37:30.536Z"
      },
      {
        "duration": 557,
        "start_time": "2022-04-26T10:37:30.977Z"
      },
      {
        "duration": 101,
        "start_time": "2022-04-26T10:37:31.536Z"
      },
      {
        "duration": 64,
        "start_time": "2022-04-26T10:37:31.638Z"
      },
      {
        "duration": 9,
        "start_time": "2022-04-26T10:37:31.705Z"
      },
      {
        "duration": 81,
        "start_time": "2022-04-26T10:37:31.716Z"
      },
      {
        "duration": 141,
        "start_time": "2022-04-26T10:37:31.800Z"
      },
      {
        "duration": 31,
        "start_time": "2022-04-26T10:37:31.942Z"
      },
      {
        "duration": 558,
        "start_time": "2022-04-26T10:37:31.974Z"
      },
      {
        "duration": 17,
        "start_time": "2022-04-26T10:37:32.534Z"
      },
      {
        "duration": 76,
        "start_time": "2022-04-26T10:37:32.553Z"
      },
      {
        "duration": 69,
        "start_time": "2022-04-26T10:37:34.843Z"
      },
      {
        "duration": 353,
        "start_time": "2022-04-26T10:37:37.114Z"
      },
      {
        "duration": 102,
        "start_time": "2022-04-26T10:37:38.808Z"
      },
      {
        "duration": 106,
        "start_time": "2022-04-26T10:38:00.396Z"
      },
      {
        "duration": 187,
        "start_time": "2022-04-26T10:38:10.805Z"
      },
      {
        "duration": 106,
        "start_time": "2022-04-26T10:39:23.188Z"
      },
      {
        "duration": 59,
        "start_time": "2022-04-26T10:39:32.766Z"
      },
      {
        "duration": 57,
        "start_time": "2022-04-26T10:39:45.284Z"
      },
      {
        "duration": 90,
        "start_time": "2022-04-26T10:40:57.208Z"
      },
      {
        "duration": 242,
        "start_time": "2022-04-26T10:47:33.955Z"
      },
      {
        "duration": 136,
        "start_time": "2022-04-26T10:47:42.460Z"
      },
      {
        "duration": 3,
        "start_time": "2022-04-26T10:47:45.181Z"
      },
      {
        "duration": 144,
        "start_time": "2022-04-26T10:47:46.196Z"
      },
      {
        "duration": 60803,
        "start_time": "2022-04-26T10:47:51.648Z"
      },
      {
        "duration": 65982,
        "start_time": "2022-04-26T10:49:24.606Z"
      },
      {
        "duration": 3,
        "start_time": "2022-04-26T10:50:35.716Z"
      },
      {
        "duration": 42317,
        "start_time": "2022-04-26T10:50:37.062Z"
      },
      {
        "duration": 11,
        "start_time": "2022-04-26T10:51:40.827Z"
      },
      {
        "duration": 616,
        "start_time": "2022-04-26T10:51:50.538Z"
      },
      {
        "duration": 4,
        "start_time": "2022-04-26T10:53:38.000Z"
      },
      {
        "duration": 7094,
        "start_time": "2022-04-26T10:54:18.742Z"
      },
      {
        "duration": 1334935,
        "start_time": "2022-04-26T10:54:38.406Z"
      },
      {
        "duration": 156,
        "start_time": "2022-04-26T11:16:53.344Z"
      },
      {
        "duration": 1835,
        "start_time": "2022-04-26T11:17:01.508Z"
      },
      {
        "duration": 4,
        "start_time": "2022-04-26T11:17:03.345Z"
      },
      {
        "duration": 1009,
        "start_time": "2022-04-26T11:17:03.350Z"
      },
      {
        "duration": 175,
        "start_time": "2022-04-26T11:17:04.360Z"
      },
      {
        "duration": 9,
        "start_time": "2022-04-26T11:17:04.539Z"
      },
      {
        "duration": 163,
        "start_time": "2022-04-26T11:17:04.550Z"
      },
      {
        "duration": 30,
        "start_time": "2022-04-26T11:17:04.715Z"
      },
      {
        "duration": 145,
        "start_time": "2022-04-26T11:17:04.747Z"
      },
      {
        "duration": 33,
        "start_time": "2022-04-26T11:17:04.897Z"
      },
      {
        "duration": 33,
        "start_time": "2022-04-26T11:17:04.932Z"
      },
      {
        "duration": 57,
        "start_time": "2022-04-26T11:17:04.967Z"
      },
      {
        "duration": 206,
        "start_time": "2022-04-26T11:17:05.026Z"
      },
      {
        "duration": 18,
        "start_time": "2022-04-26T11:17:05.234Z"
      },
      {
        "duration": 24,
        "start_time": "2022-04-26T11:17:05.255Z"
      },
      {
        "duration": 592,
        "start_time": "2022-04-26T11:17:05.281Z"
      },
      {
        "duration": 846,
        "start_time": "2022-04-26T11:17:05.875Z"
      },
      {
        "duration": 121,
        "start_time": "2022-04-26T11:17:06.724Z"
      },
      {
        "duration": 58,
        "start_time": "2022-04-26T11:17:06.847Z"
      },
      {
        "duration": 10,
        "start_time": "2022-04-26T11:17:06.907Z"
      },
      {
        "duration": 86,
        "start_time": "2022-04-26T11:17:06.919Z"
      },
      {
        "duration": 133,
        "start_time": "2022-04-26T11:17:07.007Z"
      },
      {
        "duration": 30,
        "start_time": "2022-04-26T11:17:07.142Z"
      },
      {
        "duration": 627,
        "start_time": "2022-04-26T11:17:07.173Z"
      },
      {
        "duration": 22,
        "start_time": "2022-04-26T11:17:07.803Z"
      },
      {
        "duration": 67,
        "start_time": "2022-04-26T11:17:07.827Z"
      },
      {
        "duration": 452,
        "start_time": "2022-04-26T11:17:07.896Z"
      },
      {
        "duration": 89,
        "start_time": "2022-04-26T11:17:08.350Z"
      },
      {
        "duration": 4,
        "start_time": "2022-04-26T11:17:08.507Z"
      },
      {
        "duration": 44630,
        "start_time": "2022-04-26T11:17:08.513Z"
      },
      {
        "duration": 761,
        "start_time": "2022-04-26T11:17:53.144Z"
      },
      {
        "duration": 6,
        "start_time": "2022-04-26T11:17:53.907Z"
      },
      {
        "duration": 191564,
        "start_time": "2022-04-26T11:17:53.915Z"
      },
      {
        "duration": 12950,
        "start_time": "2022-04-26T11:21:05.481Z"
      },
      {
        "duration": 2,
        "start_time": "2022-04-26T11:21:18.433Z"
      },
      {
        "duration": 175,
        "start_time": "2022-04-26T11:21:18.437Z"
      },
      {
        "duration": 45258,
        "start_time": "2022-04-26T12:16:47.392Z"
      },
      {
        "duration": 191,
        "start_time": "2022-04-26T12:24:44.753Z"
      },
      {
        "duration": 46533,
        "start_time": "2022-04-26T12:25:10.800Z"
      },
      {
        "duration": 6605,
        "start_time": "2022-04-26T12:26:04.849Z"
      },
      {
        "duration": 6854,
        "start_time": "2022-04-26T12:26:13.727Z"
      },
      {
        "duration": 43626,
        "start_time": "2022-04-26T12:26:25.753Z"
      },
      {
        "duration": 3,
        "start_time": "2022-04-26T12:30:11.889Z"
      },
      {
        "duration": 6281,
        "start_time": "2022-04-26T12:30:12.888Z"
      },
      {
        "duration": 169050,
        "start_time": "2022-04-26T12:30:23.908Z"
      },
      {
        "duration": 3,
        "start_time": "2022-04-26T12:33:17.928Z"
      },
      {
        "duration": 260440,
        "start_time": "2022-04-26T12:33:21.009Z"
      },
      {
        "duration": 78,
        "start_time": "2022-04-26T12:37:41.451Z"
      },
      {
        "duration": 2766,
        "start_time": "2022-04-26T12:39:04.074Z"
      },
      {
        "duration": 3,
        "start_time": "2022-04-26T12:39:24.865Z"
      },
      {
        "duration": 154624,
        "start_time": "2022-04-26T12:39:27.730Z"
      },
      {
        "duration": 5221,
        "start_time": "2022-04-26T12:42:02.358Z"
      },
      {
        "duration": 4738,
        "start_time": "2022-04-26T12:42:38.810Z"
      },
      {
        "duration": 3,
        "start_time": "2022-04-26T12:43:10.080Z"
      },
      {
        "duration": 423877,
        "start_time": "2022-04-26T12:43:12.153Z"
      },
      {
        "duration": 147,
        "start_time": "2022-04-26T12:50:16.033Z"
      },
      {
        "duration": 3,
        "start_time": "2022-04-26T12:50:25.046Z"
      },
      {
        "duration": 260123,
        "start_time": "2022-04-26T12:50:25.608Z"
      },
      {
        "duration": 28707,
        "start_time": "2022-04-26T12:54:45.733Z"
      },
      {
        "duration": 4124,
        "start_time": "2022-04-26T12:55:35.819Z"
      },
      {
        "duration": 2993,
        "start_time": "2022-04-26T12:55:44.620Z"
      },
      {
        "duration": 1454,
        "start_time": "2022-04-26T12:55:51.277Z"
      },
      {
        "duration": 7883,
        "start_time": "2022-04-26T12:55:55.848Z"
      },
      {
        "duration": 168,
        "start_time": "2022-04-26T12:56:35.559Z"
      },
      {
        "duration": 3,
        "start_time": "2022-04-26T12:56:39.358Z"
      },
      {
        "duration": 123727,
        "start_time": "2022-04-26T12:56:40.023Z"
      },
      {
        "duration": 76,
        "start_time": "2022-04-26T12:58:43.752Z"
      },
      {
        "duration": 667,
        "start_time": "2022-04-26T12:58:54.081Z"
      },
      {
        "duration": 267662,
        "start_time": "2022-04-26T13:01:50.887Z"
      },
      {
        "duration": 4,
        "start_time": "2022-04-26T13:07:11.235Z"
      },
      {
        "duration": 4,
        "start_time": "2022-04-26T13:07:18.606Z"
      },
      {
        "duration": 4,
        "start_time": "2022-04-26T13:08:01.765Z"
      },
      {
        "duration": 5,
        "start_time": "2022-04-26T13:08:14.157Z"
      },
      {
        "duration": 3,
        "start_time": "2022-04-26T13:08:17.188Z"
      },
      {
        "duration": 6,
        "start_time": "2022-04-26T13:09:35.159Z"
      },
      {
        "duration": 6,
        "start_time": "2022-04-26T13:09:47.435Z"
      },
      {
        "duration": 374771,
        "start_time": "2022-04-26T13:09:52.686Z"
      },
      {
        "duration": 3,
        "start_time": "2022-04-26T13:16:07.460Z"
      },
      {
        "duration": 15076,
        "start_time": "2022-04-26T13:16:54.606Z"
      },
      {
        "duration": 1760,
        "start_time": "2022-04-28T10:13:10.395Z"
      },
      {
        "duration": 4,
        "start_time": "2022-04-28T10:13:12.158Z"
      },
      {
        "duration": 869,
        "start_time": "2022-04-28T10:13:12.163Z"
      },
      {
        "duration": 139,
        "start_time": "2022-04-28T10:13:13.034Z"
      },
      {
        "duration": 6,
        "start_time": "2022-04-28T10:13:13.175Z"
      },
      {
        "duration": 147,
        "start_time": "2022-04-28T10:13:13.183Z"
      },
      {
        "duration": 24,
        "start_time": "2022-04-28T10:13:13.332Z"
      },
      {
        "duration": 153,
        "start_time": "2022-04-28T10:13:13.358Z"
      },
      {
        "duration": 22,
        "start_time": "2022-04-28T10:13:13.513Z"
      },
      {
        "duration": 23,
        "start_time": "2022-04-28T10:13:13.538Z"
      },
      {
        "duration": 23,
        "start_time": "2022-04-28T10:13:13.563Z"
      },
      {
        "duration": 197,
        "start_time": "2022-04-28T10:13:13.607Z"
      },
      {
        "duration": 22,
        "start_time": "2022-04-28T10:13:13.806Z"
      },
      {
        "duration": 36,
        "start_time": "2022-04-28T10:13:13.830Z"
      },
      {
        "duration": 451,
        "start_time": "2022-04-28T10:13:13.868Z"
      },
      {
        "duration": 534,
        "start_time": "2022-04-28T10:13:14.321Z"
      },
      {
        "duration": 99,
        "start_time": "2022-04-28T10:13:14.857Z"
      },
      {
        "duration": 58,
        "start_time": "2022-04-28T10:13:14.958Z"
      },
      {
        "duration": 10,
        "start_time": "2022-04-28T10:13:15.018Z"
      },
      {
        "duration": 92,
        "start_time": "2022-04-28T10:13:15.030Z"
      },
      {
        "duration": 120,
        "start_time": "2022-04-28T10:13:15.124Z"
      },
      {
        "duration": 26,
        "start_time": "2022-04-28T10:13:15.245Z"
      },
      {
        "duration": 524,
        "start_time": "2022-04-28T10:13:15.273Z"
      },
      {
        "duration": 19,
        "start_time": "2022-04-28T10:13:15.799Z"
      },
      {
        "duration": 60,
        "start_time": "2022-04-28T10:13:15.820Z"
      },
      {
        "duration": 402,
        "start_time": "2022-04-28T10:13:15.883Z"
      },
      {
        "duration": 226,
        "start_time": "2022-04-28T10:13:16.286Z"
      },
      {
        "duration": 4,
        "start_time": "2022-04-28T10:13:16.518Z"
      },
      {
        "duration": 105065,
        "start_time": "2022-04-28T10:13:16.608Z"
      },
      {
        "duration": 741,
        "start_time": "2022-04-28T10:15:01.676Z"
      },
      {
        "duration": 217757,
        "start_time": "2022-04-28T10:15:02.419Z"
      },
      {
        "duration": 3,
        "start_time": "2022-04-28T10:18:40.178Z"
      },
      {
        "duration": 286928,
        "start_time": "2022-04-28T10:18:40.183Z"
      },
      {
        "duration": 3,
        "start_time": "2022-04-28T10:23:27.113Z"
      },
      {
        "duration": 12475,
        "start_time": "2022-04-28T10:23:27.118Z"
      },
      {
        "duration": 115,
        "start_time": "2022-04-28T10:25:04.854Z"
      },
      {
        "duration": 4,
        "start_time": "2022-04-28T10:25:14.970Z"
      },
      {
        "duration": 3,
        "start_time": "2022-04-28T10:25:29.716Z"
      },
      {
        "duration": 3,
        "start_time": "2022-04-28T10:37:12.010Z"
      },
      {
        "duration": 40407,
        "start_time": "2022-04-28T10:38:31.003Z"
      },
      {
        "duration": 61,
        "start_time": "2022-04-28T10:41:13.205Z"
      },
      {
        "duration": 95,
        "start_time": "2022-04-28T10:44:18.133Z"
      },
      {
        "duration": 74,
        "start_time": "2022-04-28T10:44:21.010Z"
      },
      {
        "duration": 107,
        "start_time": "2022-04-28T10:44:22.229Z"
      },
      {
        "duration": 81,
        "start_time": "2022-04-28T10:44:27.130Z"
      },
      {
        "duration": 3,
        "start_time": "2022-04-28T10:44:30.913Z"
      },
      {
        "duration": 100212,
        "start_time": "2022-04-28T10:44:31.451Z"
      },
      {
        "duration": 471,
        "start_time": "2022-04-28T10:46:11.666Z"
      },
      {
        "duration": 12204,
        "start_time": "2022-04-28T10:46:30.011Z"
      },
      {
        "duration": 10,
        "start_time": "2022-04-28T10:46:42.218Z"
      },
      {
        "duration": 0,
        "start_time": "2022-04-28T10:46:42.230Z"
      },
      {
        "duration": 0,
        "start_time": "2022-04-28T10:46:42.232Z"
      },
      {
        "duration": 0,
        "start_time": "2022-04-28T10:46:42.233Z"
      },
      {
        "duration": 1526,
        "start_time": "2022-04-28T10:51:24.090Z"
      },
      {
        "duration": 4,
        "start_time": "2022-04-28T10:51:25.618Z"
      },
      {
        "duration": 889,
        "start_time": "2022-04-28T10:51:25.624Z"
      },
      {
        "duration": 133,
        "start_time": "2022-04-28T10:51:26.516Z"
      },
      {
        "duration": 4,
        "start_time": "2022-04-28T10:51:26.651Z"
      },
      {
        "duration": 151,
        "start_time": "2022-04-28T10:51:26.657Z"
      },
      {
        "duration": 24,
        "start_time": "2022-04-28T10:51:26.809Z"
      },
      {
        "duration": 155,
        "start_time": "2022-04-28T10:51:26.835Z"
      },
      {
        "duration": 26,
        "start_time": "2022-04-28T10:51:26.992Z"
      },
      {
        "duration": 24,
        "start_time": "2022-04-28T10:51:27.020Z"
      },
      {
        "duration": 30,
        "start_time": "2022-04-28T10:51:27.047Z"
      },
      {
        "duration": 191,
        "start_time": "2022-04-28T10:51:27.078Z"
      },
      {
        "duration": 20,
        "start_time": "2022-04-28T10:51:27.271Z"
      },
      {
        "duration": 30,
        "start_time": "2022-04-28T10:51:27.292Z"
      },
      {
        "duration": 433,
        "start_time": "2022-04-28T10:51:27.324Z"
      },
      {
        "duration": 547,
        "start_time": "2022-04-28T10:51:27.759Z"
      },
      {
        "duration": 19,
        "start_time": "2022-04-28T10:51:57.267Z"
      },
      {
        "duration": 33,
        "start_time": "2022-04-28T10:53:25.490Z"
      },
      {
        "duration": 1458,
        "start_time": "2022-04-28T10:53:37.662Z"
      },
      {
        "duration": 4,
        "start_time": "2022-04-28T10:53:39.122Z"
      },
      {
        "duration": 901,
        "start_time": "2022-04-28T10:53:39.127Z"
      },
      {
        "duration": 139,
        "start_time": "2022-04-28T10:53:40.029Z"
      },
      {
        "duration": 5,
        "start_time": "2022-04-28T10:53:40.171Z"
      },
      {
        "duration": 147,
        "start_time": "2022-04-28T10:53:40.177Z"
      },
      {
        "duration": 24,
        "start_time": "2022-04-28T10:53:40.325Z"
      },
      {
        "duration": 155,
        "start_time": "2022-04-28T10:53:40.352Z"
      },
      {
        "duration": 21,
        "start_time": "2022-04-28T10:53:40.509Z"
      },
      {
        "duration": 20,
        "start_time": "2022-04-28T10:53:40.531Z"
      },
      {
        "duration": 21,
        "start_time": "2022-04-28T10:53:40.553Z"
      },
      {
        "duration": 215,
        "start_time": "2022-04-28T10:53:40.576Z"
      },
      {
        "duration": 28,
        "start_time": "2022-04-28T10:53:40.792Z"
      },
      {
        "duration": 21,
        "start_time": "2022-04-28T10:53:40.823Z"
      },
      {
        "duration": 445,
        "start_time": "2022-04-28T10:53:40.846Z"
      },
      {
        "duration": 547,
        "start_time": "2022-04-28T10:53:41.293Z"
      },
      {
        "duration": 102,
        "start_time": "2022-04-28T10:53:41.842Z"
      },
      {
        "duration": 51,
        "start_time": "2022-04-28T10:53:41.946Z"
      },
      {
        "duration": 9,
        "start_time": "2022-04-28T10:53:42.008Z"
      },
      {
        "duration": 70,
        "start_time": "2022-04-28T10:53:42.019Z"
      },
      {
        "duration": 127,
        "start_time": "2022-04-28T10:53:42.107Z"
      },
      {
        "duration": 28,
        "start_time": "2022-04-28T10:53:42.236Z"
      },
      {
        "duration": 439,
        "start_time": "2022-04-28T10:53:43.302Z"
      },
      {
        "duration": 129,
        "start_time": "2022-04-28T10:53:45.636Z"
      },
      {
        "duration": 23,
        "start_time": "2022-04-28T10:53:56.677Z"
      },
      {
        "duration": 102,
        "start_time": "2022-04-28T10:54:01.683Z"
      },
      {
        "duration": 120,
        "start_time": "2022-04-28T10:54:05.237Z"
      },
      {
        "duration": 241,
        "start_time": "2022-04-28T10:54:14.267Z"
      },
      {
        "duration": 32,
        "start_time": "2022-04-28T10:54:32.276Z"
      },
      {
        "duration": 526,
        "start_time": "2022-04-28T10:54:51.181Z"
      },
      {
        "duration": 1452,
        "start_time": "2022-04-28T10:54:57.763Z"
      },
      {
        "duration": 4,
        "start_time": "2022-04-28T10:54:59.217Z"
      },
      {
        "duration": 921,
        "start_time": "2022-04-28T10:54:59.223Z"
      },
      {
        "duration": 142,
        "start_time": "2022-04-28T10:55:00.146Z"
      },
      {
        "duration": 21,
        "start_time": "2022-04-28T10:55:00.290Z"
      },
      {
        "duration": 134,
        "start_time": "2022-04-28T10:55:00.312Z"
      },
      {
        "duration": 23,
        "start_time": "2022-04-28T10:55:00.448Z"
      },
      {
        "duration": 156,
        "start_time": "2022-04-28T10:55:00.472Z"
      },
      {
        "duration": 22,
        "start_time": "2022-04-28T10:55:00.629Z"
      },
      {
        "duration": 25,
        "start_time": "2022-04-28T10:55:00.652Z"
      },
      {
        "duration": 40,
        "start_time": "2022-04-28T10:55:00.679Z"
      },
      {
        "duration": 203,
        "start_time": "2022-04-28T10:55:00.721Z"
      },
      {
        "duration": 20,
        "start_time": "2022-04-28T10:55:00.926Z"
      },
      {
        "duration": 23,
        "start_time": "2022-04-28T10:55:00.948Z"
      },
      {
        "duration": 478,
        "start_time": "2022-04-28T10:55:00.973Z"
      },
      {
        "duration": 564,
        "start_time": "2022-04-28T10:55:01.453Z"
      },
      {
        "duration": 108,
        "start_time": "2022-04-28T10:55:02.019Z"
      },
      {
        "duration": 50,
        "start_time": "2022-04-28T10:55:02.129Z"
      },
      {
        "duration": 26,
        "start_time": "2022-04-28T10:55:02.181Z"
      },
      {
        "duration": 69,
        "start_time": "2022-04-28T10:55:02.209Z"
      },
      {
        "duration": 135,
        "start_time": "2022-04-28T10:55:02.279Z"
      },
      {
        "duration": 29,
        "start_time": "2022-04-28T10:55:02.415Z"
      },
      {
        "duration": 578,
        "start_time": "2022-04-28T10:55:02.446Z"
      },
      {
        "duration": 19,
        "start_time": "2022-04-28T10:55:03.025Z"
      },
      {
        "duration": 105,
        "start_time": "2022-04-28T10:55:03.046Z"
      },
      {
        "duration": 131,
        "start_time": "2022-04-28T10:55:03.153Z"
      },
      {
        "duration": 101,
        "start_time": "2022-04-28T10:55:05.820Z"
      },
      {
        "duration": 3,
        "start_time": "2022-04-28T10:55:08.443Z"
      },
      {
        "duration": 96295,
        "start_time": "2022-04-28T10:55:08.859Z"
      },
      {
        "duration": 440,
        "start_time": "2022-04-28T10:56:45.156Z"
      },
      {
        "duration": 2050,
        "start_time": "2022-04-28T10:56:51.552Z"
      },
      {
        "duration": 48,
        "start_time": "2022-04-28T10:57:49.508Z"
      },
      {
        "duration": 20,
        "start_time": "2022-04-28T10:57:55.273Z"
      },
      {
        "duration": 88,
        "start_time": "2022-04-28T10:58:13.474Z"
      },
      {
        "duration": 118,
        "start_time": "2022-04-28T10:58:14.506Z"
      },
      {
        "duration": 183,
        "start_time": "2022-04-28T10:58:16.527Z"
      },
      {
        "duration": 343542,
        "start_time": "2022-04-28T10:58:21.003Z"
      },
      {
        "duration": 3,
        "start_time": "2022-04-28T11:04:04.548Z"
      },
      {
        "duration": 87,
        "start_time": "2022-04-28T11:04:04.553Z"
      },
      {
        "duration": 10,
        "start_time": "2022-04-28T11:04:04.643Z"
      },
      {
        "duration": 0,
        "start_time": "2022-04-28T11:04:04.654Z"
      },
      {
        "duration": 504041,
        "start_time": "2022-04-28T11:04:44.556Z"
      },
      {
        "duration": 3,
        "start_time": "2022-04-28T11:13:08.599Z"
      },
      {
        "duration": 1506,
        "start_time": "2022-04-28T11:13:28.181Z"
      },
      {
        "duration": 4,
        "start_time": "2022-04-28T11:13:29.689Z"
      },
      {
        "duration": 924,
        "start_time": "2022-04-28T11:13:29.694Z"
      },
      {
        "duration": 150,
        "start_time": "2022-04-28T11:13:30.620Z"
      },
      {
        "duration": 5,
        "start_time": "2022-04-28T11:13:30.773Z"
      },
      {
        "duration": 209,
        "start_time": "2022-04-28T11:13:30.780Z"
      },
      {
        "duration": 32,
        "start_time": "2022-04-28T11:13:30.991Z"
      },
      {
        "duration": 156,
        "start_time": "2022-04-28T11:13:31.024Z"
      },
      {
        "duration": 29,
        "start_time": "2022-04-28T11:13:31.181Z"
      },
      {
        "duration": 21,
        "start_time": "2022-04-28T11:13:31.211Z"
      },
      {
        "duration": 34,
        "start_time": "2022-04-28T11:13:31.234Z"
      },
      {
        "duration": 191,
        "start_time": "2022-04-28T11:13:31.270Z"
      },
      {
        "duration": 20,
        "start_time": "2022-04-28T11:13:31.462Z"
      },
      {
        "duration": 33,
        "start_time": "2022-04-28T11:13:31.486Z"
      },
      {
        "duration": 430,
        "start_time": "2022-04-28T11:13:31.521Z"
      },
      {
        "duration": 536,
        "start_time": "2022-04-28T11:13:31.953Z"
      },
      {
        "duration": 98,
        "start_time": "2022-04-28T11:13:32.491Z"
      },
      {
        "duration": 59,
        "start_time": "2022-04-28T11:13:32.591Z"
      },
      {
        "duration": 8,
        "start_time": "2022-04-28T11:13:32.652Z"
      },
      {
        "duration": 90,
        "start_time": "2022-04-28T11:13:32.662Z"
      },
      {
        "duration": 124,
        "start_time": "2022-04-28T11:13:32.754Z"
      },
      {
        "duration": 47,
        "start_time": "2022-04-28T11:13:32.879Z"
      },
      {
        "duration": 535,
        "start_time": "2022-04-28T11:13:32.928Z"
      },
      {
        "duration": 66,
        "start_time": "2022-04-28T11:13:33.465Z"
      },
      {
        "duration": 90,
        "start_time": "2022-04-28T11:13:33.533Z"
      },
      {
        "duration": 138,
        "start_time": "2022-04-28T11:13:33.625Z"
      },
      {
        "duration": 70,
        "start_time": "2022-04-28T11:13:33.765Z"
      },
      {
        "duration": 3,
        "start_time": "2022-04-28T11:13:34.008Z"
      },
      {
        "duration": 99200,
        "start_time": "2022-04-28T11:13:34.013Z"
      },
      {
        "duration": 461,
        "start_time": "2022-04-28T11:15:13.215Z"
      },
      {
        "duration": 341235,
        "start_time": "2022-04-28T11:15:13.678Z"
      },
      {
        "duration": 4,
        "start_time": "2022-04-28T11:20:54.915Z"
      },
      {
        "duration": 558600,
        "start_time": "2022-04-28T11:20:54.921Z"
      },
      {
        "duration": 4,
        "start_time": "2022-04-28T11:30:13.523Z"
      },
      {
        "duration": 10740,
        "start_time": "2022-04-28T11:30:13.528Z"
      },
      {
        "duration": 33,
        "start_time": "2022-04-28T11:30:40.951Z"
      },
      {
        "duration": 51,
        "start_time": "2022-04-28T11:30:53.429Z"
      },
      {
        "duration": 123,
        "start_time": "2022-04-28T11:30:55.584Z"
      },
      {
        "duration": 3,
        "start_time": "2022-04-28T11:30:58.992Z"
      },
      {
        "duration": 54854,
        "start_time": "2022-04-28T11:30:59.368Z"
      },
      {
        "duration": 537,
        "start_time": "2022-04-28T11:31:54.224Z"
      },
      {
        "duration": 90,
        "start_time": "2022-04-28T11:32:18.444Z"
      },
      {
        "duration": 182039,
        "start_time": "2022-04-28T11:32:33.880Z"
      },
      {
        "duration": 4,
        "start_time": "2022-04-28T11:35:35.922Z"
      },
      {
        "duration": 240126,
        "start_time": "2022-04-28T11:35:35.928Z"
      },
      {
        "duration": 3,
        "start_time": "2022-04-28T11:39:36.056Z"
      },
      {
        "duration": 10249,
        "start_time": "2022-04-28T11:39:36.061Z"
      },
      {
        "duration": 5,
        "start_time": "2022-04-28T11:40:25.289Z"
      },
      {
        "duration": 5,
        "start_time": "2022-04-28T11:40:35.359Z"
      },
      {
        "duration": 8,
        "start_time": "2022-04-28T11:41:00.225Z"
      },
      {
        "duration": 10,
        "start_time": "2022-04-28T11:41:02.685Z"
      },
      {
        "duration": 4,
        "start_time": "2022-04-28T11:41:14.533Z"
      },
      {
        "duration": 176292,
        "start_time": "2022-04-28T11:42:44.148Z"
      },
      {
        "duration": 3,
        "start_time": "2022-04-28T11:45:40.442Z"
      },
      {
        "duration": 238662,
        "start_time": "2022-04-28T11:45:40.447Z"
      },
      {
        "duration": 4,
        "start_time": "2022-04-28T11:49:39.111Z"
      },
      {
        "duration": 10339,
        "start_time": "2022-04-28T11:49:39.116Z"
      },
      {
        "duration": 62,
        "start_time": "2022-04-28T11:50:20.711Z"
      },
      {
        "duration": 62,
        "start_time": "2022-04-28T11:50:25.080Z"
      },
      {
        "duration": 68,
        "start_time": "2022-04-28T11:50:33.351Z"
      },
      {
        "duration": 81,
        "start_time": "2022-04-28T11:50:39.781Z"
      },
      {
        "duration": 10,
        "start_time": "2022-04-28T11:50:49.480Z"
      },
      {
        "duration": 3,
        "start_time": "2022-04-28T11:50:52.360Z"
      },
      {
        "duration": 10,
        "start_time": "2022-04-28T11:50:58.455Z"
      },
      {
        "duration": 10,
        "start_time": "2022-04-28T11:51:17.544Z"
      },
      {
        "duration": 40654,
        "start_time": "2022-04-28T11:51:20.569Z"
      },
      {
        "duration": 62,
        "start_time": "2022-04-28T11:54:36.673Z"
      },
      {
        "duration": 4,
        "start_time": "2022-04-28T11:54:50.471Z"
      },
      {
        "duration": 4,
        "start_time": "2022-04-28T11:54:52.627Z"
      },
      {
        "duration": 4,
        "start_time": "2022-04-28T11:55:12.871Z"
      },
      {
        "duration": 4,
        "start_time": "2022-04-28T11:56:13.871Z"
      },
      {
        "duration": 3,
        "start_time": "2022-04-28T11:57:04.111Z"
      },
      {
        "duration": 4,
        "start_time": "2022-04-28T11:58:01.511Z"
      },
      {
        "duration": 61,
        "start_time": "2022-04-28T11:59:25.089Z"
      },
      {
        "duration": 5,
        "start_time": "2022-04-28T12:00:02.101Z"
      },
      {
        "duration": 13,
        "start_time": "2022-04-28T12:00:47.828Z"
      },
      {
        "duration": 71,
        "start_time": "2022-04-28T12:00:55.841Z"
      },
      {
        "duration": 72,
        "start_time": "2022-04-28T12:00:58.963Z"
      },
      {
        "duration": 637,
        "start_time": "2022-04-28T12:01:06.877Z"
      },
      {
        "duration": 3,
        "start_time": "2022-04-28T12:03:03.768Z"
      },
      {
        "duration": 934,
        "start_time": "2022-04-28T12:06:31.679Z"
      },
      {
        "duration": 797,
        "start_time": "2022-04-28T12:06:49.719Z"
      },
      {
        "duration": 6438,
        "start_time": "2022-04-28T12:06:56.184Z"
      },
      {
        "duration": 4369,
        "start_time": "2022-04-28T12:08:36.445Z"
      },
      {
        "duration": 6147,
        "start_time": "2022-04-28T12:09:07.167Z"
      },
      {
        "duration": 4333,
        "start_time": "2022-04-28T12:09:18.192Z"
      },
      {
        "duration": 4693,
        "start_time": "2022-04-28T12:09:55.529Z"
      },
      {
        "duration": 308274,
        "start_time": "2022-04-28T12:15:07.030Z"
      },
      {
        "duration": 4,
        "start_time": "2022-04-28T12:20:15.307Z"
      },
      {
        "duration": 179982,
        "start_time": "2022-04-28T12:20:35.832Z"
      },
      {
        "duration": 4,
        "start_time": "2022-04-28T12:23:35.816Z"
      },
      {
        "duration": 9,
        "start_time": "2022-04-28T12:24:22.123Z"
      },
      {
        "duration": 10,
        "start_time": "2022-04-28T12:24:27.903Z"
      },
      {
        "duration": 9,
        "start_time": "2022-04-28T12:24:34.360Z"
      },
      {
        "duration": 4,
        "start_time": "2022-04-28T12:24:45.067Z"
      },
      {
        "duration": 33970,
        "start_time": "2022-04-28T12:25:05.344Z"
      },
      {
        "duration": 4,
        "start_time": "2022-04-28T12:25:55.131Z"
      },
      {
        "duration": 59241,
        "start_time": "2022-04-28T12:26:06.967Z"
      },
      {
        "duration": 3,
        "start_time": "2022-04-28T12:27:06.211Z"
      },
      {
        "duration": 5,
        "start_time": "2022-04-28T12:30:20.064Z"
      },
      {
        "duration": 3,
        "start_time": "2022-04-28T12:30:36.406Z"
      },
      {
        "duration": 73,
        "start_time": "2022-04-28T12:37:43.038Z"
      },
      {
        "duration": 3,
        "start_time": "2022-04-28T12:37:47.998Z"
      },
      {
        "duration": 457291,
        "start_time": "2022-04-28T12:37:48.670Z"
      },
      {
        "duration": 442894,
        "start_time": "2022-04-28T12:51:24.668Z"
      },
      {
        "duration": 6815,
        "start_time": "2022-04-28T12:58:47.564Z"
      },
      {
        "duration": 6969,
        "start_time": "2022-04-28T12:59:47.782Z"
      },
      {
        "duration": 3,
        "start_time": "2022-04-28T13:00:03.047Z"
      },
      {
        "duration": 24607,
        "start_time": "2022-04-28T13:00:04.878Z"
      },
      {
        "duration": 3,
        "start_time": "2022-04-28T13:01:01.108Z"
      },
      {
        "duration": 177307,
        "start_time": "2022-04-28T13:01:03.358Z"
      },
      {
        "duration": 76,
        "start_time": "2022-04-28T13:04:01.958Z"
      },
      {
        "duration": 17561,
        "start_time": "2022-04-28T13:04:08.037Z"
      },
      {
        "duration": 477604,
        "start_time": "2022-04-28T13:04:58.687Z"
      },
      {
        "duration": 363,
        "start_time": "2022-04-28T15:26:11.643Z"
      },
      {
        "duration": 2545,
        "start_time": "2022-04-28T15:26:27.078Z"
      },
      {
        "duration": 5,
        "start_time": "2022-04-28T15:26:29.628Z"
      },
      {
        "duration": 6081,
        "start_time": "2022-04-28T15:26:29.636Z"
      },
      {
        "duration": 215,
        "start_time": "2022-04-28T15:26:35.721Z"
      },
      {
        "duration": 8,
        "start_time": "2022-04-28T15:26:35.938Z"
      },
      {
        "duration": 211,
        "start_time": "2022-04-28T15:26:35.949Z"
      },
      {
        "duration": 55,
        "start_time": "2022-04-28T15:26:36.162Z"
      },
      {
        "duration": 218,
        "start_time": "2022-04-28T15:26:36.219Z"
      },
      {
        "duration": 29,
        "start_time": "2022-04-28T15:26:36.440Z"
      },
      {
        "duration": 62,
        "start_time": "2022-04-28T15:26:36.473Z"
      },
      {
        "duration": 55,
        "start_time": "2022-04-28T15:26:36.538Z"
      },
      {
        "duration": 293,
        "start_time": "2022-04-28T15:26:36.596Z"
      },
      {
        "duration": 39,
        "start_time": "2022-04-28T15:26:36.893Z"
      },
      {
        "duration": 30,
        "start_time": "2022-04-28T15:26:36.935Z"
      },
      {
        "duration": 697,
        "start_time": "2022-04-28T15:26:36.967Z"
      },
      {
        "duration": 857,
        "start_time": "2022-04-28T15:26:37.667Z"
      },
      {
        "duration": 120,
        "start_time": "2022-04-28T15:26:38.531Z"
      },
      {
        "duration": 97,
        "start_time": "2022-04-28T15:26:38.654Z"
      },
      {
        "duration": 8,
        "start_time": "2022-04-28T15:26:38.753Z"
      },
      {
        "duration": 110,
        "start_time": "2022-04-28T15:26:38.764Z"
      },
      {
        "duration": 186,
        "start_time": "2022-04-28T15:26:38.877Z"
      },
      {
        "duration": 61,
        "start_time": "2022-04-28T15:26:39.065Z"
      },
      {
        "duration": 844,
        "start_time": "2022-04-28T15:26:39.129Z"
      },
      {
        "duration": 74,
        "start_time": "2022-04-28T15:26:39.975Z"
      },
      {
        "duration": 116,
        "start_time": "2022-04-28T15:26:40.052Z"
      },
      {
        "duration": 70,
        "start_time": "2022-04-28T15:26:40.171Z"
      },
      {
        "duration": 154,
        "start_time": "2022-04-28T15:26:40.243Z"
      },
      {
        "duration": 73,
        "start_time": "2022-04-28T15:26:40.422Z"
      },
      {
        "duration": 78185,
        "start_time": "2022-04-28T15:26:40.497Z"
      },
      {
        "duration": 686,
        "start_time": "2022-04-28T15:27:58.685Z"
      },
      {
        "duration": 4,
        "start_time": "2022-04-28T15:27:59.374Z"
      },
      {
        "duration": 886561,
        "start_time": "2022-04-28T15:27:59.394Z"
      },
      {
        "duration": 1900,
        "start_time": "2022-05-01T17:45:09.648Z"
      },
      {
        "duration": 5,
        "start_time": "2022-05-01T17:45:11.551Z"
      },
      {
        "duration": 1153,
        "start_time": "2022-05-01T17:45:11.558Z"
      },
      {
        "duration": 201,
        "start_time": "2022-05-01T17:45:12.715Z"
      },
      {
        "duration": 7,
        "start_time": "2022-05-01T17:45:12.919Z"
      },
      {
        "duration": 192,
        "start_time": "2022-05-01T17:45:12.929Z"
      },
      {
        "duration": 52,
        "start_time": "2022-05-01T17:45:13.124Z"
      },
      {
        "duration": 210,
        "start_time": "2022-05-01T17:45:13.178Z"
      },
      {
        "duration": 28,
        "start_time": "2022-05-01T17:45:13.391Z"
      },
      {
        "duration": 54,
        "start_time": "2022-05-01T17:45:13.425Z"
      },
      {
        "duration": 30,
        "start_time": "2022-05-01T17:45:13.482Z"
      },
      {
        "duration": 295,
        "start_time": "2022-05-01T17:45:13.514Z"
      },
      {
        "duration": 26,
        "start_time": "2022-05-01T17:45:13.811Z"
      },
      {
        "duration": 46,
        "start_time": "2022-05-01T17:45:13.839Z"
      },
      {
        "duration": 666,
        "start_time": "2022-05-01T17:45:13.887Z"
      },
      {
        "duration": 787,
        "start_time": "2022-05-01T17:45:14.560Z"
      },
      {
        "duration": 130,
        "start_time": "2022-05-01T17:45:15.349Z"
      },
      {
        "duration": 97,
        "start_time": "2022-05-01T17:45:15.481Z"
      },
      {
        "duration": 12,
        "start_time": "2022-05-01T17:45:15.580Z"
      },
      {
        "duration": 115,
        "start_time": "2022-05-01T17:45:15.595Z"
      },
      {
        "duration": 166,
        "start_time": "2022-05-01T17:45:15.712Z"
      },
      {
        "duration": 44,
        "start_time": "2022-05-01T17:45:15.880Z"
      },
      {
        "duration": 815,
        "start_time": "2022-05-01T17:45:15.926Z"
      },
      {
        "duration": 69,
        "start_time": "2022-05-01T17:45:16.743Z"
      },
      {
        "duration": 115,
        "start_time": "2022-05-01T17:45:16.814Z"
      },
      {
        "duration": 72,
        "start_time": "2022-05-01T17:45:16.932Z"
      },
      {
        "duration": 153,
        "start_time": "2022-05-01T17:45:17.006Z"
      },
      {
        "duration": 92,
        "start_time": "2022-05-01T17:45:17.174Z"
      },
      {
        "duration": 76015,
        "start_time": "2022-05-01T17:45:17.268Z"
      },
      {
        "duration": 703,
        "start_time": "2022-05-01T17:46:33.285Z"
      },
      {
        "duration": 4,
        "start_time": "2022-05-01T17:46:33.990Z"
      },
      {
        "duration": 371056,
        "start_time": "2022-05-01T17:46:33.996Z"
      },
      {
        "duration": 650504,
        "start_time": "2022-05-01T17:52:45.055Z"
      },
      {
        "duration": 13464,
        "start_time": "2022-05-01T18:03:35.566Z"
      },
      {
        "duration": 4,
        "start_time": "2022-05-01T18:03:49.032Z"
      },
      {
        "duration": 431895,
        "start_time": "2022-05-01T18:03:49.039Z"
      },
      {
        "duration": 100,
        "start_time": "2022-05-01T18:11:00.936Z"
      },
      {
        "duration": 640,
        "start_time": "2022-05-02T11:40:25.823Z"
      },
      {
        "duration": 10021,
        "start_time": "2022-05-02T11:40:57.003Z"
      },
      {
        "duration": 3449,
        "start_time": "2022-05-02T11:41:18.862Z"
      },
      {
        "duration": 2307,
        "start_time": "2022-05-02T11:41:25.886Z"
      },
      {
        "duration": 133,
        "start_time": "2022-05-02T11:45:40.708Z"
      },
      {
        "duration": 3829,
        "start_time": "2022-05-02T11:45:56.825Z"
      },
      {
        "duration": 2552,
        "start_time": "2022-05-02T11:46:00.658Z"
      },
      {
        "duration": 5,
        "start_time": "2022-05-02T11:46:03.213Z"
      },
      {
        "duration": 1076,
        "start_time": "2022-05-02T11:46:03.222Z"
      },
      {
        "duration": 174,
        "start_time": "2022-05-02T11:46:04.300Z"
      },
      {
        "duration": 6,
        "start_time": "2022-05-02T11:46:04.476Z"
      },
      {
        "duration": 177,
        "start_time": "2022-05-02T11:46:04.493Z"
      },
      {
        "duration": 33,
        "start_time": "2022-05-02T11:46:04.672Z"
      },
      {
        "duration": 199,
        "start_time": "2022-05-02T11:46:04.707Z"
      },
      {
        "duration": 26,
        "start_time": "2022-05-02T11:46:04.910Z"
      },
      {
        "duration": 39,
        "start_time": "2022-05-02T11:46:04.938Z"
      },
      {
        "duration": 38,
        "start_time": "2022-05-02T11:46:04.980Z"
      },
      {
        "duration": 276,
        "start_time": "2022-05-02T11:46:05.020Z"
      },
      {
        "duration": 26,
        "start_time": "2022-05-02T11:46:05.298Z"
      },
      {
        "duration": 35,
        "start_time": "2022-05-02T11:46:05.326Z"
      },
      {
        "duration": 597,
        "start_time": "2022-05-02T11:46:05.363Z"
      },
      {
        "duration": 706,
        "start_time": "2022-05-02T11:46:05.962Z"
      },
      {
        "duration": 114,
        "start_time": "2022-05-02T11:46:06.671Z"
      },
      {
        "duration": 81,
        "start_time": "2022-05-02T11:46:06.787Z"
      },
      {
        "duration": 24,
        "start_time": "2022-05-02T11:46:06.870Z"
      },
      {
        "duration": 104,
        "start_time": "2022-05-02T11:46:06.897Z"
      },
      {
        "duration": 161,
        "start_time": "2022-05-02T11:46:07.004Z"
      },
      {
        "duration": 49,
        "start_time": "2022-05-02T11:46:07.168Z"
      },
      {
        "duration": 719,
        "start_time": "2022-05-02T11:46:07.219Z"
      },
      {
        "duration": 69,
        "start_time": "2022-05-02T11:46:07.941Z"
      },
      {
        "duration": 95,
        "start_time": "2022-05-02T11:46:09.260Z"
      },
      {
        "duration": 58,
        "start_time": "2022-05-02T11:46:10.952Z"
      },
      {
        "duration": 7643,
        "start_time": "2022-05-02T11:46:13.119Z"
      },
      {
        "duration": 36328,
        "start_time": "2022-05-02T11:46:35.272Z"
      },
      {
        "duration": 23627,
        "start_time": "2022-05-02T11:48:31.504Z"
      },
      {
        "duration": 30,
        "start_time": "2022-05-02T11:49:01.436Z"
      },
      {
        "duration": 11408,
        "start_time": "2022-05-02T11:49:32.776Z"
      },
      {
        "duration": 10162,
        "start_time": "2022-05-02T11:49:47.217Z"
      },
      {
        "duration": 9735,
        "start_time": "2022-05-02T11:51:48.197Z"
      },
      {
        "duration": 9869,
        "start_time": "2022-05-02T11:52:33.537Z"
      },
      {
        "duration": 9431,
        "start_time": "2022-05-02T11:52:49.226Z"
      },
      {
        "duration": 12162,
        "start_time": "2022-05-02T11:54:35.180Z"
      },
      {
        "duration": 12950,
        "start_time": "2022-05-02T11:56:09.635Z"
      },
      {
        "duration": 16670,
        "start_time": "2022-05-02T11:57:13.971Z"
      },
      {
        "duration": 10772,
        "start_time": "2022-05-02T11:59:21.883Z"
      },
      {
        "duration": 17,
        "start_time": "2022-05-02T11:59:59.483Z"
      },
      {
        "duration": 19,
        "start_time": "2022-05-02T12:00:52.010Z"
      },
      {
        "duration": 24,
        "start_time": "2022-05-02T12:00:57.063Z"
      },
      {
        "duration": 2971,
        "start_time": "2022-05-02T12:01:00.889Z"
      },
      {
        "duration": 10961,
        "start_time": "2022-05-02T12:01:28.449Z"
      },
      {
        "duration": 5,
        "start_time": "2022-05-02T12:02:33.409Z"
      },
      {
        "duration": 10346,
        "start_time": "2022-05-02T12:02:44.389Z"
      },
      {
        "duration": 6,
        "start_time": "2022-05-02T12:05:17.666Z"
      },
      {
        "duration": 651,
        "start_time": "2022-05-02T12:05:23.122Z"
      },
      {
        "duration": 17794,
        "start_time": "2022-05-02T12:05:30.846Z"
      },
      {
        "duration": 16223,
        "start_time": "2022-05-02T12:06:11.778Z"
      },
      {
        "duration": 227,
        "start_time": "2022-05-02T12:06:32.939Z"
      },
      {
        "duration": 16811,
        "start_time": "2022-05-02T12:07:15.255Z"
      },
      {
        "duration": 647,
        "start_time": "2022-05-02T12:07:32.069Z"
      },
      {
        "duration": 16510,
        "start_time": "2022-05-02T12:08:11.065Z"
      },
      {
        "duration": 635,
        "start_time": "2022-05-02T12:08:27.577Z"
      },
      {
        "duration": 517697,
        "start_time": "2022-05-02T12:10:52.258Z"
      },
      {
        "duration": 246,
        "start_time": "2022-05-02T12:19:29.958Z"
      },
      {
        "duration": 64341,
        "start_time": "2022-05-02T12:19:47.371Z"
      },
      {
        "duration": 3668,
        "start_time": "2022-05-02T12:20:58.887Z"
      },
      {
        "duration": 126313,
        "start_time": "2022-05-02T12:21:24.568Z"
      },
      {
        "duration": 14808,
        "start_time": "2022-05-02T12:23:45.811Z"
      },
      {
        "duration": 639357,
        "start_time": "2022-05-02T12:25:33.873Z"
      },
      {
        "duration": 13132,
        "start_time": "2022-05-02T12:36:13.233Z"
      },
      {
        "duration": 1126029,
        "start_time": "2022-05-02T12:37:01.640Z"
      },
      {
        "duration": 13556,
        "start_time": "2022-05-02T12:55:47.672Z"
      },
      {
        "duration": 469,
        "start_time": "2022-05-02T12:56:01.230Z"
      },
      {
        "duration": 227,
        "start_time": "2022-05-02T12:56:01.703Z"
      },
      {
        "duration": 515393,
        "start_time": "2022-05-02T12:56:37.838Z"
      },
      {
        "duration": 428,
        "start_time": "2022-05-02T13:05:52.697Z"
      },
      {
        "duration": 24431,
        "start_time": "2022-05-02T13:06:07.623Z"
      },
      {
        "duration": 72848,
        "start_time": "2022-05-02T13:06:41.984Z"
      },
      {
        "duration": 6817,
        "start_time": "2022-05-02T13:08:05.953Z"
      },
      {
        "duration": 3633,
        "start_time": "2022-05-02T13:08:27.011Z"
      },
      {
        "duration": 2679,
        "start_time": "2022-05-02T13:08:30.647Z"
      },
      {
        "duration": 4,
        "start_time": "2022-05-02T13:08:33.329Z"
      },
      {
        "duration": 1218,
        "start_time": "2022-05-02T13:08:33.336Z"
      },
      {
        "duration": 180,
        "start_time": "2022-05-02T13:08:34.557Z"
      },
      {
        "duration": 6,
        "start_time": "2022-05-02T13:08:34.740Z"
      },
      {
        "duration": 181,
        "start_time": "2022-05-02T13:08:34.748Z"
      },
      {
        "duration": 30,
        "start_time": "2022-05-02T13:08:34.931Z"
      },
      {
        "duration": 229,
        "start_time": "2022-05-02T13:08:34.964Z"
      },
      {
        "duration": 29,
        "start_time": "2022-05-02T13:08:35.197Z"
      },
      {
        "duration": 39,
        "start_time": "2022-05-02T13:08:35.228Z"
      },
      {
        "duration": 51,
        "start_time": "2022-05-02T13:08:35.271Z"
      },
      {
        "duration": 299,
        "start_time": "2022-05-02T13:08:35.325Z"
      },
      {
        "duration": 30,
        "start_time": "2022-05-02T13:08:35.626Z"
      },
      {
        "duration": 49,
        "start_time": "2022-05-02T13:08:35.658Z"
      },
      {
        "duration": 666,
        "start_time": "2022-05-02T13:08:35.710Z"
      },
      {
        "duration": 739,
        "start_time": "2022-05-02T13:08:36.378Z"
      },
      {
        "duration": 124,
        "start_time": "2022-05-02T13:08:37.119Z"
      },
      {
        "duration": 102,
        "start_time": "2022-05-02T13:08:37.246Z"
      },
      {
        "duration": 8,
        "start_time": "2022-05-02T13:08:37.351Z"
      },
      {
        "duration": 111,
        "start_time": "2022-05-02T13:08:37.361Z"
      },
      {
        "duration": 201,
        "start_time": "2022-05-02T13:08:37.474Z"
      },
      {
        "duration": 58,
        "start_time": "2022-05-02T13:08:37.678Z"
      },
      {
        "duration": 776,
        "start_time": "2022-05-02T13:08:37.739Z"
      },
      {
        "duration": 85,
        "start_time": "2022-05-02T13:08:38.518Z"
      },
      {
        "duration": 109,
        "start_time": "2022-05-02T13:08:38.605Z"
      },
      {
        "duration": 78,
        "start_time": "2022-05-02T13:08:38.717Z"
      },
      {
        "duration": 94,
        "start_time": "2022-05-02T13:08:38.801Z"
      },
      {
        "duration": 18227,
        "start_time": "2022-05-02T13:08:38.898Z"
      },
      {
        "duration": 672,
        "start_time": "2022-05-02T13:08:57.127Z"
      },
      {
        "duration": 476237,
        "start_time": "2022-05-02T13:08:57.801Z"
      },
      {
        "duration": 49121,
        "start_time": "2022-05-02T13:16:54.041Z"
      },
      {
        "duration": 92730,
        "start_time": "2022-05-02T13:17:43.165Z"
      },
      {
        "duration": 18306,
        "start_time": "2022-05-02T13:19:15.898Z"
      },
      {
        "duration": 32219,
        "start_time": "2022-05-02T13:20:17.278Z"
      },
      {
        "duration": 5207,
        "start_time": "2022-05-02T13:20:49.499Z"
      },
      {
        "duration": 41652,
        "start_time": "2022-05-02T13:21:20.782Z"
      },
      {
        "duration": 6967,
        "start_time": "2022-05-02T13:22:02.437Z"
      },
      {
        "duration": 3634,
        "start_time": "2022-05-02T13:22:19.189Z"
      },
      {
        "duration": 2545,
        "start_time": "2022-05-02T13:22:22.827Z"
      },
      {
        "duration": 4,
        "start_time": "2022-05-02T13:22:25.375Z"
      },
      {
        "duration": 1216,
        "start_time": "2022-05-02T13:22:25.393Z"
      },
      {
        "duration": 172,
        "start_time": "2022-05-02T13:22:26.611Z"
      },
      {
        "duration": 11,
        "start_time": "2022-05-02T13:22:26.785Z"
      },
      {
        "duration": 159,
        "start_time": "2022-05-02T13:22:26.798Z"
      },
      {
        "duration": 38,
        "start_time": "2022-05-02T13:22:26.959Z"
      },
      {
        "duration": 202,
        "start_time": "2022-05-02T13:22:26.999Z"
      },
      {
        "duration": 28,
        "start_time": "2022-05-02T13:22:27.205Z"
      },
      {
        "duration": 31,
        "start_time": "2022-05-02T13:22:27.235Z"
      },
      {
        "duration": 45,
        "start_time": "2022-05-02T13:22:27.268Z"
      },
      {
        "duration": 256,
        "start_time": "2022-05-02T13:22:27.315Z"
      },
      {
        "duration": 36,
        "start_time": "2022-05-02T13:22:27.573Z"
      },
      {
        "duration": 32,
        "start_time": "2022-05-02T13:22:27.611Z"
      },
      {
        "duration": 612,
        "start_time": "2022-05-02T13:22:27.645Z"
      },
      {
        "duration": 882,
        "start_time": "2022-05-02T13:22:28.259Z"
      },
      {
        "duration": 126,
        "start_time": "2022-05-02T13:22:29.143Z"
      },
      {
        "duration": 94,
        "start_time": "2022-05-02T13:22:29.271Z"
      },
      {
        "duration": 9,
        "start_time": "2022-05-02T13:22:29.367Z"
      },
      {
        "duration": 86,
        "start_time": "2022-05-02T13:22:29.394Z"
      },
      {
        "duration": 185,
        "start_time": "2022-05-02T13:22:29.482Z"
      },
      {
        "duration": 60,
        "start_time": "2022-05-02T13:22:29.670Z"
      },
      {
        "duration": 736,
        "start_time": "2022-05-02T13:22:29.732Z"
      },
      {
        "duration": 80,
        "start_time": "2022-05-02T13:22:30.471Z"
      },
      {
        "duration": 110,
        "start_time": "2022-05-02T13:22:30.553Z"
      },
      {
        "duration": 73,
        "start_time": "2022-05-02T13:22:30.665Z"
      },
      {
        "duration": 153,
        "start_time": "2022-05-02T13:22:30.743Z"
      },
      {
        "duration": 16934,
        "start_time": "2022-05-02T13:22:30.903Z"
      },
      {
        "duration": 674,
        "start_time": "2022-05-02T13:22:47.839Z"
      },
      {
        "duration": 429596,
        "start_time": "2022-05-02T13:22:48.516Z"
      },
      {
        "duration": 246,
        "start_time": "2022-05-02T13:29:58.115Z"
      },
      {
        "duration": 8404,
        "start_time": "2022-05-02T13:32:52.761Z"
      },
      {
        "duration": 218,
        "start_time": "2022-05-02T13:33:01.168Z"
      },
      {
        "duration": 17,
        "start_time": "2022-05-02T13:33:01.388Z"
      },
      {
        "duration": 17,
        "start_time": "2022-05-02T13:33:08.610Z"
      },
      {
        "duration": 17,
        "start_time": "2022-05-02T13:33:28.479Z"
      },
      {
        "duration": 3663,
        "start_time": "2022-05-02T13:33:54.676Z"
      },
      {
        "duration": 2485,
        "start_time": "2022-05-02T13:33:58.343Z"
      },
      {
        "duration": 5,
        "start_time": "2022-05-02T13:34:00.830Z"
      },
      {
        "duration": 1198,
        "start_time": "2022-05-02T13:34:00.838Z"
      },
      {
        "duration": 173,
        "start_time": "2022-05-02T13:34:02.039Z"
      },
      {
        "duration": 7,
        "start_time": "2022-05-02T13:34:02.214Z"
      },
      {
        "duration": 180,
        "start_time": "2022-05-02T13:34:02.223Z"
      },
      {
        "duration": 33,
        "start_time": "2022-05-02T13:34:02.405Z"
      },
      {
        "duration": 220,
        "start_time": "2022-05-02T13:34:02.440Z"
      },
      {
        "duration": 34,
        "start_time": "2022-05-02T13:34:02.664Z"
      },
      {
        "duration": 26,
        "start_time": "2022-05-02T13:34:02.701Z"
      },
      {
        "duration": 30,
        "start_time": "2022-05-02T13:34:02.729Z"
      },
      {
        "duration": 295,
        "start_time": "2022-05-02T13:34:02.761Z"
      },
      {
        "duration": 26,
        "start_time": "2022-05-02T13:34:03.058Z"
      },
      {
        "duration": 30,
        "start_time": "2022-05-02T13:34:03.094Z"
      },
      {
        "duration": 724,
        "start_time": "2022-05-02T13:34:03.127Z"
      },
      {
        "duration": 861,
        "start_time": "2022-05-02T13:34:03.854Z"
      },
      {
        "duration": 122,
        "start_time": "2022-05-02T13:34:04.717Z"
      },
      {
        "duration": 97,
        "start_time": "2022-05-02T13:34:04.842Z"
      },
      {
        "duration": 8,
        "start_time": "2022-05-02T13:34:04.942Z"
      },
      {
        "duration": 115,
        "start_time": "2022-05-02T13:34:04.952Z"
      },
      {
        "duration": 182,
        "start_time": "2022-05-02T13:34:05.069Z"
      },
      {
        "duration": 69,
        "start_time": "2022-05-02T13:34:05.254Z"
      },
      {
        "duration": 755,
        "start_time": "2022-05-02T13:34:05.325Z"
      },
      {
        "duration": 64,
        "start_time": "2022-05-02T13:34:06.082Z"
      },
      {
        "duration": 117,
        "start_time": "2022-05-02T13:34:06.148Z"
      },
      {
        "duration": 70,
        "start_time": "2022-05-02T13:34:06.267Z"
      },
      {
        "duration": 164,
        "start_time": "2022-05-02T13:34:06.342Z"
      },
      {
        "duration": 27873,
        "start_time": "2022-05-02T13:34:06.594Z"
      },
      {
        "duration": 1132,
        "start_time": "2022-05-02T13:34:34.469Z"
      },
      {
        "duration": 248400,
        "start_time": "2022-05-02T13:34:35.603Z"
      },
      {
        "duration": 196,
        "start_time": "2022-05-02T13:38:44.005Z"
      },
      {
        "duration": 60104,
        "start_time": "2022-05-02T13:39:51.497Z"
      },
      {
        "duration": 10595,
        "start_time": "2022-05-02T13:40:51.603Z"
      },
      {
        "duration": 17,
        "start_time": "2022-05-02T13:41:02.200Z"
      },
      {
        "duration": 501084,
        "start_time": "2022-05-02T13:48:38.196Z"
      },
      {
        "duration": 206,
        "start_time": "2022-05-02T13:56:59.283Z"
      },
      {
        "duration": 3767,
        "start_time": "2022-05-02T14:32:58.565Z"
      },
      {
        "duration": 2492,
        "start_time": "2022-05-02T14:33:02.335Z"
      },
      {
        "duration": 4,
        "start_time": "2022-05-02T14:33:04.830Z"
      },
      {
        "duration": 1112,
        "start_time": "2022-05-02T14:33:04.837Z"
      },
      {
        "duration": 170,
        "start_time": "2022-05-02T14:33:05.951Z"
      },
      {
        "duration": 6,
        "start_time": "2022-05-02T14:33:06.123Z"
      },
      {
        "duration": 174,
        "start_time": "2022-05-02T14:33:06.131Z"
      },
      {
        "duration": 30,
        "start_time": "2022-05-02T14:33:06.307Z"
      },
      {
        "duration": 214,
        "start_time": "2022-05-02T14:33:06.339Z"
      },
      {
        "duration": 26,
        "start_time": "2022-05-02T14:33:06.557Z"
      },
      {
        "duration": 26,
        "start_time": "2022-05-02T14:33:06.593Z"
      },
      {
        "duration": 28,
        "start_time": "2022-05-02T14:33:06.621Z"
      },
      {
        "duration": 274,
        "start_time": "2022-05-02T14:33:06.651Z"
      },
      {
        "duration": 27,
        "start_time": "2022-05-02T14:33:06.927Z"
      },
      {
        "duration": 46,
        "start_time": "2022-05-02T14:33:06.957Z"
      },
      {
        "duration": 599,
        "start_time": "2022-05-02T14:33:07.006Z"
      },
      {
        "duration": 703,
        "start_time": "2022-05-02T14:33:07.608Z"
      },
      {
        "duration": 128,
        "start_time": "2022-05-02T14:33:08.313Z"
      },
      {
        "duration": 99,
        "start_time": "2022-05-02T14:33:08.443Z"
      },
      {
        "duration": 8,
        "start_time": "2022-05-02T14:33:08.544Z"
      },
      {
        "duration": 111,
        "start_time": "2022-05-02T14:33:08.554Z"
      },
      {
        "duration": 185,
        "start_time": "2022-05-02T14:33:08.667Z"
      },
      {
        "duration": 62,
        "start_time": "2022-05-02T14:33:08.854Z"
      },
      {
        "duration": 766,
        "start_time": "2022-05-02T14:33:08.918Z"
      },
      {
        "duration": 75,
        "start_time": "2022-05-02T14:33:09.687Z"
      },
      {
        "duration": 122,
        "start_time": "2022-05-02T14:33:09.764Z"
      },
      {
        "duration": 59,
        "start_time": "2022-05-02T14:33:09.888Z"
      },
      {
        "duration": 145,
        "start_time": "2022-05-02T14:33:09.953Z"
      },
      {
        "duration": 17303,
        "start_time": "2022-05-02T14:33:10.101Z"
      },
      {
        "duration": 664,
        "start_time": "2022-05-02T14:33:27.406Z"
      },
      {
        "duration": 651882,
        "start_time": "2022-05-02T14:33:28.072Z"
      },
      {
        "duration": 23618,
        "start_time": "2022-05-02T14:44:19.957Z"
      },
      {
        "duration": 147317,
        "start_time": "2022-05-02T14:44:43.577Z"
      },
      {
        "duration": 7215,
        "start_time": "2022-05-02T14:47:10.897Z"
      },
      {
        "duration": 16,
        "start_time": "2022-05-02T14:47:18.115Z"
      },
      {
        "duration": 26,
        "start_time": "2022-05-02T14:47:23.268Z"
      },
      {
        "duration": 70,
        "start_time": "2022-05-02T14:47:24.696Z"
      },
      {
        "duration": 865,
        "start_time": "2022-05-02T14:47:25.951Z"
      },
      {
        "duration": 708,
        "start_time": "2022-05-02T14:47:32.794Z"
      },
      {
        "duration": 436,
        "start_time": "2022-05-02T14:48:42.549Z"
      },
      {
        "duration": 696488,
        "start_time": "2022-05-02T14:48:52.430Z"
      },
      {
        "duration": 218,
        "start_time": "2022-05-02T15:00:28.921Z"
      },
      {
        "duration": 4543,
        "start_time": "2022-05-02T15:01:06.517Z"
      },
      {
        "duration": 2486,
        "start_time": "2022-05-02T15:01:11.063Z"
      },
      {
        "duration": 5,
        "start_time": "2022-05-02T15:01:13.551Z"
      },
      {
        "duration": 1095,
        "start_time": "2022-05-02T15:01:13.559Z"
      },
      {
        "duration": 171,
        "start_time": "2022-05-02T15:01:14.656Z"
      },
      {
        "duration": 7,
        "start_time": "2022-05-02T15:01:14.830Z"
      },
      {
        "duration": 182,
        "start_time": "2022-05-02T15:01:14.840Z"
      },
      {
        "duration": 30,
        "start_time": "2022-05-02T15:01:15.024Z"
      },
      {
        "duration": 202,
        "start_time": "2022-05-02T15:01:15.057Z"
      },
      {
        "duration": 37,
        "start_time": "2022-05-02T15:01:15.263Z"
      },
      {
        "duration": 29,
        "start_time": "2022-05-02T15:01:15.302Z"
      },
      {
        "duration": 28,
        "start_time": "2022-05-02T15:01:15.333Z"
      },
      {
        "duration": 270,
        "start_time": "2022-05-02T15:01:15.363Z"
      },
      {
        "duration": 27,
        "start_time": "2022-05-02T15:01:15.636Z"
      },
      {
        "duration": 43,
        "start_time": "2022-05-02T15:01:15.666Z"
      },
      {
        "duration": 639,
        "start_time": "2022-05-02T15:01:15.713Z"
      },
      {
        "duration": 766,
        "start_time": "2022-05-02T15:01:16.354Z"
      },
      {
        "duration": 124,
        "start_time": "2022-05-02T15:01:17.122Z"
      },
      {
        "duration": 103,
        "start_time": "2022-05-02T15:01:17.248Z"
      },
      {
        "duration": 9,
        "start_time": "2022-05-02T15:01:17.353Z"
      },
      {
        "duration": 113,
        "start_time": "2022-05-02T15:01:17.364Z"
      },
      {
        "duration": 181,
        "start_time": "2022-05-02T15:01:17.479Z"
      },
      {
        "duration": 55,
        "start_time": "2022-05-02T15:01:17.663Z"
      },
      {
        "duration": 860,
        "start_time": "2022-05-02T15:01:17.721Z"
      },
      {
        "duration": 66,
        "start_time": "2022-05-02T15:01:18.584Z"
      },
      {
        "duration": 114,
        "start_time": "2022-05-02T15:01:18.652Z"
      },
      {
        "duration": 74,
        "start_time": "2022-05-02T15:01:18.769Z"
      },
      {
        "duration": 244,
        "start_time": "2022-05-02T15:01:18.849Z"
      },
      {
        "duration": 16607,
        "start_time": "2022-05-02T15:01:19.095Z"
      },
      {
        "duration": 1027,
        "start_time": "2022-05-02T15:01:35.705Z"
      },
      {
        "duration": 332113,
        "start_time": "2022-05-02T15:01:36.735Z"
      },
      {
        "duration": 18756,
        "start_time": "2022-05-02T15:07:08.850Z"
      },
      {
        "duration": 649408,
        "start_time": "2022-05-02T15:07:27.609Z"
      },
      {
        "duration": 221,
        "start_time": "2022-05-02T15:18:17.020Z"
      },
      {
        "duration": 16,
        "start_time": "2022-05-02T15:18:17.244Z"
      },
      {
        "duration": 29,
        "start_time": "2022-05-02T15:18:17.262Z"
      },
      {
        "duration": 46,
        "start_time": "2022-05-02T15:18:17.294Z"
      },
      {
        "duration": 17,
        "start_time": "2022-05-02T15:18:17.343Z"
      },
      {
        "duration": 5319,
        "start_time": "2022-05-02T15:18:35.571Z"
      },
      {
        "duration": 2809,
        "start_time": "2022-05-02T15:18:40.893Z"
      },
      {
        "duration": 6,
        "start_time": "2022-05-02T15:18:43.705Z"
      },
      {
        "duration": 1154,
        "start_time": "2022-05-02T15:18:43.715Z"
      },
      {
        "duration": 188,
        "start_time": "2022-05-02T15:18:44.873Z"
      },
      {
        "duration": 7,
        "start_time": "2022-05-02T15:18:45.064Z"
      },
      {
        "duration": 178,
        "start_time": "2022-05-02T15:18:45.073Z"
      },
      {
        "duration": 44,
        "start_time": "2022-05-02T15:18:45.254Z"
      },
      {
        "duration": 214,
        "start_time": "2022-05-02T15:18:45.300Z"
      },
      {
        "duration": 28,
        "start_time": "2022-05-02T15:18:45.518Z"
      },
      {
        "duration": 50,
        "start_time": "2022-05-02T15:18:45.548Z"
      },
      {
        "duration": 36,
        "start_time": "2022-05-02T15:18:45.600Z"
      },
      {
        "duration": 406,
        "start_time": "2022-05-02T15:18:45.639Z"
      },
      {
        "duration": 49,
        "start_time": "2022-05-02T15:18:46.048Z"
      },
      {
        "duration": 33,
        "start_time": "2022-05-02T15:18:46.099Z"
      },
      {
        "duration": 674,
        "start_time": "2022-05-02T15:18:46.134Z"
      },
      {
        "duration": 807,
        "start_time": "2022-05-02T15:18:46.810Z"
      },
      {
        "duration": 166,
        "start_time": "2022-05-02T15:18:47.620Z"
      },
      {
        "duration": 103,
        "start_time": "2022-05-02T15:18:47.792Z"
      },
      {
        "duration": 9,
        "start_time": "2022-05-02T15:18:47.897Z"
      },
      {
        "duration": 113,
        "start_time": "2022-05-02T15:18:47.908Z"
      },
      {
        "duration": 204,
        "start_time": "2022-05-02T15:18:48.024Z"
      },
      {
        "duration": 65,
        "start_time": "2022-05-02T15:18:48.231Z"
      },
      {
        "duration": 781,
        "start_time": "2022-05-02T15:18:48.299Z"
      },
      {
        "duration": 71,
        "start_time": "2022-05-02T15:18:49.083Z"
      },
      {
        "duration": 135,
        "start_time": "2022-05-02T15:18:49.157Z"
      },
      {
        "duration": 62,
        "start_time": "2022-05-02T15:18:49.296Z"
      },
      {
        "duration": 133,
        "start_time": "2022-05-02T15:18:49.365Z"
      },
      {
        "duration": 17061,
        "start_time": "2022-05-02T15:18:49.502Z"
      },
      {
        "duration": 723,
        "start_time": "2022-05-02T15:19:06.566Z"
      },
      {
        "duration": 422947,
        "start_time": "2022-05-02T15:19:07.293Z"
      },
      {
        "duration": 44008,
        "start_time": "2022-05-02T15:26:10.242Z"
      },
      {
        "duration": 8956,
        "start_time": "2022-05-02T16:44:08.291Z"
      },
      {
        "duration": 2744,
        "start_time": "2022-05-02T16:44:17.250Z"
      },
      {
        "duration": 4,
        "start_time": "2022-05-02T16:44:19.997Z"
      },
      {
        "duration": 944,
        "start_time": "2022-05-02T16:44:20.003Z"
      },
      {
        "duration": 160,
        "start_time": "2022-05-02T16:44:20.951Z"
      },
      {
        "duration": 10,
        "start_time": "2022-05-02T16:44:21.113Z"
      },
      {
        "duration": 151,
        "start_time": "2022-05-02T16:44:21.125Z"
      },
      {
        "duration": 25,
        "start_time": "2022-05-02T16:44:21.278Z"
      },
      {
        "duration": 166,
        "start_time": "2022-05-02T16:44:21.305Z"
      },
      {
        "duration": 22,
        "start_time": "2022-05-02T16:44:21.473Z"
      },
      {
        "duration": 32,
        "start_time": "2022-05-02T16:44:21.497Z"
      },
      {
        "duration": 29,
        "start_time": "2022-05-02T16:44:21.533Z"
      },
      {
        "duration": 223,
        "start_time": "2022-05-02T16:44:21.565Z"
      },
      {
        "duration": 23,
        "start_time": "2022-05-02T16:44:21.793Z"
      },
      {
        "duration": 30,
        "start_time": "2022-05-02T16:44:21.824Z"
      },
      {
        "duration": 504,
        "start_time": "2022-05-02T16:44:21.856Z"
      },
      {
        "duration": 605,
        "start_time": "2022-05-02T16:44:22.362Z"
      },
      {
        "duration": 122,
        "start_time": "2022-05-02T16:44:22.969Z"
      },
      {
        "duration": 69,
        "start_time": "2022-05-02T16:44:23.093Z"
      },
      {
        "duration": 7,
        "start_time": "2022-05-02T16:44:23.164Z"
      },
      {
        "duration": 94,
        "start_time": "2022-05-02T16:44:23.172Z"
      },
      {
        "duration": 120,
        "start_time": "2022-05-02T16:44:23.268Z"
      },
      {
        "duration": 40,
        "start_time": "2022-05-02T16:44:23.390Z"
      },
      {
        "duration": 592,
        "start_time": "2022-05-02T16:44:23.433Z"
      },
      {
        "duration": 60,
        "start_time": "2022-05-02T16:44:24.028Z"
      },
      {
        "duration": 106,
        "start_time": "2022-05-02T16:44:24.090Z"
      },
      {
        "duration": 67,
        "start_time": "2022-05-02T16:44:24.198Z"
      },
      {
        "duration": 257,
        "start_time": "2022-05-02T16:44:24.267Z"
      },
      {
        "duration": 17654,
        "start_time": "2022-05-02T16:44:24.529Z"
      },
      {
        "duration": 684,
        "start_time": "2022-05-02T16:44:42.186Z"
      },
      {
        "duration": 167881,
        "start_time": "2022-05-02T16:44:42.872Z"
      },
      {
        "duration": 14609,
        "start_time": "2022-05-02T16:47:30.755Z"
      },
      {
        "duration": 410465,
        "start_time": "2022-05-02T16:47:45.366Z"
      },
      {
        "duration": 220,
        "start_time": "2022-05-02T16:54:35.833Z"
      },
      {
        "duration": 12,
        "start_time": "2022-05-02T16:54:36.055Z"
      },
      {
        "duration": 27,
        "start_time": "2022-05-02T16:54:36.069Z"
      },
      {
        "duration": 61,
        "start_time": "2022-05-02T16:54:36.098Z"
      },
      {
        "duration": 15,
        "start_time": "2022-05-02T16:54:36.161Z"
      },
      {
        "duration": 3073,
        "start_time": "2022-05-02T16:55:07.218Z"
      },
      {
        "duration": 2761,
        "start_time": "2022-05-02T16:55:10.294Z"
      },
      {
        "duration": 4,
        "start_time": "2022-05-02T16:55:13.058Z"
      },
      {
        "duration": 1042,
        "start_time": "2022-05-02T16:55:13.065Z"
      },
      {
        "duration": 200,
        "start_time": "2022-05-02T16:55:14.109Z"
      },
      {
        "duration": 14,
        "start_time": "2022-05-02T16:55:14.311Z"
      },
      {
        "duration": 239,
        "start_time": "2022-05-02T16:55:14.327Z"
      },
      {
        "duration": 25,
        "start_time": "2022-05-02T16:55:14.568Z"
      },
      {
        "duration": 169,
        "start_time": "2022-05-02T16:55:14.594Z"
      },
      {
        "duration": 22,
        "start_time": "2022-05-02T16:55:14.767Z"
      },
      {
        "duration": 35,
        "start_time": "2022-05-02T16:55:14.791Z"
      },
      {
        "duration": 28,
        "start_time": "2022-05-02T16:55:14.830Z"
      },
      {
        "duration": 222,
        "start_time": "2022-05-02T16:55:14.859Z"
      },
      {
        "duration": 23,
        "start_time": "2022-05-02T16:55:15.083Z"
      },
      {
        "duration": 45,
        "start_time": "2022-05-02T16:55:15.108Z"
      },
      {
        "duration": 586,
        "start_time": "2022-05-02T16:55:15.155Z"
      },
      {
        "duration": 578,
        "start_time": "2022-05-02T16:55:15.745Z"
      },
      {
        "duration": 101,
        "start_time": "2022-05-02T16:55:16.325Z"
      },
      {
        "duration": 51,
        "start_time": "2022-05-02T16:55:16.428Z"
      },
      {
        "duration": 6,
        "start_time": "2022-05-02T16:55:16.481Z"
      },
      {
        "duration": 107,
        "start_time": "2022-05-02T16:55:16.488Z"
      },
      {
        "duration": 116,
        "start_time": "2022-05-02T16:55:16.597Z"
      },
      {
        "duration": 40,
        "start_time": "2022-05-02T16:55:16.715Z"
      },
      {
        "duration": 577,
        "start_time": "2022-05-02T16:55:16.756Z"
      },
      {
        "duration": 61,
        "start_time": "2022-05-02T16:55:17.335Z"
      },
      {
        "duration": 101,
        "start_time": "2022-05-02T16:55:17.398Z"
      },
      {
        "duration": 63,
        "start_time": "2022-05-02T16:55:17.501Z"
      },
      {
        "duration": 164,
        "start_time": "2022-05-02T16:55:17.568Z"
      },
      {
        "duration": 17703,
        "start_time": "2022-05-02T16:55:17.735Z"
      },
      {
        "duration": 846,
        "start_time": "2022-05-02T16:55:35.440Z"
      },
      {
        "duration": 219951,
        "start_time": "2022-05-02T16:55:36.288Z"
      },
      {
        "duration": 14424,
        "start_time": "2022-05-02T16:59:16.240Z"
      },
      {
        "duration": 388281,
        "start_time": "2022-05-02T16:59:30.666Z"
      },
      {
        "duration": 213,
        "start_time": "2022-05-02T17:05:58.949Z"
      },
      {
        "duration": 11,
        "start_time": "2022-05-02T17:05:59.164Z"
      },
      {
        "duration": 34,
        "start_time": "2022-05-02T17:05:59.177Z"
      },
      {
        "duration": 46,
        "start_time": "2022-05-02T17:05:59.213Z"
      },
      {
        "duration": 11,
        "start_time": "2022-05-02T17:05:59.261Z"
      },
      {
        "duration": 13,
        "start_time": "2022-05-02T17:06:05.373Z"
      },
      {
        "duration": 109403,
        "start_time": "2022-05-02T17:06:10.588Z"
      },
      {
        "duration": 33617,
        "start_time": "2022-05-02T17:08:14.530Z"
      },
      {
        "duration": 2746,
        "start_time": "2022-05-02T17:08:59.619Z"
      },
      {
        "duration": 2304,
        "start_time": "2022-05-02T17:09:02.367Z"
      },
      {
        "duration": 3,
        "start_time": "2022-05-02T17:09:04.673Z"
      },
      {
        "duration": 911,
        "start_time": "2022-05-02T17:09:04.678Z"
      },
      {
        "duration": 266,
        "start_time": "2022-05-02T17:09:05.592Z"
      },
      {
        "duration": 6,
        "start_time": "2022-05-02T17:09:05.859Z"
      },
      {
        "duration": 148,
        "start_time": "2022-05-02T17:09:05.866Z"
      },
      {
        "duration": 30,
        "start_time": "2022-05-02T17:09:06.016Z"
      },
      {
        "duration": 163,
        "start_time": "2022-05-02T17:09:06.048Z"
      },
      {
        "duration": 24,
        "start_time": "2022-05-02T17:09:06.213Z"
      },
      {
        "duration": 34,
        "start_time": "2022-05-02T17:09:06.239Z"
      },
      {
        "duration": 45,
        "start_time": "2022-05-02T17:09:06.275Z"
      },
      {
        "duration": 187,
        "start_time": "2022-05-02T17:09:06.321Z"
      },
      {
        "duration": 28,
        "start_time": "2022-05-02T17:09:06.511Z"
      },
      {
        "duration": 46,
        "start_time": "2022-05-02T17:09:06.540Z"
      },
      {
        "duration": 441,
        "start_time": "2022-05-02T17:09:06.587Z"
      },
      {
        "duration": 527,
        "start_time": "2022-05-02T17:09:07.030Z"
      },
      {
        "duration": 97,
        "start_time": "2022-05-02T17:09:07.559Z"
      },
      {
        "duration": 49,
        "start_time": "2022-05-02T17:09:07.658Z"
      },
      {
        "duration": 16,
        "start_time": "2022-05-02T17:09:07.709Z"
      },
      {
        "duration": 70,
        "start_time": "2022-05-02T17:09:07.727Z"
      },
      {
        "duration": 131,
        "start_time": "2022-05-02T17:09:07.799Z"
      },
      {
        "duration": 28,
        "start_time": "2022-05-02T17:09:07.933Z"
      },
      {
        "duration": 550,
        "start_time": "2022-05-02T17:09:07.963Z"
      },
      {
        "duration": 52,
        "start_time": "2022-05-02T17:09:08.515Z"
      },
      {
        "duration": 101,
        "start_time": "2022-05-02T17:09:08.569Z"
      },
      {
        "duration": 59,
        "start_time": "2022-05-02T17:09:08.672Z"
      },
      {
        "duration": 94,
        "start_time": "2022-05-02T17:09:08.733Z"
      },
      {
        "duration": 15501,
        "start_time": "2022-05-02T17:09:08.830Z"
      },
      {
        "duration": 580,
        "start_time": "2022-05-02T17:09:24.333Z"
      },
      {
        "duration": 243430,
        "start_time": "2022-05-02T17:09:24.915Z"
      },
      {
        "duration": 23287,
        "start_time": "2022-05-02T17:13:28.347Z"
      },
      {
        "duration": 354816,
        "start_time": "2022-05-02T17:13:51.636Z"
      },
      {
        "duration": 225,
        "start_time": "2022-05-02T17:19:46.454Z"
      },
      {
        "duration": 14,
        "start_time": "2022-05-02T17:19:46.681Z"
      },
      {
        "duration": 22,
        "start_time": "2022-05-02T17:19:46.696Z"
      },
      {
        "duration": 45,
        "start_time": "2022-05-02T17:19:46.720Z"
      },
      {
        "duration": 11,
        "start_time": "2022-05-02T17:19:46.767Z"
      },
      {
        "duration": 196,
        "start_time": "2022-05-02T17:19:58.285Z"
      },
      {
        "duration": 88774,
        "start_time": "2022-05-02T17:20:06.993Z"
      },
      {
        "duration": 11902,
        "start_time": "2022-05-02T17:21:42.620Z"
      },
      {
        "duration": 36822,
        "start_time": "2022-05-02T17:22:05.687Z"
      },
      {
        "duration": 75183,
        "start_time": "2022-05-02T17:22:54.947Z"
      },
      {
        "duration": 19056,
        "start_time": "2022-05-02T17:24:16.069Z"
      },
      {
        "duration": 313229,
        "start_time": "2022-05-02T17:24:46.436Z"
      },
      {
        "duration": 9570,
        "start_time": "2022-05-02T17:29:59.668Z"
      },
      {
        "duration": 119991,
        "start_time": "2022-05-02T17:30:09.241Z"
      },
      {
        "duration": 122929,
        "start_time": "2022-05-02T17:32:20.123Z"
      },
      {
        "duration": 225647,
        "start_time": "2022-05-02T17:35:50.903Z"
      },
      {
        "duration": 176181,
        "start_time": "2022-05-02T17:39:40.455Z"
      },
      {
        "duration": 2715,
        "start_time": "2022-05-02T17:43:04.340Z"
      },
      {
        "duration": 2045,
        "start_time": "2022-05-02T17:43:07.057Z"
      },
      {
        "duration": 4,
        "start_time": "2022-05-02T17:43:09.104Z"
      },
      {
        "duration": 899,
        "start_time": "2022-05-02T17:43:09.110Z"
      },
      {
        "duration": 145,
        "start_time": "2022-05-02T17:43:10.011Z"
      },
      {
        "duration": 5,
        "start_time": "2022-05-02T17:43:10.158Z"
      },
      {
        "duration": 150,
        "start_time": "2022-05-02T17:43:10.164Z"
      },
      {
        "duration": 24,
        "start_time": "2022-05-02T17:43:10.316Z"
      },
      {
        "duration": 153,
        "start_time": "2022-05-02T17:43:10.342Z"
      },
      {
        "duration": 27,
        "start_time": "2022-05-02T17:43:10.498Z"
      },
      {
        "duration": 21,
        "start_time": "2022-05-02T17:43:10.527Z"
      },
      {
        "duration": 24,
        "start_time": "2022-05-02T17:43:10.551Z"
      },
      {
        "duration": 215,
        "start_time": "2022-05-02T17:43:10.576Z"
      },
      {
        "duration": 44,
        "start_time": "2022-05-02T17:43:10.794Z"
      },
      {
        "duration": 36,
        "start_time": "2022-05-02T17:43:10.840Z"
      },
      {
        "duration": 653,
        "start_time": "2022-05-02T17:43:10.878Z"
      },
      {
        "duration": 682,
        "start_time": "2022-05-02T17:43:11.533Z"
      },
      {
        "duration": 131,
        "start_time": "2022-05-02T17:43:12.217Z"
      },
      {
        "duration": 72,
        "start_time": "2022-05-02T17:43:12.351Z"
      },
      {
        "duration": 9,
        "start_time": "2022-05-02T17:43:12.425Z"
      },
      {
        "duration": 108,
        "start_time": "2022-05-02T17:43:12.436Z"
      },
      {
        "duration": 123,
        "start_time": "2022-05-02T17:43:12.546Z"
      },
      {
        "duration": 28,
        "start_time": "2022-05-02T17:43:12.671Z"
      },
      {
        "duration": 661,
        "start_time": "2022-05-02T17:43:12.701Z"
      },
      {
        "duration": 62,
        "start_time": "2022-05-02T17:43:13.363Z"
      },
      {
        "duration": 80,
        "start_time": "2022-05-02T17:43:13.427Z"
      },
      {
        "duration": 62,
        "start_time": "2022-05-02T17:43:13.509Z"
      },
      {
        "duration": 69,
        "start_time": "2022-05-02T17:43:13.575Z"
      },
      {
        "duration": 15975,
        "start_time": "2022-05-02T17:43:13.823Z"
      },
      {
        "duration": 587,
        "start_time": "2022-05-02T17:43:29.799Z"
      },
      {
        "duration": 130341,
        "start_time": "2022-05-02T17:43:30.388Z"
      },
      {
        "duration": 12954,
        "start_time": "2022-05-02T17:45:40.731Z"
      },
      {
        "duration": 707245,
        "start_time": "2022-05-02T17:45:53.687Z"
      },
      {
        "duration": 2994,
        "start_time": "2022-05-02T17:57:40.934Z"
      },
      {
        "duration": 12,
        "start_time": "2022-05-02T17:57:43.929Z"
      },
      {
        "duration": 20,
        "start_time": "2022-05-02T17:57:43.943Z"
      },
      {
        "duration": 84,
        "start_time": "2022-05-02T17:57:43.964Z"
      },
      {
        "duration": 279,
        "start_time": "2022-05-02T17:57:44.050Z"
      },
      {
        "duration": 541,
        "start_time": "2022-05-02T18:28:16.493Z"
      },
      {
        "duration": 41037,
        "start_time": "2022-05-02T18:28:24.292Z"
      },
      {
        "duration": 2582,
        "start_time": "2022-05-02T18:29:28.725Z"
      },
      {
        "duration": 1986,
        "start_time": "2022-05-02T18:29:31.309Z"
      },
      {
        "duration": 3,
        "start_time": "2022-05-02T18:29:33.297Z"
      },
      {
        "duration": 842,
        "start_time": "2022-05-02T18:29:33.303Z"
      },
      {
        "duration": 151,
        "start_time": "2022-05-02T18:29:34.147Z"
      },
      {
        "duration": 4,
        "start_time": "2022-05-02T18:29:34.300Z"
      },
      {
        "duration": 137,
        "start_time": "2022-05-02T18:29:34.306Z"
      },
      {
        "duration": 23,
        "start_time": "2022-05-02T18:29:34.444Z"
      },
      {
        "duration": 154,
        "start_time": "2022-05-02T18:29:34.468Z"
      },
      {
        "duration": 21,
        "start_time": "2022-05-02T18:29:34.625Z"
      },
      {
        "duration": 22,
        "start_time": "2022-05-02T18:29:34.647Z"
      },
      {
        "duration": 22,
        "start_time": "2022-05-02T18:29:34.671Z"
      },
      {
        "duration": 192,
        "start_time": "2022-05-02T18:29:34.695Z"
      },
      {
        "duration": 20,
        "start_time": "2022-05-02T18:29:34.889Z"
      },
      {
        "duration": 28,
        "start_time": "2022-05-02T18:29:34.912Z"
      },
      {
        "duration": 410,
        "start_time": "2022-05-02T18:29:34.942Z"
      },
      {
        "duration": 505,
        "start_time": "2022-05-02T18:29:35.354Z"
      },
      {
        "duration": 96,
        "start_time": "2022-05-02T18:29:35.860Z"
      },
      {
        "duration": 52,
        "start_time": "2022-05-02T18:29:35.958Z"
      },
      {
        "duration": 7,
        "start_time": "2022-05-02T18:29:36.022Z"
      },
      {
        "duration": 67,
        "start_time": "2022-05-02T18:29:36.031Z"
      },
      {
        "duration": 131,
        "start_time": "2022-05-02T18:29:36.099Z"
      },
      {
        "duration": 26,
        "start_time": "2022-05-02T18:29:36.232Z"
      },
      {
        "duration": 516,
        "start_time": "2022-05-02T18:29:36.260Z"
      },
      {
        "duration": 54,
        "start_time": "2022-05-02T18:29:36.778Z"
      },
      {
        "duration": 89,
        "start_time": "2022-05-02T18:29:36.833Z"
      },
      {
        "duration": 48,
        "start_time": "2022-05-02T18:29:36.924Z"
      },
      {
        "duration": 146,
        "start_time": "2022-05-02T18:29:36.976Z"
      },
      {
        "duration": 14474,
        "start_time": "2022-05-02T18:29:37.125Z"
      },
      {
        "duration": 533,
        "start_time": "2022-05-02T18:29:51.601Z"
      },
      {
        "duration": 165933,
        "start_time": "2022-05-02T18:29:52.136Z"
      },
      {
        "duration": 27253,
        "start_time": "2022-05-02T18:32:38.071Z"
      },
      {
        "duration": 48409,
        "start_time": "2022-05-02T18:33:05.326Z"
      },
      {
        "duration": 363,
        "start_time": "2022-05-02T18:33:53.737Z"
      },
      {
        "duration": 12,
        "start_time": "2022-05-02T18:33:54.102Z"
      },
      {
        "duration": 21,
        "start_time": "2022-05-02T18:33:54.115Z"
      },
      {
        "duration": 50,
        "start_time": "2022-05-02T18:33:54.138Z"
      },
      {
        "duration": 12,
        "start_time": "2022-05-02T18:33:54.190Z"
      },
      {
        "duration": 2521,
        "start_time": "2022-05-02T18:34:54.175Z"
      },
      {
        "duration": 2291,
        "start_time": "2022-05-02T18:34:56.698Z"
      },
      {
        "duration": 3,
        "start_time": "2022-05-02T18:34:58.991Z"
      },
      {
        "duration": 849,
        "start_time": "2022-05-02T18:34:58.997Z"
      },
      {
        "duration": 134,
        "start_time": "2022-05-02T18:34:59.847Z"
      },
      {
        "duration": 5,
        "start_time": "2022-05-02T18:34:59.983Z"
      },
      {
        "duration": 144,
        "start_time": "2022-05-02T18:34:59.989Z"
      },
      {
        "duration": 24,
        "start_time": "2022-05-02T18:35:00.135Z"
      },
      {
        "duration": 137,
        "start_time": "2022-05-02T18:35:00.161Z"
      },
      {
        "duration": 26,
        "start_time": "2022-05-02T18:35:00.302Z"
      },
      {
        "duration": 28,
        "start_time": "2022-05-02T18:35:00.330Z"
      },
      {
        "duration": 30,
        "start_time": "2022-05-02T18:35:00.360Z"
      },
      {
        "duration": 192,
        "start_time": "2022-05-02T18:35:00.392Z"
      },
      {
        "duration": 21,
        "start_time": "2022-05-02T18:35:00.586Z"
      },
      {
        "duration": 32,
        "start_time": "2022-05-02T18:35:00.608Z"
      },
      {
        "duration": 423,
        "start_time": "2022-05-02T18:35:00.641Z"
      },
      {
        "duration": 498,
        "start_time": "2022-05-02T18:35:01.066Z"
      },
      {
        "duration": 100,
        "start_time": "2022-05-02T18:35:01.565Z"
      },
      {
        "duration": 64,
        "start_time": "2022-05-02T18:35:01.667Z"
      },
      {
        "duration": 8,
        "start_time": "2022-05-02T18:35:01.733Z"
      },
      {
        "duration": 88,
        "start_time": "2022-05-02T18:35:01.743Z"
      },
      {
        "duration": 119,
        "start_time": "2022-05-02T18:35:01.833Z"
      },
      {
        "duration": 29,
        "start_time": "2022-05-02T18:35:01.954Z"
      },
      {
        "duration": 568,
        "start_time": "2022-05-02T18:35:01.985Z"
      },
      {
        "duration": 54,
        "start_time": "2022-05-02T18:35:02.555Z"
      },
      {
        "duration": 93,
        "start_time": "2022-05-02T18:35:02.611Z"
      },
      {
        "duration": 61,
        "start_time": "2022-05-02T18:35:02.706Z"
      },
      {
        "duration": 252,
        "start_time": "2022-05-02T18:35:02.771Z"
      },
      {
        "duration": 14881,
        "start_time": "2022-05-02T18:35:03.025Z"
      },
      {
        "duration": 621,
        "start_time": "2022-05-02T18:35:17.908Z"
      },
      {
        "duration": 268667,
        "start_time": "2022-05-02T18:35:18.531Z"
      },
      {
        "duration": 13108,
        "start_time": "2022-05-02T18:39:47.200Z"
      },
      {
        "duration": 35022,
        "start_time": "2022-05-02T18:40:00.311Z"
      },
      {
        "duration": 3093,
        "start_time": "2022-05-02T18:40:35.335Z"
      },
      {
        "duration": 12,
        "start_time": "2022-05-02T18:40:38.430Z"
      },
      {
        "duration": 21,
        "start_time": "2022-05-02T18:40:38.444Z"
      },
      {
        "duration": 92,
        "start_time": "2022-05-02T18:40:38.467Z"
      },
      {
        "duration": 274,
        "start_time": "2022-05-02T18:40:38.560Z"
      },
      {
        "duration": 27760,
        "start_time": "2022-05-02T20:21:49.614Z"
      },
      {
        "duration": 2116,
        "start_time": "2022-05-02T20:22:17.377Z"
      },
      {
        "duration": 4,
        "start_time": "2022-05-02T20:22:19.495Z"
      },
      {
        "duration": 928,
        "start_time": "2022-05-02T20:22:19.501Z"
      },
      {
        "duration": 150,
        "start_time": "2022-05-02T20:22:20.431Z"
      },
      {
        "duration": 4,
        "start_time": "2022-05-02T20:22:20.583Z"
      },
      {
        "duration": 149,
        "start_time": "2022-05-02T20:22:20.589Z"
      },
      {
        "duration": 25,
        "start_time": "2022-05-02T20:22:20.740Z"
      },
      {
        "duration": 166,
        "start_time": "2022-05-02T20:22:20.767Z"
      },
      {
        "duration": 20,
        "start_time": "2022-05-02T20:22:20.936Z"
      },
      {
        "duration": 23,
        "start_time": "2022-05-02T20:22:20.958Z"
      },
      {
        "duration": 23,
        "start_time": "2022-05-02T20:22:20.983Z"
      },
      {
        "duration": 195,
        "start_time": "2022-05-02T20:22:21.033Z"
      },
      {
        "duration": 20,
        "start_time": "2022-05-02T20:22:21.230Z"
      },
      {
        "duration": 28,
        "start_time": "2022-05-02T20:22:21.252Z"
      },
      {
        "duration": 456,
        "start_time": "2022-05-02T20:22:21.282Z"
      },
      {
        "duration": 560,
        "start_time": "2022-05-02T20:22:21.740Z"
      },
      {
        "duration": 108,
        "start_time": "2022-05-02T20:22:22.302Z"
      },
      {
        "duration": 59,
        "start_time": "2022-05-02T20:22:22.411Z"
      },
      {
        "duration": 6,
        "start_time": "2022-05-02T20:22:22.472Z"
      },
      {
        "duration": 88,
        "start_time": "2022-05-02T20:22:22.480Z"
      },
      {
        "duration": 124,
        "start_time": "2022-05-02T20:22:22.570Z"
      },
      {
        "duration": 40,
        "start_time": "2022-05-02T20:22:22.696Z"
      },
      {
        "duration": 549,
        "start_time": "2022-05-02T20:22:22.738Z"
      },
      {
        "duration": 62,
        "start_time": "2022-05-02T20:22:23.289Z"
      },
      {
        "duration": 99,
        "start_time": "2022-05-02T20:22:23.353Z"
      },
      {
        "duration": 55,
        "start_time": "2022-05-02T20:22:23.454Z"
      },
      {
        "duration": 222,
        "start_time": "2022-05-02T20:22:23.513Z"
      },
      {
        "duration": 14450,
        "start_time": "2022-05-02T20:22:23.738Z"
      },
      {
        "duration": 567,
        "start_time": "2022-05-02T20:22:38.189Z"
      },
      {
        "duration": 217858,
        "start_time": "2022-05-02T20:22:38.758Z"
      },
      {
        "duration": 20189,
        "start_time": "2022-05-02T20:26:16.617Z"
      },
      {
        "duration": 1198933,
        "start_time": "2022-05-02T20:26:36.808Z"
      },
      {
        "duration": 181,
        "start_time": "2022-05-02T20:46:35.743Z"
      },
      {
        "duration": 13,
        "start_time": "2022-05-02T20:46:35.925Z"
      },
      {
        "duration": 21,
        "start_time": "2022-05-02T20:46:35.940Z"
      },
      {
        "duration": 38,
        "start_time": "2022-05-02T20:46:35.962Z"
      },
      {
        "duration": 35,
        "start_time": "2022-05-02T20:46:36.001Z"
      },
      {
        "duration": 18452,
        "start_time": "2022-05-02T20:54:54.492Z"
      },
      {
        "duration": 15910,
        "start_time": "2022-05-02T20:55:28.825Z"
      },
      {
        "duration": 4351,
        "start_time": "2022-05-02T20:55:51.591Z"
      },
      {
        "duration": 223,
        "start_time": "2022-05-02T20:58:58.719Z"
      },
      {
        "duration": 4,
        "start_time": "2022-05-02T20:59:03.426Z"
      },
      {
        "duration": 1981,
        "start_time": "2022-05-02T20:59:03.432Z"
      },
      {
        "duration": 3,
        "start_time": "2022-05-02T20:59:05.415Z"
      },
      {
        "duration": 848,
        "start_time": "2022-05-02T20:59:05.420Z"
      },
      {
        "duration": 139,
        "start_time": "2022-05-02T20:59:06.270Z"
      },
      {
        "duration": 5,
        "start_time": "2022-05-02T20:59:06.411Z"
      },
      {
        "duration": 147,
        "start_time": "2022-05-02T20:59:06.417Z"
      },
      {
        "duration": 25,
        "start_time": "2022-05-02T20:59:06.565Z"
      },
      {
        "duration": 153,
        "start_time": "2022-05-02T20:59:06.593Z"
      },
      {
        "duration": 21,
        "start_time": "2022-05-02T20:59:06.747Z"
      },
      {
        "duration": 21,
        "start_time": "2022-05-02T20:59:06.770Z"
      },
      {
        "duration": 24,
        "start_time": "2022-05-02T20:59:06.792Z"
      },
      {
        "duration": 178,
        "start_time": "2022-05-02T20:59:06.833Z"
      },
      {
        "duration": 22,
        "start_time": "2022-05-02T20:59:07.013Z"
      },
      {
        "duration": 25,
        "start_time": "2022-05-02T20:59:07.036Z"
      },
      {
        "duration": 406,
        "start_time": "2022-05-02T20:59:07.063Z"
      },
      {
        "duration": 497,
        "start_time": "2022-05-02T20:59:07.470Z"
      },
      {
        "duration": 96,
        "start_time": "2022-05-02T20:59:07.969Z"
      },
      {
        "duration": 48,
        "start_time": "2022-05-02T20:59:08.066Z"
      },
      {
        "duration": 19,
        "start_time": "2022-05-02T20:59:08.116Z"
      },
      {
        "duration": 65,
        "start_time": "2022-05-02T20:59:08.137Z"
      },
      {
        "duration": 122,
        "start_time": "2022-05-02T20:59:08.204Z"
      },
      {
        "duration": 30,
        "start_time": "2022-05-02T20:59:08.328Z"
      },
      {
        "duration": 507,
        "start_time": "2022-05-02T20:59:08.361Z"
      },
      {
        "duration": 51,
        "start_time": "2022-05-02T20:59:08.869Z"
      },
      {
        "duration": 91,
        "start_time": "2022-05-02T20:59:08.922Z"
      },
      {
        "duration": 62,
        "start_time": "2022-05-02T20:59:09.015Z"
      },
      {
        "duration": 155,
        "start_time": "2022-05-02T20:59:09.078Z"
      },
      {
        "duration": 14174,
        "start_time": "2022-05-02T20:59:09.235Z"
      },
      {
        "duration": 558,
        "start_time": "2022-05-02T20:59:23.410Z"
      },
      {
        "duration": 283218,
        "start_time": "2022-05-02T20:59:23.969Z"
      },
      {
        "duration": 12555,
        "start_time": "2022-05-02T21:04:07.189Z"
      },
      {
        "duration": 17102,
        "start_time": "2022-05-02T21:04:19.746Z"
      },
      {
        "duration": 5292,
        "start_time": "2022-05-02T21:04:36.850Z"
      },
      {
        "duration": 12,
        "start_time": "2022-05-02T21:04:42.144Z"
      },
      {
        "duration": 94,
        "start_time": "2022-05-02T21:04:42.157Z"
      },
      {
        "duration": 41,
        "start_time": "2022-05-02T21:04:42.254Z"
      },
      {
        "duration": 442,
        "start_time": "2022-05-02T21:04:42.297Z"
      },
      {
        "duration": 24838,
        "start_time": "2022-05-02T21:08:28.690Z"
      },
      {
        "duration": 337,
        "start_time": "2022-05-02T21:08:54.674Z"
      },
      {
        "duration": 57733,
        "start_time": "2022-05-02T21:09:02.109Z"
      },
      {
        "duration": 3793,
        "start_time": "2022-05-02T21:09:59.844Z"
      },
      {
        "duration": 5,
        "start_time": "2022-05-02T21:14:06.845Z"
      },
      {
        "duration": 1847,
        "start_time": "2022-05-02T21:14:06.852Z"
      },
      {
        "duration": 3,
        "start_time": "2022-05-02T21:14:08.701Z"
      },
      {
        "duration": 868,
        "start_time": "2022-05-02T21:14:08.706Z"
      },
      {
        "duration": 145,
        "start_time": "2022-05-02T21:14:09.576Z"
      },
      {
        "duration": 14,
        "start_time": "2022-05-02T21:14:09.723Z"
      },
      {
        "duration": 131,
        "start_time": "2022-05-02T21:14:09.739Z"
      },
      {
        "duration": 24,
        "start_time": "2022-05-02T21:14:09.872Z"
      },
      {
        "duration": 163,
        "start_time": "2022-05-02T21:14:09.899Z"
      },
      {
        "duration": 20,
        "start_time": "2022-05-02T21:14:10.064Z"
      },
      {
        "duration": 23,
        "start_time": "2022-05-02T21:14:10.086Z"
      },
      {
        "duration": 37,
        "start_time": "2022-05-02T21:14:10.111Z"
      },
      {
        "duration": 184,
        "start_time": "2022-05-02T21:14:10.150Z"
      },
      {
        "duration": 21,
        "start_time": "2022-05-02T21:14:10.335Z"
      },
      {
        "duration": 23,
        "start_time": "2022-05-02T21:14:10.358Z"
      },
      {
        "duration": 434,
        "start_time": "2022-05-02T21:14:10.383Z"
      },
      {
        "duration": 529,
        "start_time": "2022-05-02T21:14:10.820Z"
      },
      {
        "duration": 96,
        "start_time": "2022-05-02T21:14:11.351Z"
      },
      {
        "duration": 51,
        "start_time": "2022-05-02T21:14:11.449Z"
      },
      {
        "duration": 30,
        "start_time": "2022-05-02T21:14:11.503Z"
      },
      {
        "duration": 68,
        "start_time": "2022-05-02T21:14:11.535Z"
      },
      {
        "duration": 136,
        "start_time": "2022-05-02T21:14:11.605Z"
      },
      {
        "duration": 30,
        "start_time": "2022-05-02T21:14:11.743Z"
      },
      {
        "duration": 531,
        "start_time": "2022-05-02T21:14:11.777Z"
      },
      {
        "duration": 60,
        "start_time": "2022-05-02T21:14:12.310Z"
      },
      {
        "duration": 101,
        "start_time": "2022-05-02T21:14:12.371Z"
      },
      {
        "duration": 62,
        "start_time": "2022-05-02T21:14:12.474Z"
      },
      {
        "duration": 102,
        "start_time": "2022-05-02T21:14:12.538Z"
      },
      {
        "duration": 14058,
        "start_time": "2022-05-02T21:14:12.642Z"
      },
      {
        "duration": 555,
        "start_time": "2022-05-02T21:14:26.702Z"
      },
      {
        "duration": 22,
        "start_time": "2022-05-02T21:14:27.259Z"
      },
      {
        "duration": 228226,
        "start_time": "2022-05-02T21:14:27.283Z"
      },
      {
        "duration": 55952,
        "start_time": "2022-05-02T21:18:15.511Z"
      },
      {
        "duration": 69,
        "start_time": "2022-05-02T21:19:11.465Z"
      },
      {
        "duration": 42500,
        "start_time": "2022-05-02T21:19:11.536Z"
      },
      {
        "duration": 4397,
        "start_time": "2022-05-02T21:19:54.038Z"
      },
      {
        "duration": 400,
        "start_time": "2022-05-02T21:19:58.437Z"
      },
      {
        "duration": 12,
        "start_time": "2022-05-02T21:19:58.839Z"
      },
      {
        "duration": 21,
        "start_time": "2022-05-02T21:19:58.853Z"
      },
      {
        "duration": 105,
        "start_time": "2022-05-02T21:19:58.875Z"
      },
      {
        "duration": 364,
        "start_time": "2022-05-02T21:19:58.981Z"
      },
      {
        "duration": 3068,
        "start_time": "2022-05-02T21:20:24.377Z"
      },
      {
        "duration": 3690,
        "start_time": "2022-05-02T21:20:33.555Z"
      },
      {
        "duration": 27,
        "start_time": "2022-05-02T21:22:37.396Z"
      },
      {
        "duration": 64,
        "start_time": "2022-05-02T21:22:38.701Z"
      },
      {
        "duration": 384,
        "start_time": "2022-05-02T21:22:40.153Z"
      },
      {
        "duration": 5,
        "start_time": "2022-05-04T11:45:14.269Z"
      },
      {
        "duration": 665,
        "start_time": "2022-05-04T11:45:14.277Z"
      },
      {
        "duration": 0,
        "start_time": "2022-05-04T11:45:14.946Z"
      },
      {
        "duration": 0,
        "start_time": "2022-05-04T11:45:14.948Z"
      },
      {
        "duration": 0,
        "start_time": "2022-05-04T11:45:14.950Z"
      },
      {
        "duration": 0,
        "start_time": "2022-05-04T11:45:14.952Z"
      },
      {
        "duration": 0,
        "start_time": "2022-05-04T11:45:14.954Z"
      },
      {
        "duration": 0,
        "start_time": "2022-05-04T11:45:14.958Z"
      },
      {
        "duration": 0,
        "start_time": "2022-05-04T11:45:14.982Z"
      },
      {
        "duration": 0,
        "start_time": "2022-05-04T11:45:14.984Z"
      },
      {
        "duration": 0,
        "start_time": "2022-05-04T11:45:14.986Z"
      },
      {
        "duration": 0,
        "start_time": "2022-05-04T11:45:14.988Z"
      },
      {
        "duration": 0,
        "start_time": "2022-05-04T11:45:14.989Z"
      },
      {
        "duration": 0,
        "start_time": "2022-05-04T11:45:14.992Z"
      },
      {
        "duration": 0,
        "start_time": "2022-05-04T11:45:14.993Z"
      },
      {
        "duration": 0,
        "start_time": "2022-05-04T11:45:14.995Z"
      },
      {
        "duration": 0,
        "start_time": "2022-05-04T11:45:14.999Z"
      },
      {
        "duration": 0,
        "start_time": "2022-05-04T11:45:15.001Z"
      },
      {
        "duration": 9570,
        "start_time": "2022-05-04T11:45:31.653Z"
      },
      {
        "duration": 3155,
        "start_time": "2022-05-04T11:45:41.227Z"
      },
      {
        "duration": 6,
        "start_time": "2022-05-04T11:45:44.385Z"
      },
      {
        "duration": 1228,
        "start_time": "2022-05-04T11:45:44.395Z"
      },
      {
        "duration": 194,
        "start_time": "2022-05-04T11:45:45.625Z"
      },
      {
        "duration": 7,
        "start_time": "2022-05-04T11:45:45.821Z"
      },
      {
        "duration": 193,
        "start_time": "2022-05-04T11:45:45.829Z"
      },
      {
        "duration": 31,
        "start_time": "2022-05-04T11:45:46.023Z"
      },
      {
        "duration": 220,
        "start_time": "2022-05-04T11:45:46.056Z"
      },
      {
        "duration": 40,
        "start_time": "2022-05-04T11:45:46.285Z"
      },
      {
        "duration": 29,
        "start_time": "2022-05-04T11:45:46.328Z"
      },
      {
        "duration": 60,
        "start_time": "2022-05-04T11:45:46.359Z"
      },
      {
        "duration": 302,
        "start_time": "2022-05-04T11:45:46.422Z"
      },
      {
        "duration": 30,
        "start_time": "2022-05-04T11:45:46.726Z"
      },
      {
        "duration": 56,
        "start_time": "2022-05-04T11:45:46.759Z"
      },
      {
        "duration": 657,
        "start_time": "2022-05-04T11:45:46.817Z"
      },
      {
        "duration": 739,
        "start_time": "2022-05-04T11:45:47.481Z"
      },
      {
        "duration": 129,
        "start_time": "2022-05-04T11:45:48.222Z"
      },
      {
        "duration": 43,
        "start_time": "2022-05-04T11:46:27.056Z"
      },
      {
        "duration": 43,
        "start_time": "2022-05-04T11:46:36.913Z"
      },
      {
        "duration": 129,
        "start_time": "2022-05-04T11:46:47.435Z"
      },
      {
        "duration": 74,
        "start_time": "2022-05-04T11:46:53.121Z"
      },
      {
        "duration": 66,
        "start_time": "2022-05-04T11:47:22.445Z"
      },
      {
        "duration": 46,
        "start_time": "2022-05-04T11:47:30.993Z"
      },
      {
        "duration": 368,
        "start_time": "2022-05-04T11:47:39.639Z"
      },
      {
        "duration": 28,
        "start_time": "2022-05-04T11:47:45.822Z"
      },
      {
        "duration": 20,
        "start_time": "2022-05-04T11:47:52.948Z"
      },
      {
        "duration": 20,
        "start_time": "2022-05-04T11:48:02.145Z"
      },
      {
        "duration": 20,
        "start_time": "2022-05-04T11:48:04.338Z"
      },
      {
        "duration": 19,
        "start_time": "2022-05-04T11:48:07.502Z"
      },
      {
        "duration": 29,
        "start_time": "2022-05-04T11:59:00.742Z"
      },
      {
        "duration": 59,
        "start_time": "2022-05-04T11:59:08.806Z"
      },
      {
        "duration": 5127,
        "start_time": "2022-05-04T13:21:13.824Z"
      },
      {
        "duration": 2451,
        "start_time": "2022-05-04T13:21:18.955Z"
      },
      {
        "duration": 5,
        "start_time": "2022-05-04T13:21:21.409Z"
      },
      {
        "duration": 1832,
        "start_time": "2022-05-04T13:21:21.416Z"
      },
      {
        "duration": 340,
        "start_time": "2022-05-04T13:21:23.253Z"
      },
      {
        "duration": 8,
        "start_time": "2022-05-04T13:21:23.597Z"
      },
      {
        "duration": 177,
        "start_time": "2022-05-04T13:21:23.608Z"
      },
      {
        "duration": 32,
        "start_time": "2022-05-04T13:21:23.787Z"
      },
      {
        "duration": 221,
        "start_time": "2022-05-04T13:21:23.821Z"
      },
      {
        "duration": 52,
        "start_time": "2022-05-04T13:21:24.045Z"
      },
      {
        "duration": 48,
        "start_time": "2022-05-04T13:21:24.099Z"
      },
      {
        "duration": 49,
        "start_time": "2022-05-04T13:21:24.149Z"
      },
      {
        "duration": 285,
        "start_time": "2022-05-04T13:21:24.201Z"
      },
      {
        "duration": 27,
        "start_time": "2022-05-04T13:21:24.490Z"
      },
      {
        "duration": 31,
        "start_time": "2022-05-04T13:21:24.519Z"
      },
      {
        "duration": 684,
        "start_time": "2022-05-04T13:21:24.552Z"
      },
      {
        "duration": 1065,
        "start_time": "2022-05-04T13:21:25.239Z"
      },
      {
        "duration": 168,
        "start_time": "2022-05-04T13:21:26.307Z"
      },
      {
        "duration": 111,
        "start_time": "2022-05-04T13:21:26.478Z"
      },
      {
        "duration": 186,
        "start_time": "2022-05-04T13:21:26.592Z"
      },
      {
        "duration": 100,
        "start_time": "2022-05-04T13:21:26.781Z"
      },
      {
        "duration": 0,
        "start_time": "2022-05-04T13:21:26.884Z"
      },
      {
        "duration": 0,
        "start_time": "2022-05-04T13:21:26.887Z"
      },
      {
        "duration": 0,
        "start_time": "2022-05-04T13:21:26.889Z"
      },
      {
        "duration": 0,
        "start_time": "2022-05-04T13:21:26.891Z"
      },
      {
        "duration": 51,
        "start_time": "2022-05-04T13:21:40.282Z"
      },
      {
        "duration": 729,
        "start_time": "2022-05-04T13:21:43.640Z"
      },
      {
        "duration": 56,
        "start_time": "2022-05-04T13:22:31.345Z"
      },
      {
        "duration": 89,
        "start_time": "2022-05-04T13:22:32.763Z"
      },
      {
        "duration": 62,
        "start_time": "2022-05-04T13:22:34.150Z"
      },
      {
        "duration": 203,
        "start_time": "2022-05-04T13:22:36.691Z"
      },
      {
        "duration": 11113,
        "start_time": "2022-05-04T13:22:44.312Z"
      },
      {
        "duration": 59,
        "start_time": "2022-05-04T13:22:59.015Z"
      },
      {
        "duration": 198,
        "start_time": "2022-05-04T13:23:07.984Z"
      },
      {
        "duration": 14121,
        "start_time": "2022-05-04T13:23:35.345Z"
      },
      {
        "duration": 68,
        "start_time": "2022-05-04T13:35:38.218Z"
      },
      {
        "duration": 4,
        "start_time": "2022-05-04T13:35:40.626Z"
      },
      {
        "duration": 4,
        "start_time": "2022-05-04T13:35:53.959Z"
      },
      {
        "duration": 7,
        "start_time": "2022-05-04T13:36:05.284Z"
      },
      {
        "duration": 66,
        "start_time": "2022-05-04T13:37:01.029Z"
      },
      {
        "duration": 5,
        "start_time": "2022-05-04T13:43:35.049Z"
      },
      {
        "duration": 128,
        "start_time": "2022-05-04T13:45:03.667Z"
      },
      {
        "duration": 139,
        "start_time": "2022-05-04T13:45:28.757Z"
      },
      {
        "duration": 95,
        "start_time": "2022-05-04T13:45:32.319Z"
      },
      {
        "duration": 182,
        "start_time": "2022-05-04T13:45:41.800Z"
      },
      {
        "duration": 170,
        "start_time": "2022-05-04T13:45:46.933Z"
      },
      {
        "duration": 554,
        "start_time": "2022-05-04T13:47:38.830Z"
      },
      {
        "duration": 580,
        "start_time": "2022-05-04T13:48:14.742Z"
      },
      {
        "duration": 48,
        "start_time": "2022-05-04T17:35:23.476Z"
      },
      {
        "duration": 80932,
        "start_time": "2022-05-04T17:53:39.284Z"
      },
      {
        "duration": 423,
        "start_time": "2022-05-04T17:55:00.219Z"
      },
      {
        "duration": 0,
        "start_time": "2022-05-04T17:55:00.645Z"
      },
      {
        "duration": 0,
        "start_time": "2022-05-04T17:55:00.647Z"
      },
      {
        "duration": 0,
        "start_time": "2022-05-04T17:55:00.648Z"
      },
      {
        "duration": 0,
        "start_time": "2022-05-04T17:55:00.649Z"
      },
      {
        "duration": 0,
        "start_time": "2022-05-04T17:55:00.650Z"
      },
      {
        "duration": 0,
        "start_time": "2022-05-04T17:55:00.651Z"
      },
      {
        "duration": 0,
        "start_time": "2022-05-04T17:55:00.652Z"
      },
      {
        "duration": 0,
        "start_time": "2022-05-04T17:55:00.653Z"
      },
      {
        "duration": 0,
        "start_time": "2022-05-04T17:55:00.654Z"
      },
      {
        "duration": 0,
        "start_time": "2022-05-04T17:55:00.654Z"
      },
      {
        "duration": 0,
        "start_time": "2022-05-04T17:55:00.655Z"
      },
      {
        "duration": 0,
        "start_time": "2022-05-04T17:55:00.673Z"
      },
      {
        "duration": 0,
        "start_time": "2022-05-04T17:55:00.674Z"
      },
      {
        "duration": 0,
        "start_time": "2022-05-04T17:55:00.675Z"
      },
      {
        "duration": 0,
        "start_time": "2022-05-04T17:55:00.676Z"
      },
      {
        "duration": 0,
        "start_time": "2022-05-04T17:55:00.678Z"
      },
      {
        "duration": 0,
        "start_time": "2022-05-04T17:55:00.679Z"
      },
      {
        "duration": 0,
        "start_time": "2022-05-04T17:55:00.680Z"
      },
      {
        "duration": 0,
        "start_time": "2022-05-04T17:55:00.681Z"
      },
      {
        "duration": 0,
        "start_time": "2022-05-04T17:55:00.682Z"
      },
      {
        "duration": 0,
        "start_time": "2022-05-04T17:55:00.683Z"
      },
      {
        "duration": 0,
        "start_time": "2022-05-04T17:55:00.684Z"
      },
      {
        "duration": 0,
        "start_time": "2022-05-04T17:55:00.685Z"
      },
      {
        "duration": 0,
        "start_time": "2022-05-04T17:55:00.686Z"
      },
      {
        "duration": 0,
        "start_time": "2022-05-04T17:55:00.687Z"
      },
      {
        "duration": 0,
        "start_time": "2022-05-04T17:55:00.688Z"
      },
      {
        "duration": 0,
        "start_time": "2022-05-04T17:55:00.689Z"
      },
      {
        "duration": 0,
        "start_time": "2022-05-04T17:55:00.690Z"
      },
      {
        "duration": 0,
        "start_time": "2022-05-04T17:55:00.691Z"
      },
      {
        "duration": 0,
        "start_time": "2022-05-04T17:55:00.692Z"
      },
      {
        "duration": 0,
        "start_time": "2022-05-04T17:55:00.693Z"
      },
      {
        "duration": 0,
        "start_time": "2022-05-04T17:55:00.694Z"
      },
      {
        "duration": 0,
        "start_time": "2022-05-04T17:55:00.695Z"
      },
      {
        "duration": 0,
        "start_time": "2022-05-04T17:55:00.696Z"
      },
      {
        "duration": 0,
        "start_time": "2022-05-04T17:55:00.697Z"
      },
      {
        "duration": 0,
        "start_time": "2022-05-04T17:55:00.698Z"
      },
      {
        "duration": 0,
        "start_time": "2022-05-04T17:55:00.699Z"
      },
      {
        "duration": 0,
        "start_time": "2022-05-04T17:55:00.700Z"
      },
      {
        "duration": 0,
        "start_time": "2022-05-04T17:55:00.701Z"
      },
      {
        "duration": 0,
        "start_time": "2022-05-04T17:55:00.702Z"
      },
      {
        "duration": 0,
        "start_time": "2022-05-04T17:55:00.703Z"
      },
      {
        "duration": 3,
        "start_time": "2022-05-04T17:55:08.266Z"
      },
      {
        "duration": 462,
        "start_time": "2022-05-04T17:55:08.271Z"
      },
      {
        "duration": 0,
        "start_time": "2022-05-04T17:55:08.736Z"
      },
      {
        "duration": 0,
        "start_time": "2022-05-04T17:55:08.737Z"
      },
      {
        "duration": 0,
        "start_time": "2022-05-04T17:55:08.738Z"
      },
      {
        "duration": 0,
        "start_time": "2022-05-04T17:55:08.739Z"
      },
      {
        "duration": 0,
        "start_time": "2022-05-04T17:55:08.740Z"
      },
      {
        "duration": 0,
        "start_time": "2022-05-04T17:55:08.741Z"
      },
      {
        "duration": 0,
        "start_time": "2022-05-04T17:55:08.742Z"
      },
      {
        "duration": 0,
        "start_time": "2022-05-04T17:55:08.743Z"
      },
      {
        "duration": 0,
        "start_time": "2022-05-04T17:55:08.744Z"
      },
      {
        "duration": 0,
        "start_time": "2022-05-04T17:55:08.745Z"
      },
      {
        "duration": 0,
        "start_time": "2022-05-04T17:55:08.746Z"
      },
      {
        "duration": 0,
        "start_time": "2022-05-04T17:55:08.747Z"
      },
      {
        "duration": 0,
        "start_time": "2022-05-04T17:55:08.748Z"
      },
      {
        "duration": 0,
        "start_time": "2022-05-04T17:55:08.749Z"
      },
      {
        "duration": 0,
        "start_time": "2022-05-04T17:55:08.774Z"
      },
      {
        "duration": 0,
        "start_time": "2022-05-04T17:55:08.774Z"
      },
      {
        "duration": 0,
        "start_time": "2022-05-04T17:55:08.775Z"
      },
      {
        "duration": 0,
        "start_time": "2022-05-04T17:55:08.776Z"
      },
      {
        "duration": 0,
        "start_time": "2022-05-04T17:55:08.777Z"
      },
      {
        "duration": 0,
        "start_time": "2022-05-04T17:55:08.778Z"
      },
      {
        "duration": 0,
        "start_time": "2022-05-04T17:55:08.779Z"
      },
      {
        "duration": 0,
        "start_time": "2022-05-04T17:55:08.780Z"
      },
      {
        "duration": 0,
        "start_time": "2022-05-04T17:55:08.781Z"
      },
      {
        "duration": 0,
        "start_time": "2022-05-04T17:55:08.782Z"
      },
      {
        "duration": 0,
        "start_time": "2022-05-04T17:55:08.783Z"
      },
      {
        "duration": 0,
        "start_time": "2022-05-04T17:55:08.784Z"
      },
      {
        "duration": 0,
        "start_time": "2022-05-04T17:55:08.785Z"
      },
      {
        "duration": 1,
        "start_time": "2022-05-04T17:55:08.786Z"
      },
      {
        "duration": 0,
        "start_time": "2022-05-04T17:55:08.787Z"
      },
      {
        "duration": 0,
        "start_time": "2022-05-04T17:55:08.788Z"
      },
      {
        "duration": 0,
        "start_time": "2022-05-04T17:55:08.789Z"
      },
      {
        "duration": 0,
        "start_time": "2022-05-04T17:55:08.790Z"
      },
      {
        "duration": 0,
        "start_time": "2022-05-04T17:55:08.791Z"
      },
      {
        "duration": 0,
        "start_time": "2022-05-04T17:55:08.792Z"
      },
      {
        "duration": 0,
        "start_time": "2022-05-04T17:55:08.793Z"
      },
      {
        "duration": 0,
        "start_time": "2022-05-04T17:55:08.794Z"
      },
      {
        "duration": 0,
        "start_time": "2022-05-04T17:55:08.795Z"
      },
      {
        "duration": 0,
        "start_time": "2022-05-04T17:55:08.796Z"
      },
      {
        "duration": 0,
        "start_time": "2022-05-04T17:55:08.797Z"
      },
      {
        "duration": 0,
        "start_time": "2022-05-04T17:55:08.798Z"
      },
      {
        "duration": 0,
        "start_time": "2022-05-04T17:55:08.799Z"
      },
      {
        "duration": 104060,
        "start_time": "2022-05-04T17:55:19.950Z"
      },
      {
        "duration": 429,
        "start_time": "2022-05-04T17:57:04.012Z"
      },
      {
        "duration": 0,
        "start_time": "2022-05-04T17:57:04.443Z"
      },
      {
        "duration": 0,
        "start_time": "2022-05-04T17:57:04.444Z"
      },
      {
        "duration": 0,
        "start_time": "2022-05-04T17:57:04.445Z"
      },
      {
        "duration": 0,
        "start_time": "2022-05-04T17:57:04.446Z"
      },
      {
        "duration": 0,
        "start_time": "2022-05-04T17:57:04.447Z"
      },
      {
        "duration": 0,
        "start_time": "2022-05-04T17:57:04.448Z"
      },
      {
        "duration": 0,
        "start_time": "2022-05-04T17:57:04.449Z"
      },
      {
        "duration": 0,
        "start_time": "2022-05-04T17:57:04.450Z"
      },
      {
        "duration": 0,
        "start_time": "2022-05-04T17:57:04.451Z"
      },
      {
        "duration": 0,
        "start_time": "2022-05-04T17:57:04.452Z"
      },
      {
        "duration": 0,
        "start_time": "2022-05-04T17:57:04.453Z"
      },
      {
        "duration": 0,
        "start_time": "2022-05-04T17:57:04.453Z"
      },
      {
        "duration": 0,
        "start_time": "2022-05-04T17:57:04.454Z"
      },
      {
        "duration": 0,
        "start_time": "2022-05-04T17:57:04.455Z"
      },
      {
        "duration": 0,
        "start_time": "2022-05-04T17:57:04.456Z"
      },
      {
        "duration": 0,
        "start_time": "2022-05-04T17:57:04.457Z"
      },
      {
        "duration": 0,
        "start_time": "2022-05-04T17:57:04.473Z"
      },
      {
        "duration": 0,
        "start_time": "2022-05-04T17:57:04.475Z"
      },
      {
        "duration": 0,
        "start_time": "2022-05-04T17:57:04.477Z"
      },
      {
        "duration": 0,
        "start_time": "2022-05-04T17:57:04.478Z"
      },
      {
        "duration": 0,
        "start_time": "2022-05-04T17:57:04.480Z"
      },
      {
        "duration": 0,
        "start_time": "2022-05-04T17:57:04.481Z"
      },
      {
        "duration": 0,
        "start_time": "2022-05-04T17:57:04.483Z"
      },
      {
        "duration": 0,
        "start_time": "2022-05-04T17:57:04.483Z"
      },
      {
        "duration": 0,
        "start_time": "2022-05-04T17:57:04.484Z"
      },
      {
        "duration": 1,
        "start_time": "2022-05-04T17:57:04.485Z"
      },
      {
        "duration": 0,
        "start_time": "2022-05-04T17:57:04.487Z"
      },
      {
        "duration": 0,
        "start_time": "2022-05-04T17:57:04.488Z"
      },
      {
        "duration": 0,
        "start_time": "2022-05-04T17:57:04.489Z"
      },
      {
        "duration": 0,
        "start_time": "2022-05-04T17:57:04.490Z"
      },
      {
        "duration": 0,
        "start_time": "2022-05-04T17:57:04.491Z"
      },
      {
        "duration": 0,
        "start_time": "2022-05-04T17:57:04.492Z"
      },
      {
        "duration": 0,
        "start_time": "2022-05-04T17:57:04.493Z"
      },
      {
        "duration": 0,
        "start_time": "2022-05-04T17:57:04.494Z"
      },
      {
        "duration": 0,
        "start_time": "2022-05-04T17:57:04.495Z"
      },
      {
        "duration": 0,
        "start_time": "2022-05-04T17:57:04.495Z"
      },
      {
        "duration": 0,
        "start_time": "2022-05-04T17:57:04.496Z"
      },
      {
        "duration": 0,
        "start_time": "2022-05-04T17:57:04.497Z"
      },
      {
        "duration": 0,
        "start_time": "2022-05-04T17:57:04.498Z"
      },
      {
        "duration": 0,
        "start_time": "2022-05-04T17:57:04.499Z"
      },
      {
        "duration": 0,
        "start_time": "2022-05-04T17:57:04.500Z"
      },
      {
        "duration": 105871,
        "start_time": "2022-05-04T17:57:52.753Z"
      },
      {
        "duration": 1930,
        "start_time": "2022-05-04T17:59:38.626Z"
      },
      {
        "duration": 3,
        "start_time": "2022-05-04T17:59:40.558Z"
      },
      {
        "duration": 814,
        "start_time": "2022-05-04T17:59:40.563Z"
      },
      {
        "duration": 133,
        "start_time": "2022-05-04T17:59:41.378Z"
      },
      {
        "duration": 5,
        "start_time": "2022-05-04T17:59:41.513Z"
      },
      {
        "duration": 134,
        "start_time": "2022-05-04T17:59:41.520Z"
      },
      {
        "duration": 31,
        "start_time": "2022-05-04T17:59:41.656Z"
      },
      {
        "duration": 153,
        "start_time": "2022-05-04T17:59:41.689Z"
      },
      {
        "duration": 20,
        "start_time": "2022-05-04T17:59:41.845Z"
      },
      {
        "duration": 21,
        "start_time": "2022-05-04T17:59:41.873Z"
      },
      {
        "duration": 22,
        "start_time": "2022-05-04T17:59:41.896Z"
      },
      {
        "duration": 190,
        "start_time": "2022-05-04T17:59:41.919Z"
      },
      {
        "duration": 20,
        "start_time": "2022-05-04T17:59:42.111Z"
      },
      {
        "duration": 22,
        "start_time": "2022-05-04T17:59:42.133Z"
      },
      {
        "duration": 440,
        "start_time": "2022-05-04T17:59:42.157Z"
      },
      {
        "duration": 539,
        "start_time": "2022-05-04T17:59:42.599Z"
      },
      {
        "duration": 98,
        "start_time": "2022-05-04T17:59:43.140Z"
      },
      {
        "duration": 61,
        "start_time": "2022-05-04T17:59:43.240Z"
      },
      {
        "duration": 111,
        "start_time": "2022-05-04T17:59:43.304Z"
      },
      {
        "duration": 30,
        "start_time": "2022-05-04T17:59:43.417Z"
      },
      {
        "duration": 482,
        "start_time": "2022-05-04T17:59:43.449Z"
      },
      {
        "duration": 63,
        "start_time": "2022-05-04T17:59:43.933Z"
      },
      {
        "duration": 92,
        "start_time": "2022-05-04T17:59:43.998Z"
      },
      {
        "duration": 52,
        "start_time": "2022-05-04T17:59:44.092Z"
      },
      {
        "duration": 229,
        "start_time": "2022-05-04T17:59:44.145Z"
      },
      {
        "duration": 10010,
        "start_time": "2022-05-04T17:59:44.377Z"
      },
      {
        "duration": 371,
        "start_time": "2022-05-04T17:59:54.390Z"
      },
      {
        "duration": 132,
        "start_time": "2022-05-04T17:59:54.762Z"
      },
      {
        "duration": 19,
        "start_time": "2022-05-04T17:59:54.896Z"
      },
      {
        "duration": 341393,
        "start_time": "2022-05-04T17:59:54.917Z"
      },
      {
        "duration": 89828,
        "start_time": "2022-05-04T18:05:36.311Z"
      },
      {
        "duration": 0,
        "start_time": "2022-05-04T18:07:06.142Z"
      },
      {
        "duration": 0,
        "start_time": "2022-05-04T18:07:06.143Z"
      },
      {
        "duration": 0,
        "start_time": "2022-05-04T18:07:06.144Z"
      },
      {
        "duration": 0,
        "start_time": "2022-05-04T18:07:06.146Z"
      },
      {
        "duration": 0,
        "start_time": "2022-05-04T18:07:06.148Z"
      },
      {
        "duration": 0,
        "start_time": "2022-05-04T18:07:06.150Z"
      },
      {
        "duration": 0,
        "start_time": "2022-05-04T18:07:06.151Z"
      },
      {
        "duration": 0,
        "start_time": "2022-05-04T18:07:06.153Z"
      },
      {
        "duration": 0,
        "start_time": "2022-05-04T18:07:06.154Z"
      },
      {
        "duration": 0,
        "start_time": "2022-05-04T18:07:06.156Z"
      },
      {
        "duration": 1,
        "start_time": "2022-05-04T18:07:06.157Z"
      },
      {
        "duration": 22756,
        "start_time": "2022-05-04T18:07:14.570Z"
      },
      {
        "duration": 14,
        "start_time": "2022-05-04T18:07:48.443Z"
      },
      {
        "duration": 7619,
        "start_time": "2022-05-04T19:02:51.181Z"
      },
      {
        "duration": 2062,
        "start_time": "2022-05-04T19:02:58.802Z"
      },
      {
        "duration": 11,
        "start_time": "2022-05-04T19:03:00.866Z"
      },
      {
        "duration": 1052,
        "start_time": "2022-05-04T19:03:00.881Z"
      },
      {
        "duration": 154,
        "start_time": "2022-05-04T19:03:01.935Z"
      },
      {
        "duration": 7,
        "start_time": "2022-05-04T19:03:02.091Z"
      },
      {
        "duration": 174,
        "start_time": "2022-05-04T19:03:02.100Z"
      },
      {
        "duration": 34,
        "start_time": "2022-05-04T19:03:02.277Z"
      },
      {
        "duration": 149,
        "start_time": "2022-05-04T19:03:02.313Z"
      },
      {
        "duration": 32,
        "start_time": "2022-05-04T19:03:02.466Z"
      },
      {
        "duration": 31,
        "start_time": "2022-05-04T19:03:02.500Z"
      },
      {
        "duration": 27,
        "start_time": "2022-05-04T19:03:02.532Z"
      },
      {
        "duration": 217,
        "start_time": "2022-05-04T19:03:02.560Z"
      },
      {
        "duration": 21,
        "start_time": "2022-05-04T19:03:02.779Z"
      },
      {
        "duration": 31,
        "start_time": "2022-05-04T19:03:02.803Z"
      },
      {
        "duration": 469,
        "start_time": "2022-05-04T19:03:02.836Z"
      },
      {
        "duration": 538,
        "start_time": "2022-05-04T19:03:03.307Z"
      },
      {
        "duration": 102,
        "start_time": "2022-05-04T19:03:03.847Z"
      },
      {
        "duration": 72,
        "start_time": "2022-05-04T19:03:03.951Z"
      },
      {
        "duration": 131,
        "start_time": "2022-05-04T19:03:04.025Z"
      },
      {
        "duration": 39,
        "start_time": "2022-05-04T19:03:04.158Z"
      },
      {
        "duration": 552,
        "start_time": "2022-05-04T19:03:04.199Z"
      },
      {
        "duration": 58,
        "start_time": "2022-05-04T19:03:04.753Z"
      },
      {
        "duration": 104,
        "start_time": "2022-05-04T19:03:04.813Z"
      },
      {
        "duration": 67,
        "start_time": "2022-05-04T19:03:04.919Z"
      },
      {
        "duration": 185,
        "start_time": "2022-05-04T19:03:04.989Z"
      },
      {
        "duration": 11840,
        "start_time": "2022-05-04T19:03:05.177Z"
      },
      {
        "duration": 432,
        "start_time": "2022-05-04T19:03:17.020Z"
      },
      {
        "duration": 187,
        "start_time": "2022-05-04T19:03:17.454Z"
      },
      {
        "duration": 20,
        "start_time": "2022-05-04T19:03:17.643Z"
      },
      {
        "duration": 167470,
        "start_time": "2022-05-04T19:03:17.675Z"
      },
      {
        "duration": 77467,
        "start_time": "2022-05-04T19:06:05.148Z"
      },
      {
        "duration": 0,
        "start_time": "2022-05-04T19:07:22.617Z"
      },
      {
        "duration": 0,
        "start_time": "2022-05-04T19:07:22.618Z"
      },
      {
        "duration": 0,
        "start_time": "2022-05-04T19:07:22.619Z"
      },
      {
        "duration": 0,
        "start_time": "2022-05-04T19:07:22.620Z"
      },
      {
        "duration": 0,
        "start_time": "2022-05-04T19:07:22.621Z"
      },
      {
        "duration": 0,
        "start_time": "2022-05-04T19:07:22.623Z"
      },
      {
        "duration": 0,
        "start_time": "2022-05-04T19:07:22.625Z"
      },
      {
        "duration": 0,
        "start_time": "2022-05-04T19:07:22.627Z"
      },
      {
        "duration": 0,
        "start_time": "2022-05-04T19:07:22.628Z"
      },
      {
        "duration": 0,
        "start_time": "2022-05-04T19:07:22.629Z"
      },
      {
        "duration": 0,
        "start_time": "2022-05-04T19:07:22.631Z"
      },
      {
        "duration": 404,
        "start_time": "2022-05-04T19:07:29.403Z"
      },
      {
        "duration": 44178,
        "start_time": "2022-05-04T19:07:34.215Z"
      },
      {
        "duration": 13,
        "start_time": "2022-05-04T19:08:22.055Z"
      },
      {
        "duration": 184,
        "start_time": "2022-05-04T19:09:28.961Z"
      },
      {
        "duration": 22,
        "start_time": "2022-05-04T19:09:36.257Z"
      },
      {
        "duration": 240,
        "start_time": "2022-05-04T19:09:48.081Z"
      },
      {
        "duration": 115609,
        "start_time": "2022-05-04T19:11:33.232Z"
      },
      {
        "duration": 195,
        "start_time": "2022-05-04T19:13:28.845Z"
      },
      {
        "duration": 106507,
        "start_time": "2022-05-04T19:13:41.826Z"
      },
      {
        "duration": 226,
        "start_time": "2022-05-04T19:20:49.278Z"
      },
      {
        "duration": 94,
        "start_time": "2022-05-04T19:20:54.229Z"
      },
      {
        "duration": 4,
        "start_time": "2022-05-04T20:34:38.306Z"
      },
      {
        "duration": 1764,
        "start_time": "2022-05-04T20:34:38.312Z"
      },
      {
        "duration": 4,
        "start_time": "2022-05-04T20:34:40.078Z"
      },
      {
        "duration": 811,
        "start_time": "2022-05-04T20:34:40.084Z"
      },
      {
        "duration": 124,
        "start_time": "2022-05-04T20:34:40.897Z"
      },
      {
        "duration": 5,
        "start_time": "2022-05-04T20:34:41.023Z"
      },
      {
        "duration": 131,
        "start_time": "2022-05-04T20:34:41.029Z"
      },
      {
        "duration": 25,
        "start_time": "2022-05-04T20:34:41.161Z"
      },
      {
        "duration": 141,
        "start_time": "2022-05-04T20:34:41.189Z"
      },
      {
        "duration": 19,
        "start_time": "2022-05-04T20:34:41.332Z"
      },
      {
        "duration": 24,
        "start_time": "2022-05-04T20:34:41.353Z"
      },
      {
        "duration": 20,
        "start_time": "2022-05-04T20:34:41.379Z"
      },
      {
        "duration": 172,
        "start_time": "2022-05-04T20:34:41.401Z"
      },
      {
        "duration": 17,
        "start_time": "2022-05-04T20:34:41.575Z"
      },
      {
        "duration": 23,
        "start_time": "2022-05-04T20:34:41.594Z"
      },
      {
        "duration": 399,
        "start_time": "2022-05-04T20:34:41.619Z"
      },
      {
        "duration": 466,
        "start_time": "2022-05-04T20:34:42.019Z"
      },
      {
        "duration": 92,
        "start_time": "2022-05-04T20:34:42.486Z"
      },
      {
        "duration": 50,
        "start_time": "2022-05-04T20:34:42.579Z"
      },
      {
        "duration": 6,
        "start_time": "2022-05-04T20:34:42.631Z"
      },
      {
        "duration": 5,
        "start_time": "2022-05-04T20:34:45.483Z"
      },
      {
        "duration": 7,
        "start_time": "2022-05-04T20:34:58.765Z"
      },
      {
        "duration": 6,
        "start_time": "2022-05-04T20:35:06.128Z"
      },
      {
        "duration": 60,
        "start_time": "2022-05-04T20:38:29.916Z"
      },
      {
        "duration": 159,
        "start_time": "2022-05-04T20:39:13.938Z"
      },
      {
        "duration": 158,
        "start_time": "2022-05-04T20:39:23.953Z"
      },
      {
        "duration": 163,
        "start_time": "2022-05-04T20:39:27.965Z"
      },
      {
        "duration": 11,
        "start_time": "2022-05-04T20:39:35.621Z"
      },
      {
        "duration": 11,
        "start_time": "2022-05-04T20:39:52.761Z"
      },
      {
        "duration": 11,
        "start_time": "2022-05-04T20:40:02.087Z"
      },
      {
        "duration": 42,
        "start_time": "2022-05-04T20:59:29.368Z"
      },
      {
        "duration": 40,
        "start_time": "2022-05-04T20:59:50.690Z"
      },
      {
        "duration": 615,
        "start_time": "2022-05-05T07:31:45.344Z"
      },
      {
        "duration": 9149,
        "start_time": "2022-05-05T07:31:49.164Z"
      },
      {
        "duration": 2206,
        "start_time": "2022-05-05T07:32:01.855Z"
      },
      {
        "duration": 5,
        "start_time": "2022-05-05T07:32:06.152Z"
      },
      {
        "duration": 1017,
        "start_time": "2022-05-05T07:32:10.210Z"
      },
      {
        "duration": 152,
        "start_time": "2022-05-05T07:32:14.037Z"
      },
      {
        "duration": 5,
        "start_time": "2022-05-05T07:32:18.230Z"
      },
      {
        "duration": 252,
        "start_time": "2022-05-05T07:32:21.028Z"
      },
      {
        "duration": 25,
        "start_time": "2022-05-05T07:32:27.977Z"
      },
      {
        "duration": 8216,
        "start_time": "2022-05-05T11:15:11.936Z"
      },
      {
        "duration": 2110,
        "start_time": "2022-05-05T11:15:20.155Z"
      },
      {
        "duration": 4,
        "start_time": "2022-05-05T11:15:22.267Z"
      },
      {
        "duration": 843,
        "start_time": "2022-05-05T11:15:22.273Z"
      },
      {
        "duration": 140,
        "start_time": "2022-05-05T11:15:23.118Z"
      },
      {
        "duration": 5,
        "start_time": "2022-05-05T11:15:23.259Z"
      },
      {
        "duration": 140,
        "start_time": "2022-05-05T11:15:23.266Z"
      },
      {
        "duration": 25,
        "start_time": "2022-05-05T11:15:23.407Z"
      },
      {
        "duration": 27,
        "start_time": "2022-05-05T11:15:23.434Z"
      },
      {
        "duration": 156,
        "start_time": "2022-05-05T11:15:23.463Z"
      },
      {
        "duration": 19,
        "start_time": "2022-05-05T11:15:23.621Z"
      },
      {
        "duration": 25,
        "start_time": "2022-05-05T11:15:23.641Z"
      },
      {
        "duration": 34,
        "start_time": "2022-05-05T11:15:23.668Z"
      },
      {
        "duration": 173,
        "start_time": "2022-05-05T11:15:23.703Z"
      },
      {
        "duration": 23,
        "start_time": "2022-05-05T11:15:23.878Z"
      },
      {
        "duration": 38,
        "start_time": "2022-05-05T11:15:23.902Z"
      },
      {
        "duration": 661,
        "start_time": "2022-05-05T11:15:23.943Z"
      },
      {
        "duration": 774,
        "start_time": "2022-05-05T11:15:24.606Z"
      },
      {
        "duration": 91,
        "start_time": "2022-05-05T11:15:25.382Z"
      },
      {
        "duration": 61,
        "start_time": "2022-05-05T11:15:25.475Z"
      },
      {
        "duration": 7,
        "start_time": "2022-05-05T11:15:25.538Z"
      },
      {
        "duration": 7,
        "start_time": "2022-05-05T11:15:25.546Z"
      },
      {
        "duration": 56,
        "start_time": "2022-05-05T11:15:25.554Z"
      },
      {
        "duration": 76,
        "start_time": "2022-05-05T11:17:29.194Z"
      },
      {
        "duration": 12,
        "start_time": "2022-05-05T11:17:41.201Z"
      },
      {
        "duration": 16,
        "start_time": "2022-05-05T11:18:42.334Z"
      },
      {
        "duration": 14,
        "start_time": "2022-05-05T11:18:48.102Z"
      },
      {
        "duration": 10,
        "start_time": "2022-05-05T11:18:56.416Z"
      },
      {
        "duration": 22,
        "start_time": "2022-05-05T11:19:46.189Z"
      },
      {
        "duration": 2926,
        "start_time": "2022-05-05T11:31:31.258Z"
      },
      {
        "duration": 2079,
        "start_time": "2022-05-05T11:31:34.186Z"
      },
      {
        "duration": 3,
        "start_time": "2022-05-05T11:31:36.267Z"
      },
      {
        "duration": 800,
        "start_time": "2022-05-05T11:31:36.272Z"
      },
      {
        "duration": 128,
        "start_time": "2022-05-05T11:31:37.074Z"
      },
      {
        "duration": 5,
        "start_time": "2022-05-05T11:31:37.203Z"
      },
      {
        "duration": 235,
        "start_time": "2022-05-05T11:31:37.210Z"
      },
      {
        "duration": 37,
        "start_time": "2022-05-05T11:31:37.447Z"
      },
      {
        "duration": 196,
        "start_time": "2022-05-05T11:31:37.485Z"
      },
      {
        "duration": 36,
        "start_time": "2022-05-05T11:31:37.684Z"
      },
      {
        "duration": 33,
        "start_time": "2022-05-05T11:31:37.722Z"
      },
      {
        "duration": 46,
        "start_time": "2022-05-05T11:31:37.757Z"
      },
      {
        "duration": 292,
        "start_time": "2022-05-05T11:31:37.805Z"
      },
      {
        "duration": 31,
        "start_time": "2022-05-05T11:31:38.101Z"
      },
      {
        "duration": 42,
        "start_time": "2022-05-05T11:31:38.134Z"
      },
      {
        "duration": 613,
        "start_time": "2022-05-05T11:31:38.178Z"
      },
      {
        "duration": 751,
        "start_time": "2022-05-05T11:31:38.793Z"
      },
      {
        "duration": 121,
        "start_time": "2022-05-05T11:31:39.546Z"
      },
      {
        "duration": 54,
        "start_time": "2022-05-05T11:31:39.669Z"
      },
      {
        "duration": 6,
        "start_time": "2022-05-05T11:31:39.724Z"
      },
      {
        "duration": 20,
        "start_time": "2022-05-05T11:31:39.731Z"
      },
      {
        "duration": 50,
        "start_time": "2022-05-05T11:31:39.752Z"
      },
      {
        "duration": 97,
        "start_time": "2022-05-05T11:31:39.803Z"
      },
      {
        "duration": 26,
        "start_time": "2022-05-05T11:31:39.902Z"
      },
      {
        "duration": 494,
        "start_time": "2022-05-05T11:31:39.930Z"
      },
      {
        "duration": 48,
        "start_time": "2022-05-05T11:31:40.426Z"
      },
      {
        "duration": 89,
        "start_time": "2022-05-05T11:31:40.476Z"
      },
      {
        "duration": 54,
        "start_time": "2022-05-05T11:31:40.568Z"
      },
      {
        "duration": 176,
        "start_time": "2022-05-05T11:31:40.624Z"
      },
      {
        "duration": 12753,
        "start_time": "2022-05-05T11:31:40.802Z"
      },
      {
        "duration": 462,
        "start_time": "2022-05-05T11:31:53.556Z"
      },
      {
        "duration": 175,
        "start_time": "2022-05-05T11:31:54.020Z"
      },
      {
        "duration": 20,
        "start_time": "2022-05-05T11:31:54.197Z"
      },
      {
        "duration": 184359,
        "start_time": "2022-05-05T11:31:54.219Z"
      },
      {
        "duration": 39781,
        "start_time": "2022-05-05T11:34:58.580Z"
      },
      {
        "duration": 163,
        "start_time": "2022-05-05T11:35:38.363Z"
      },
      {
        "duration": 82,
        "start_time": "2022-05-05T11:35:38.528Z"
      },
      {
        "duration": 884097,
        "start_time": "2022-05-05T11:35:38.613Z"
      },
      {
        "duration": 27299,
        "start_time": "2022-05-05T11:50:22.712Z"
      },
      {
        "duration": 170,
        "start_time": "2022-05-05T11:50:50.100Z"
      },
      {
        "duration": 332,
        "start_time": "2022-05-05T11:50:50.272Z"
      },
      {
        "duration": 11,
        "start_time": "2022-05-05T11:50:50.605Z"
      },
      {
        "duration": 19,
        "start_time": "2022-05-05T11:50:50.618Z"
      },
      {
        "duration": 92,
        "start_time": "2022-05-05T11:50:50.638Z"
      },
      {
        "duration": 277,
        "start_time": "2022-05-05T11:50:50.732Z"
      },
      {
        "duration": 11,
        "start_time": "2022-05-05T11:50:51.011Z"
      },
      {
        "duration": 190,
        "start_time": "2022-05-05T11:59:35.992Z"
      },
      {
        "duration": 4665,
        "start_time": "2022-05-05T12:02:15.890Z"
      },
      {
        "duration": 3,
        "start_time": "2022-05-05T12:02:53.311Z"
      },
      {
        "duration": 1867,
        "start_time": "2022-05-05T12:02:53.316Z"
      },
      {
        "duration": 3,
        "start_time": "2022-05-05T12:02:55.185Z"
      },
      {
        "duration": 785,
        "start_time": "2022-05-05T12:02:55.190Z"
      },
      {
        "duration": 134,
        "start_time": "2022-05-05T12:02:55.977Z"
      },
      {
        "duration": 4,
        "start_time": "2022-05-05T12:02:56.113Z"
      },
      {
        "duration": 133,
        "start_time": "2022-05-05T12:02:56.118Z"
      },
      {
        "duration": 20,
        "start_time": "2022-05-05T12:02:56.253Z"
      },
      {
        "duration": 140,
        "start_time": "2022-05-05T12:02:56.275Z"
      },
      {
        "duration": 18,
        "start_time": "2022-05-05T12:02:56.417Z"
      },
      {
        "duration": 22,
        "start_time": "2022-05-05T12:02:56.438Z"
      },
      {
        "duration": 34,
        "start_time": "2022-05-05T12:02:56.461Z"
      },
      {
        "duration": 159,
        "start_time": "2022-05-05T12:02:56.497Z"
      },
      {
        "duration": 17,
        "start_time": "2022-05-05T12:02:56.658Z"
      },
      {
        "duration": 37,
        "start_time": "2022-05-05T12:02:56.677Z"
      },
      {
        "duration": 386,
        "start_time": "2022-05-05T12:02:56.715Z"
      },
      {
        "duration": 450,
        "start_time": "2022-05-05T12:02:57.103Z"
      },
      {
        "duration": 125,
        "start_time": "2022-05-05T12:02:57.555Z"
      },
      {
        "duration": 68,
        "start_time": "2022-05-05T12:02:57.683Z"
      },
      {
        "duration": 7,
        "start_time": "2022-05-05T12:02:57.753Z"
      },
      {
        "duration": 7,
        "start_time": "2022-05-05T12:02:57.762Z"
      },
      {
        "duration": 79,
        "start_time": "2022-05-05T12:02:57.771Z"
      },
      {
        "duration": 126,
        "start_time": "2022-05-05T12:03:01.822Z"
      },
      {
        "duration": 11,
        "start_time": "2022-05-05T12:03:08.973Z"
      },
      {
        "duration": 12,
        "start_time": "2022-05-05T12:03:25.940Z"
      },
      {
        "duration": 4,
        "start_time": "2022-05-05T12:03:58.939Z"
      },
      {
        "duration": 1960,
        "start_time": "2022-05-05T12:03:58.945Z"
      },
      {
        "duration": 3,
        "start_time": "2022-05-05T12:04:00.907Z"
      },
      {
        "duration": 836,
        "start_time": "2022-05-05T12:04:00.912Z"
      },
      {
        "duration": 130,
        "start_time": "2022-05-05T12:04:01.750Z"
      },
      {
        "duration": 30,
        "start_time": "2022-05-05T12:04:01.882Z"
      },
      {
        "duration": 197,
        "start_time": "2022-05-05T12:04:01.914Z"
      },
      {
        "duration": 28,
        "start_time": "2022-05-05T12:04:02.113Z"
      },
      {
        "duration": 212,
        "start_time": "2022-05-05T12:04:02.143Z"
      },
      {
        "duration": 66,
        "start_time": "2022-05-05T12:04:02.357Z"
      },
      {
        "duration": 28,
        "start_time": "2022-05-05T12:04:02.426Z"
      },
      {
        "duration": 24,
        "start_time": "2022-05-05T12:04:02.456Z"
      },
      {
        "duration": 177,
        "start_time": "2022-05-05T12:04:02.482Z"
      },
      {
        "duration": 18,
        "start_time": "2022-05-05T12:04:02.661Z"
      },
      {
        "duration": 31,
        "start_time": "2022-05-05T12:04:02.681Z"
      },
      {
        "duration": 396,
        "start_time": "2022-05-05T12:04:02.714Z"
      },
      {
        "duration": 445,
        "start_time": "2022-05-05T12:04:03.112Z"
      },
      {
        "duration": 87,
        "start_time": "2022-05-05T12:04:03.559Z"
      },
      {
        "duration": 55,
        "start_time": "2022-05-05T12:04:03.648Z"
      },
      {
        "duration": 6,
        "start_time": "2022-05-05T12:04:03.705Z"
      },
      {
        "duration": 11,
        "start_time": "2022-05-05T12:04:03.712Z"
      },
      {
        "duration": 40,
        "start_time": "2022-05-05T12:04:03.725Z"
      },
      {
        "duration": 137,
        "start_time": "2022-05-05T12:04:03.767Z"
      },
      {
        "duration": 76,
        "start_time": "2022-05-05T12:05:28.007Z"
      },
      {
        "duration": 39,
        "start_time": "2022-05-05T12:05:34.137Z"
      },
      {
        "duration": 23,
        "start_time": "2022-05-05T12:05:41.688Z"
      },
      {
        "duration": 3,
        "start_time": "2022-05-05T12:06:07.053Z"
      },
      {
        "duration": 2834,
        "start_time": "2022-05-05T12:06:07.057Z"
      },
      {
        "duration": 12,
        "start_time": "2022-05-05T12:06:09.893Z"
      },
      {
        "duration": 856,
        "start_time": "2022-05-05T12:06:09.910Z"
      },
      {
        "duration": 147,
        "start_time": "2022-05-05T12:06:10.769Z"
      },
      {
        "duration": 6,
        "start_time": "2022-05-05T12:06:10.917Z"
      },
      {
        "duration": 145,
        "start_time": "2022-05-05T12:06:10.924Z"
      },
      {
        "duration": 21,
        "start_time": "2022-05-05T12:06:11.071Z"
      },
      {
        "duration": 157,
        "start_time": "2022-05-05T12:06:11.094Z"
      },
      {
        "duration": 20,
        "start_time": "2022-05-05T12:06:11.252Z"
      },
      {
        "duration": 29,
        "start_time": "2022-05-05T12:06:11.274Z"
      },
      {
        "duration": 35,
        "start_time": "2022-05-05T12:06:11.306Z"
      },
      {
        "duration": 186,
        "start_time": "2022-05-05T12:06:11.343Z"
      },
      {
        "duration": 18,
        "start_time": "2022-05-05T12:06:11.531Z"
      },
      {
        "duration": 22,
        "start_time": "2022-05-05T12:06:11.550Z"
      },
      {
        "duration": 492,
        "start_time": "2022-05-05T12:06:11.574Z"
      },
      {
        "duration": 519,
        "start_time": "2022-05-05T12:06:12.068Z"
      },
      {
        "duration": 101,
        "start_time": "2022-05-05T12:06:12.588Z"
      },
      {
        "duration": 66,
        "start_time": "2022-05-05T12:06:12.690Z"
      },
      {
        "duration": 6,
        "start_time": "2022-05-05T12:06:12.757Z"
      },
      {
        "duration": 9,
        "start_time": "2022-05-05T12:06:12.765Z"
      },
      {
        "duration": 69,
        "start_time": "2022-05-05T12:06:12.775Z"
      },
      {
        "duration": 6,
        "start_time": "2022-05-05T12:06:12.847Z"
      },
      {
        "duration": 33,
        "start_time": "2022-05-05T12:06:16.165Z"
      },
      {
        "duration": 5,
        "start_time": "2022-05-05T12:07:40.291Z"
      },
      {
        "duration": 29,
        "start_time": "2022-05-05T12:07:41.514Z"
      },
      {
        "duration": 7211,
        "start_time": "2022-05-05T12:07:53.936Z"
      },
      {
        "duration": 13,
        "start_time": "2022-05-05T12:08:58.725Z"
      },
      {
        "duration": 10,
        "start_time": "2022-05-05T12:09:09.169Z"
      },
      {
        "duration": 5,
        "start_time": "2022-05-05T12:09:42.132Z"
      },
      {
        "duration": 42,
        "start_time": "2022-05-05T12:09:48.433Z"
      },
      {
        "duration": 10,
        "start_time": "2022-05-05T12:11:18.834Z"
      },
      {
        "duration": 35,
        "start_time": "2022-05-05T12:11:26.986Z"
      },
      {
        "duration": 7,
        "start_time": "2022-05-05T12:11:46.081Z"
      },
      {
        "duration": 108,
        "start_time": "2022-05-05T12:11:49.036Z"
      },
      {
        "duration": 3,
        "start_time": "2022-05-05T12:12:14.267Z"
      },
      {
        "duration": 2765,
        "start_time": "2022-05-05T12:12:14.272Z"
      },
      {
        "duration": 6,
        "start_time": "2022-05-05T12:12:17.039Z"
      },
      {
        "duration": 1322,
        "start_time": "2022-05-05T12:12:17.047Z"
      },
      {
        "duration": 144,
        "start_time": "2022-05-05T12:12:18.372Z"
      },
      {
        "duration": 7,
        "start_time": "2022-05-05T12:12:18.518Z"
      },
      {
        "duration": 232,
        "start_time": "2022-05-05T12:12:18.527Z"
      },
      {
        "duration": 42,
        "start_time": "2022-05-05T12:12:18.761Z"
      },
      {
        "duration": 147,
        "start_time": "2022-05-05T12:12:18.806Z"
      },
      {
        "duration": 20,
        "start_time": "2022-05-05T12:12:18.955Z"
      },
      {
        "duration": 41,
        "start_time": "2022-05-05T12:12:18.978Z"
      },
      {
        "duration": 25,
        "start_time": "2022-05-05T12:12:19.021Z"
      },
      {
        "duration": 191,
        "start_time": "2022-05-05T12:12:19.047Z"
      },
      {
        "duration": 18,
        "start_time": "2022-05-05T12:12:19.240Z"
      },
      {
        "duration": 22,
        "start_time": "2022-05-05T12:12:19.260Z"
      },
      {
        "duration": 433,
        "start_time": "2022-05-05T12:12:19.284Z"
      },
      {
        "duration": 457,
        "start_time": "2022-05-05T12:12:19.719Z"
      },
      {
        "duration": 98,
        "start_time": "2022-05-05T12:12:20.178Z"
      },
      {
        "duration": 54,
        "start_time": "2022-05-05T12:12:20.278Z"
      },
      {
        "duration": 6,
        "start_time": "2022-05-05T12:12:20.333Z"
      },
      {
        "duration": 12,
        "start_time": "2022-05-05T12:12:20.340Z"
      },
      {
        "duration": 57,
        "start_time": "2022-05-05T12:12:20.353Z"
      },
      {
        "duration": 13,
        "start_time": "2022-05-05T12:12:20.412Z"
      },
      {
        "duration": 31,
        "start_time": "2022-05-05T12:12:24.164Z"
      },
      {
        "duration": 124,
        "start_time": "2022-05-05T12:13:04.514Z"
      },
      {
        "duration": 32,
        "start_time": "2022-05-05T12:13:05.351Z"
      },
      {
        "duration": 6,
        "start_time": "2022-05-05T12:14:25.622Z"
      },
      {
        "duration": 9,
        "start_time": "2022-05-05T12:14:27.776Z"
      },
      {
        "duration": 4,
        "start_time": "2022-05-05T12:15:16.573Z"
      },
      {
        "duration": 12,
        "start_time": "2022-05-05T12:15:17.503Z"
      },
      {
        "duration": 4,
        "start_time": "2022-05-05T12:15:28.395Z"
      },
      {
        "duration": 2299,
        "start_time": "2022-05-05T12:15:28.401Z"
      },
      {
        "duration": 7,
        "start_time": "2022-05-05T12:15:30.702Z"
      },
      {
        "duration": 873,
        "start_time": "2022-05-05T12:15:30.710Z"
      },
      {
        "duration": 147,
        "start_time": "2022-05-05T12:15:31.586Z"
      },
      {
        "duration": 5,
        "start_time": "2022-05-05T12:15:31.735Z"
      },
      {
        "duration": 133,
        "start_time": "2022-05-05T12:15:31.741Z"
      },
      {
        "duration": 38,
        "start_time": "2022-05-05T12:15:31.875Z"
      },
      {
        "duration": 149,
        "start_time": "2022-05-05T12:15:31.915Z"
      },
      {
        "duration": 19,
        "start_time": "2022-05-05T12:15:32.066Z"
      },
      {
        "duration": 35,
        "start_time": "2022-05-05T12:15:32.088Z"
      },
      {
        "duration": 33,
        "start_time": "2022-05-05T12:15:32.125Z"
      },
      {
        "duration": 186,
        "start_time": "2022-05-05T12:15:32.160Z"
      },
      {
        "duration": 18,
        "start_time": "2022-05-05T12:15:32.348Z"
      },
      {
        "duration": 35,
        "start_time": "2022-05-05T12:15:32.367Z"
      },
      {
        "duration": 633,
        "start_time": "2022-05-05T12:15:32.405Z"
      },
      {
        "duration": 699,
        "start_time": "2022-05-05T12:15:33.040Z"
      },
      {
        "duration": 89,
        "start_time": "2022-05-05T12:15:33.741Z"
      },
      {
        "duration": 48,
        "start_time": "2022-05-05T12:15:33.831Z"
      },
      {
        "duration": 24,
        "start_time": "2022-05-05T12:15:33.880Z"
      },
      {
        "duration": 9,
        "start_time": "2022-05-05T12:15:33.905Z"
      },
      {
        "duration": 45,
        "start_time": "2022-05-05T12:15:33.915Z"
      },
      {
        "duration": 4,
        "start_time": "2022-05-05T12:15:33.962Z"
      },
      {
        "duration": 54,
        "start_time": "2022-05-05T12:15:33.968Z"
      },
      {
        "duration": 5,
        "start_time": "2022-05-05T12:16:09.195Z"
      },
      {
        "duration": 51,
        "start_time": "2022-05-05T12:16:11.686Z"
      },
      {
        "duration": 137,
        "start_time": "2022-05-05T12:18:05.701Z"
      },
      {
        "duration": 11,
        "start_time": "2022-05-05T12:18:09.555Z"
      },
      {
        "duration": 10,
        "start_time": "2022-05-05T12:18:16.437Z"
      },
      {
        "duration": 34,
        "start_time": "2022-05-05T12:18:19.737Z"
      },
      {
        "duration": 140,
        "start_time": "2022-05-05T12:18:30.587Z"
      },
      {
        "duration": 60,
        "start_time": "2022-05-05T12:18:31.497Z"
      },
      {
        "duration": 159,
        "start_time": "2022-05-05T12:18:41.012Z"
      },
      {
        "duration": 10,
        "start_time": "2022-05-05T12:18:41.554Z"
      },
      {
        "duration": 3,
        "start_time": "2022-05-05T12:18:59.448Z"
      },
      {
        "duration": 2053,
        "start_time": "2022-05-05T12:18:59.456Z"
      },
      {
        "duration": 6,
        "start_time": "2022-05-05T12:19:01.511Z"
      },
      {
        "duration": 1313,
        "start_time": "2022-05-05T12:19:01.519Z"
      },
      {
        "duration": 135,
        "start_time": "2022-05-05T12:19:02.834Z"
      },
      {
        "duration": 5,
        "start_time": "2022-05-05T12:19:02.970Z"
      },
      {
        "duration": 144,
        "start_time": "2022-05-05T12:19:02.976Z"
      },
      {
        "duration": 38,
        "start_time": "2022-05-05T12:19:03.125Z"
      },
      {
        "duration": 148,
        "start_time": "2022-05-05T12:19:03.165Z"
      },
      {
        "duration": 18,
        "start_time": "2022-05-05T12:19:03.315Z"
      },
      {
        "duration": 20,
        "start_time": "2022-05-05T12:19:03.336Z"
      },
      {
        "duration": 21,
        "start_time": "2022-05-05T12:19:03.357Z"
      },
      {
        "duration": 298,
        "start_time": "2022-05-05T12:19:03.380Z"
      },
      {
        "duration": 35,
        "start_time": "2022-05-05T12:19:03.680Z"
      },
      {
        "duration": 22,
        "start_time": "2022-05-05T12:19:03.717Z"
      },
      {
        "duration": 404,
        "start_time": "2022-05-05T12:19:03.740Z"
      },
      {
        "duration": 567,
        "start_time": "2022-05-05T12:19:04.146Z"
      },
      {
        "duration": 79,
        "start_time": "2022-05-05T12:19:04.714Z"
      },
      {
        "duration": 52,
        "start_time": "2022-05-05T12:19:04.799Z"
      },
      {
        "duration": 7,
        "start_time": "2022-05-05T12:19:04.853Z"
      },
      {
        "duration": 8,
        "start_time": "2022-05-05T12:19:04.862Z"
      },
      {
        "duration": 64,
        "start_time": "2022-05-05T12:19:04.872Z"
      },
      {
        "duration": 19,
        "start_time": "2022-05-05T12:19:04.937Z"
      },
      {
        "duration": 113,
        "start_time": "2022-05-05T12:19:04.958Z"
      },
      {
        "duration": 3,
        "start_time": "2022-05-05T12:21:00.614Z"
      },
      {
        "duration": 2,
        "start_time": "2022-05-05T12:21:41.515Z"
      },
      {
        "duration": 4,
        "start_time": "2022-05-05T12:21:41.522Z"
      },
      {
        "duration": 5,
        "start_time": "2022-05-05T12:21:41.528Z"
      },
      {
        "duration": 797,
        "start_time": "2022-05-05T12:21:41.535Z"
      },
      {
        "duration": 137,
        "start_time": "2022-05-05T12:21:42.335Z"
      },
      {
        "duration": 6,
        "start_time": "2022-05-05T12:21:42.474Z"
      },
      {
        "duration": 145,
        "start_time": "2022-05-05T12:21:42.482Z"
      },
      {
        "duration": 21,
        "start_time": "2022-05-05T12:21:42.629Z"
      },
      {
        "duration": 121,
        "start_time": "2022-05-05T12:21:42.652Z"
      },
      {
        "duration": 26,
        "start_time": "2022-05-05T12:21:42.775Z"
      },
      {
        "duration": 26,
        "start_time": "2022-05-05T12:21:42.804Z"
      },
      {
        "duration": 34,
        "start_time": "2022-05-05T12:21:42.831Z"
      },
      {
        "duration": 177,
        "start_time": "2022-05-05T12:21:42.868Z"
      },
      {
        "duration": 19,
        "start_time": "2022-05-05T12:21:43.046Z"
      },
      {
        "duration": 34,
        "start_time": "2022-05-05T12:21:43.067Z"
      },
      {
        "duration": 357,
        "start_time": "2022-05-05T12:21:43.102Z"
      },
      {
        "duration": 427,
        "start_time": "2022-05-05T12:21:43.460Z"
      },
      {
        "duration": 88,
        "start_time": "2022-05-05T12:21:43.889Z"
      },
      {
        "duration": 62,
        "start_time": "2022-05-05T12:21:43.979Z"
      },
      {
        "duration": 5,
        "start_time": "2022-05-05T12:21:44.043Z"
      },
      {
        "duration": 24,
        "start_time": "2022-05-05T12:21:44.050Z"
      },
      {
        "duration": 57,
        "start_time": "2022-05-05T12:21:44.076Z"
      },
      {
        "duration": 3,
        "start_time": "2022-05-05T12:21:44.135Z"
      },
      {
        "duration": 29,
        "start_time": "2022-05-05T12:21:47.317Z"
      },
      {
        "duration": 260,
        "start_time": "2022-05-05T12:21:49.638Z"
      },
      {
        "duration": 36,
        "start_time": "2022-05-05T12:21:55.797Z"
      },
      {
        "duration": 13,
        "start_time": "2022-05-05T12:21:58.491Z"
      },
      {
        "duration": 63,
        "start_time": "2022-05-05T12:22:13.437Z"
      },
      {
        "duration": 9,
        "start_time": "2022-05-05T12:22:18.488Z"
      },
      {
        "duration": 2,
        "start_time": "2022-05-05T12:22:58.457Z"
      },
      {
        "duration": 10,
        "start_time": "2022-05-05T12:22:58.463Z"
      },
      {
        "duration": 16,
        "start_time": "2022-05-05T12:22:58.474Z"
      },
      {
        "duration": 796,
        "start_time": "2022-05-05T12:22:58.492Z"
      },
      {
        "duration": 142,
        "start_time": "2022-05-05T12:22:59.290Z"
      },
      {
        "duration": 7,
        "start_time": "2022-05-05T12:22:59.434Z"
      },
      {
        "duration": 148,
        "start_time": "2022-05-05T12:22:59.442Z"
      },
      {
        "duration": 28,
        "start_time": "2022-05-05T12:22:59.591Z"
      },
      {
        "duration": 123,
        "start_time": "2022-05-05T12:22:59.620Z"
      },
      {
        "duration": 18,
        "start_time": "2022-05-05T12:22:59.745Z"
      },
      {
        "duration": 18,
        "start_time": "2022-05-05T12:22:59.765Z"
      },
      {
        "duration": 37,
        "start_time": "2022-05-05T12:22:59.786Z"
      },
      {
        "duration": 163,
        "start_time": "2022-05-05T12:22:59.824Z"
      },
      {
        "duration": 29,
        "start_time": "2022-05-05T12:22:59.989Z"
      },
      {
        "duration": 25,
        "start_time": "2022-05-05T12:23:00.020Z"
      },
      {
        "duration": 345,
        "start_time": "2022-05-05T12:23:00.046Z"
      },
      {
        "duration": 447,
        "start_time": "2022-05-05T12:23:00.400Z"
      },
      {
        "duration": 85,
        "start_time": "2022-05-05T12:23:00.849Z"
      },
      {
        "duration": 46,
        "start_time": "2022-05-05T12:23:00.936Z"
      },
      {
        "duration": 25,
        "start_time": "2022-05-05T12:23:00.984Z"
      },
      {
        "duration": 16,
        "start_time": "2022-05-05T12:23:01.010Z"
      },
      {
        "duration": 40,
        "start_time": "2022-05-05T12:23:01.028Z"
      },
      {
        "duration": 2,
        "start_time": "2022-05-05T12:23:01.070Z"
      },
      {
        "duration": 6,
        "start_time": "2022-05-05T12:23:16.122Z"
      },
      {
        "duration": 5,
        "start_time": "2022-05-05T12:23:23.063Z"
      },
      {
        "duration": 71,
        "start_time": "2022-05-05T12:23:33.292Z"
      },
      {
        "duration": 6,
        "start_time": "2022-05-05T12:23:39.221Z"
      },
      {
        "duration": 62,
        "start_time": "2022-05-05T12:23:48.899Z"
      },
      {
        "duration": 3,
        "start_time": "2022-05-05T12:24:37.294Z"
      },
      {
        "duration": 1830,
        "start_time": "2022-05-05T12:24:37.299Z"
      },
      {
        "duration": 4,
        "start_time": "2022-05-05T12:24:39.131Z"
      },
      {
        "duration": 794,
        "start_time": "2022-05-05T12:24:39.136Z"
      },
      {
        "duration": 127,
        "start_time": "2022-05-05T12:24:39.933Z"
      },
      {
        "duration": 4,
        "start_time": "2022-05-05T12:24:40.062Z"
      },
      {
        "duration": 133,
        "start_time": "2022-05-05T12:24:40.067Z"
      },
      {
        "duration": 21,
        "start_time": "2022-05-05T12:24:40.202Z"
      },
      {
        "duration": 141,
        "start_time": "2022-05-05T12:24:40.225Z"
      },
      {
        "duration": 19,
        "start_time": "2022-05-05T12:24:40.368Z"
      },
      {
        "duration": 18,
        "start_time": "2022-05-05T12:24:40.399Z"
      },
      {
        "duration": 21,
        "start_time": "2022-05-05T12:24:40.419Z"
      },
      {
        "duration": 169,
        "start_time": "2022-05-05T12:24:40.441Z"
      },
      {
        "duration": 19,
        "start_time": "2022-05-05T12:24:40.612Z"
      },
      {
        "duration": 22,
        "start_time": "2022-05-05T12:24:40.633Z"
      },
      {
        "duration": 384,
        "start_time": "2022-05-05T12:24:40.657Z"
      },
      {
        "duration": 427,
        "start_time": "2022-05-05T12:24:41.042Z"
      },
      {
        "duration": 88,
        "start_time": "2022-05-05T12:24:41.471Z"
      },
      {
        "duration": 55,
        "start_time": "2022-05-05T12:24:41.561Z"
      },
      {
        "duration": 6,
        "start_time": "2022-05-05T12:24:41.618Z"
      },
      {
        "duration": 6,
        "start_time": "2022-05-05T12:24:41.625Z"
      },
      {
        "duration": 39,
        "start_time": "2022-05-05T12:24:41.632Z"
      },
      {
        "duration": 130,
        "start_time": "2022-05-05T12:25:05.124Z"
      },
      {
        "duration": 34,
        "start_time": "2022-05-05T12:25:12.470Z"
      },
      {
        "duration": 30,
        "start_time": "2022-05-05T12:25:31.625Z"
      },
      {
        "duration": 17,
        "start_time": "2022-05-05T12:25:43.741Z"
      },
      {
        "duration": 28,
        "start_time": "2022-05-05T12:25:53.125Z"
      },
      {
        "duration": 25,
        "start_time": "2022-05-05T12:26:00.891Z"
      },
      {
        "duration": 14,
        "start_time": "2022-05-05T12:27:12.112Z"
      },
      {
        "duration": 11,
        "start_time": "2022-05-05T12:27:33.568Z"
      },
      {
        "duration": 10,
        "start_time": "2022-05-05T12:27:44.282Z"
      },
      {
        "duration": 25,
        "start_time": "2022-05-05T12:27:47.001Z"
      },
      {
        "duration": 26,
        "start_time": "2022-05-05T12:27:48.704Z"
      },
      {
        "duration": 39,
        "start_time": "2022-05-05T12:28:28.206Z"
      },
      {
        "duration": 27,
        "start_time": "2022-05-05T12:28:35.468Z"
      },
      {
        "duration": 6,
        "start_time": "2022-05-05T12:28:53.852Z"
      },
      {
        "duration": 10,
        "start_time": "2022-05-05T12:28:56.686Z"
      },
      {
        "duration": 3,
        "start_time": "2022-05-05T12:29:10.768Z"
      },
      {
        "duration": 7,
        "start_time": "2022-05-05T12:29:10.775Z"
      },
      {
        "duration": 9,
        "start_time": "2022-05-05T12:29:10.784Z"
      },
      {
        "duration": 759,
        "start_time": "2022-05-05T12:29:10.794Z"
      },
      {
        "duration": 122,
        "start_time": "2022-05-05T12:29:11.555Z"
      },
      {
        "duration": 5,
        "start_time": "2022-05-05T12:29:11.679Z"
      },
      {
        "duration": 133,
        "start_time": "2022-05-05T12:29:11.686Z"
      },
      {
        "duration": 21,
        "start_time": "2022-05-05T12:29:11.821Z"
      },
      {
        "duration": 124,
        "start_time": "2022-05-05T12:29:11.844Z"
      },
      {
        "duration": 20,
        "start_time": "2022-05-05T12:29:11.969Z"
      },
      {
        "duration": 21,
        "start_time": "2022-05-05T12:29:11.992Z"
      },
      {
        "duration": 21,
        "start_time": "2022-05-05T12:29:12.014Z"
      },
      {
        "duration": 174,
        "start_time": "2022-05-05T12:29:12.036Z"
      },
      {
        "duration": 18,
        "start_time": "2022-05-05T12:29:12.212Z"
      },
      {
        "duration": 23,
        "start_time": "2022-05-05T12:29:12.232Z"
      },
      {
        "duration": 339,
        "start_time": "2022-05-05T12:29:12.257Z"
      },
      {
        "duration": 403,
        "start_time": "2022-05-05T12:29:12.597Z"
      },
      {
        "duration": 75,
        "start_time": "2022-05-05T12:29:13.001Z"
      },
      {
        "duration": 56,
        "start_time": "2022-05-05T12:29:13.078Z"
      },
      {
        "duration": 6,
        "start_time": "2022-05-05T12:29:13.135Z"
      },
      {
        "duration": 13,
        "start_time": "2022-05-05T12:29:13.142Z"
      },
      {
        "duration": 49,
        "start_time": "2022-05-05T12:29:13.156Z"
      },
      {
        "duration": 35,
        "start_time": "2022-05-05T12:29:13.206Z"
      },
      {
        "duration": 113,
        "start_time": "2022-05-05T12:29:13.243Z"
      },
      {
        "duration": 31,
        "start_time": "2022-05-05T12:29:25.221Z"
      },
      {
        "duration": 4,
        "start_time": "2022-05-05T12:30:01.437Z"
      },
      {
        "duration": 3838,
        "start_time": "2022-05-05T12:30:01.443Z"
      },
      {
        "duration": 4,
        "start_time": "2022-05-05T12:30:05.283Z"
      },
      {
        "duration": 797,
        "start_time": "2022-05-05T12:30:05.288Z"
      },
      {
        "duration": 128,
        "start_time": "2022-05-05T12:30:06.087Z"
      },
      {
        "duration": 5,
        "start_time": "2022-05-05T12:30:06.216Z"
      },
      {
        "duration": 126,
        "start_time": "2022-05-05T12:30:06.222Z"
      },
      {
        "duration": 20,
        "start_time": "2022-05-05T12:30:06.350Z"
      },
      {
        "duration": 137,
        "start_time": "2022-05-05T12:30:06.372Z"
      },
      {
        "duration": 20,
        "start_time": "2022-05-05T12:30:06.510Z"
      },
      {
        "duration": 19,
        "start_time": "2022-05-05T12:30:06.532Z"
      },
      {
        "duration": 23,
        "start_time": "2022-05-05T12:30:06.552Z"
      },
      {
        "duration": 178,
        "start_time": "2022-05-05T12:30:06.576Z"
      },
      {
        "duration": 19,
        "start_time": "2022-05-05T12:30:06.756Z"
      },
      {
        "duration": 29,
        "start_time": "2022-05-05T12:30:06.777Z"
      },
      {
        "duration": 388,
        "start_time": "2022-05-05T12:30:06.808Z"
      },
      {
        "duration": 516,
        "start_time": "2022-05-05T12:30:07.198Z"
      },
      {
        "duration": 86,
        "start_time": "2022-05-05T12:30:07.716Z"
      },
      {
        "duration": 53,
        "start_time": "2022-05-05T12:30:07.804Z"
      },
      {
        "duration": 6,
        "start_time": "2022-05-05T12:30:07.858Z"
      },
      {
        "duration": 6,
        "start_time": "2022-05-05T12:30:07.866Z"
      },
      {
        "duration": 61,
        "start_time": "2022-05-05T12:30:07.873Z"
      },
      {
        "duration": 26,
        "start_time": "2022-05-05T12:30:07.935Z"
      },
      {
        "duration": 120,
        "start_time": "2022-05-05T12:30:20.156Z"
      },
      {
        "duration": 8,
        "start_time": "2022-05-05T12:31:05.836Z"
      },
      {
        "duration": 26,
        "start_time": "2022-05-05T12:31:09.064Z"
      },
      {
        "duration": 6,
        "start_time": "2022-05-05T12:31:57.857Z"
      },
      {
        "duration": 26,
        "start_time": "2022-05-05T12:32:00.881Z"
      },
      {
        "duration": 5421,
        "start_time": "2022-05-05T12:36:17.525Z"
      },
      {
        "duration": 13,
        "start_time": "2022-05-05T12:36:31.982Z"
      },
      {
        "duration": 6,
        "start_time": "2022-05-05T12:36:37.919Z"
      },
      {
        "duration": 28,
        "start_time": "2022-05-05T12:36:39.967Z"
      },
      {
        "duration": 26,
        "start_time": "2022-05-05T12:36:57.112Z"
      },
      {
        "duration": 239,
        "start_time": "2022-05-05T12:38:41.631Z"
      },
      {
        "duration": 11,
        "start_time": "2022-05-05T12:39:26.510Z"
      },
      {
        "duration": 15,
        "start_time": "2022-05-05T12:41:42.505Z"
      },
      {
        "duration": 27,
        "start_time": "2022-05-05T12:41:46.568Z"
      },
      {
        "duration": 40,
        "start_time": "2022-05-05T12:42:25.605Z"
      },
      {
        "duration": 41,
        "start_time": "2022-05-05T12:42:32.102Z"
      },
      {
        "duration": 3,
        "start_time": "2022-05-05T12:43:54.311Z"
      },
      {
        "duration": 2282,
        "start_time": "2022-05-05T12:43:54.319Z"
      },
      {
        "duration": 4,
        "start_time": "2022-05-05T12:43:56.603Z"
      },
      {
        "duration": 825,
        "start_time": "2022-05-05T12:43:56.609Z"
      },
      {
        "duration": 149,
        "start_time": "2022-05-05T12:43:57.436Z"
      },
      {
        "duration": 5,
        "start_time": "2022-05-05T12:43:57.587Z"
      },
      {
        "duration": 129,
        "start_time": "2022-05-05T12:43:57.600Z"
      },
      {
        "duration": 22,
        "start_time": "2022-05-05T12:43:57.731Z"
      },
      {
        "duration": 142,
        "start_time": "2022-05-05T12:43:57.755Z"
      },
      {
        "duration": 20,
        "start_time": "2022-05-05T12:43:57.899Z"
      },
      {
        "duration": 19,
        "start_time": "2022-05-05T12:43:57.922Z"
      },
      {
        "duration": 20,
        "start_time": "2022-05-05T12:43:57.943Z"
      },
      {
        "duration": 256,
        "start_time": "2022-05-05T12:43:57.965Z"
      },
      {
        "duration": 0,
        "start_time": "2022-05-05T12:43:58.222Z"
      },
      {
        "duration": 0,
        "start_time": "2022-05-05T12:43:58.223Z"
      },
      {
        "duration": 0,
        "start_time": "2022-05-05T12:43:58.224Z"
      },
      {
        "duration": 0,
        "start_time": "2022-05-05T12:43:58.225Z"
      },
      {
        "duration": 0,
        "start_time": "2022-05-05T12:43:58.226Z"
      },
      {
        "duration": 0,
        "start_time": "2022-05-05T12:43:58.227Z"
      },
      {
        "duration": 0,
        "start_time": "2022-05-05T12:43:58.227Z"
      },
      {
        "duration": 0,
        "start_time": "2022-05-05T12:43:58.228Z"
      },
      {
        "duration": 0,
        "start_time": "2022-05-05T12:43:58.229Z"
      },
      {
        "duration": 0,
        "start_time": "2022-05-05T12:43:58.230Z"
      },
      {
        "duration": 0,
        "start_time": "2022-05-05T12:43:58.231Z"
      },
      {
        "duration": 0,
        "start_time": "2022-05-05T12:43:58.231Z"
      },
      {
        "duration": 0,
        "start_time": "2022-05-05T12:43:58.232Z"
      },
      {
        "duration": 0,
        "start_time": "2022-05-05T12:43:58.233Z"
      },
      {
        "duration": 0,
        "start_time": "2022-05-05T12:43:58.234Z"
      },
      {
        "duration": 0,
        "start_time": "2022-05-05T12:43:58.234Z"
      },
      {
        "duration": 0,
        "start_time": "2022-05-05T12:43:58.235Z"
      },
      {
        "duration": 0,
        "start_time": "2022-05-05T12:43:58.236Z"
      },
      {
        "duration": 0,
        "start_time": "2022-05-05T12:43:58.237Z"
      },
      {
        "duration": 0,
        "start_time": "2022-05-05T12:43:58.238Z"
      },
      {
        "duration": 0,
        "start_time": "2022-05-05T12:43:58.239Z"
      },
      {
        "duration": 0,
        "start_time": "2022-05-05T12:43:58.239Z"
      },
      {
        "duration": 0,
        "start_time": "2022-05-05T12:43:58.241Z"
      },
      {
        "duration": 0,
        "start_time": "2022-05-05T12:43:58.243Z"
      },
      {
        "duration": 0,
        "start_time": "2022-05-05T12:43:58.244Z"
      },
      {
        "duration": 0,
        "start_time": "2022-05-05T12:43:58.245Z"
      },
      {
        "duration": 0,
        "start_time": "2022-05-05T12:43:58.246Z"
      },
      {
        "duration": 0,
        "start_time": "2022-05-05T12:43:58.248Z"
      },
      {
        "duration": 0,
        "start_time": "2022-05-05T12:43:58.249Z"
      },
      {
        "duration": 0,
        "start_time": "2022-05-05T12:43:58.250Z"
      },
      {
        "duration": 0,
        "start_time": "2022-05-05T12:43:58.251Z"
      },
      {
        "duration": 0,
        "start_time": "2022-05-05T12:43:58.301Z"
      },
      {
        "duration": 0,
        "start_time": "2022-05-05T12:43:58.302Z"
      },
      {
        "duration": 0,
        "start_time": "2022-05-05T12:43:58.303Z"
      },
      {
        "duration": 4,
        "start_time": "2022-05-05T12:44:16.030Z"
      },
      {
        "duration": 1866,
        "start_time": "2022-05-05T12:44:16.039Z"
      },
      {
        "duration": 4,
        "start_time": "2022-05-05T12:44:17.907Z"
      },
      {
        "duration": 763,
        "start_time": "2022-05-05T12:44:17.913Z"
      },
      {
        "duration": 130,
        "start_time": "2022-05-05T12:44:18.679Z"
      },
      {
        "duration": 5,
        "start_time": "2022-05-05T12:44:18.811Z"
      },
      {
        "duration": 126,
        "start_time": "2022-05-05T12:44:18.817Z"
      },
      {
        "duration": 22,
        "start_time": "2022-05-05T12:44:18.944Z"
      },
      {
        "duration": 132,
        "start_time": "2022-05-05T12:44:18.968Z"
      },
      {
        "duration": 18,
        "start_time": "2022-05-05T12:44:19.102Z"
      },
      {
        "duration": 20,
        "start_time": "2022-05-05T12:44:19.124Z"
      },
      {
        "duration": 19,
        "start_time": "2022-05-05T12:44:19.145Z"
      },
      {
        "duration": 180,
        "start_time": "2022-05-05T12:44:19.166Z"
      },
      {
        "duration": 19,
        "start_time": "2022-05-05T12:44:19.348Z"
      },
      {
        "duration": 33,
        "start_time": "2022-05-05T12:44:19.369Z"
      },
      {
        "duration": 373,
        "start_time": "2022-05-05T12:44:19.403Z"
      },
      {
        "duration": 415,
        "start_time": "2022-05-05T12:44:19.778Z"
      },
      {
        "duration": 85,
        "start_time": "2022-05-05T12:44:20.195Z"
      },
      {
        "duration": 69,
        "start_time": "2022-05-05T12:44:20.281Z"
      },
      {
        "duration": 6,
        "start_time": "2022-05-05T12:44:20.351Z"
      },
      {
        "duration": 6,
        "start_time": "2022-05-05T12:44:20.358Z"
      },
      {
        "duration": 52,
        "start_time": "2022-05-05T12:44:20.366Z"
      },
      {
        "duration": 44,
        "start_time": "2022-05-05T12:44:20.420Z"
      },
      {
        "duration": 130,
        "start_time": "2022-05-05T12:44:20.466Z"
      },
      {
        "duration": 25,
        "start_time": "2022-05-05T12:44:20.600Z"
      },
      {
        "duration": 521,
        "start_time": "2022-05-05T12:44:20.627Z"
      },
      {
        "duration": 61,
        "start_time": "2022-05-05T12:44:21.149Z"
      },
      {
        "duration": 96,
        "start_time": "2022-05-05T12:44:21.211Z"
      },
      {
        "duration": 48,
        "start_time": "2022-05-05T12:44:21.310Z"
      },
      {
        "duration": 240,
        "start_time": "2022-05-05T12:44:21.360Z"
      },
      {
        "duration": 13950,
        "start_time": "2022-05-05T12:44:21.602Z"
      },
      {
        "duration": 573,
        "start_time": "2022-05-05T12:44:35.554Z"
      },
      {
        "duration": 181,
        "start_time": "2022-05-05T12:44:36.129Z"
      },
      {
        "duration": 17,
        "start_time": "2022-05-05T12:44:36.312Z"
      },
      {
        "duration": 174831,
        "start_time": "2022-05-05T12:44:36.330Z"
      },
      {
        "duration": 12629,
        "start_time": "2022-05-05T12:47:31.162Z"
      },
      {
        "duration": 172,
        "start_time": "2022-05-05T12:47:43.793Z"
      },
      {
        "duration": 49,
        "start_time": "2022-05-05T12:47:43.966Z"
      },
      {
        "duration": 1483202,
        "start_time": "2022-05-05T12:47:44.017Z"
      },
      {
        "duration": 11818,
        "start_time": "2022-05-05T13:12:27.221Z"
      },
      {
        "duration": 195,
        "start_time": "2022-05-05T13:12:39.101Z"
      },
      {
        "duration": 406,
        "start_time": "2022-05-05T13:12:39.297Z"
      },
      {
        "duration": 22,
        "start_time": "2022-05-05T13:12:39.705Z"
      },
      {
        "duration": 17,
        "start_time": "2022-05-05T13:12:39.729Z"
      },
      {
        "duration": 54,
        "start_time": "2022-05-05T13:12:39.747Z"
      },
      {
        "duration": 320,
        "start_time": "2022-05-05T13:12:39.803Z"
      },
      {
        "duration": 202,
        "start_time": "2022-05-05T13:12:40.125Z"
      },
      {
        "duration": 12,
        "start_time": "2022-05-05T13:13:26.564Z"
      },
      {
        "duration": 20,
        "start_time": "2022-05-05T13:13:36.303Z"
      },
      {
        "duration": 14,
        "start_time": "2022-05-05T13:13:54.807Z"
      },
      {
        "duration": 4,
        "start_time": "2022-05-05T16:56:56.735Z"
      },
      {
        "duration": 497,
        "start_time": "2022-05-05T16:56:56.741Z"
      },
      {
        "duration": 0,
        "start_time": "2022-05-05T16:56:57.241Z"
      },
      {
        "duration": 0,
        "start_time": "2022-05-05T16:56:57.243Z"
      },
      {
        "duration": 0,
        "start_time": "2022-05-05T16:56:57.244Z"
      },
      {
        "duration": 0,
        "start_time": "2022-05-05T16:56:57.245Z"
      },
      {
        "duration": 0,
        "start_time": "2022-05-05T16:56:57.247Z"
      },
      {
        "duration": 0,
        "start_time": "2022-05-05T16:56:57.248Z"
      },
      {
        "duration": 0,
        "start_time": "2022-05-05T16:56:57.249Z"
      },
      {
        "duration": 0,
        "start_time": "2022-05-05T16:56:57.251Z"
      },
      {
        "duration": 0,
        "start_time": "2022-05-05T16:56:57.252Z"
      },
      {
        "duration": 0,
        "start_time": "2022-05-05T16:56:57.274Z"
      },
      {
        "duration": 0,
        "start_time": "2022-05-05T16:56:57.276Z"
      },
      {
        "duration": 0,
        "start_time": "2022-05-05T16:56:57.277Z"
      },
      {
        "duration": 0,
        "start_time": "2022-05-05T16:56:57.279Z"
      },
      {
        "duration": 0,
        "start_time": "2022-05-05T16:56:57.280Z"
      },
      {
        "duration": 0,
        "start_time": "2022-05-05T16:56:57.281Z"
      },
      {
        "duration": 0,
        "start_time": "2022-05-05T16:56:57.282Z"
      },
      {
        "duration": 0,
        "start_time": "2022-05-05T16:56:57.284Z"
      },
      {
        "duration": 0,
        "start_time": "2022-05-05T16:56:57.285Z"
      },
      {
        "duration": 0,
        "start_time": "2022-05-05T16:56:57.287Z"
      },
      {
        "duration": 0,
        "start_time": "2022-05-05T16:56:57.288Z"
      },
      {
        "duration": 0,
        "start_time": "2022-05-05T16:56:57.289Z"
      },
      {
        "duration": 0,
        "start_time": "2022-05-05T16:56:57.290Z"
      },
      {
        "duration": 0,
        "start_time": "2022-05-05T16:56:57.291Z"
      },
      {
        "duration": 0,
        "start_time": "2022-05-05T16:56:57.293Z"
      },
      {
        "duration": 0,
        "start_time": "2022-05-05T16:56:57.294Z"
      },
      {
        "duration": 0,
        "start_time": "2022-05-05T16:56:57.296Z"
      },
      {
        "duration": 0,
        "start_time": "2022-05-05T16:56:57.297Z"
      },
      {
        "duration": 0,
        "start_time": "2022-05-05T16:56:57.298Z"
      },
      {
        "duration": 0,
        "start_time": "2022-05-05T16:56:57.300Z"
      },
      {
        "duration": 0,
        "start_time": "2022-05-05T16:56:57.301Z"
      },
      {
        "duration": 0,
        "start_time": "2022-05-05T16:56:57.303Z"
      },
      {
        "duration": 0,
        "start_time": "2022-05-05T16:56:57.304Z"
      },
      {
        "duration": 0,
        "start_time": "2022-05-05T16:56:57.306Z"
      },
      {
        "duration": 0,
        "start_time": "2022-05-05T16:56:57.307Z"
      },
      {
        "duration": 0,
        "start_time": "2022-05-05T16:56:57.308Z"
      },
      {
        "duration": 0,
        "start_time": "2022-05-05T16:56:57.310Z"
      },
      {
        "duration": 0,
        "start_time": "2022-05-05T16:56:57.311Z"
      },
      {
        "duration": 1,
        "start_time": "2022-05-05T16:56:57.372Z"
      },
      {
        "duration": 0,
        "start_time": "2022-05-05T16:56:57.374Z"
      },
      {
        "duration": 0,
        "start_time": "2022-05-05T16:56:57.375Z"
      },
      {
        "duration": 0,
        "start_time": "2022-05-05T16:56:57.377Z"
      },
      {
        "duration": 0,
        "start_time": "2022-05-05T16:56:57.378Z"
      },
      {
        "duration": 0,
        "start_time": "2022-05-05T16:56:57.380Z"
      },
      {
        "duration": 0,
        "start_time": "2022-05-05T16:56:57.381Z"
      },
      {
        "duration": 0,
        "start_time": "2022-05-05T16:56:57.383Z"
      },
      {
        "duration": 126138,
        "start_time": "2022-05-05T16:57:30.120Z"
      },
      {
        "duration": 1987,
        "start_time": "2022-05-05T16:59:36.260Z"
      },
      {
        "duration": 4,
        "start_time": "2022-05-05T16:59:38.249Z"
      },
      {
        "duration": 960,
        "start_time": "2022-05-05T16:59:38.256Z"
      },
      {
        "duration": 155,
        "start_time": "2022-05-05T16:59:39.218Z"
      },
      {
        "duration": 5,
        "start_time": "2022-05-05T16:59:39.375Z"
      },
      {
        "duration": 139,
        "start_time": "2022-05-05T16:59:39.382Z"
      },
      {
        "duration": 23,
        "start_time": "2022-05-05T16:59:39.523Z"
      },
      {
        "duration": 152,
        "start_time": "2022-05-05T16:59:39.548Z"
      },
      {
        "duration": 20,
        "start_time": "2022-05-05T16:59:39.703Z"
      },
      {
        "duration": 24,
        "start_time": "2022-05-05T16:59:39.725Z"
      },
      {
        "duration": 36,
        "start_time": "2022-05-05T16:59:39.750Z"
      },
      {
        "duration": 173,
        "start_time": "2022-05-05T16:59:39.788Z"
      },
      {
        "duration": 22,
        "start_time": "2022-05-05T16:59:39.963Z"
      },
      {
        "duration": 22,
        "start_time": "2022-05-05T16:59:39.987Z"
      },
      {
        "duration": 429,
        "start_time": "2022-05-05T16:59:40.011Z"
      },
      {
        "duration": 502,
        "start_time": "2022-05-05T16:59:40.441Z"
      },
      {
        "duration": 102,
        "start_time": "2022-05-05T16:59:40.945Z"
      },
      {
        "duration": 68,
        "start_time": "2022-05-05T16:59:41.049Z"
      },
      {
        "duration": 6,
        "start_time": "2022-05-05T16:59:41.118Z"
      },
      {
        "duration": 11,
        "start_time": "2022-05-05T16:59:41.126Z"
      },
      {
        "duration": 57,
        "start_time": "2022-05-05T16:59:41.138Z"
      },
      {
        "duration": 44,
        "start_time": "2022-05-05T16:59:41.197Z"
      },
      {
        "duration": 128,
        "start_time": "2022-05-05T16:59:41.242Z"
      },
      {
        "duration": 30,
        "start_time": "2022-05-05T16:59:41.373Z"
      },
      {
        "duration": 545,
        "start_time": "2022-05-05T16:59:41.405Z"
      },
      {
        "duration": 70,
        "start_time": "2022-05-05T16:59:41.952Z"
      },
      {
        "duration": 115,
        "start_time": "2022-05-05T16:59:42.025Z"
      },
      {
        "duration": 68,
        "start_time": "2022-05-05T16:59:42.142Z"
      },
      {
        "duration": 172,
        "start_time": "2022-05-05T16:59:42.212Z"
      },
      {
        "duration": 15813,
        "start_time": "2022-05-05T16:59:42.386Z"
      },
      {
        "duration": 605,
        "start_time": "2022-05-05T16:59:58.201Z"
      },
      {
        "duration": 199,
        "start_time": "2022-05-05T16:59:58.808Z"
      },
      {
        "duration": 20,
        "start_time": "2022-05-05T16:59:59.009Z"
      },
      {
        "duration": 339448,
        "start_time": "2022-05-05T16:59:59.031Z"
      },
      {
        "duration": 8683,
        "start_time": "2022-05-05T17:05:38.481Z"
      },
      {
        "duration": 197,
        "start_time": "2022-05-05T17:05:47.166Z"
      },
      {
        "duration": 41,
        "start_time": "2022-05-05T17:05:47.365Z"
      },
      {
        "duration": 2197085,
        "start_time": "2022-05-05T17:05:47.408Z"
      },
      {
        "duration": 3184,
        "start_time": "2022-05-05T17:42:24.495Z"
      },
      {
        "duration": 246,
        "start_time": "2022-05-05T17:42:27.680Z"
      },
      {
        "duration": 350,
        "start_time": "2022-05-05T17:42:27.928Z"
      },
      {
        "duration": 12,
        "start_time": "2022-05-05T17:42:28.280Z"
      },
      {
        "duration": 25,
        "start_time": "2022-05-05T17:42:28.294Z"
      },
      {
        "duration": 75,
        "start_time": "2022-05-05T17:42:28.321Z"
      },
      {
        "duration": 290,
        "start_time": "2022-05-05T17:42:28.397Z"
      },
      {
        "duration": 94,
        "start_time": "2022-05-05T17:42:28.689Z"
      }
    ],
    "kernelspec": {
      "display_name": "Python 3",
      "language": "python",
      "name": "python3"
    },
    "language_info": {
      "codemirror_mode": {
        "name": "ipython",
        "version": 3
      },
      "file_extension": ".py",
      "mimetype": "text/x-python",
      "name": "python",
      "nbconvert_exporter": "python",
      "pygments_lexer": "ipython3",
      "version": "3.8.8"
    },
    "toc": {
      "base_numbering": 1,
      "nav_menu": {},
      "number_sections": true,
      "sideBar": true,
      "skip_h1_title": true,
      "title_cell": "Table of Contents",
      "title_sidebar": "Contents",
      "toc_cell": false,
      "toc_position": {},
      "toc_section_display": true,
      "toc_window_display": false
    },
    "colab": {
      "name": "ml_project_to_git.ipynb",
      "provenance": [],
      "collapsed_sections": []
    },
    "gpuClass": "standard"
  },
  "nbformat": 4,
  "nbformat_minor": 0
}